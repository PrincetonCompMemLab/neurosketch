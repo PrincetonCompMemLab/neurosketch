{
 "cells": [
  {
   "cell_type": "code",
   "execution_count": 2,
   "metadata": {
    "collapsed": false
   },
   "outputs": [],
   "source": [
    "#  Copyright 2016 Intel Corporation\n",
    "#\n",
    "#  Licensed under the Apache License, Version 2.0 (the \"License\");\n",
    "#  you may not use this file except in compliance with the License.\n",
    "#  You may obtain a copy of the License at\n",
    "#\n",
    "#       http://www.apache.org/licenses/LICENSE-2.0\n",
    "#\n",
    "#  Unless required by applicable law or agreed to in writing, software\n",
    "#  distributed under the License is distributed on an \"AS IS\" BASIS,\n",
    "#  WITHOUT WARRANTIES OR CONDITIONS OF ANY KIND, either express or implied.\n",
    "#  See the License for the specific language governing permissions and\n",
    "#  limitations under the License.\n",
    "\n",
    "import numpy as np\n",
    "from mpi4py import MPI\n",
    "import sys\n",
    "\n",
    "from brainiak.searchlight.searchlight import Searchlight\n",
    "\n",
    "\"\"\"Distributed Searchlight Example\n",
    "example usage: mpirun -n 4 python3 example_searchlight.py\n",
    "\"\"\"\n",
    "\n",
    "comm = MPI.COMM_WORLD\n",
    "rank = comm.rank\n",
    "size = comm.size\n",
    "\n",
    "# Dataset size parameters\n",
    "dim = 40\n",
    "ntr = 400\n",
    "maskrad = 15\n",
    "\n",
    "# Predictive point parameters\n",
    "pt = (23,23,23)\n",
    "kernel_dim = 5\n",
    "weight = 1\n",
    "\n",
    "# Generate data\n",
    "data = np.random.random((dim,dim,dim,ntr)) if rank == 0 else None\n",
    "mask = np.zeros((dim,dim,dim), dtype=np.bool)\n",
    "for i in range(dim):\n",
    "  for j in range(dim):\n",
    "    for k in range(dim):\n",
    "      dist = np.sqrt(((dim/2)-i)**2 + ((dim/2)-j)**2 + ((dim/2)-k)**2)\n",
    "      if(dist < maskrad):\n",
    "        mask[i,j,k] = 1\n",
    "\n",
    "# Generate labels\n",
    "labels = np.random.choice([True, False], (ntr,)) if rank == 0 else None\n",
    "\n",
    "# Inject predictive region in random data\n",
    "if rank == 0:\n",
    "  kernel = np.zeros((kernel_dim,kernel_dim,kernel_dim))\n",
    "  for i in range(kernel_dim):\n",
    "    for j in range(kernel_dim):\n",
    "      for k in range(kernel_dim):\n",
    "        arr = np.array([i-(kernel_dim/2),j-(kernel_dim/2),k-(kernel_dim/2)])\n",
    "        kernel [i,j,k] = np.exp(-np.dot(arr.T,arr))\n",
    "  kernel = kernel / np.sum(kernel)\n",
    "\n",
    "  for (idx, l) in enumerate(labels):\n",
    "    if l:\n",
    "      data[pt[0]:pt[0]+kernel_dim,pt[1]:pt[1]+kernel_dim,pt[2]:pt[2]+kernel_dim,idx] += kernel * weight\n",
    "    else:\n",
    "      data[pt[0]:pt[0]+kernel_dim,pt[1]:pt[1]+kernel_dim,pt[2]:pt[2]+kernel_dim,idx] -= kernel * weight\n",
    "\n",
    "# Create searchlight object\n",
    "sl = Searchlight(sl_rad=1, max_blk_edge=5)\n",
    "\n",
    "# Distribute data to processes\n",
    "sl.distribute([data], mask)\n",
    "sl.broadcast(labels)\n",
    "\n",
    "# Define voxel function\n",
    "def sfn(l, msk, myrad, bcast_var):\n",
    "  import sklearn.svm\n",
    "  import sklearn.model_selection\n",
    "  classifier = sklearn.svm.SVC()\n",
    "  data = l[0][msk,:].T\n",
    "  return np.mean(sklearn.model_selection.cross_val_score(classifier, data, bcast_var,n_jobs=1))\n",
    "\n",
    "# Run searchlight\n",
    "global_outputs = sl.run_searchlight(sfn)\n",
    "\n"
   ]
  },
  {
   "cell_type": "code",
   "execution_count": null,
   "metadata": {
    "collapsed": false
   },
   "outputs": [],
   "source": [
    "# # Visualize result\n",
    "# if rank == 0:\n",
    "#   print(global_outputs)\n",
    "#   global_outputs = np.array(global_outputs, dtype=np.float)\n",
    "#   import matplotlib.pyplot as plt\n",
    "#   for (cnt, img) in enumerate(global_outputs):\n",
    "#     plt.imshow(img,cmap='hot',vmin=0,vmax=1)\n",
    "#     plt.savefig('img' + str(cnt) + '.png')\n",
    "#     plt.clf()\n"
   ]
  },
  {
   "cell_type": "code",
   "execution_count": null,
   "metadata": {
    "collapsed": false
   },
   "outputs": [],
   "source": []
  },
  {
   "cell_type": "code",
   "execution_count": null,
   "metadata": {
    "collapsed": false
   },
   "outputs": [],
   "source": []
  },
  {
   "cell_type": "code",
   "execution_count": null,
   "metadata": {
    "collapsed": false
   },
   "outputs": [],
   "source": []
  },
  {
   "cell_type": "code",
   "execution_count": null,
   "metadata": {
    "collapsed": true
   },
   "outputs": [],
   "source": []
  }
 ],
 "metadata": {
  "kernelspec": {
   "display_name": "Python 3",
   "language": "python",
   "name": "python3"
  },
  "language_info": {
   "codemirror_mode": {
    "name": "ipython",
    "version": 3
   },
   "file_extension": ".py",
   "mimetype": "text/x-python",
   "name": "python",
   "nbconvert_exporter": "python",
   "pygments_lexer": "ipython3",
   "version": "3.4.3"
  }
 },
 "nbformat": 4,
 "nbformat_minor": 0
}
