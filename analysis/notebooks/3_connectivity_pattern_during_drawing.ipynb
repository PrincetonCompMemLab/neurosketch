{
 "cells": [
  {
   "cell_type": "markdown",
   "metadata": {},
   "source": [
    "## Setup"
   ]
  },
  {
   "cell_type": "code",
   "execution_count": null,
   "metadata": {
    "collapsed": true
   },
   "outputs": [],
   "source": [
    "import warnings\n",
    "warnings.filterwarnings(\"ignore\")\n",
    "\n",
    "from __future__ import division\n",
    "\n",
    "import numpy as np\n",
    "import os\n",
    "from glob import glob\n",
    "\n",
    "from PIL import Image\n",
    "from copy import deepcopy\n",
    "\n",
    "from IPython.display import clear_output\n",
    "\n",
    "from sklearn import linear_model, datasets, neighbors\n",
    "from sklearn.model_selection import train_test_split, cross_val_score\n",
    "from sklearn import svm\n",
    "\n",
    "%matplotlib inline\n",
    "import matplotlib.pyplot as plt\n",
    "import matplotlib.image as mpimg\n",
    "import seaborn as sns\n",
    "sns.set_context('poster')\n",
    "colors = sns.color_palette(\"cubehelix\", 5)\n",
    "import matplotlib as mpl\n",
    "mpl.rcParams['pdf.fonttype'] = 42\n",
    "\n",
    "import pandas as pd\n",
    "\n",
    "import scipy.stats as stats\n",
    "from scipy.stats import norm\n",
    "import sklearn\n",
    "import itertools\n",
    "\n",
    "import sys\n",
    "if sys.version_info[0] >= 3:\n",
    "    from importlib import reload"
   ]
  },
  {
   "cell_type": "markdown",
   "metadata": {},
   "source": [
    "### define paths to data"
   ]
  },
  {
   "cell_type": "code",
   "execution_count": null,
   "metadata": {
    "collapsed": true
   },
   "outputs": [],
   "source": [
    "curr_dir = os.getcwd()"
   ]
  },
  {
   "cell_type": "code",
   "execution_count": null,
   "metadata": {
    "collapsed": true
   },
   "outputs": [],
   "source": [
    "# definte ROIs\n",
    "roi_list_connect = np.array(['V1Draw', 'V2Draw', 'LOCDraw', 'ParietalDraw', 'preCentralDraw'])"
   ]
  },
  {
   "cell_type": "code",
   "execution_count": null,
   "metadata": {},
   "outputs": [],
   "source": [
    "## root paths\n",
    "proj_dir = os.path.abspath(os.path.join(curr_dir,'..','..')) ## use relative paths\n",
    "data_dir = os.path.abspath(os.path.join(curr_dir,'..','..','data')) ## use relative paths 'D:\\\\data'\n",
    "path_to_connect = os.path.join(data_dir, 'features/connectivity')\n",
    "csv_dir = os.path.join(proj_dir, 'results','csv')\n",
    "nb_name = '3_connectivity_pattern_during_drawing'\n",
    "\n",
    "## add helpers to python path\n",
    "import sys\n",
    "if os.path.join(proj_dir, 'analysis','utils') not in sys.path:\n",
    "    sys.path.append(os.path.join(proj_dir, 'analysis','utils'))\n",
    "\n",
    "## module definitions\n",
    "import object_evidence_analysis_helpers as utils\n",
    "reload(utils)\n",
    "utils.data_dir = data_dir\n",
    "utils.path_to_connect = path_to_connect\n",
    "utils.roi_list_connect = roi_list_connect"
   ]
  },
  {
   "cell_type": "markdown",
   "metadata": {},
   "source": [
    "### get file list"
   ]
  },
  {
   "cell_type": "code",
   "execution_count": null,
   "metadata": {
    "collapsed": true
   },
   "outputs": [],
   "source": [
    "## get raw file list for connectivity features\n",
    "CONNECT_METAS = sorted([i for i in os.listdir(path_to_connect) if (i.split('.')[-1]=='csv')])\n",
    "CONNECT_FEATS = sorted([i for i in os.listdir(path_to_connect) if (i.split('.')[-1]=='npy')])\n",
    "CONNECT_SUBS = np.array([i.split('_')[0] for i in CONNECT_FEATS])\n",
    "\n",
    "sub_list = np.unique(CONNECT_SUBS)"
   ]
  },
  {
   "cell_type": "code",
   "execution_count": null,
   "metadata": {},
   "outputs": [],
   "source": [
    "print('We have data from {} subjects.'.format(len(sub_list)))"
   ]
  },
  {
   "cell_type": "markdown",
   "metadata": {},
   "source": [
    "### DRAWING: How well do we do at classifying the target during production runs based on the connectivity patterns across trials?"
   ]
  },
  {
   "cell_type": "code",
   "execution_count": null,
   "metadata": {},
   "outputs": [],
   "source": [
    "reload(utils)\n",
    "version = 'phase'  # 'phase', 'allruns'\n",
    "logged = True\n",
    "feattype = 'stack'\n",
    "\n",
    "really_run = 0\n",
    "if really_run:\n",
    "\n",
    "    ALLDM, Acc = utils.make_drawing_connectivity_predictions(sub_list[:], roi_list_connect,\n",
    "                                                             version=version, feature_type=feattype,\n",
    "                                                             logged=logged)\n",
    "    ## save out ALLDM & Acc\n",
    "    Acc = np.array(Acc)\n",
    "    np.save(os.path.join(csv_dir,\n",
    "                         '{}_{}_accuracy_production.npy'.format(feattype, version)),Acc)\n",
    "    ALLDM.to_csv(os.path.join(csv_dir,\n",
    "                              '{}_{}_logprobs_production.csv'.format(feattype, version)),index=False)\n",
    "    \n",
    "else:\n",
    "    ## load in existing ALLDM & Acc \n",
    "    Acc = np.load(os.path.join(csv_dir,\n",
    "                               '{}_{}_accuracy_production.npy'.format(feattype, version)))\n",
    "    ALLDM = pd.read_csv(os.path.join(csv_dir,\n",
    "                                     '{}_{}_logprobs_production.csv'.format(feattype, version)))\n",
    "    \n",
    "ALLDM['phase_num'] = np.where(ALLDM['run_num']>2, 2, 1)\n",
    "trials = np.tile(np.arange(40), int(ALLDM.shape[0]/40))\n",
    "ALLDM['trial_num'] = trials\n",
    "\n",
    "ALLDM.to_csv(os.path.join(csv_dir,\n",
    "                          '{}_{}_logprobs_production.csv'.format(feattype, version)),index=False)\n",
    "print('Done!')"
   ]
  },
  {
   "cell_type": "markdown",
   "metadata": {},
   "source": [
    "### make summary timecourse plots"
   ]
  },
  {
   "cell_type": "code",
   "execution_count": null,
   "metadata": {},
   "outputs": [],
   "source": [
    "reload(utils)\n",
    "version = 'phase'\n",
    "tags = ['logged']\n",
    "iv_list = ['trials', 'phase_num']\n",
    "plotType='line'\n",
    "feattype = 'connect'\n",
    "\n",
    "reallyRun = 1\n",
    "if reallyRun:\n",
    "    for tag in tags:\n",
    "        for iv in iv_list:\n",
    "            ALLDM = pd.read_csv(os.path.join(csv_dir, \n",
    "                                             '{}_{}_logprobs_production.csv'.format(feattype, version)))\n",
    "            try:\n",
    "                utils.plot_connect_timecourse(ALLDM,\n",
    "                                              this_iv=iv,\n",
    "                                              roi_list=roi_list_connect,\n",
    "                                              render_cond=0,\n",
    "                                              version = version,\n",
    "                                              proj_dir=proj_dir,\n",
    "                                              plotType=plotType)\n",
    "            except KeyError:\n",
    "                pass"
   ]
  },
  {
   "cell_type": "markdown",
   "metadata": {},
   "source": [
    "### Add phase column to ROI pair data"
   ]
  },
  {
   "cell_type": "code",
   "execution_count": null,
   "metadata": {},
   "outputs": [],
   "source": [
    "all_pairs = list(itertools.combinations(roi_list_connect, 2))\n",
    "for (this_roi, that_roi) in all_pairs:\n",
    "    x = pd.read_csv('{}/{}_{}_{}_trials.csv'.format(csv_dir, feattype, this_roi, that_roi))\n",
    "    x['phase'] = np.where(x['trials']>19, 2, 1)\n",
    "    x.to_csv('{}/{}_{}_{}_trials.csv'.format(csv_dir, feattype, this_roi, that_roi))"
   ]
  },
  {
   "cell_type": "markdown",
   "metadata": {},
   "source": [
    "### Analyze output with lmer in R"
   ]
  },
  {
   "cell_type": "code",
   "execution_count": null,
   "metadata": {},
   "outputs": [],
   "source": [
    "%load_ext rpy2.ipython"
   ]
  },
  {
   "cell_type": "code",
   "execution_count": null,
   "metadata": {},
   "outputs": [],
   "source": [
    "%%R -i version,csv_dir,feattype\n",
    "library(lme4)\n",
    "setwd(csv_dir)"
   ]
  },
  {
   "cell_type": "code",
   "execution_count": null,
   "metadata": {},
   "outputs": [],
   "source": [
    "%%R -i version,csv_dir,feattype\n",
    "\n",
    "ROIS <- c(\"V1Draw\", \"V2Draw\", \"LOCDraw\", \"parietalDraw\", \"preCentralDraw\")\n",
    "CROSS <- combn(ROIS, 2)\n",
    "\n",
    "for(i in 1:10) {\n",
    "  fname <- sprintf(\"%s/%s_%s_%s_trials.csv\", csv_dir, feattype, CROSS[1, i], CROSS[2, i])\n",
    "  print(fname)\n",
    "  DAT <- read.csv(fname, header = TRUE)\n",
    "  TmF <- subset(DAT,condition=='Target - Foil')\n",
    "  RunWise <- lmer(probability ~ phase + (1|sub), data=TmF)\n",
    "  NullMod <- lmer(probability ~ (1|sub), data=TmF)\n",
    "  ConfInt <- confint(RunWise, method=\"boot\", oldName=FALSE)\n",
    "  print(CROSS[, i])\n",
    "  print(summary(RunWise))\n",
    "  print(anova(RunWise, NullMod))\n",
    "  LL<-(anova(RunWise, NullMod))$logLik\n",
    "  DF<-(anova(RunWise, NullMod))$Df\n",
    "  ANOVA<-data.frame(DF, LL)\n",
    "  ANOVA$AIC <- (2*ANOVA$DF)+(-2*ANOVA$LL)\n",
    "  ANOVA$deltaAIC <- ANOVA$AIC - (min(ANOVA$AIC))\n",
    "  ANOVA$AIC2 <- exp(-0.5*ANOVA$deltaAIC)\n",
    "  ANOVA$wAIC <- ANOVA$AIC2/(sum(ANOVA$AIC2))\n",
    "  print(ANOVA)\n",
    "  print(ConfInt)\n",
    "  max(ANOVA$wAIC)\n",
    "}\n"
   ]
  },
  {
   "cell_type": "code",
   "execution_count": null,
   "metadata": {
    "collapsed": true
   },
   "outputs": [],
   "source": []
  }
 ],
 "metadata": {
  "@webio": {
   "lastCommId": null,
   "lastKernelId": null
  },
  "kernelspec": {
   "display_name": "Python 3",
   "language": "python",
   "name": "python3"
  },
  "language_info": {
   "codemirror_mode": {
    "name": "ipython",
    "version": 3
   },
   "file_extension": ".py",
   "mimetype": "text/x-python",
   "name": "python",
   "nbconvert_exporter": "python",
   "pygments_lexer": "ipython3",
   "version": "3.6.2"
  }
 },
 "nbformat": 4,
 "nbformat_minor": 2
}
