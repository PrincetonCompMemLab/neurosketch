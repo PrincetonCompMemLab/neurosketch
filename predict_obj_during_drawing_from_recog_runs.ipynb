{
 "cells": [
  {
   "cell_type": "code",
   "execution_count": 45,
   "metadata": {
    "collapsed": true
   },
   "outputs": [],
   "source": [
    "from __future__ import division\n",
    "\n",
    "import numpy as np\n",
    "import os\n",
    "from glob import glob\n",
    "\n",
    "from PIL import Image\n",
    "from copy import deepcopy\n",
    "\n",
    "from sklearn import linear_model, datasets, neighbors\n",
    "from sklearn.model_selection import train_test_split, cross_val_score\n",
    "from sklearn import svm\n",
    "\n",
    "%matplotlib inline\n",
    "from scipy.misc import imread, imresize\n",
    "import matplotlib.pyplot as plt\n",
    "import matplotlib.image as mpimg\n",
    "import seaborn as sns\n",
    "\n",
    "import pandas as pd\n",
    "\n",
    "import scipy.stats as stats\n",
    "from scipy.stats import norm\n",
    "import sklearn"
   ]
  },
  {
   "cell_type": "code",
   "execution_count": 46,
   "metadata": {
    "collapsed": true
   },
   "outputs": [],
   "source": [
    "## define path to input datasets (tidy format)\n",
    "path_to_recog = '/home/jefan/neurosketch/neurosketch_voxelmat_freesurfer_recog'\n",
    "path_to_draw = '/home/jefan/neurosketch/neurosketch_voxelmat_freesurfer_drawing'\n",
    "roi_list = np.array(['V1','V2','LOC','IT','fusiform','parahippo', 'PRC', 'ento','hipp','mOFC'])"
   ]
  },
  {
   "cell_type": "code",
   "execution_count": 47,
   "metadata": {
    "collapsed": true
   },
   "outputs": [],
   "source": [
    "## get raw file list for recognition runs\n",
    "RECOG_METAS = sorted([i for i in os.listdir(path_to_recog) if i.split('.')[-1]=='csv'])\n",
    "RECOG_FEATS = sorted([i for i in os.listdir(path_to_recog) if i.split('.')[-1]=='npy'])\n",
    "RECOG_SUBS = np.array([i.split('_')[0] for i in RECOG_FEATS])\n",
    "\n",
    "recog_sub_list = np.unique(RECOG_SUBS)\n",
    "\n",
    "def preprocess_recog(RECOG_METAS, RECOG_FEATS):\n",
    "    M = [i for i in RECOG_METAS if len(i.split('.')[0].split('_'))==4]\n",
    "    F = [i for i in RECOG_FEATS if len(i.split('.')[0].split('_'))==4]\n",
    "    return M,F\n",
    "\n",
    "RECOG_METAS, RECOG_FEATS = preprocess_recog(RECOG_METAS, RECOG_FEATS)"
   ]
  },
  {
   "cell_type": "code",
   "execution_count": 48,
   "metadata": {
    "collapsed": true
   },
   "outputs": [],
   "source": [
    "## get raw file list for drawing runs\n",
    "DRAW_METAS = sorted([i for i in os.listdir(path_to_draw) if i.split('.')[-1]=='csv'])\n",
    "DRAW_FEATS = sorted([i for i in os.listdir(path_to_draw) if i.split('.')[-1]=='npy'])\n",
    "DRAW_SUBS = np.array([i.split('_')[0] for i in DRAW_FEATS])\n",
    "draw_sub_list = np.unique(DRAW_SUBS)"
   ]
  },
  {
   "cell_type": "code",
   "execution_count": 49,
   "metadata": {},
   "outputs": [
    {
     "name": "stdout",
     "output_type": "stream",
     "text": [
      "Number of subs: 31\n"
     ]
    }
   ],
   "source": [
    "## get subject ID's that have complete datasets from all phases of experiment\n",
    "sub_list = np.intersect1d(recog_sub_list,draw_sub_list)\n",
    "print 'Number of subs: {}'.format(len(sub_list))"
   ]
  },
  {
   "cell_type": "code",
   "execution_count": 50,
   "metadata": {
    "collapsed": true
   },
   "outputs": [],
   "source": [
    "## filter file list so only contains the sessions that have full datasets\n",
    "def extract_good_sessions(DRAW_METAS,DRAW_FEATS,RECOG_METAS,RECOG_FEATS):\n",
    "    _DRAW_METAS = [i for i in DRAW_METAS if i.split('_')[1] in sub_list]\n",
    "    _DRAW_FEATS = [i for i in DRAW_FEATS if i.split('_')[0] in sub_list]\n",
    "    _RECOG_METAS = [i for i in RECOG_METAS if i.split('_')[1] in sub_list]\n",
    "    _RECOG_FEATS = [i for i in RECOG_FEATS if i.split('_')[0] in sub_list]\n",
    "    return _DRAW_METAS, _DRAW_FEATS, _RECOG_METAS, _RECOG_FEATS\n",
    "\n",
    "DRAW_METAS,DRAW_FEATS,RECOG_METAS,RECOG_FEATS =  \\\n",
    "extract_good_sessions(DRAW_METAS,DRAW_FEATS,RECOG_METAS,RECOG_FEATS)\n",
    "\n",
    "RECOG_SUBS = np.array([i.split('_')[0]+'_neurosketch' for i in RECOG_FEATS])\n",
    "RECOG_ROIS = np.array([i.split('_')[1] for i in RECOG_FEATS])\n",
    "\n",
    "DRAW_SUBS = np.array([i.split('_')[0]+'_neurosketch' for i in DRAW_FEATS])\n",
    "DRAW_ROIS = np.array([i.split('_')[1] for i in DRAW_FEATS])"
   ]
  },
  {
   "cell_type": "markdown",
   "metadata": {},
   "source": [
    "### How well do we do at classifying the target when we train on recognition patterns only?"
   ]
  },
  {
   "cell_type": "code",
   "execution_count": 522,
   "metadata": {
    "collapsed": true
   },
   "outputs": [],
   "source": [
    "#### Helper data loader functions\n",
    "def load_draw_meta(this_sub):\n",
    "    this_file = 'metadata_{}_drawing.csv'.format(this_sub)\n",
    "    x = pd.read_csv(os.path.join(path_to_draw,this_file))\n",
    "    x = x.drop(['Unnamed: 0', 'Unnamed: 0.1'], axis=1)\n",
    "    x['trial_num'] = np.repeat(np.arange(40),23)        \n",
    "    return x\n",
    "    \n",
    "def load_draw_feats(this_sub,this_roi):\n",
    "    this_file = '{}_{}_featurematrix.npy'.format(this_sub,this_roi)\n",
    "    y = np.load(os.path.join(path_to_draw,this_file))\n",
    "    y = y.transpose()\n",
    "    return y\n",
    "\n",
    "def load_draw_data(this_sub,this_roi):\n",
    "    x = load_draw_meta(this_sub)\n",
    "    y = load_draw_feats(this_sub,this_roi)\n",
    "    assert y.shape[0] == x.shape[0]    \n",
    "    return x,y\n",
    "\n",
    "def load_recog_meta(this_sub,this_roi,this_phase):\n",
    "    this_file = 'metadata_{}_{}_{}.csv'.format(this_sub,this_roi,this_phase)\n",
    "    x = pd.read_csv(os.path.join(path_to_recog,this_file))\n",
    "    x = x.drop(['Unnamed: 0'], axis=1)\n",
    "    return x\n",
    "    \n",
    "def load_recog_feats(this_sub,this_roi,this_phase):\n",
    "    this_file = '{}_{}_{}_featurematrix.npy'.format(this_sub,this_roi,this_phase)\n",
    "    y = np.load(os.path.join(path_to_recog,this_file))\n",
    "    y = y.transpose()\n",
    "    return y    \n",
    "\n",
    "def load_recog_data(this_sub,this_roi,this_phase):\n",
    "    x = load_recog_meta(this_sub,this_roi,this_phase)\n",
    "    y = load_recog_feats(this_sub,this_roi,this_phase)\n",
    "    assert y.shape[0] == x.shape[0]    \n",
    "    return x,y\n",
    "\n",
    "# z-score normalization to de-mean & standardize variances within-voxel \n",
    "def normalize(X):\n",
    "    X = X - X.mean(0)\n",
    "    X = X / np.maximum(X.std(0), 1e-5)\n",
    "    return X\n",
    "\n",
    "## plotting helper\n",
    "def get_prob_timecourse(iv,DM):\n",
    "    trained_objs = np.unique(DM.label.values)\n",
    "    control_objs = [i for i in ['bed','bench','chair','table'] if i not in trained_objs]\n",
    "    t1 = trained_objs[0]\n",
    "    t2 = trained_objs[1]\n",
    "    c1 = control_objs[0]\n",
    "    c2 = control_objs[1]\n",
    "    target = np.vstack((DM[DM.label==t1].groupby(iv)['{}_prob'.format(t1)].mean().values,\n",
    "                   DM[DM.label==t2].groupby(iv)['{}_prob'.format(t2)].mean().values)).mean(0) ## target timecourse\n",
    "    foil = np.vstack((DM[DM.label==t1].groupby(iv)['{}_prob'.format(t2)].mean().values,\n",
    "                   DM[DM.label==t2].groupby(iv)['{}_prob'.format(t1)].mean().values)).mean(0) ## foil timecourse\n",
    "    control = np.vstack((DM[DM.label==t1].groupby(iv)['{}_prob'.format(c1)].mean().values,\n",
    "                        DM[DM.label==t1].groupby(iv)['{}_prob'.format(c2)].mean().values,\n",
    "                        DM[DM.label==t2].groupby(iv)['{}_prob'.format(c1)].mean().values,\n",
    "                        DM[DM.label==t2].groupby(iv)['{}_prob'.format(c2)].mean().values)).mean(0) ## control timecourse\n",
    "    \n",
    "    return target, foil, control\n",
    "     \n",
    "def flatten(x):\n",
    "    return [item for sublist in x for item in sublist]    "
   ]
  },
  {
   "cell_type": "code",
   "execution_count": null,
   "metadata": {
    "collapsed": true
   },
   "outputs": [],
   "source": [
    "## general plotting params\n",
    "sns.set_context('poster')\n",
    "colors = sns.color_palette(\"cubehelix\", 5)\n"
   ]
  },
  {
   "cell_type": "code",
   "execution_count": 373,
   "metadata": {
    "collapsed": true
   },
   "outputs": [],
   "source": [
    "## example subject, roi, and phase (localizer is default)\n",
    "this_sub = sub_list[0]\n",
    "this_roi = roi_list[2] ## order is: ['V1','V2','LOC','IT','fusiform','parahippo', 'PRC', 'ento','hipp','mOFC']\n",
    "this_phase = '12' ## options are '12', '34', '56'"
   ]
  },
  {
   "cell_type": "code",
   "execution_count": null,
   "metadata": {
    "collapsed": true
   },
   "outputs": [],
   "source": []
  },
  {
   "cell_type": "code",
   "execution_count": 441,
   "metadata": {},
   "outputs": [
    {
     "name": "stdout",
     "output_type": "stream",
     "text": [
      "V1\n",
      "V2\n",
      "LOC\n",
      "IT\n",
      "fusiform\n",
      "parahippo\n",
      "PRC\n",
      "ento\n",
      "hipp\n",
      "mOFC\n"
     ]
    }
   ],
   "source": [
    "ALLDM = []\n",
    "\n",
    "## loop through all subjects and rois\n",
    "Acc = []\n",
    "for this_roi in roi_list:\n",
    "    print this_roi\n",
    "    acc = []\n",
    "    for this_sub in sub_list:\n",
    "        ## load subject data in\n",
    "        RM12, RF12 = load_recog_data(this_sub,this_roi,'12')\n",
    "        RM34, RF34 = load_recog_data(this_sub,this_roi,'34')        \n",
    "        RM = pd.concat([RM12,RM34])\n",
    "        RF = np.vstack((RF12,RF34))        \n",
    "        DM, DF = load_draw_data(this_sub,this_roi)\n",
    "        assert RF.shape[1]==DF.shape[1] ## that number of voxels is identical\n",
    "\n",
    "        ## normalize voxels within task\n",
    "        normalize_on = 1\n",
    "        if normalize_on:\n",
    "            _RF = normalize(RF)\n",
    "            _DF = normalize(DF)\n",
    "        else:\n",
    "            _RF = RF\n",
    "            _DF = DF\n",
    "\n",
    "        # single train/test split\n",
    "        X_train = _RF\n",
    "        y_train = RM.label.values\n",
    "\n",
    "        ## subset timepoints?\n",
    "        inds = DM.time_point>0\n",
    "        _DF = _DF[inds,:]\n",
    "        DM = DM[DM.time_point>0]\n",
    "\n",
    "        X_test = _DF\n",
    "        y_test = DM.label.values\n",
    "        # clf = svm.SVC(kernel='linear', C=1).fit(X_train, y_train)\n",
    "        clf = linear_model.LogisticRegression(penalty='l2',C=1).fit(X_train, y_train)    \n",
    "\n",
    "        ## add prediction probabilities to metadata matrix\n",
    "        cats = clf.classes_\n",
    "        probs = clf.predict_proba(X_test)\n",
    "        DM['bed_prob'] = probs[:,0]\n",
    "        DM['bench_prob'] = probs[:,1]\n",
    "        DM['chair_prob'] = probs[:,2]\n",
    "        DM['table_prob'] = probs[:,3]\n",
    "        \n",
    "        DM['subj'] = np.repeat(this_sub,DM.shape[0])\n",
    "        DM['roi'] = np.repeat(this_roi,DM.shape[0])\n",
    "        \n",
    "        if len(ALLDM)==0:\n",
    "            ALLDM = DM\n",
    "        else:\n",
    "            ALLDM = pd.concat([ALLDM,DM],ignore_index=True)\n",
    "\n",
    "        ## plot probability timecourse\n",
    "        fig = plt.figure(figsize=(5,5))\n",
    "        iv = 'run_num'\n",
    "        t,f,c = get_prob_timecourse(iv,DM)\n",
    "        plt.plot(t,color=colors[0],label='target')\n",
    "        plt.plot(f,color=colors[1],label='foil')\n",
    "        plt.plot(c,color=colors[2],label='control')\n",
    "        plt.legend(bbox_to_anchor=(1.45, 1.01))\n",
    "        plt.ylim(0,1)\n",
    "        plt.xlabel(iv)\n",
    "        plt.ylabel('probability')\n",
    "        if not os.path.exists('./plots/subj'):\n",
    "            os.makedirs('./plots/subj')\n",
    "        plt.tight_layout()\n",
    "        plt.savefig('./plots/subj/{}_{}_prob_{}.pdf'.format(iv.split('_')[0],this_roi,this_sub))\n",
    "        plt.close(fig)\n",
    "\n",
    "        acc.append(clf.score(X_test, y_test))\n",
    "    Acc.append(acc)"
   ]
  },
  {
   "cell_type": "code",
   "execution_count": null,
   "metadata": {
    "collapsed": true
   },
   "outputs": [],
   "source": [
    "ALLDM = ALLDM.drop(['Unnamed: 0.1.1'],axis=1)"
   ]
  },
  {
   "cell_type": "code",
   "execution_count": 442,
   "metadata": {
    "collapsed": true
   },
   "outputs": [],
   "source": [
    "Acc = np.array(Acc)\n",
    "x = pd.DataFrame(Acc.transpose())\n",
    "x.columns = roi_list"
   ]
  },
  {
   "cell_type": "code",
   "execution_count": 445,
   "metadata": {},
   "outputs": [
    {
     "data": {
      "text/plain": [
       "(0, 0.35)"
      ]
     },
     "execution_count": 445,
     "metadata": {},
     "output_type": "execute_result"
    },
    {
     "data": {
      "image/png": "[encoded data removed]",
      "text/plain": [
       "<matplotlib.figure.Figure at 0x7f200319e290>"
      ]
     },
     "metadata": {},
     "output_type": "display_data"
    }
   ],
   "source": [
    "sns.set_context('talk')\n",
    "plt.figure(figsize=(11,4))\n",
    "sns.barplot(data=x,palette='husl')\n",
    "plt.axhline(0.25,linestyle=':',color='k')\n",
    "plt.ylabel('accuracy')\n",
    "plt.title('test on drawing runs; train on recognition runs')\n",
    "plt.ylim(0,0.35)"
   ]
  },
  {
   "cell_type": "code",
   "execution_count": null,
   "metadata": {
    "collapsed": true
   },
   "outputs": [],
   "source": []
  },
  {
   "cell_type": "code",
   "execution_count": 455,
   "metadata": {},
   "outputs": [
    {
     "data": {
      "text/html": [
       "<div>\n",
       "<style>\n",
       "    .dataframe thead tr:only-child th {\n",
       "        text-align: right;\n",
       "    }\n",
       "\n",
       "    .dataframe thead th {\n",
       "        text-align: left;\n",
       "    }\n",
       "\n",
       "    .dataframe tbody tr th {\n",
       "        vertical-align: top;\n",
       "    }\n",
       "</style>\n",
       "<table border=\"1\" class=\"dataframe\">\n",
       "  <thead>\n",
       "    <tr style=\"text-align: right;\">\n",
       "      <th></th>\n",
       "      <th>TR_num</th>\n",
       "      <th>bed_prob</th>\n",
       "      <th>bench_prob</th>\n",
       "      <th>chair_prob</th>\n",
       "      <th>label</th>\n",
       "      <th>roi</th>\n",
       "      <th>run_num</th>\n",
       "      <th>subj</th>\n",
       "      <th>table_prob</th>\n",
       "      <th>time_point</th>\n",
       "      <th>trial_num</th>\n",
       "    </tr>\n",
       "  </thead>\n",
       "  <tbody>\n",
       "    <tr>\n",
       "      <th>0</th>\n",
       "      <td>10</td>\n",
       "      <td>0.785917</td>\n",
       "      <td>0.013764</td>\n",
       "      <td>0.010464</td>\n",
       "      <td>bed</td>\n",
       "      <td>V1</td>\n",
       "      <td>1</td>\n",
       "      <td>0110171</td>\n",
       "      <td>0.189855</td>\n",
       "      <td>1</td>\n",
       "      <td>0</td>\n",
       "    </tr>\n",
       "    <tr>\n",
       "      <th>1</th>\n",
       "      <td>11</td>\n",
       "      <td>0.943448</td>\n",
       "      <td>0.012615</td>\n",
       "      <td>0.012706</td>\n",
       "      <td>bed</td>\n",
       "      <td>V1</td>\n",
       "      <td>1</td>\n",
       "      <td>0110171</td>\n",
       "      <td>0.031231</td>\n",
       "      <td>2</td>\n",
       "      <td>0</td>\n",
       "    </tr>\n",
       "    <tr>\n",
       "      <th>2</th>\n",
       "      <td>12</td>\n",
       "      <td>0.223766</td>\n",
       "      <td>0.118172</td>\n",
       "      <td>0.020711</td>\n",
       "      <td>bed</td>\n",
       "      <td>V1</td>\n",
       "      <td>1</td>\n",
       "      <td>0110171</td>\n",
       "      <td>0.637351</td>\n",
       "      <td>3</td>\n",
       "      <td>0</td>\n",
       "    </tr>\n",
       "    <tr>\n",
       "      <th>3</th>\n",
       "      <td>13</td>\n",
       "      <td>0.018425</td>\n",
       "      <td>0.429318</td>\n",
       "      <td>0.000032</td>\n",
       "      <td>bed</td>\n",
       "      <td>V1</td>\n",
       "      <td>1</td>\n",
       "      <td>0110171</td>\n",
       "      <td>0.552225</td>\n",
       "      <td>4</td>\n",
       "      <td>0</td>\n",
       "    </tr>\n",
       "    <tr>\n",
       "      <th>4</th>\n",
       "      <td>14</td>\n",
       "      <td>0.399308</td>\n",
       "      <td>0.000777</td>\n",
       "      <td>0.054215</td>\n",
       "      <td>bed</td>\n",
       "      <td>V1</td>\n",
       "      <td>1</td>\n",
       "      <td>0110171</td>\n",
       "      <td>0.545701</td>\n",
       "      <td>5</td>\n",
       "      <td>0</td>\n",
       "    </tr>\n",
       "  </tbody>\n",
       "</table>\n",
       "</div>"
      ],
      "text/plain": [
       "   TR_num  bed_prob  bench_prob  chair_prob label roi  run_num     subj  \\\n",
       "0      10  0.785917    0.013764    0.010464   bed  V1        1  0110171   \n",
       "1      11  0.943448    0.012615    0.012706   bed  V1        1  0110171   \n",
       "2      12  0.223766    0.118172    0.020711   bed  V1        1  0110171   \n",
       "3      13  0.018425    0.429318    0.000032   bed  V1        1  0110171   \n",
       "4      14  0.399308    0.000777    0.054215   bed  V1        1  0110171   \n",
       "\n",
       "   table_prob  time_point  trial_num  \n",
       "0    0.189855           1          0  \n",
       "1    0.031231           2          0  \n",
       "2    0.637351           3          0  \n",
       "3    0.552225           4          0  \n",
       "4    0.545701           5          0  "
      ]
     },
     "execution_count": 455,
     "metadata": {},
     "output_type": "execute_result"
    }
   ],
   "source": [
    "ALLDM.head()"
   ]
  },
  {
   "cell_type": "code",
   "execution_count": 555,
   "metadata": {},
   "outputs": [],
   "source": []
  },
  {
   "cell_type": "code",
   "execution_count": 611,
   "metadata": {},
   "outputs": [],
   "source": []
  },
  {
   "cell_type": "code",
   "execution_count": null,
   "metadata": {},
   "outputs": [],
   "source": []
  },
  {
   "cell_type": "code",
   "execution_count": null,
   "metadata": {},
   "outputs": [],
   "source": [
    "this_roi = 'V1'\n",
    "subs = np.unique(ALLDM.subj.values)\n",
    "lookup = dict(zip(['trial_num','run_num','time_point'],['repetition','run','TR']))\n",
    "ivs = ['run_num','trial_num','time_point']\n",
    "this_iv = 'time_point'\n",
    "for this_iv in ivs:\n",
    "    for this_roi in roi_list:\n",
    "\n",
    "        T = []\n",
    "        F = []\n",
    "        C = []\n",
    "        Sub = []\n",
    "        for sub in subs:\n",
    "            inds =(ALLDM['roi']==this_roi) & (ALLDM['subj']==sub) \n",
    "            t,f,c = get_prob_timecourse(this_iv,ALLDM[inds])\n",
    "            if len(T)==0:\n",
    "                T = t\n",
    "                F = f\n",
    "                C = c\n",
    "            else:\n",
    "                T = np.hstack((T,t))\n",
    "                F = np.hstack((F,f))        \n",
    "                C = np.hstack((C,c))      \n",
    "            Sub.append([sub]*len(t))        \n",
    "        Trial = np.tile(np.arange(len(t)),len(subs)*3)\n",
    "        Condition = np.repeat(['trained','foil','control'],len(T))\n",
    "        Sub = np.tile(np.array(flatten(Sub)),3)\n",
    "        Prob = np.hstack((T,F,C))\n",
    "\n",
    "        assert len(Trial)==len(Condition)\n",
    "        assert len(Sub)==len(Prob)\n",
    "        assert len(Condition)==len(Sub)\n",
    "\n",
    "        ## make longform version of dataframe to use in tsplot\n",
    "        x = pd.DataFrame([Prob,Trial,Condition,Sub])\n",
    "        x = x.transpose()\n",
    "        x.columns = ['probability',lookup[this_iv],'condition','sub']\n",
    "\n",
    "        fig = plt.figure(figsize=(6,4))\n",
    "        ## plot it\n",
    "        sns.tsplot(data=x,\n",
    "                  time=lookup[this_iv],\n",
    "                  unit='sub',\n",
    "                  condition='condition',\n",
    "                  value='probability',\n",
    "                  ci=95)\n",
    "        plt.axhline(0.25,linestyle=':',color='k')\n",
    "        plt.ylim(0,0.5)\n",
    "        plt.legend(bbox_to_anchor=(0.8, 1.01))\n",
    "        plt.xticks(np.arange(np.max(x[lookup[this_iv]].values)+1))\n",
    "        plt.title('Classifier evidence by condition in {}'.format(this_roi))\n",
    "        if not os.path.exists('./plots/roi/{}'.format(lookup[this_iv])):\n",
    "            os.makedirs('./plots/roi/{}'.format(lookup[this_iv]))\n",
    "        plt.tight_layout()        \n",
    "        plt.savefig('./plots/roi/prob_timecourse_{}_by_{}.pdf'.format(this_roi,lookup[this_iv]))\n",
    "        plt.close(fig)"
   ]
  },
  {
   "cell_type": "code",
   "execution_count": null,
   "metadata": {},
   "outputs": [],
   "source": []
  },
  {
   "cell_type": "code",
   "execution_count": null,
   "metadata": {},
   "outputs": [],
   "source": []
  },
  {
   "cell_type": "code",
   "execution_count": null,
   "metadata": {},
   "outputs": [],
   "source": []
  },
  {
   "cell_type": "code",
   "execution_count": null,
   "metadata": {},
   "outputs": [],
   "source": []
  },
  {
   "cell_type": "code",
   "execution_count": null,
   "metadata": {
    "collapsed": true
   },
   "outputs": [],
   "source": []
  },
  {
   "cell_type": "code",
   "execution_count": null,
   "metadata": {},
   "outputs": [],
   "source": []
  },
  {
   "cell_type": "code",
   "execution_count": null,
   "metadata": {},
   "outputs": [],
   "source": []
  },
  {
   "cell_type": "code",
   "execution_count": null,
   "metadata": {
    "collapsed": true
   },
   "outputs": [],
   "source": []
  },
  {
   "cell_type": "code",
   "execution_count": null,
   "metadata": {
    "collapsed": true
   },
   "outputs": [],
   "source": []
  }
 ],
 "metadata": {
  "kernelspec": {
   "display_name": "Python 2",
   "language": "python",
   "name": "python2"
  },
  "language_info": {
   "codemirror_mode": {
    "name": "ipython",
    "version": 2
   },
   "file_extension": ".py",
   "mimetype": "text/x-python",
   "name": "python",
   "nbconvert_exporter": "python",
   "pygments_lexer": "ipython2",
   "version": "2.7.12"
  }
 },
 "nbformat": 4,
 "nbformat_minor": 2
}
