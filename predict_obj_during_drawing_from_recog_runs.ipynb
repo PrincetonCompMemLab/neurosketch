{
 "cells": [
  {
   "cell_type": "code",
   "execution_count": 45,
   "metadata": {
    "collapsed": true
   },
   "outputs": [],
   "source": [
    "from __future__ import division\n",
    "\n",
    "import numpy as np\n",
    "import os\n",
    "from glob import glob\n",
    "\n",
    "from PIL import Image\n",
    "from copy import deepcopy\n",
    "\n",
    "from sklearn import linear_model, datasets, neighbors\n",
    "from sklearn.model_selection import train_test_split, cross_val_score\n",
    "from sklearn import svm\n",
    "\n",
    "%matplotlib inline\n",
    "from scipy.misc import imread, imresize\n",
    "import matplotlib.pyplot as plt\n",
    "import matplotlib.image as mpimg\n",
    "import seaborn as sns\n",
    "\n",
    "import pandas as pd\n",
    "\n",
    "import scipy.stats as stats\n",
    "from scipy.stats import norm\n",
    "import sklearn"
   ]
  },
  {
   "cell_type": "code",
   "execution_count": 46,
   "metadata": {
    "collapsed": true
   },
   "outputs": [],
   "source": [
    "## define path to input datasets (tidy format)\n",
    "path_to_recog = '/home/jefan/neurosketch/neurosketch_voxelmat_freesurfer_recog'\n",
    "path_to_draw = '/home/jefan/neurosketch/neurosketch_voxelmat_freesurfer_drawing'\n",
    "roi_list = np.array(['V1','V2','LOC','IT','fusiform','parahippo', 'PRC', 'ento','hipp','mOFC'])"
   ]
  },
  {
   "cell_type": "code",
   "execution_count": 47,
   "metadata": {},
   "outputs": [],
   "source": [
    "## get raw file list for recognition runs\n",
    "RECOG_METAS = sorted([i for i in os.listdir(path_to_recog) if i.split('.')[-1]=='csv'])\n",
    "RECOG_FEATS = sorted([i for i in os.listdir(path_to_recog) if i.split('.')[-1]=='npy'])\n",
    "RECOG_SUBS = np.array([i.split('_')[0] for i in RECOG_FEATS])\n",
    "\n",
    "recog_sub_list = np.unique(RECOG_SUBS)\n",
    "\n",
    "def preprocess_recog(RECOG_METAS, RECOG_FEATS):\n",
    "    M = [i for i in RECOG_METAS if len(i.split('.')[0].split('_'))==4]\n",
    "    F = [i for i in RECOG_FEATS if len(i.split('.')[0].split('_'))==4]\n",
    "    return M,F\n",
    "\n",
    "RECOG_METAS, RECOG_FEATS = preprocess_recog(RECOG_METAS, RECOG_FEATS)"
   ]
  },
  {
   "cell_type": "code",
   "execution_count": 48,
   "metadata": {
    "collapsed": true
   },
   "outputs": [],
   "source": [
    "## get raw file list for drawing runs\n",
    "DRAW_METAS = sorted([i for i in os.listdir(path_to_draw) if i.split('.')[-1]=='csv'])\n",
    "DRAW_FEATS = sorted([i for i in os.listdir(path_to_draw) if i.split('.')[-1]=='npy'])\n",
    "DRAW_SUBS = np.array([i.split('_')[0] for i in DRAW_FEATS])\n",
    "draw_sub_list = np.unique(DRAW_SUBS)"
   ]
  },
  {
   "cell_type": "code",
   "execution_count": 49,
   "metadata": {},
   "outputs": [
    {
     "name": "stdout",
     "output_type": "stream",
     "text": [
      "Number of subs: 31\n"
     ]
    }
   ],
   "source": [
    "## get subject ID's that have complete datasets from all phases of experiment\n",
    "sub_list = np.intersect1d(recog_sub_list,draw_sub_list)\n",
    "print 'Number of subs: {}'.format(len(sub_list))"
   ]
  },
  {
   "cell_type": "code",
   "execution_count": 50,
   "metadata": {},
   "outputs": [],
   "source": [
    "## filter file list so only contains the sessions that have full datasets\n",
    "def extract_good_sessions(DRAW_METAS,DRAW_FEATS,RECOG_METAS,RECOG_FEATS):\n",
    "    _DRAW_METAS = [i for i in DRAW_METAS if i.split('_')[1] in sub_list]\n",
    "    _DRAW_FEATS = [i for i in DRAW_FEATS if i.split('_')[0] in sub_list]\n",
    "    _RECOG_METAS = [i for i in RECOG_METAS if i.split('_')[1] in sub_list]\n",
    "    _RECOG_FEATS = [i for i in RECOG_FEATS if i.split('_')[0] in sub_list]\n",
    "    return _DRAW_METAS, _DRAW_FEATS, _RECOG_METAS, _RECOG_FEATS\n",
    "\n",
    "DRAW_METAS,DRAW_FEATS,RECOG_METAS,RECOG_FEATS =  \\\n",
    "extract_good_sessions(DRAW_METAS,DRAW_FEATS,RECOG_METAS,RECOG_FEATS)\n",
    "\n",
    "RECOG_SUBS = np.array([i.split('_')[0]+'_neurosketch' for i in RECOG_FEATS])\n",
    "RECOG_ROIS = np.array([i.split('_')[1] for i in RECOG_FEATS])\n",
    "\n",
    "DRAW_SUBS = np.array([i.split('_')[0]+'_neurosketch' for i in DRAW_FEATS])\n",
    "DRAW_ROIS = np.array([i.split('_')[1] for i in DRAW_FEATS])"
   ]
  },
  {
   "cell_type": "markdown",
   "metadata": {},
   "source": [
    "### How well do we do at classifying the target when we train on recognition patterns only?"
   ]
  },
  {
   "cell_type": "code",
   "execution_count": 201,
   "metadata": {},
   "outputs": [],
   "source": [
    "#### Helper data loader functions\n",
    "def load_draw_meta(this_sub):\n",
    "    this_file = 'metadata_{}_drawing.csv'.format(this_sub)\n",
    "    x = pd.read_csv(os.path.join(path_to_draw,this_file))\n",
    "    x = x.drop(['Unnamed: 0', 'Unnamed: 0.1'], axis=1)\n",
    "    x['trial_num'] = np.repeat(np.arange(40),23)        \n",
    "    return x\n",
    "    \n",
    "def load_draw_feats(this_sub,this_roi):\n",
    "    this_file = '{}_{}_featurematrix.npy'.format(this_sub,this_roi)\n",
    "    y = np.load(os.path.join(path_to_draw,this_file))\n",
    "    y = y.transpose()\n",
    "    return y\n",
    "\n",
    "def load_draw_data(this_sub,this_roi):\n",
    "    x = load_draw_meta(this_sub)\n",
    "    y = load_draw_feats(this_sub,this_roi)\n",
    "    assert y.shape[0] == x.shape[0]    \n",
    "    return x,y\n",
    "\n",
    "def load_recog_meta(this_sub,this_roi,this_phase):\n",
    "    this_file = 'metadata_{}_{}_{}.csv'.format(this_sub,this_roi,this_phase)\n",
    "    x = pd.read_csv(os.path.join(path_to_recog,this_file))\n",
    "    x = x.drop(['Unnamed: 0'], axis=1)\n",
    "    return x\n",
    "    \n",
    "def load_recog_feats(this_sub,this_roi,this_phase):\n",
    "    this_file = '{}_{}_{}_featurematrix.npy'.format(this_sub,this_roi,this_phase)\n",
    "    y = np.load(os.path.join(path_to_recog,this_file))\n",
    "    y = y.transpose()\n",
    "    return y    \n",
    "\n",
    "def load_recog_data(this_sub,this_roi,this_phase):\n",
    "    x = load_recog_meta(this_sub,this_roi,this_phase)\n",
    "    y = load_recog_feats(this_sub,this_roi,this_phase)\n",
    "    assert y.shape[0] == x.shape[0]    \n",
    "    return x,y\n",
    "\n",
    "# z-score normalization to de-mean & standardize variances within-voxel \n",
    "def normalize(X):\n",
    "    X = X - X.mean(0)\n",
    "    X = X / np.maximum(X.std(0), 1e-5)\n",
    "    return X"
   ]
  },
  {
   "cell_type": "code",
   "execution_count": 269,
   "metadata": {
    "collapsed": true
   },
   "outputs": [],
   "source": [
    "## example subject, roi, and phase (localizer is default)\n",
    "this_sub = sub_list[0]\n",
    "this_roi = roi_list[2] ## order is: ['V1','V2','LOC','IT','fusiform','parahippo', 'PRC', 'ento','hipp','mOFC']\n",
    "this_phase = '12' ## options are '12', '34', '56'"
   ]
  },
  {
   "cell_type": "code",
   "execution_count": 270,
   "metadata": {},
   "outputs": [],
   "source": [
    "RM, RF = load_recog_data(this_sub,this_roi,this_phase)\n",
    "DM, DF = load_draw_data(this_sub,this_roi)\n",
    "assert RF.shape[1]==DF.shape[1] ## that number of voxels is identical"
   ]
  },
  {
   "cell_type": "code",
   "execution_count": 271,
   "metadata": {},
   "outputs": [],
   "source": [
    "## normalize voxels within task\n",
    "normalize_on = 1\n",
    "if normalize_on:\n",
    "    _RF = normalize(RF)\n",
    "    _DF = normalize(DF)\n",
    "else:\n",
    "    _RF = RF\n",
    "    _DF = DF"
   ]
  },
  {
   "cell_type": "code",
   "execution_count": 272,
   "metadata": {},
   "outputs": [
    {
     "name": "stdout",
     "output_type": "stream",
     "text": [
      "0.327173913043\n"
     ]
    }
   ],
   "source": [
    "# single train/test split\n",
    "X_train = _RF\n",
    "y_train = RM.label.values\n",
    "X_test = _DF\n",
    "y_test = DM.label.values\n",
    "# clf = svm.SVC(kernel='linear', C=1).fit(X_train, y_train)\n",
    "clf = linear_model.LogisticRegression(penalty='l2',C=1).fit(X_train, y_train)\n",
    "print clf.score(X_test, y_test)"
   ]
  },
  {
   "cell_type": "code",
   "execution_count": 273,
   "metadata": {},
   "outputs": [],
   "source": [
    "cats = clf.classes_\n",
    "probs = clf.predict_proba(X_test)\n",
    "DM['bed_prob'] = probs[:,0]\n",
    "DM['bench_prob'] = probs[:,1]\n",
    "DM['chair_prob'] = probs[:,2]\n",
    "DM['table_prob'] = probs[:,3]"
   ]
  },
  {
   "cell_type": "code",
   "execution_count": null,
   "metadata": {},
   "outputs": [],
   "source": []
  },
  {
   "cell_type": "code",
   "execution_count": 274,
   "metadata": {},
   "outputs": [],
   "source": [
    "x = DM[DM.label=='bed']['time_point']\n",
    "y = DM[DM.label=='bed']['bed_prob']"
   ]
  },
  {
   "cell_type": "code",
   "execution_count": 275,
   "metadata": {
    "collapsed": true
   },
   "outputs": [],
   "source": [
    "## general plotting params\n",
    "sns.set_context('poster')\n",
    "colors = sns.color_palette(\"cubehelix\", 5)"
   ]
  },
  {
   "cell_type": "code",
   "execution_count": 288,
   "metadata": {},
   "outputs": [
    {
     "data": {
      "text/plain": [
       "(0, 1)"
      ]
     },
     "execution_count": 288,
     "metadata": {},
     "output_type": "execute_result"
    },
    {
     "data": {
      "image/png": "[encoded data removed]",
      "text/plain": [
       "<matplotlib.figure.Figure at 0x7f200addc4d0>"
      ]
     },
     "metadata": {},
     "output_type": "display_data"
    }
   ],
   "source": [
    "iv = 'time_point' ## options: time_point, trial_num, run_num\n",
    "trained_objs = np.unique(DM.label.values)\n",
    "\n",
    "plt.figure(figsize=(15,4))\n",
    "plt.subplot(121)\n",
    "target = trained_objs[0]\n",
    "plt.plot(DM[DM.label==target].groupby(iv)['bed_prob'].mean(),color=colors[0],label='bed')\n",
    "plt.plot(DM[DM.label==target].groupby(iv)['bench_prob'].mean(),color=colors[1],label='bench')\n",
    "plt.plot(DM[DM.label==target].groupby(iv)['chair_prob'].mean(),color=colors[2],label='chair')\n",
    "plt.plot(DM[DM.label==target].groupby(iv)['table_prob'].mean(),color=colors[3],label='table')\n",
    "# plt.legend(bbox_to_anchor=(1.4, 1.01))\n",
    "plt.xlabel(iv)\n",
    "plt.ylabel('p({})'.format(target))\n",
    "plt.ylim(0,1)\n",
    "\n",
    "plt.subplot(122)\n",
    "target = trained_objs[1]\n",
    "plt.plot(DM[DM.label==target].groupby(iv)['bed_prob'].mean(),color=colors[0],label='bed')\n",
    "plt.plot(DM[DM.label==target].groupby(iv)['bench_prob'].mean(),color=colors[1],label='bench')\n",
    "plt.plot(DM[DM.label==target].groupby(iv)['chair_prob'].mean(),color=colors[2],label='chair')\n",
    "plt.plot(DM[DM.label==target].groupby(iv)['table_prob'].mean(),color=colors[3],label='table')\n",
    "plt.legend(bbox_to_anchor=(1.4, 1.01))\n",
    "plt.xlabel(iv)\n",
    "plt.ylabel('p({})'.format(target))\n",
    "plt.ylim(0,1)"
   ]
  },
  {
   "cell_type": "code",
   "execution_count": null,
   "metadata": {},
   "outputs": [],
   "source": []
  },
  {
   "cell_type": "code",
   "execution_count": null,
   "metadata": {},
   "outputs": [],
   "source": []
  },
  {
   "cell_type": "code",
   "execution_count": null,
   "metadata": {},
   "outputs": [],
   "source": []
  },
  {
   "cell_type": "code",
   "execution_count": null,
   "metadata": {},
   "outputs": [],
   "source": []
  },
  {
   "cell_type": "code",
   "execution_count": null,
   "metadata": {},
   "outputs": [],
   "source": []
  },
  {
   "cell_type": "code",
   "execution_count": null,
   "metadata": {
    "collapsed": true
   },
   "outputs": [],
   "source": []
  },
  {
   "cell_type": "code",
   "execution_count": null,
   "metadata": {
    "collapsed": true
   },
   "outputs": [],
   "source": []
  }
 ],
 "metadata": {
  "kernelspec": {
   "display_name": "Python 2",
   "language": "python",
   "name": "python2"
  },
  "language_info": {
   "codemirror_mode": {
    "name": "ipython",
    "version": 2
   },
   "file_extension": ".py",
   "mimetype": "text/x-python",
   "name": "python",
   "nbconvert_exporter": "python",
   "pygments_lexer": "ipython2",
   "version": "2.7.12"
  }
 },
 "nbformat": 4,
 "nbformat_minor": 2
}
