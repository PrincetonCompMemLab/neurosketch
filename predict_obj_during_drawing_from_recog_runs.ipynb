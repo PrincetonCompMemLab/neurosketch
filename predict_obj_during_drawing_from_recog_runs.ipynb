{
 "cells": [
  {
   "cell_type": "code",
   "execution_count": 45,
   "metadata": {
    "collapsed": true
   },
   "outputs": [],
   "source": [
    "from __future__ import division\n",
    "\n",
    "import numpy as np\n",
    "import os\n",
    "from glob import glob\n",
    "\n",
    "from PIL import Image\n",
    "from copy import deepcopy\n",
    "\n",
    "from sklearn import linear_model, datasets, neighbors\n",
    "from sklearn.model_selection import train_test_split, cross_val_score\n",
    "from sklearn import svm\n",
    "\n",
    "%matplotlib inline\n",
    "from scipy.misc import imread, imresize\n",
    "import matplotlib.pyplot as plt\n",
    "import matplotlib.image as mpimg\n",
    "import seaborn as sns\n",
    "\n",
    "import pandas as pd\n",
    "\n",
    "import scipy.stats as stats\n",
    "from scipy.stats import norm\n",
    "import sklearn"
   ]
  },
  {
   "cell_type": "code",
   "execution_count": 46,
   "metadata": {
    "collapsed": true
   },
   "outputs": [],
   "source": [
    "## define path to input datasets (tidy format)\n",
    "path_to_recog = '/home/jefan/neurosketch/neurosketch_voxelmat_freesurfer_recog'\n",
    "path_to_draw = '/home/jefan/neurosketch/neurosketch_voxelmat_freesurfer_drawing'\n",
    "roi_list = np.array(['V1','V2','LOC','IT','fusiform','parahippo', 'PRC', 'ento','hipp','mOFC'])"
   ]
  },
  {
   "cell_type": "code",
   "execution_count": 47,
   "metadata": {
    "collapsed": true
   },
   "outputs": [],
   "source": [
    "## get raw file list for recognition runs\n",
    "RECOG_METAS = sorted([i for i in os.listdir(path_to_recog) if i.split('.')[-1]=='csv'])\n",
    "RECOG_FEATS = sorted([i for i in os.listdir(path_to_recog) if i.split('.')[-1]=='npy'])\n",
    "RECOG_SUBS = np.array([i.split('_')[0] for i in RECOG_FEATS])\n",
    "\n",
    "recog_sub_list = np.unique(RECOG_SUBS)\n",
    "\n",
    "def preprocess_recog(RECOG_METAS, RECOG_FEATS):\n",
    "    M = [i for i in RECOG_METAS if len(i.split('.')[0].split('_'))==4]\n",
    "    F = [i for i in RECOG_FEATS if len(i.split('.')[0].split('_'))==4]\n",
    "    return M,F\n",
    "\n",
    "RECOG_METAS, RECOG_FEATS = preprocess_recog(RECOG_METAS, RECOG_FEATS)"
   ]
  },
  {
   "cell_type": "code",
   "execution_count": 48,
   "metadata": {
    "collapsed": true
   },
   "outputs": [],
   "source": [
    "## get raw file list for drawing runs\n",
    "DRAW_METAS = sorted([i for i in os.listdir(path_to_draw) if i.split('.')[-1]=='csv'])\n",
    "DRAW_FEATS = sorted([i for i in os.listdir(path_to_draw) if i.split('.')[-1]=='npy'])\n",
    "DRAW_SUBS = np.array([i.split('_')[0] for i in DRAW_FEATS])\n",
    "draw_sub_list = np.unique(DRAW_SUBS)"
   ]
  },
  {
   "cell_type": "code",
   "execution_count": 49,
   "metadata": {},
   "outputs": [
    {
     "name": "stdout",
     "output_type": "stream",
     "text": [
      "Number of subs: 31\n"
     ]
    }
   ],
   "source": [
    "## get subject ID's that have complete datasets from all phases of experiment\n",
    "sub_list = np.intersect1d(recog_sub_list,draw_sub_list)\n",
    "print 'Number of subs: {}'.format(len(sub_list))"
   ]
  },
  {
   "cell_type": "code",
   "execution_count": 50,
   "metadata": {
    "collapsed": true
   },
   "outputs": [],
   "source": [
    "## filter file list so only contains the sessions that have full datasets\n",
    "def extract_good_sessions(DRAW_METAS,DRAW_FEATS,RECOG_METAS,RECOG_FEATS):\n",
    "    _DRAW_METAS = [i for i in DRAW_METAS if i.split('_')[1] in sub_list]\n",
    "    _DRAW_FEATS = [i for i in DRAW_FEATS if i.split('_')[0] in sub_list]\n",
    "    _RECOG_METAS = [i for i in RECOG_METAS if i.split('_')[1] in sub_list]\n",
    "    _RECOG_FEATS = [i for i in RECOG_FEATS if i.split('_')[0] in sub_list]\n",
    "    return _DRAW_METAS, _DRAW_FEATS, _RECOG_METAS, _RECOG_FEATS\n",
    "\n",
    "DRAW_METAS,DRAW_FEATS,RECOG_METAS,RECOG_FEATS =  \\\n",
    "extract_good_sessions(DRAW_METAS,DRAW_FEATS,RECOG_METAS,RECOG_FEATS)\n",
    "\n",
    "RECOG_SUBS = np.array([i.split('_')[0]+'_neurosketch' for i in RECOG_FEATS])\n",
    "RECOG_ROIS = np.array([i.split('_')[1] for i in RECOG_FEATS])\n",
    "\n",
    "DRAW_SUBS = np.array([i.split('_')[0]+'_neurosketch' for i in DRAW_FEATS])\n",
    "DRAW_ROIS = np.array([i.split('_')[1] for i in DRAW_FEATS])"
   ]
  },
  {
   "cell_type": "markdown",
   "metadata": {},
   "source": [
    "### How well do we do at classifying the target when we train on recognition patterns only?"
   ]
  },
  {
   "cell_type": "code",
   "execution_count": 522,
   "metadata": {
    "collapsed": true
   },
   "outputs": [],
   "source": [
    "#### Helper data loader functions\n",
    "def load_draw_meta(this_sub):\n",
    "    this_file = 'metadata_{}_drawing.csv'.format(this_sub)\n",
    "    x = pd.read_csv(os.path.join(path_to_draw,this_file))\n",
    "    x = x.drop(['Unnamed: 0', 'Unnamed: 0.1'], axis=1)\n",
    "    x['trial_num'] = np.repeat(np.arange(40),23)        \n",
    "    return x\n",
    "    \n",
    "def load_draw_feats(this_sub,this_roi):\n",
    "    this_file = '{}_{}_featurematrix.npy'.format(this_sub,this_roi)\n",
    "    y = np.load(os.path.join(path_to_draw,this_file))\n",
    "    y = y.transpose()\n",
    "    return y\n",
    "\n",
    "def load_draw_data(this_sub,this_roi):\n",
    "    x = load_draw_meta(this_sub)\n",
    "    y = load_draw_feats(this_sub,this_roi)\n",
    "    assert y.shape[0] == x.shape[0]    \n",
    "    return x,y\n",
    "\n",
    "def load_recog_meta(this_sub,this_roi,this_phase):\n",
    "    this_file = 'metadata_{}_{}_{}.csv'.format(this_sub,this_roi,this_phase)\n",
    "    x = pd.read_csv(os.path.join(path_to_recog,this_file))\n",
    "    x = x.drop(['Unnamed: 0'], axis=1)\n",
    "    return x\n",
    "    \n",
    "def load_recog_feats(this_sub,this_roi,this_phase):\n",
    "    this_file = '{}_{}_{}_featurematrix.npy'.format(this_sub,this_roi,this_phase)\n",
    "    y = np.load(os.path.join(path_to_recog,this_file))\n",
    "    y = y.transpose()\n",
    "    return y    \n",
    "\n",
    "def load_recog_data(this_sub,this_roi,this_phase):\n",
    "    x = load_recog_meta(this_sub,this_roi,this_phase)\n",
    "    y = load_recog_feats(this_sub,this_roi,this_phase)\n",
    "    assert y.shape[0] == x.shape[0]    \n",
    "    return x,y\n",
    "\n",
    "# z-score normalization to de-mean & standardize variances within-voxel \n",
    "def normalize(X):\n",
    "    X = X - X.mean(0)\n",
    "    X = X / np.maximum(X.std(0), 1e-5)\n",
    "    return X\n",
    "\n",
    "## plotting helper\n",
    "def get_prob_timecourse(iv,DM):\n",
    "    trained_objs = np.unique(DM.label.values)\n",
    "    control_objs = [i for i in ['bed','bench','chair','table'] if i not in trained_objs]\n",
    "    t1 = trained_objs[0]\n",
    "    t2 = trained_objs[1]\n",
    "    c1 = control_objs[0]\n",
    "    c2 = control_objs[1]\n",
    "    target = np.vstack((DM[DM.label==t1].groupby(iv)['{}_prob'.format(t1)].mean().values,\n",
    "                   DM[DM.label==t2].groupby(iv)['{}_prob'.format(t2)].mean().values)).mean(0) ## target timecourse\n",
    "    foil = np.vstack((DM[DM.label==t1].groupby(iv)['{}_prob'.format(t2)].mean().values,\n",
    "                   DM[DM.label==t2].groupby(iv)['{}_prob'.format(t1)].mean().values)).mean(0) ## foil timecourse\n",
    "    control = np.vstack((DM[DM.label==t1].groupby(iv)['{}_prob'.format(c1)].mean().values,\n",
    "                        DM[DM.label==t1].groupby(iv)['{}_prob'.format(c2)].mean().values,\n",
    "                        DM[DM.label==t2].groupby(iv)['{}_prob'.format(c1)].mean().values,\n",
    "                        DM[DM.label==t2].groupby(iv)['{}_prob'.format(c2)].mean().values)).mean(0) ## control timecourse\n",
    "    \n",
    "    return target, foil, control\n",
    "     \n",
    "def flatten(x):\n",
    "    return [item for sublist in x for item in sublist]    "
   ]
  },
  {
   "cell_type": "code",
   "execution_count": null,
   "metadata": {
    "collapsed": true
   },
   "outputs": [],
   "source": [
    "## general plotting params\n",
    "sns.set_context('poster')\n",
    "colors = sns.color_palette(\"cubehelix\", 5)\n"
   ]
  },
  {
   "cell_type": "code",
   "execution_count": 373,
   "metadata": {
    "collapsed": true
   },
   "outputs": [],
   "source": [
    "## example subject, roi, and phase (localizer is default)\n",
    "this_sub = sub_list[0]\n",
    "this_roi = roi_list[2] ## order is: ['V1','V2','LOC','IT','fusiform','parahippo', 'PRC', 'ento','hipp','mOFC']\n",
    "this_phase = '12' ## options are '12', '34', '56'"
   ]
  },
  {
   "cell_type": "code",
   "execution_count": null,
   "metadata": {
    "collapsed": true
   },
   "outputs": [],
   "source": []
  },
  {
   "cell_type": "code",
   "execution_count": 441,
   "metadata": {},
   "outputs": [
    {
     "name": "stdout",
     "output_type": "stream",
     "text": [
      "V1\n",
      "V2\n",
      "LOC\n",
      "IT\n",
      "fusiform\n",
      "parahippo\n",
      "PRC\n",
      "ento\n",
      "hipp\n",
      "mOFC\n"
     ]
    }
   ],
   "source": [
    "ALLDM = []\n",
    "\n",
    "## loop through all subjects and rois\n",
    "Acc = []\n",
    "for this_roi in roi_list:\n",
    "    print this_roi\n",
    "    acc = []\n",
    "    for this_sub in sub_list:\n",
    "        ## load subject data in\n",
    "        RM12, RF12 = load_recog_data(this_sub,this_roi,'12')\n",
    "        RM34, RF34 = load_recog_data(this_sub,this_roi,'34')        \n",
    "        RM = pd.concat([RM12,RM34])\n",
    "        RF = np.vstack((RF12,RF34))        \n",
    "        DM, DF = load_draw_data(this_sub,this_roi)\n",
    "        assert RF.shape[1]==DF.shape[1] ## that number of voxels is identical\n",
    "\n",
    "        ## normalize voxels within task\n",
    "        normalize_on = 1\n",
    "        if normalize_on:\n",
    "            _RF = normalize(RF)\n",
    "            _DF = normalize(DF)\n",
    "        else:\n",
    "            _RF = RF\n",
    "            _DF = DF\n",
    "\n",
    "        # single train/test split\n",
    "        X_train = _RF\n",
    "        y_train = RM.label.values\n",
    "\n",
    "        ## subset timepoints?\n",
    "        inds = DM.time_point>0\n",
    "        _DF = _DF[inds,:]\n",
    "        DM = DM[DM.time_point>0]\n",
    "\n",
    "        X_test = _DF\n",
    "        y_test = DM.label.values\n",
    "        # clf = svm.SVC(kernel='linear', C=1).fit(X_train, y_train)\n",
    "        clf = linear_model.LogisticRegression(penalty='l2',C=1).fit(X_train, y_train)    \n",
    "\n",
    "        ## add prediction probabilities to metadata matrix\n",
    "        cats = clf.classes_\n",
    "        probs = clf.predict_proba(X_test)\n",
    "        DM['bed_prob'] = probs[:,0]\n",
    "        DM['bench_prob'] = probs[:,1]\n",
    "        DM['chair_prob'] = probs[:,2]\n",
    "        DM['table_prob'] = probs[:,3]\n",
    "        \n",
    "        DM['subj'] = np.repeat(this_sub,DM.shape[0])\n",
    "        DM['roi'] = np.repeat(this_roi,DM.shape[0])\n",
    "        \n",
    "        if len(ALLDM)==0:\n",
    "            ALLDM = DM\n",
    "        else:\n",
    "            ALLDM = pd.concat([ALLDM,DM],ignore_index=True)\n",
    "\n",
    "        ## plot probability timecourse\n",
    "        fig = plt.figure(figsize=(5,5))\n",
    "        iv = 'run_num'\n",
    "        t,f,c = get_prob_timecourse(iv,DM)\n",
    "        plt.plot(t,color=colors[0],label='target')\n",
    "        plt.plot(f,color=colors[1],label='foil')\n",
    "        plt.plot(c,color=colors[2],label='control')\n",
    "        plt.legend(bbox_to_anchor=(1.45, 1.01))\n",
    "        plt.ylim(0,1)\n",
    "        plt.xlabel(iv)\n",
    "        plt.ylabel('probability')\n",
    "        if not os.path.exists('./plots/subj'):\n",
    "            os.makedirs('./plots/subj')\n",
    "        plt.tight_layout()\n",
    "        plt.savefig('./plots/subj/{}_{}_prob_{}.pdf'.format(iv.split('_')[0],this_roi,this_sub))\n",
    "        plt.close(fig)\n",
    "\n",
    "        acc.append(clf.score(X_test, y_test))\n",
    "    Acc.append(acc)"
   ]
  },
  {
   "cell_type": "code",
   "execution_count": null,
   "metadata": {
    "collapsed": true
   },
   "outputs": [],
   "source": [
    "ALLDM = ALLDM.drop(['Unnamed: 0.1.1'],axis=1)"
   ]
  },
  {
   "cell_type": "code",
   "execution_count": 769,
   "metadata": {
    "collapsed": true
   },
   "outputs": [],
   "source": [
    "Acc = np.array(Acc)\n",
    "x = pd.DataFrame(Acc.transpose())\n",
    "x.columns = roi_list"
   ]
  },
  {
   "cell_type": "code",
   "execution_count": 771,
   "metadata": {},
   "outputs": [
    {
     "data": {
      "text/plain": [
       "(0, 0.35)"
      ]
     },
     "execution_count": 771,
     "metadata": {},
     "output_type": "execute_result"
    },
    {
     "data": {
      "image/png": "[encoded data removed]",
      "text/plain": [
       "<matplotlib.figure.Figure at 0x7f1ff370f1d0>"
      ]
     },
     "metadata": {},
     "output_type": "display_data"
    }
   ],
   "source": [
    "sns.set_context('talk')\n",
    "plt.figure(figsize=(11,4))\n",
    "sns.barplot(data=x,palette='husl',ci=95)\n",
    "plt.axhline(0.25,linestyle=':',color='k')\n",
    "plt.ylabel('accuracy')\n",
    "plt.title('test on drawing runs; train on recognition runs')\n",
    "plt.ylim(0,0.35)"
   ]
  },
  {
   "cell_type": "code",
   "execution_count": 773,
   "metadata": {
    "collapsed": true
   },
   "outputs": [],
   "source": [
    "ALLDM.to_csv('./logistic_timeseries_neural_vgg.csv') ## train recog, test drawing run"
   ]
  },
  {
   "cell_type": "code",
   "execution_count": 455,
   "metadata": {},
   "outputs": [
    {
     "data": {
      "text/html": [
       "<div>\n",
       "<style>\n",
       "    .dataframe thead tr:only-child th {\n",
       "        text-align: right;\n",
       "    }\n",
       "\n",
       "    .dataframe thead th {\n",
       "        text-align: left;\n",
       "    }\n",
       "\n",
       "    .dataframe tbody tr th {\n",
       "        vertical-align: top;\n",
       "    }\n",
       "</style>\n",
       "<table border=\"1\" class=\"dataframe\">\n",
       "  <thead>\n",
       "    <tr style=\"text-align: right;\">\n",
       "      <th></th>\n",
       "      <th>TR_num</th>\n",
       "      <th>bed_prob</th>\n",
       "      <th>bench_prob</th>\n",
       "      <th>chair_prob</th>\n",
       "      <th>label</th>\n",
       "      <th>roi</th>\n",
       "      <th>run_num</th>\n",
       "      <th>subj</th>\n",
       "      <th>table_prob</th>\n",
       "      <th>time_point</th>\n",
       "      <th>trial_num</th>\n",
       "    </tr>\n",
       "  </thead>\n",
       "  <tbody>\n",
       "    <tr>\n",
       "      <th>0</th>\n",
       "      <td>10</td>\n",
       "      <td>0.785917</td>\n",
       "      <td>0.013764</td>\n",
       "      <td>0.010464</td>\n",
       "      <td>bed</td>\n",
       "      <td>V1</td>\n",
       "      <td>1</td>\n",
       "      <td>0110171</td>\n",
       "      <td>0.189855</td>\n",
       "      <td>1</td>\n",
       "      <td>0</td>\n",
       "    </tr>\n",
       "    <tr>\n",
       "      <th>1</th>\n",
       "      <td>11</td>\n",
       "      <td>0.943448</td>\n",
       "      <td>0.012615</td>\n",
       "      <td>0.012706</td>\n",
       "      <td>bed</td>\n",
       "      <td>V1</td>\n",
       "      <td>1</td>\n",
       "      <td>0110171</td>\n",
       "      <td>0.031231</td>\n",
       "      <td>2</td>\n",
       "      <td>0</td>\n",
       "    </tr>\n",
       "    <tr>\n",
       "      <th>2</th>\n",
       "      <td>12</td>\n",
       "      <td>0.223766</td>\n",
       "      <td>0.118172</td>\n",
       "      <td>0.020711</td>\n",
       "      <td>bed</td>\n",
       "      <td>V1</td>\n",
       "      <td>1</td>\n",
       "      <td>0110171</td>\n",
       "      <td>0.637351</td>\n",
       "      <td>3</td>\n",
       "      <td>0</td>\n",
       "    </tr>\n",
       "    <tr>\n",
       "      <th>3</th>\n",
       "      <td>13</td>\n",
       "      <td>0.018425</td>\n",
       "      <td>0.429318</td>\n",
       "      <td>0.000032</td>\n",
       "      <td>bed</td>\n",
       "      <td>V1</td>\n",
       "      <td>1</td>\n",
       "      <td>0110171</td>\n",
       "      <td>0.552225</td>\n",
       "      <td>4</td>\n",
       "      <td>0</td>\n",
       "    </tr>\n",
       "    <tr>\n",
       "      <th>4</th>\n",
       "      <td>14</td>\n",
       "      <td>0.399308</td>\n",
       "      <td>0.000777</td>\n",
       "      <td>0.054215</td>\n",
       "      <td>bed</td>\n",
       "      <td>V1</td>\n",
       "      <td>1</td>\n",
       "      <td>0110171</td>\n",
       "      <td>0.545701</td>\n",
       "      <td>5</td>\n",
       "      <td>0</td>\n",
       "    </tr>\n",
       "  </tbody>\n",
       "</table>\n",
       "</div>"
      ],
      "text/plain": [
       "   TR_num  bed_prob  bench_prob  chair_prob label roi  run_num     subj  \\\n",
       "0      10  0.785917    0.013764    0.010464   bed  V1        1  0110171   \n",
       "1      11  0.943448    0.012615    0.012706   bed  V1        1  0110171   \n",
       "2      12  0.223766    0.118172    0.020711   bed  V1        1  0110171   \n",
       "3      13  0.018425    0.429318    0.000032   bed  V1        1  0110171   \n",
       "4      14  0.399308    0.000777    0.054215   bed  V1        1  0110171   \n",
       "\n",
       "   table_prob  time_point  trial_num  \n",
       "0    0.189855           1          0  \n",
       "1    0.031231           2          0  \n",
       "2    0.637351           3          0  \n",
       "3    0.552225           4          0  \n",
       "4    0.545701           5          0  "
      ]
     },
     "execution_count": 455,
     "metadata": {},
     "output_type": "execute_result"
    }
   ],
   "source": [
    "ALLDM.head()"
   ]
  },
  {
   "cell_type": "code",
   "execution_count": null,
   "metadata": {
    "collapsed": true
   },
   "outputs": [],
   "source": []
  },
  {
   "cell_type": "code",
   "execution_count": 645,
   "metadata": {
    "collapsed": true
   },
   "outputs": [],
   "source": [
    "sns.set_context('paper')\n",
    "this_roi = 'V1'\n",
    "subs = np.unique(ALLDM.subj.values)\n",
    "lookup = dict(zip(['trial_num','run_num','time_point'],['repetition','run','TR']))\n",
    "ivs = ['run_num','trial_num','time_point']\n",
    "this_iv = 'time_point'\n",
    "\n",
    "## do you want to render the CONDITION-wise plots -- trained vs. foil vs control\n",
    "## or the DIFFERENCE plots -- trained - foil vs foil - control?\n",
    "render_cond = 0\n",
    "\n",
    "for this_iv in ivs:\n",
    "    for this_roi in roi_list:\n",
    "\n",
    "        T = []\n",
    "        F = []\n",
    "        C = []\n",
    "        Sub = []\n",
    "        for sub in subs:\n",
    "            inds =(ALLDM['roi']==this_roi) & (ALLDM['subj']==sub) \n",
    "            t,f,c = get_prob_timecourse(this_iv,ALLDM[inds])\n",
    "            if len(T)==0:\n",
    "                T = t\n",
    "                F = f\n",
    "                C = c\n",
    "                DTF = t-f                \n",
    "                DTC = t-c\n",
    "                DFC = f-c\n",
    "            else:\n",
    "                T = np.hstack((T,t))\n",
    "                F = np.hstack((F,f))        \n",
    "                C = np.hstack((C,c)) \n",
    "                DTF = np.hstack((DTF,t-f))                \n",
    "                DTC = np.hstack((DTC,t-c))\n",
    "                DFC = np.hstack((DFC,f-c))\n",
    "            Sub.append([sub]*len(t))   \n",
    "          \n",
    "        if render_cond==1:\n",
    "            ## make longform version of dataframe to use in tsplot (by condition)            \n",
    "            Trial = np.tile(np.arange(len(t)),len(subs)*3)\n",
    "            Condition = np.repeat(['trained','foil','control'],len(T))\n",
    "            Sub = np.tile(np.array(flatten(Sub)),3)\n",
    "            Prob = np.hstack((T,F,C))\n",
    "            assert len(Trial)==len(Condition)\n",
    "            assert len(Sub)==len(Prob)\n",
    "            assert len(Condition)==len(Sub)\n",
    "            x = pd.DataFrame([Prob,Trial,Condition,Sub])\n",
    "            x = x.transpose()\n",
    "            x.columns = ['probability',lookup[this_iv],'condition','sub']\n",
    "            toop = 'condition'            \n",
    "        else:\n",
    "            ## make longform version of dataframe to use in tsplot (difference btw conditions)                    \n",
    "            Trial = np.tile(np.arange(len(t)),len(subs)*3)\n",
    "            Condition = np.repeat(['trained-foil','trained-control','foil-control'],len(T))\n",
    "            Sub = np.tile(np.array(flatten(Sub)),3)\n",
    "            Prob = np.hstack((DTF,DTC,DFC))        \n",
    "            assert len(Trial)==len(Condition)\n",
    "            assert len(Sub)==len(Prob)\n",
    "            assert len(Condition)==len(Sub)\n",
    "            x = pd.DataFrame([Prob,Trial,Condition,Sub])\n",
    "            x = x.transpose()\n",
    "            x.columns = ['probability',lookup[this_iv],'condition','sub']        \n",
    "            toop = 'difference'\n",
    "        fig = plt.figure(figsize=(8,4))\n",
    "        ## plot it\n",
    "        sns.tsplot(data=x,\n",
    "                  time=lookup[this_iv],\n",
    "                  unit='sub',\n",
    "                  condition='condition',\n",
    "                  value='probability',\n",
    "                  ci=95)\n",
    "        if render_cond==1:\n",
    "            plt.ylim(0,0.5)\n",
    "            plt.axhline(0.25,linestyle=':',color='k')  \n",
    "            plt.legend(bbox_to_anchor=(0.8, 1.01))  \n",
    "            plt.title('Classifier evidence by condition in {}'.format(this_roi))\n",
    "            \n",
    "        else:\n",
    "            plt.ylim(-0.3,0.3)\n",
    "            plt.axhline(0,linestyle=':',color='k')  \n",
    "            plt.legend(bbox_to_anchor=(0.7, 1.01))                        \n",
    "            plt.title('Difference in classifier evidence by condition in {}'.format(this_roi))        \n",
    "        plt.xticks(np.arange(np.max(x[lookup[this_iv]].values)+1))\n",
    "        if not os.path.exists('./plots/roi/{}/{}'.format(lookup[this_iv],toop)):\n",
    "            os.makedirs('./plots/roi/{}/{}'.format(lookup[this_iv],toop))\n",
    "        plt.tight_layout()        \n",
    "        plt.savefig('./plots/roi/{}/{}/prob_timecourse_{}_by_{}.pdf'.\\\n",
    "                    format(lookup[this_iv],toop,this_roi,lookup[this_iv]))\n",
    "        plt.close(fig)"
   ]
  },
  {
   "cell_type": "code",
   "execution_count": null,
   "metadata": {
    "collapsed": true
   },
   "outputs": [],
   "source": []
  },
  {
   "cell_type": "code",
   "execution_count": null,
   "metadata": {
    "collapsed": true
   },
   "outputs": [],
   "source": []
  },
  {
   "cell_type": "code",
   "execution_count": 661,
   "metadata": {
    "collapsed": true
   },
   "outputs": [],
   "source": [
    "## get subject-level index of contrast between objects during drawing\n",
    "sub_tf = []\n",
    "sub_tc = []\n",
    "sub_fc = []\n",
    "roi = []\n",
    "\n",
    "subs = np.unique(ALLDM.subj.values)\n",
    "ivs = ['time_point'] ## other optoins 'run_num','trial_num',\n",
    "\n",
    "## do you want to render the CONDITION-wise plots -- trained vs. foil vs control\n",
    "## or the DIFFERENCE plots -- trained - foil vs foil - control?\n",
    "render_cond = 0\n",
    "\n",
    "for this_iv in ivs:\n",
    "    for this_roi in roi_list:\n",
    "\n",
    "        T = []\n",
    "        F = []\n",
    "        C = []\n",
    "        Sub = []\n",
    "        for sub in subs:\n",
    "            inds =(ALLDM['roi']==this_roi) & (ALLDM['subj']==sub) \n",
    "            t,f,c = get_prob_timecourse(this_iv,ALLDM[inds])\n",
    "            if len(T)==0:\n",
    "                T = t\n",
    "                F = f\n",
    "                C = c\n",
    "                DTF = t-f                \n",
    "                DTC = t-c\n",
    "                DFC = f-c\n",
    "            else:\n",
    "                T = np.hstack((T,t))\n",
    "                F = np.hstack((F,f))        \n",
    "                C = np.hstack((C,c)) \n",
    "                DTF = np.hstack((DTF,t-f))                \n",
    "                DTC = np.hstack((DTC,t-c))\n",
    "                DFC = np.hstack((DFC,f-c))\n",
    "            Sub.append([sub]*len(t))   \n",
    "          \n",
    "        ## make longform version of dataframe to use in tsplot (difference btw conditions)                    \n",
    "        Trial = np.tile(np.arange(len(t)),len(subs)*3)\n",
    "        Condition = np.repeat(['trained-foil','trained-control','foil-control'],len(T))\n",
    "        Sub = np.tile(np.array(flatten(Sub)),3)\n",
    "        Prob = np.hstack((DTF,DTC,DFC))        \n",
    "        assert len(Trial)==len(Condition)\n",
    "        assert len(Sub)==len(Prob)\n",
    "        assert len(Condition)==len(Sub)\n",
    "        x = pd.DataFrame([Prob,Trial,Condition,Sub])\n",
    "        x = x.transpose()\n",
    "        x.columns = ['probability',lookup[this_iv],'condition','sub']\n",
    "        \n",
    "        for this_sub in subs:\n",
    "            sub_tf.append(x[(x['condition']=='trained-foil') & (x['sub']==this_sub)]['probability'].mean())\n",
    "            sub_tc.append(x[(x['condition']=='trained-control') & (x['sub']==this_sub)]['probability'].mean())  \n",
    "            sub_fc.append(x[(x['condition']=='foil-control') & (x['sub']==this_sub)]['probability'].mean()) \n",
    "            roi.append(this_roi)\n",
    "            \n",
    "## make dataframe with subject-level difference scores\n",
    "d = pd.DataFrame([sub_tf,sub_tc,sub_fc,roi])\n",
    "d = d.transpose()\n",
    "d.columns = ['trained-foil','trained-control','foil-control','roi']"
   ]
  },
  {
   "cell_type": "code",
   "execution_count": 683,
   "metadata": {
    "collapsed": true
   },
   "outputs": [],
   "source": []
  },
  {
   "cell_type": "code",
   "execution_count": 696,
   "metadata": {
    "collapsed": true
   },
   "outputs": [],
   "source": []
  },
  {
   "cell_type": "code",
   "execution_count": 703,
   "metadata": {},
   "outputs": [
    {
     "name": "stdout",
     "output_type": "stream",
     "text": [
      "ROI = V1 | t = 6.06284294265, p = 1.16981190933e-06\n",
      "ROI = V2 | t = 7.01811461948, p = 8.44558093155e-08\n",
      "ROI = LOC | t = 5.68683522619, p = 3.35542978998e-06\n",
      "ROI = IT | t = 0.267350750097, p = 0.79102855213\n",
      "ROI = fusiform | t = 3.11951408338, p = 0.00398133191828\n",
      "ROI = parahippo | t = 0.221886976194, p = 0.825905427007\n",
      "ROI = PRC | t = -0.567728475448, p = 0.574444014979\n",
      "ROI = ento | t = -1.20910238074, p = 0.236066694533\n",
      "ROI = hipp | t = -1.09984706193, p = 0.280146487235\n",
      "ROI = mOFC | t = -1.20973191311, p = 0.235828526502\n"
     ]
    }
   ],
   "source": [
    "for this_roi in roi_list:\n",
    "    data = d[d['roi']==this_roi]['trained-foil']\n",
    "    t,p = stats.ttest_1samp(data,0)\n",
    "    print 'ROI = {} | t = {}, p = {}'.format(this_roi,t,p)"
   ]
  },
  {
   "cell_type": "code",
   "execution_count": 704,
   "metadata": {},
   "outputs": [
    {
     "name": "stdout",
     "output_type": "stream",
     "text": [
      "ROI = V1 | t = 4.01166188947, p = 0.000369797686373\n",
      "ROI = V2 | t = 4.88954067068, p = 3.18194121883e-05\n",
      "ROI = LOC | t = 2.95824340698, p = 0.00598517443678\n",
      "ROI = IT | t = -0.293096003732, p = 0.771466671399\n",
      "ROI = fusiform | t = 0.88937032223, p = 0.380880502125\n",
      "ROI = parahippo | t = -0.372822616005, p = 0.711901698352\n",
      "ROI = PRC | t = -1.18012447434, p = 0.247223978943\n",
      "ROI = ento | t = -1.15776105692, p = 0.256096250404\n",
      "ROI = hipp | t = -0.836858971361, p = 0.409288897498\n",
      "ROI = mOFC | t = 0.295400877733, p = 0.769722581309\n"
     ]
    }
   ],
   "source": [
    "for this_roi in roi_list:\n",
    "    data = d[d['roi']==this_roi]['trained-control']\n",
    "    t,p = stats.ttest_1samp(data,0)\n",
    "    print 'ROI = {} | t = {}, p = {}'.format(this_roi,t,p)"
   ]
  },
  {
   "cell_type": "code",
   "execution_count": 705,
   "metadata": {},
   "outputs": [
    {
     "name": "stdout",
     "output_type": "stream",
     "text": [
      "ROI = V1 | t = -5.88359110942, p = 1.93128733938e-06\n",
      "ROI = V2 | t = -7.39322246814, p = 3.08502466511e-08\n",
      "ROI = LOC | t = -3.56844652222, p = 0.00123075380322\n",
      "ROI = IT | t = -0.546189209788, p = 0.588975136437\n",
      "ROI = fusiform | t = -2.38067131112, p = 0.0238320596525\n",
      "ROI = parahippo | t = -0.567486700699, p = 0.574606130959\n",
      "ROI = PRC | t = -0.403935403148, p = 0.689125335114\n",
      "ROI = ento | t = 0.0886136748636, p = 0.92997785654\n",
      "ROI = hipp | t = 0.0421122599135, p = 0.966688243612\n",
      "ROI = mOFC | t = 1.12702678992, p = 0.26866534705\n"
     ]
    }
   ],
   "source": [
    "for this_roi in roi_list:\n",
    "    data = d[d['roi']==this_roi]['foil-control']\n",
    "    t,p = stats.ttest_1samp(data,0)\n",
    "    print 'ROI = {} | t = {}, p = {}'.format(this_roi,t,p)"
   ]
  },
  {
   "cell_type": "code",
   "execution_count": 706,
   "metadata": {
    "collapsed": true
   },
   "outputs": [],
   "source": [
    "prepost = pd.read_csv('neural_changes_by_surfroi_and_subject.csv')"
   ]
  },
  {
   "cell_type": "code",
   "execution_count": null,
   "metadata": {
    "collapsed": true
   },
   "outputs": [],
   "source": []
  },
  {
   "cell_type": "code",
   "execution_count": 758,
   "metadata": {
    "collapsed": true
   },
   "outputs": [],
   "source": [
    "## make dataframe to relate drawing contrast to recognition differentiation\n",
    "roi_list = ['V1', 'V2', 'LOC', 'IT', 'fusiform', 'parahippo', 'PRC', 'ento','hipp', 'mOFC']\n",
    "this_roi = 'hipp'\n",
    "\n",
    "for this_roi in roi_list:\n",
    "    draw = d[d['roi']==this_roi]['trained-control'].values - d[d['roi']==this_roi]['foil-control'].values\n",
    "    recog = prepost['tradiff_{}'.format(this_roi)].values-prepost['condiff_{}'.format(this_roi)].values\n",
    "\n",
    "    z = pd.DataFrame([draw,recog])\n",
    "    z = z.transpose()\n",
    "    z.columns=['draw','recog']\n",
    "\n",
    "    ## plot \n",
    "    fig = plt.figure(figsize=(6,6))\n",
    "    sns.set_context('poster')\n",
    "    sns.regplot(x=\"draw\",\n",
    "                y =\"recog\",\n",
    "                data=z)\n",
    "    r,p = stats.pearsonr(draw,recog)\n",
    "    plt.title('ROI: {}  r={}  p={}'.format(this_roi,np.round(r,3),np.round(p,3)))\n",
    "    if not os.path.exists('./plots/roi/drawrecog'):\n",
    "        os.makedirs('./plots/roi/drawrecog')\n",
    "    plt.tight_layout()\n",
    "    plt.savefig('./plots/roi/drawrecog/draw_recog_scatter_{}.pdf'.format(this_roi))\n",
    "    plt.close(fig)    \n",
    "    "
   ]
  },
  {
   "cell_type": "code",
   "execution_count": null,
   "metadata": {
    "collapsed": true
   },
   "outputs": [],
   "source": []
  },
  {
   "cell_type": "code",
   "execution_count": null,
   "metadata": {
    "collapsed": true
   },
   "outputs": [],
   "source": []
  },
  {
   "cell_type": "markdown",
   "metadata": {},
   "source": [
    "### relate neural to vgg drawing time series"
   ]
  },
  {
   "cell_type": "code",
   "execution_count": 792,
   "metadata": {
    "collapsed": true
   },
   "outputs": [],
   "source": [
    "vgg_ts = pd.read_csv('./logistic_timeseries_drawing_vgg.csv')\n",
    "neural_ts = pd.read_csv('./logistic_timeseries_drawing_neural.csv')"
   ]
  },
  {
   "cell_type": "code",
   "execution_count": 793,
   "metadata": {
    "collapsed": true
   },
   "outputs": [],
   "source": [
    "vgg_ts = vgg_ts.drop(['Unnamed: 0','Unnamed: 0.1'],axis=1)\n",
    "vgg_ts.wID = [i.split('_')[0] for i in vgg_ts.wID.values]"
   ]
  },
  {
   "cell_type": "code",
   "execution_count": 794,
   "metadata": {},
   "outputs": [
    {
     "data": {
      "text/html": [
       "<div>\n",
       "<style>\n",
       "    .dataframe thead tr:only-child th {\n",
       "        text-align: right;\n",
       "    }\n",
       "\n",
       "    .dataframe thead th {\n",
       "        text-align: left;\n",
       "    }\n",
       "\n",
       "    .dataframe tbody tr th {\n",
       "        vertical-align: top;\n",
       "    }\n",
       "</style>\n",
       "<table border=\"1\" class=\"dataframe\">\n",
       "  <thead>\n",
       "    <tr style=\"text-align: right;\">\n",
       "      <th></th>\n",
       "      <th>index</th>\n",
       "      <th>wID</th>\n",
       "      <th>viewpoint</th>\n",
       "      <th>trial</th>\n",
       "      <th>trialDuration</th>\n",
       "      <th>target</th>\n",
       "      <th>competitor</th>\n",
       "      <th>numSketch</th>\n",
       "      <th>bed</th>\n",
       "      <th>bench</th>\n",
       "      <th>chair</th>\n",
       "      <th>table</th>\n",
       "      <th>curr_winner</th>\n",
       "      <th>tc_pair</th>\n",
       "      <th>trialID</th>\n",
       "      <th>run</th>\n",
       "      <th>target_val</th>\n",
       "      <th>competitor_val</th>\n",
       "      <th>control_val</th>\n",
       "    </tr>\n",
       "  </thead>\n",
       "  <tbody>\n",
       "    <tr>\n",
       "      <th>0</th>\n",
       "      <td>0</td>\n",
       "      <td>0119174</td>\n",
       "      <td>20</td>\n",
       "      <td>320</td>\n",
       "      <td>39.00144</td>\n",
       "      <td>bench</td>\n",
       "      <td>chair</td>\n",
       "      <td>0</td>\n",
       "      <td>0.026822</td>\n",
       "      <td>0.055895</td>\n",
       "      <td>0.916243</td>\n",
       "      <td>0.001040</td>\n",
       "      <td>chair</td>\n",
       "      <td>bench/chair</td>\n",
       "      <td>0119174_neurosketch_320</td>\n",
       "      <td>1.0</td>\n",
       "      <td>0.055895</td>\n",
       "      <td>0.916243</td>\n",
       "      <td>0.013931</td>\n",
       "    </tr>\n",
       "    <tr>\n",
       "      <th>1</th>\n",
       "      <td>0</td>\n",
       "      <td>0119174</td>\n",
       "      <td>20</td>\n",
       "      <td>320</td>\n",
       "      <td>39.00144</td>\n",
       "      <td>bench</td>\n",
       "      <td>chair</td>\n",
       "      <td>1</td>\n",
       "      <td>0.934225</td>\n",
       "      <td>0.026225</td>\n",
       "      <td>0.039085</td>\n",
       "      <td>0.000465</td>\n",
       "      <td>bed</td>\n",
       "      <td>bench/chair</td>\n",
       "      <td>0119174_neurosketch_320</td>\n",
       "      <td>1.0</td>\n",
       "      <td>0.026225</td>\n",
       "      <td>0.039085</td>\n",
       "      <td>0.467345</td>\n",
       "    </tr>\n",
       "    <tr>\n",
       "      <th>2</th>\n",
       "      <td>0</td>\n",
       "      <td>0119174</td>\n",
       "      <td>20</td>\n",
       "      <td>320</td>\n",
       "      <td>39.00144</td>\n",
       "      <td>bench</td>\n",
       "      <td>chair</td>\n",
       "      <td>2</td>\n",
       "      <td>0.006035</td>\n",
       "      <td>0.970770</td>\n",
       "      <td>0.002714</td>\n",
       "      <td>0.020481</td>\n",
       "      <td>bench</td>\n",
       "      <td>bench/chair</td>\n",
       "      <td>0119174_neurosketch_320</td>\n",
       "      <td>1.0</td>\n",
       "      <td>0.970770</td>\n",
       "      <td>0.002714</td>\n",
       "      <td>0.013258</td>\n",
       "    </tr>\n",
       "    <tr>\n",
       "      <th>3</th>\n",
       "      <td>0</td>\n",
       "      <td>0119174</td>\n",
       "      <td>20</td>\n",
       "      <td>320</td>\n",
       "      <td>39.00144</td>\n",
       "      <td>bench</td>\n",
       "      <td>chair</td>\n",
       "      <td>3</td>\n",
       "      <td>0.009842</td>\n",
       "      <td>0.978927</td>\n",
       "      <td>0.003784</td>\n",
       "      <td>0.007447</td>\n",
       "      <td>bench</td>\n",
       "      <td>bench/chair</td>\n",
       "      <td>0119174_neurosketch_320</td>\n",
       "      <td>1.0</td>\n",
       "      <td>0.978927</td>\n",
       "      <td>0.003784</td>\n",
       "      <td>0.008644</td>\n",
       "    </tr>\n",
       "    <tr>\n",
       "      <th>4</th>\n",
       "      <td>0</td>\n",
       "      <td>0119174</td>\n",
       "      <td>20</td>\n",
       "      <td>320</td>\n",
       "      <td>39.00144</td>\n",
       "      <td>bench</td>\n",
       "      <td>chair</td>\n",
       "      <td>4</td>\n",
       "      <td>0.019298</td>\n",
       "      <td>0.967674</td>\n",
       "      <td>0.001463</td>\n",
       "      <td>0.011564</td>\n",
       "      <td>bench</td>\n",
       "      <td>bench/chair</td>\n",
       "      <td>0119174_neurosketch_320</td>\n",
       "      <td>1.0</td>\n",
       "      <td>0.967674</td>\n",
       "      <td>0.001463</td>\n",
       "      <td>0.015431</td>\n",
       "    </tr>\n",
       "  </tbody>\n",
       "</table>\n",
       "</div>"
      ],
      "text/plain": [
       "   index      wID  viewpoint  trial  trialDuration target competitor  \\\n",
       "0      0  0119174         20    320       39.00144  bench      chair   \n",
       "1      0  0119174         20    320       39.00144  bench      chair   \n",
       "2      0  0119174         20    320       39.00144  bench      chair   \n",
       "3      0  0119174         20    320       39.00144  bench      chair   \n",
       "4      0  0119174         20    320       39.00144  bench      chair   \n",
       "\n",
       "   numSketch       bed     bench     chair     table curr_winner      tc_pair  \\\n",
       "0          0  0.026822  0.055895  0.916243  0.001040       chair  bench/chair   \n",
       "1          1  0.934225  0.026225  0.039085  0.000465         bed  bench/chair   \n",
       "2          2  0.006035  0.970770  0.002714  0.020481       bench  bench/chair   \n",
       "3          3  0.009842  0.978927  0.003784  0.007447       bench  bench/chair   \n",
       "4          4  0.019298  0.967674  0.001463  0.011564       bench  bench/chair   \n",
       "\n",
       "                   trialID  run  target_val  competitor_val  control_val  \n",
       "0  0119174_neurosketch_320  1.0    0.055895        0.916243     0.013931  \n",
       "1  0119174_neurosketch_320  1.0    0.026225        0.039085     0.467345  \n",
       "2  0119174_neurosketch_320  1.0    0.970770        0.002714     0.013258  \n",
       "3  0119174_neurosketch_320  1.0    0.978927        0.003784     0.008644  \n",
       "4  0119174_neurosketch_320  1.0    0.967674        0.001463     0.015431  "
      ]
     },
     "execution_count": 794,
     "metadata": {},
     "output_type": "execute_result"
    }
   ],
   "source": [
    "vgg_ts.head()"
   ]
  },
  {
   "cell_type": "code",
   "execution_count": 800,
   "metadata": {},
   "outputs": [
    {
     "data": {
      "text/plain": [
       "[<matplotlib.lines.Line2D at 0x7f2000489150>]"
      ]
     },
     "execution_count": 800,
     "metadata": {},
     "output_type": "execute_result"
    },
    {
     "data": {
      "image/png": "[encoded data removed]",
      "text/plain": [
       "<matplotlib.figure.Figure at 0x7f1ff3e34f10>"
      ]
     },
     "metadata": {},
     "output_type": "display_data"
    }
   ],
   "source": [
    "plt.plot(vgg_ts.groupby('numSketch')['target_val'].mean())\n",
    "plt.plot(vgg_ts.groupby('numSketch')['competitor_val'].mean(),color='green')\n",
    "plt.plot(vgg_ts.groupby('numSketch')['control_val'].mean(),color='black')"
   ]
  },
  {
   "cell_type": "code",
   "execution_count": null,
   "metadata": {
    "collapsed": true
   },
   "outputs": [],
   "source": [
    "## plotting helper\n",
    "def get_vgg_timecourse(iv,DM):\n",
    "    trained_objs = np.unique(DM.target.values)\n",
    "    control_objs = [i for i in ['bed','bench','chair','table'] if i not in trained_objs]\n",
    "    t1 = trained_objs[0]\n",
    "    t2 = trained_objs[1]\n",
    "    c1 = control_objs[0]\n",
    "    c2 = control_objs[1]\n",
    "    target = np.vstack((DM[DM.label==t1].groupby(iv)['{}_prob'.format(t1)].mean().values,\n",
    "                   DM[DM.label==t2].groupby(iv)['{}_prob'.format(t2)].mean().values)).mean(0) ## target timecourse\n",
    "    foil = np.vstack((DM[DM.label==t1].groupby(iv)['{}_prob'.format(t2)].mean().values,\n",
    "                   DM[DM.label==t2].groupby(iv)['{}_prob'.format(t1)].mean().values)).mean(0) ## foil timecourse\n",
    "    control = np.vstack((DM[DM.label==t1].groupby(iv)['{}_prob'.format(c1)].mean().values,\n",
    "                        DM[DM.label==t1].groupby(iv)['{}_prob'.format(c2)].mean().values,\n",
    "                        DM[DM.label==t2].groupby(iv)['{}_prob'.format(c1)].mean().values,\n",
    "                        DM[DM.label==t2].groupby(iv)['{}_prob'.format(c2)].mean().values)).mean(0) ## control timecourse\n",
    "    \n",
    "    return target, foil, control"
   ]
  },
  {
   "cell_type": "code",
   "execution_count": 787,
   "metadata": {
    "collapsed": true
   },
   "outputs": [],
   "source": [
    "T = []\n",
    "F = []\n",
    "C = []\n",
    "Sub = []\n",
    "for sub in subs:\n",
    "    inds =(vgg_ts['wID']==sub) \n",
    "    t,f,c = get_prob_timecourse(this_iv,vgg_ts[inds])\n",
    "    \n",
    "    \n",
    "    if len(T)==0:\n",
    "        T = t\n",
    "        F = f\n",
    "        C = c\n",
    "        DTF = t-f                \n",
    "        DTC = t-c\n",
    "        DFC = f-c\n",
    "    else:\n",
    "        T = np.hstack((T,t))\n",
    "        F = np.hstack((F,f))        \n",
    "        C = np.hstack((C,c)) \n",
    "        DTF = np.hstack((DTF,t-f))                \n",
    "        DTC = np.hstack((DTC,t-c))\n",
    "        DFC = np.hstack((DFC,f-c))\n",
    "    Sub.append([sub]*len(t))   \n",
    "\n",
    "## make longform version of dataframe to use in tsplot (difference btw conditions)                    \n",
    "Trial = np.tile(np.arange(len(t)),len(subs)*3)\n",
    "Condition = np.repeat(['trained-foil','trained-control','foil-control'],len(T))\n",
    "Sub = np.tile(np.array(flatten(Sub)),3)\n",
    "Prob = np.hstack((DTF,DTC,DFC))        \n",
    "assert len(Trial)==len(Condition)\n",
    "assert len(Sub)==len(Prob)\n",
    "assert len(Condition)==len(Sub)\n",
    "x = pd.DataFrame([Prob,Trial,Condition,Sub])\n",
    "x = x.transpose()\n",
    "x.columns = ['probability',lookup[this_iv],'condition','sub']"
   ]
  },
  {
   "cell_type": "code",
   "execution_count": 791,
   "metadata": {
    "collapsed": true
   },
   "outputs": [],
   "source": []
  },
  {
   "cell_type": "code",
   "execution_count": null,
   "metadata": {
    "collapsed": true
   },
   "outputs": [],
   "source": []
  },
  {
   "cell_type": "code",
   "execution_count": 788,
   "metadata": {},
   "outputs": [
    {
     "data": {
      "text/plain": [
       "array(['0110171', '0110172', '0111171', '0112171', '0112172', '0112173',\n",
       "       '0113171', '0115174', '0117171', '0118171', '0118172', '0119171',\n",
       "       '0119172', '0119173', '0119174', '0120171', '0120172', '0120173',\n",
       "       '0123171', '0123173', '0124171', '0125171', '0125172', '1121161',\n",
       "       '1130161', '1202161', '1203161', '1206161', '1206162', '1206163',\n",
       "       '1207162'], dtype=object)"
      ]
     },
     "execution_count": 788,
     "metadata": {},
     "output_type": "execute_result"
    }
   ],
   "source": []
  },
  {
   "cell_type": "code",
   "execution_count": null,
   "metadata": {
    "collapsed": true
   },
   "outputs": [],
   "source": []
  }
 ],
 "metadata": {
  "kernelspec": {
   "display_name": "Python 2",
   "language": "python",
   "name": "python2"
  },
  "language_info": {
   "codemirror_mode": {
    "name": "ipython",
    "version": 2
   },
   "file_extension": ".py",
   "mimetype": "text/x-python",
   "name": "python",
   "nbconvert_exporter": "python",
   "pygments_lexer": "ipython2",
   "version": "2.7.12"
  }
 },
 "nbformat": 4,
 "nbformat_minor": 2
}
