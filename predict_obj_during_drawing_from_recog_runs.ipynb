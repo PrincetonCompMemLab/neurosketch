{
 "cells": [
  {
   "cell_type": "code",
   "execution_count": 1,
   "metadata": {
    "collapsed": true
   },
   "outputs": [],
   "source": [
    "from __future__ import division\n",
    "\n",
    "import numpy as np\n",
    "import os\n",
    "from glob import glob\n",
    "\n",
    "from PIL import Image\n",
    "from copy import deepcopy\n",
    "\n",
    "from sklearn import linear_model, datasets, neighbors\n",
    "from sklearn.model_selection import train_test_split, cross_val_score\n",
    "from sklearn import svm\n",
    "\n",
    "%matplotlib inline\n",
    "from scipy.misc import imread, imresize\n",
    "import matplotlib.pyplot as plt\n",
    "import matplotlib.image as mpimg\n",
    "import seaborn as sns\n",
    "\n",
    "import pandas as pd\n",
    "\n",
    "import scipy.stats as stats\n",
    "from scipy.stats import norm\n",
    "import sklearn"
   ]
  },
  {
   "cell_type": "code",
   "execution_count": 2,
   "metadata": {
    "collapsed": true
   },
   "outputs": [],
   "source": [
    "## define path to input datasets (tidy format) (see analysis_helpers.py) for definitions\n",
    "path_to_recog = '/home/jefan/neurosketch/neurosketch_voxelmat_freesurfer_recog'\n",
    "path_to_draw = '/home/jefan/neurosketch/neurosketch_voxelmat_freesurfer_drawing'\n",
    "roi_list = np.array(['V1','V2','LOC','IT','fusiform','parahippo', 'PRC', 'ento','hipp','mOFC'])"
   ]
  },
  {
   "cell_type": "code",
   "execution_count": 3,
   "metadata": {
    "collapsed": true
   },
   "outputs": [],
   "source": [
    "## get raw file list for recognition runs\n",
    "RECOG_METAS = sorted([i for i in os.listdir(path_to_recog) if i.split('.')[-1]=='csv'])\n",
    "RECOG_FEATS = sorted([i for i in os.listdir(path_to_recog) if i.split('.')[-1]=='npy'])\n",
    "RECOG_SUBS = np.array([i.split('_')[0] for i in RECOG_FEATS])\n",
    "\n",
    "recog_sub_list = np.unique(RECOG_SUBS)\n",
    "\n",
    "def preprocess_recog(RECOG_METAS, RECOG_FEATS):\n",
    "    M = [i for i in RECOG_METAS if len(i.split('.')[0].split('_'))==4]\n",
    "    F = [i for i in RECOG_FEATS if len(i.split('.')[0].split('_'))==4]\n",
    "    return M,F\n",
    "\n",
    "RECOG_METAS, RECOG_FEATS = preprocess_recog(RECOG_METAS, RECOG_FEATS)"
   ]
  },
  {
   "cell_type": "code",
   "execution_count": 4,
   "metadata": {
    "collapsed": true
   },
   "outputs": [],
   "source": [
    "## get raw file list for drawing runs\n",
    "DRAW_METAS = sorted([i for i in os.listdir(path_to_draw) if i.split('.')[-1]=='csv'])\n",
    "DRAW_FEATS = sorted([i for i in os.listdir(path_to_draw) if i.split('.')[-1]=='npy'])\n",
    "DRAW_SUBS = np.array([i.split('_')[0] for i in DRAW_FEATS])\n",
    "draw_sub_list = np.unique(DRAW_SUBS)"
   ]
  },
  {
   "cell_type": "code",
   "execution_count": 5,
   "metadata": {},
   "outputs": [
    {
     "name": "stdout",
     "output_type": "stream",
     "text": [
      "Number of subs: 31\n"
     ]
    }
   ],
   "source": [
    "## get subject ID's that have complete datasets from all phases of experiment\n",
    "sub_list = np.intersect1d(recog_sub_list,draw_sub_list)\n",
    "print 'Number of subs: {}'.format(len(sub_list))"
   ]
  },
  {
   "cell_type": "code",
   "execution_count": 6,
   "metadata": {
    "collapsed": true
   },
   "outputs": [],
   "source": [
    "## filter file list so only contains the sessions that have full datasets\n",
    "def extract_good_sessions(DRAW_METAS,DRAW_FEATS,RECOG_METAS,RECOG_FEATS):\n",
    "    _DRAW_METAS = [i for i in DRAW_METAS if i.split('_')[1] in sub_list]\n",
    "    _DRAW_FEATS = [i for i in DRAW_FEATS if i.split('_')[0] in sub_list]\n",
    "    _RECOG_METAS = [i for i in RECOG_METAS if i.split('_')[1] in sub_list]\n",
    "    _RECOG_FEATS = [i for i in RECOG_FEATS if i.split('_')[0] in sub_list]\n",
    "    return _DRAW_METAS, _DRAW_FEATS, _RECOG_METAS, _RECOG_FEATS\n",
    "\n",
    "DRAW_METAS,DRAW_FEATS,RECOG_METAS,RECOG_FEATS =  \\\n",
    "extract_good_sessions(DRAW_METAS,DRAW_FEATS,RECOG_METAS,RECOG_FEATS)\n",
    "\n",
    "RECOG_SUBS = np.array([i.split('_')[0]+'_neurosketch' for i in RECOG_FEATS])\n",
    "RECOG_ROIS = np.array([i.split('_')[1] for i in RECOG_FEATS])\n",
    "\n",
    "DRAW_SUBS = np.array([i.split('_')[0]+'_neurosketch' for i in DRAW_FEATS])\n",
    "DRAW_ROIS = np.array([i.split('_')[1] for i in DRAW_FEATS])"
   ]
  },
  {
   "cell_type": "markdown",
   "metadata": {},
   "source": [
    "### How well do we do at classifying the target when we train on recognition patterns only?"
   ]
  },
  {
   "cell_type": "code",
   "execution_count": 209,
   "metadata": {
    "collapsed": true
   },
   "outputs": [],
   "source": [
    "#### Helper data loader functions\n",
    "def cleanup_df(df):    \n",
    "    surplus = [i for i in df.columns if 'Unnamed' in i]\n",
    "    df = df.drop(surplus,axis=1)\n",
    "    return df\n",
    "\n",
    "def load_draw_meta(this_sub):\n",
    "    this_file = 'metadata_{}_drawing.csv'.format(this_sub)\n",
    "    x = pd.read_csv(os.path.join(path_to_draw,this_file))\n",
    "    x = cleanup_df(x)\n",
    "    x['trial_num'] = np.repeat(np.arange(40),23)        \n",
    "    return x\n",
    "    \n",
    "def load_draw_feats(this_sub,this_roi):\n",
    "    this_file = '{}_{}_featurematrix.npy'.format(this_sub,this_roi)\n",
    "    y = np.load(os.path.join(path_to_draw,this_file))\n",
    "    y = y.transpose()\n",
    "    return y\n",
    "\n",
    "def load_draw_data(this_sub,this_roi):\n",
    "    x = load_draw_meta(this_sub)\n",
    "    y = load_draw_feats(this_sub,this_roi)\n",
    "    assert y.shape[0] == x.shape[0]    \n",
    "    return x,y\n",
    "\n",
    "def load_recog_meta(this_sub,this_roi,this_phase):\n",
    "    this_file = 'metadata_{}_{}_{}.csv'.format(this_sub,this_roi,this_phase)\n",
    "    x = pd.read_csv(os.path.join(path_to_recog,this_file))\n",
    "    x = cleanup_df(x)\n",
    "    return x\n",
    "    \n",
    "def load_recog_feats(this_sub,this_roi,this_phase):\n",
    "    this_file = '{}_{}_{}_featurematrix.npy'.format(this_sub,this_roi,this_phase)\n",
    "    y = np.load(os.path.join(path_to_recog,this_file))\n",
    "    y = y.transpose()\n",
    "    return y    \n",
    "\n",
    "def load_recog_data(this_sub,this_roi,this_phase):\n",
    "    x = load_recog_meta(this_sub,this_roi,this_phase)\n",
    "    y = load_recog_feats(this_sub,this_roi,this_phase)\n",
    "    assert y.shape[0] == x.shape[0]    \n",
    "    return x,y\n",
    "\n",
    "# z-score normalization to de-mean & standardize variances within-voxel \n",
    "def normalize(X):\n",
    "    X = X - X.mean(0)\n",
    "    X = X / np.maximum(X.std(0), 1e-5)\n",
    "    return X\n",
    "\n",
    "def bootstrapCI(x,nIter):\n",
    "    '''\n",
    "    input: x is an array\n",
    "    '''\n",
    "    u = []\n",
    "    for i in np.arange(nIter):\n",
    "        inds = np.random.RandomState(i).choice(len(x),len(x))\n",
    "        boot = x[inds]\n",
    "        u.append(np.mean(boot))\n",
    "        \n",
    "    p1 = len([i for i in u if i<0])/len(u) * 2\n",
    "    p2 = len([i for i in u if i>0])/len(u) * 2\n",
    "    p = np.min([p1,p2])\n",
    "    U = np.mean(u)\n",
    "    lb = np.percentile(u,2.5)\n",
    "    ub = np.percentile(u,97.5)    \n",
    "    return U,lb,ub,p\n",
    "\n",
    "## plotting helper\n",
    "def get_prob_timecourse(iv,DM,version='4way'):\n",
    "    trained_objs = np.unique(DM.label.values)\n",
    "    control_objs = [i for i in ['bed','bench','chair','table'] if i not in trained_objs]    \n",
    "    \n",
    "    if version=='4way':\n",
    "        t1 = trained_objs[0]\n",
    "        t2 = trained_objs[1]\n",
    "        c1 = control_objs[0]\n",
    "        c2 = control_objs[1]\n",
    "        target = np.vstack((DM[DM.label==t1].groupby(iv)['t1_prob'].mean().values,\n",
    "                       DM[DM.label==t2].groupby(iv)['t2_prob'].mean().values)).mean(0) ## target timecourse\n",
    "        foil = np.vstack((DM[DM.label==t1].groupby(iv)['t2_prob'].mean().values,\n",
    "                       DM[DM.label==t2].groupby(iv)['t1_prob'].mean().values)).mean(0) ## foil timecourse\n",
    "        control = np.vstack((DM[DM.label==t1].groupby(iv)['c1_prob'].mean().values,\n",
    "                            DM[DM.label==t1].groupby(iv)['c2_prob'].mean().values,\n",
    "                            DM[DM.label==t2].groupby(iv)['c1_prob'].mean().values,\n",
    "                            DM[DM.label==t2].groupby(iv)['c2_prob'].mean().values)).mean(0) ## control timecourse    \n",
    "    elif version=='3way':\n",
    "        t1 = trained_objs[0]\n",
    "        t2 = trained_objs[1]\n",
    "        target = np.vstack((DM[DM.label==t1].groupby(iv)['t1_prob'].mean().values,\n",
    "                       DM[DM.label==t2].groupby(iv)['t2_prob'].mean().values)).mean(0) ## target timecourse; mean is taken over what?\n",
    "        foil = np.vstack((DM[DM.label==t1].groupby(iv)['t2_prob'].mean().values,\n",
    "                       DM[DM.label==t2].groupby(iv)['t1_prob'].mean().values)).mean(0) ## foil timecourse\n",
    "        control = np.vstack((DM[DM.label==t1].groupby(iv)['c_prob'].mean().values,\n",
    "                            DM[DM.label==t2].groupby(iv)['c_prob'].mean().values)).mean(0) ## control timecourse\n",
    "        \n",
    "    elif version=='2way':\n",
    "        t1 = trained_objs[0]\n",
    "        t2 = trained_objs[1]\n",
    "        target = np.vstack((DM[DM.label==t1].groupby(iv)['t1_prob'].mean().values,\n",
    "                       DM[DM.label==t2].groupby(iv)['t2_prob'].mean().values)).mean(0) ## target timecourse; mean is taken over what?\n",
    "        foil = np.vstack((DM[DM.label==t1].groupby(iv)['t2_prob'].mean().values,\n",
    "                       DM[DM.label==t2].groupby(iv)['t1_prob'].mean().values)).mean(0) ## foil timecourse\n",
    "        \n",
    "        control = np.zeros(len(foil))        \n",
    "        \n",
    "    return target, foil, control\n",
    "\n",
    "## plotting helper\n",
    "def get_prob_timecourse_alt(iv,DM):\n",
    "    trained_objs = np.unique(DM.label.values)\n",
    "    control_objs = [i for i in ['bed','bench','chair','table'] if i not in trained_objs]\n",
    "    t1 = trained_objs[0]\n",
    "    t2 = trained_objs[1]\n",
    "    c1 = control_objs[0]\n",
    "    c2 = control_objs[1]\n",
    "    target = np.vstack((DM[DM.label==t1].groupby(iv)['{}_prob'.format(t1)].mean().values,\n",
    "                   DM[DM.label==t2].groupby(iv)['{}_prob'.format(t2)].mean().values)).mean(0) ## target timecourse\n",
    "    foil = np.vstack((DM[DM.label==t1].groupby(iv)['{}_prob'.format(t2)].mean().values,\n",
    "                   DM[DM.label==t2].groupby(iv)['{}_prob'.format(t1)].mean().values)).mean(0) ## foil timecourse\n",
    "    control = np.vstack((DM[DM.label==t1].groupby(iv)['{}_prob'.format(c1)].mean().values,\n",
    "                        DM[DM.label==t1].groupby(iv)['{}_prob'.format(c2)].mean().values,\n",
    "                        DM[DM.label==t2].groupby(iv)['{}_prob'.format(c1)].mean().values,\n",
    "                        DM[DM.label==t2].groupby(iv)['{}_prob'.format(c2)].mean().values)).mean(0) ## control timecourse    \n",
    "    return target, foil, control\n",
    "     \n",
    "def flatten(x):\n",
    "    return [item for sublist in x for item in sublist] \n",
    "\n"
   ]
  },
  {
   "cell_type": "code",
   "execution_count": 8,
   "metadata": {
    "collapsed": true
   },
   "outputs": [],
   "source": [
    "## general plotting params\n",
    "sns.set_context('poster')\n",
    "colors = sns.color_palette(\"cubehelix\", 5)"
   ]
  },
  {
   "cell_type": "code",
   "execution_count": 9,
   "metadata": {
    "collapsed": true
   },
   "outputs": [],
   "source": [
    "## example subject, roi, and phase (localizer is default)\n",
    "this_sub = sub_list[0]\n",
    "this_roi = roi_list[2] ## order is: ['V1','V2','LOC','IT','fusiform','parahippo', 'PRC', 'ento','hipp','mOFC']\n",
    "this_phase = '12' ## options are '12', '34', '56'"
   ]
  },
  {
   "cell_type": "code",
   "execution_count": null,
   "metadata": {
    "collapsed": true
   },
   "outputs": [],
   "source": []
  },
  {
   "cell_type": "code",
   "execution_count": null,
   "metadata": {},
   "outputs": [],
   "source": []
  },
  {
   "cell_type": "code",
   "execution_count": null,
   "metadata": {},
   "outputs": [],
   "source": []
  },
  {
   "cell_type": "code",
   "execution_count": null,
   "metadata": {},
   "outputs": [],
   "source": []
  },
  {
   "cell_type": "code",
   "execution_count": null,
   "metadata": {
    "collapsed": true
   },
   "outputs": [],
   "source": []
  },
  {
   "cell_type": "code",
   "execution_count": null,
   "metadata": {
    "collapsed": true
   },
   "outputs": [],
   "source": []
  },
  {
   "cell_type": "markdown",
   "metadata": {},
   "source": [
    "### generate ALLDM supersubject matrix with classifier probabilities"
   ]
  },
  {
   "cell_type": "code",
   "execution_count": 205,
   "metadata": {},
   "outputs": [],
   "source": [
    "import analysis_helpers\n",
    "reload(analysis_helpers)\n",
    "logged = [True,False]\n",
    "versions = ['4way','3way','2way']\n",
    "\n",
    "really_run = 0\n",
    "if really_run:\n",
    "    for l in logged:\n",
    "        if l==True:\n",
    "            tag = 'logged'\n",
    "        elif l==False:\n",
    "            tag = 'raw'\n",
    "        for version in versions:\n",
    "            roi_list_short = roi_list\n",
    "            sub_list_short = sub_list\n",
    "            ALLDM, Acc = analysis_helpers.make_drawing_predictions(sub_list_short,roi_list_short,version=version,logged=l)\n",
    "            ALLDM.to_csv('./logistic_timeseries_drawing_neural_{}_{}.csv'.format(version,tag)) ## train recog, test drawing run    "
   ]
  },
  {
   "cell_type": "code",
   "execution_count": null,
   "metadata": {},
   "outputs": [],
   "source": []
  },
  {
   "cell_type": "code",
   "execution_count": 202,
   "metadata": {
    "collapsed": true
   },
   "outputs": [],
   "source": [
    "Acc = np.array(Acc)\n",
    "x = pd.DataFrame(Acc.transpose())\n",
    "x.columns = roi_list_short"
   ]
  },
  {
   "cell_type": "code",
   "execution_count": 203,
   "metadata": {},
   "outputs": [
    {
     "data": {
      "text/plain": [
       "<matplotlib.text.Text at 0x7f3363223d90>"
      ]
     },
     "execution_count": 203,
     "metadata": {},
     "output_type": "execute_result"
    },
    {
     "data": {
      "image/png": "[encoded data removed]",
      "text/plain": [
       "<matplotlib.figure.Figure at 0x7f3362f65f90>"
      ]
     },
     "metadata": {},
     "output_type": "display_data"
    }
   ],
   "source": [
    "sns.set_context('talk')\n",
    "plt.figure(figsize=(11,4))\n",
    "sns.barplot(data=x,palette='husl',ci=95)\n",
    "chance_dict = {'4way':0.25,'3way':0.33,'2way':0.5}\n",
    "plt.axhline(chance_dict[version],linestyle=':',color='k')\n",
    "plt.ylabel('accuracy')\n",
    "plt.title('test on drawing runs; train on recognition runs')\n",
    "# plt.ylim(0,0.35)"
   ]
  },
  {
   "cell_type": "markdown",
   "metadata": {},
   "source": [
    "#### make summary timecourse plots\n"
   ]
  },
  {
   "cell_type": "code",
   "execution_count": 206,
   "metadata": {
    "collapsed": true
   },
   "outputs": [],
   "source": [
    "version = '4way'\n",
    "tag = 'raw'\n",
    "ALLDM = pd.read_csv('./logistic_timeseries_drawing_neural_{}_{}.csv'.format(version,tag))"
   ]
  },
  {
   "cell_type": "code",
   "execution_count": 166,
   "metadata": {
    "collapsed": true
   },
   "outputs": [],
   "source": [
    "run_this = 0\n",
    "\n",
    "if run_this:\n",
    "    sns.set_context('paper')\n",
    "    subs = np.unique(ALLDM.subj.values)\n",
    "    lookup = dict(zip(['trial_num','run_num','time_point'],['repetition','run','TR']))\n",
    "    ivs = ['run_num','trial_num','time_point']\n",
    "    this_iv = 'time_point'\n",
    "\n",
    "    ## do you want to render the CONDITION-wise plots -- trained vs. foil vs control\n",
    "    ## or the DIFFERENCE plots -- trained - foil vs foil - control?\n",
    "    render_cond = 1\n",
    "\n",
    "    for this_iv in ivs:\n",
    "        for this_roi in roi_list:\n",
    "\n",
    "            T = []\n",
    "            F = []\n",
    "            C = []\n",
    "            Sub = []\n",
    "            for sub in subs:\n",
    "                inds =(ALLDM['roi']==this_roi) & (ALLDM['subj']==sub) \n",
    "                t,f,c = get_prob_timecourse(this_iv,ALLDM[inds],version=version)\n",
    "                if len(T)==0:\n",
    "                    T = t\n",
    "                    F = f\n",
    "                    C = c\n",
    "                    DTF = t-f  ## these differences already in log space       \n",
    "                    DTC = t-c\n",
    "                    DFC = f-c\n",
    "                else:\n",
    "                    T = np.hstack((T,t))\n",
    "                    F = np.hstack((F,f))        \n",
    "                    C = np.hstack((C,c)) \n",
    "                    DTF = np.hstack((DTF,t-f))                \n",
    "                    DTC = np.hstack((DTC,t-c))\n",
    "                    DFC = np.hstack((DFC,f-c))\n",
    "                Sub.append([sub]*len(t))   \n",
    "\n",
    "            if render_cond==1:\n",
    "                ## make longform version of dataframe to use in tsplot (by condition)            \n",
    "                Trial = np.tile(np.arange(len(t)),len(subs)*3)\n",
    "                Condition = np.repeat(['target','foil','control'],len(T))\n",
    "                Sub = np.tile(np.array(flatten(Sub)),3)\n",
    "                Prob = np.hstack((T,F,C))\n",
    "                assert len(Trial)==len(Condition)\n",
    "                assert len(Sub)==len(Prob)\n",
    "                assert len(Condition)==len(Sub)\n",
    "                x = pd.DataFrame([Prob,Trial,Condition,Sub])\n",
    "                x = x.transpose()\n",
    "                x.columns = ['probability',lookup[this_iv],'condition','sub']\n",
    "                toop = 'condition'            \n",
    "            else:\n",
    "                ## make longform version of dataframe to use in tsplot (difference btw conditions)                    \n",
    "                Trial = np.tile(np.arange(len(t)),len(subs)*3)\n",
    "                Condition = np.repeat(['target-foil','target-control','foil-control'],len(T))\n",
    "                Sub = np.tile(np.array(flatten(Sub)),3)\n",
    "                Prob = np.hstack((DTF,DTC,DFC))        \n",
    "                assert len(Trial)==len(Condition)\n",
    "                assert len(Sub)==len(Prob)\n",
    "                assert len(Condition)==len(Sub)\n",
    "                x = pd.DataFrame([Prob,Trial,Condition,Sub])\n",
    "                x = x.transpose()\n",
    "                x.columns = ['probability',lookup[this_iv],'condition','sub']        \n",
    "                toop = 'difference'\n",
    "            fig = plt.figure(figsize=(8,4))\n",
    "            ## plot it\n",
    "            sns.tsplot(data=x,\n",
    "                      time=lookup[this_iv],\n",
    "                      unit='sub',\n",
    "                      condition='condition',\n",
    "                      value='probability',\n",
    "                      ci=95)\n",
    "            if render_cond==1:\n",
    "                plt.ylim(0,0.5)\n",
    "                plt.axhline(0.25,linestyle=':',color='k')  \n",
    "                plt.legend(bbox_to_anchor=(0.8, 1.01))  \n",
    "                plt.title('Classifier evidence by condition in {}'.format(this_roi))\n",
    "\n",
    "            else:\n",
    "                plt.ylim(-0.3,0.3)\n",
    "                plt.axhline(0,linestyle=':',color='k')  \n",
    "                plt.legend(bbox_to_anchor=(0.7, 1.01))                        \n",
    "                plt.title('Difference in classifier evidence by condition in {}'.format(this_roi))        \n",
    "            plt.xticks(np.arange(np.max(x[lookup[this_iv]].values)+1))\n",
    "            if not os.path.exists('./plots/roi/{}/{}'.format(lookup[this_iv],toop)):\n",
    "                os.makedirs('./plots/roi/{}/{}'.format(lookup[this_iv],toop))\n",
    "            plt.tight_layout()        \n",
    "            plt.savefig('./plots/roi/{}/{}/prob_timecourse_{}_by_{}_{}.pdf'.\\\n",
    "                        format(lookup[this_iv],toop,this_roi,lookup[this_iv],version))\n",
    "            plt.close(fig)"
   ]
  },
  {
   "cell_type": "code",
   "execution_count": null,
   "metadata": {
    "collapsed": true
   },
   "outputs": [],
   "source": []
  },
  {
   "cell_type": "markdown",
   "metadata": {
    "collapsed": true
   },
   "source": [
    "#### get subject-level index of contrast between objects during drawing\n"
   ]
  },
  {
   "cell_type": "code",
   "execution_count": 265,
   "metadata": {},
   "outputs": [],
   "source": [
    "lookup = dict(zip(['trial_num','run_num','time_point'],['repetition','run','TR']))\n",
    "version = '4way'\n",
    "tag = 'logged'\n",
    "ALLDM = pd.read_csv('./logistic_timeseries_drawing_neural_{}_{}.csv'.format(version,tag))\n",
    "ALLDM = cleanup_df(ALLDM)"
   ]
  },
  {
   "cell_type": "code",
   "execution_count": 266,
   "metadata": {},
   "outputs": [
    {
     "data": {
      "text/html": [
       "<div>\n",
       "<style>\n",
       "    .dataframe thead tr:only-child th {\n",
       "        text-align: right;\n",
       "    }\n",
       "\n",
       "    .dataframe thead th {\n",
       "        text-align: left;\n",
       "    }\n",
       "\n",
       "    .dataframe tbody tr th {\n",
       "        vertical-align: top;\n",
       "    }\n",
       "</style>\n",
       "<table border=\"1\" class=\"dataframe\">\n",
       "  <thead>\n",
       "    <tr style=\"text-align: right;\">\n",
       "      <th></th>\n",
       "      <th>TR_num</th>\n",
       "      <th>bed_prob</th>\n",
       "      <th>bench_prob</th>\n",
       "      <th>c1_prob</th>\n",
       "      <th>c2_prob</th>\n",
       "      <th>chair_prob</th>\n",
       "      <th>label</th>\n",
       "      <th>roi</th>\n",
       "      <th>run_num</th>\n",
       "      <th>subj</th>\n",
       "      <th>t1_prob</th>\n",
       "      <th>t2_prob</th>\n",
       "      <th>table_prob</th>\n",
       "      <th>time_point</th>\n",
       "      <th>trial_num</th>\n",
       "    </tr>\n",
       "  </thead>\n",
       "  <tbody>\n",
       "    <tr>\n",
       "      <th>0</th>\n",
       "      <td>10</td>\n",
       "      <td>-0.240906</td>\n",
       "      <td>-4.285586</td>\n",
       "      <td>-4.559790</td>\n",
       "      <td>-1.661495</td>\n",
       "      <td>-4.559790</td>\n",
       "      <td>bed</td>\n",
       "      <td>V1</td>\n",
       "      <td>1</td>\n",
       "      <td>110171</td>\n",
       "      <td>-0.240906</td>\n",
       "      <td>-4.285586</td>\n",
       "      <td>-1.661495</td>\n",
       "      <td>1</td>\n",
       "      <td>0</td>\n",
       "    </tr>\n",
       "    <tr>\n",
       "      <th>1</th>\n",
       "      <td>11</td>\n",
       "      <td>-0.058221</td>\n",
       "      <td>-4.372367</td>\n",
       "      <td>-4.365711</td>\n",
       "      <td>-3.466332</td>\n",
       "      <td>-4.365711</td>\n",
       "      <td>bed</td>\n",
       "      <td>V1</td>\n",
       "      <td>1</td>\n",
       "      <td>110171</td>\n",
       "      <td>-0.058221</td>\n",
       "      <td>-4.372367</td>\n",
       "      <td>-3.466332</td>\n",
       "      <td>2</td>\n",
       "      <td>0</td>\n",
       "    </tr>\n",
       "    <tr>\n",
       "      <th>2</th>\n",
       "      <td>12</td>\n",
       "      <td>-1.497240</td>\n",
       "      <td>-2.135194</td>\n",
       "      <td>-3.877128</td>\n",
       "      <td>-0.450481</td>\n",
       "      <td>-3.877128</td>\n",
       "      <td>bed</td>\n",
       "      <td>V1</td>\n",
       "      <td>1</td>\n",
       "      <td>110171</td>\n",
       "      <td>-1.497240</td>\n",
       "      <td>-2.135194</td>\n",
       "      <td>-0.450481</td>\n",
       "      <td>3</td>\n",
       "      <td>0</td>\n",
       "    </tr>\n",
       "    <tr>\n",
       "      <th>3</th>\n",
       "      <td>13</td>\n",
       "      <td>-3.994277</td>\n",
       "      <td>-0.845469</td>\n",
       "      <td>-10.338838</td>\n",
       "      <td>-0.593861</td>\n",
       "      <td>-10.338838</td>\n",
       "      <td>bed</td>\n",
       "      <td>V1</td>\n",
       "      <td>1</td>\n",
       "      <td>110171</td>\n",
       "      <td>-3.994277</td>\n",
       "      <td>-0.845469</td>\n",
       "      <td>-0.593861</td>\n",
       "      <td>4</td>\n",
       "      <td>0</td>\n",
       "    </tr>\n",
       "    <tr>\n",
       "      <th>4</th>\n",
       "      <td>14</td>\n",
       "      <td>-0.918028</td>\n",
       "      <td>-7.159800</td>\n",
       "      <td>-2.914796</td>\n",
       "      <td>-0.605683</td>\n",
       "      <td>-2.914796</td>\n",
       "      <td>bed</td>\n",
       "      <td>V1</td>\n",
       "      <td>1</td>\n",
       "      <td>110171</td>\n",
       "      <td>-0.918028</td>\n",
       "      <td>-7.159800</td>\n",
       "      <td>-0.605683</td>\n",
       "      <td>5</td>\n",
       "      <td>0</td>\n",
       "    </tr>\n",
       "  </tbody>\n",
       "</table>\n",
       "</div>"
      ],
      "text/plain": [
       "   TR_num  bed_prob  bench_prob    c1_prob   c2_prob  chair_prob label roi  \\\n",
       "0      10 -0.240906   -4.285586  -4.559790 -1.661495   -4.559790   bed  V1   \n",
       "1      11 -0.058221   -4.372367  -4.365711 -3.466332   -4.365711   bed  V1   \n",
       "2      12 -1.497240   -2.135194  -3.877128 -0.450481   -3.877128   bed  V1   \n",
       "3      13 -3.994277   -0.845469 -10.338838 -0.593861  -10.338838   bed  V1   \n",
       "4      14 -0.918028   -7.159800  -2.914796 -0.605683   -2.914796   bed  V1   \n",
       "\n",
       "   run_num    subj   t1_prob   t2_prob  table_prob  time_point  trial_num  \n",
       "0        1  110171 -0.240906 -4.285586   -1.661495           1          0  \n",
       "1        1  110171 -0.058221 -4.372367   -3.466332           2          0  \n",
       "2        1  110171 -1.497240 -2.135194   -0.450481           3          0  \n",
       "3        1  110171 -3.994277 -0.845469   -0.593861           4          0  \n",
       "4        1  110171 -0.918028 -7.159800   -0.605683           5          0  "
      ]
     },
     "execution_count": 266,
     "metadata": {},
     "output_type": "execute_result"
    }
   ],
   "source": [
    "ALLDM.head()"
   ]
  },
  {
   "cell_type": "code",
   "execution_count": 267,
   "metadata": {},
   "outputs": [
    {
     "name": "stdout",
     "output_type": "stream",
     "text": [
      "logged\n",
      "roi\n",
      "IT           1.005374\n",
      "LOC          1.791752\n",
      "PRC          0.982635\n",
      "V1           2.738945\n",
      "V2           3.511664\n",
      "ento         0.959407\n",
      "fusiform     1.204983\n",
      "hipp         1.004809\n",
      "mOFC         1.009590\n",
      "parahippo    1.017129\n",
      "Name: target-foil, dtype: float64\n"
     ]
    }
   ],
   "source": [
    "reload(analysis_helpers)\n",
    "sub_tf = []\n",
    "sub_tc = []\n",
    "sub_fc = []\n",
    "roi = []\n",
    "\n",
    "subs = np.unique(ALLDM.subj.values)\n",
    "ivs = ['time_point'] ## other options 'run_num','trial_num',\n",
    "\n",
    "## do you want to render the CONDITION-wise plots -- trained vs. foil vs control\n",
    "## or the DIFFERENCE plots -- trained - foil vs foil - control?\n",
    "render_cond = 0\n",
    "\n",
    "for this_iv in ivs:\n",
    "    for this_roi in roi_list_short:\n",
    "\n",
    "        T = []\n",
    "        F = []\n",
    "        C = []\n",
    "        Sub = []\n",
    "        for sub in subs:\n",
    "            inds =(ALLDM['roi']==this_roi) & (ALLDM['subj']==sub) \n",
    "            t,f,c = analysis_helpers.get_prob_timecourse(this_iv,ALLDM[inds],version=version)\n",
    "#             t,f,c = get_prob_timecourse_alt(this_iv,ALLDM[inds])                    \n",
    "            if len(T)==0:\n",
    "                T = t\n",
    "                F = f\n",
    "                C = c\n",
    "                DTF = t-f               \n",
    "                DTC = t-c\n",
    "                DFC = f-c\n",
    "            else:\n",
    "                T = np.hstack((T,t))\n",
    "                F = np.hstack((F,f))        \n",
    "                C = np.hstack((C,c)) \n",
    "                DTF = np.hstack((DTF,t-f))                \n",
    "                DTC = np.hstack((DTC,t-c))\n",
    "                DFC = np.hstack((DFC,f-c))\n",
    "            Sub.append([sub]*len(t))   \n",
    "          \n",
    "        ## make longform version of dataframe to use in tsplot (difference btw conditions)                    \n",
    "        Trial = np.tile(np.arange(len(t)),len(subs)*3)\n",
    "        Condition = np.repeat(['target-foil','target-control','foil-control'],len(T))\n",
    "        Sub = np.tile(np.array(flatten(Sub)),3)\n",
    "        Prob = np.hstack((DTF,DTC,DFC))        \n",
    "        assert len(Trial)==len(Condition)\n",
    "        assert len(Sub)==len(Prob)\n",
    "        assert len(Condition)==len(Sub)\n",
    "        x = pd.DataFrame([Prob,Trial,Condition,Sub])\n",
    "        x = x.transpose()\n",
    "        x.columns = ['probability',lookup[this_iv],'condition','sub']\n",
    "        \n",
    "        for this_sub in subs:\n",
    "            sub_tf.append(x[(x['condition']=='target-foil') & (x['sub']==this_sub)]['probability'].mean())\n",
    "            sub_tc.append(x[(x['condition']=='target-control') & (x['sub']==this_sub)]['probability'].mean())  \n",
    "            sub_fc.append(x[(x['condition']=='foil-control') & (x['sub']==this_sub)]['probability'].mean()) \n",
    "            roi.append(this_roi)\n",
    "            \n",
    "## make dataframe with subject-level difference scores\n",
    "d = pd.DataFrame([sub_tf,sub_tc,sub_fc,roi])\n",
    "d = d.transpose()\n",
    "d.columns = ['target-foil','target-control','foil-control','roi']\n",
    "d = d.astype({'target-foil':'float64','target-control':'float64','foil-control':'float64'})\n",
    "\n",
    "## print out target-foil ratios\n",
    "print tag\n",
    "if tag=='logged':\n",
    "    print d.groupby('roi')['target-foil'].apply(lambda x: np.mean(np.exp(x)))\n",
    "    d.to_csv('difference_logprobs_{}.csv'.format(version))\n",
    "else:\n",
    "    print d.groupby('roi')['target-foil'].mean()\n",
    "    d.to_csv('difference_rawprobs_{}.csv'.format(version))\n"
   ]
  },
  {
   "cell_type": "code",
   "execution_count": null,
   "metadata": {
    "collapsed": true
   },
   "outputs": [],
   "source": []
  },
  {
   "cell_type": "code",
   "execution_count": null,
   "metadata": {
    "collapsed": true
   },
   "outputs": [],
   "source": []
  },
  {
   "cell_type": "code",
   "execution_count": 268,
   "metadata": {},
   "outputs": [],
   "source": [
    "run_this = 0\n",
    "if run_this:\n",
    "    ## comparing 4-way and 2-way probability ratios\n",
    "    d4way = pd.read_csv('difference_logprobs_4way.csv')\n",
    "    d2way = pd.read_csv('difference_logprobs_2way.csv')\n",
    "    inds = d4way['roi']=='V1'\n",
    "    plt.scatter(d4way[inds]['target-foil'],d2way[inds]['target-foil'])\n"
   ]
  },
  {
   "cell_type": "code",
   "execution_count": 270,
   "metadata": {},
   "outputs": [
    {
     "name": "stdout",
     "output_type": "stream",
     "text": [
      "------- condition: target-foil -------\n",
      "ROI = V1 | mean = 0.75017  95% CI: [0.504 1.0017] p=0.0\n",
      "ROI = V2 | mean = 0.9154  95% CI: [0.646 1.19759] p=0.0\n",
      "ROI = LOC | mean = 0.4984  95% CI: [0.362 0.64094] p=0.0\n",
      "ROI = IT | mean = -0.01446  95% CI: [-0.083 0.05634] p=0.67467\n",
      "ROI = fusiform | mean = 0.15795  95% CI: [0.074 0.2414] p=0.0\n",
      "ROI = parahippo | mean = -0.01011  95% CI: [-0.089 0.06775] p=0.798\n",
      "ROI = PRC | mean = -0.03706  95% CI: [-0.102 0.03167] p=0.288\n",
      "ROI = ento | mean = -0.07157  95% CI: [-0.164 0.01311] p=0.10733\n",
      "ROI = hipp | mean = -0.01947  95% CI: [-0.106 0.0602] p=0.67333\n",
      "ROI = mOFC | mean = -0.0108  95% CI: [-0.083 0.05947] p=0.766\n",
      "------- condition: target-control -------\n",
      "ROI = V1 | mean = 0.3255  95% CI: [0.188 0.48339] p=0.0\n",
      "ROI = V2 | mean = 0.42921  95% CI: [0.291 0.57743] p=0.0\n",
      "ROI = LOC | mean = 0.25139  95% CI: [0.14 0.37358] p=0.0\n",
      "ROI = IT | mean = 0.00725  95% CI: [-0.054 0.06717] p=0.81067\n",
      "ROI = fusiform | mean = 0.113  95% CI: [0.039 0.18517] p=0.00267\n",
      "ROI = parahippo | mean = 0.00922  95% CI: [-0.062 0.07966] p=0.81533\n",
      "ROI = PRC | mean = 0.00274  95% CI: [-0.055 0.06263] p=0.926\n",
      "ROI = ento | mean = 0.06578  95% CI: [-0.019 0.14482] p=0.118\n",
      "ROI = hipp | mean = 0.02508  95% CI: [-0.048 0.09457] p=0.484\n",
      "ROI = mOFC | mean = -0.03104  95% CI: [-0.103 0.03842] p=0.398\n",
      "------- condition: foil-control -------\n",
      "ROI = V1 | mean = -0.42467  95% CI: [-0.566 -0.27936] p=0.0\n",
      "ROI = V2 | mean = -0.48619  95% CI: [-0.678 -0.30751] p=0.0\n",
      "ROI = LOC | mean = -0.24701  95% CI: [-0.351 -0.14614] p=0.0\n",
      "ROI = IT | mean = 0.02171  95% CI: [-0.049 0.09669] p=0.56267\n",
      "ROI = fusiform | mean = -0.04495  95% CI: [-0.114 0.0247] p=0.19733\n",
      "ROI = parahippo | mean = 0.01933  95% CI: [-0.047 0.09129] p=0.598\n",
      "ROI = PRC | mean = 0.0398  95% CI: [-0.005 0.08503] p=0.084\n",
      "ROI = ento | mean = 0.13735  95% CI: [0.071 0.20887] p=0.0\n",
      "ROI = hipp | mean = 0.04455  95% CI: [-0.024 0.11296] p=0.22867\n",
      "ROI = mOFC | mean = -0.02023  95% CI: [-0.089 0.04973] p=0.55733\n"
     ]
    }
   ],
   "source": [
    "conditions = ['target-foil','target-control','foil-control']\n",
    "for condition in conditions:\n",
    "    print '------- condition: {} -------'.format(condition)\n",
    "    for this_roi in roi_list:\n",
    "        data = d[d['roi']==this_roi][condition].values\n",
    "        U,lb,ub,p = bootstrapCI(data,3000)\n",
    "        print 'ROI = {} | mean = {}  95% CI: [{} {}] p={}'.format(this_roi,np.round(U,5),np.round(lb,3),np.round(ub,5),np.round(p,5))"
   ]
  },
  {
   "cell_type": "code",
   "execution_count": null,
   "metadata": {},
   "outputs": [],
   "source": []
  },
  {
   "cell_type": "code",
   "execution_count": null,
   "metadata": {
    "collapsed": true
   },
   "outputs": [],
   "source": []
  },
  {
   "cell_type": "markdown",
   "metadata": {},
   "source": [
    "### read in pre-post changes"
   ]
  },
  {
   "cell_type": "code",
   "execution_count": 297,
   "metadata": {},
   "outputs": [],
   "source": [
    "version = '4way'\n",
    "tag = 'log'\n",
    "d = pd.read_csv('difference_{}probs_{}.csv'.format(tag,version))\n",
    "prepost = pd.read_csv('neural_changes_by_surfroi_and_subject.csv')"
   ]
  },
  {
   "cell_type": "code",
   "execution_count": 298,
   "metadata": {
    "collapsed": true
   },
   "outputs": [],
   "source": [
    "# h = plt.hist(d[d['roi']=='V1']['target-foil'].values)"
   ]
  },
  {
   "cell_type": "code",
   "execution_count": 301,
   "metadata": {
    "scrolled": false
   },
   "outputs": [],
   "source": [
    "## make dataframe to relate drawing contrast to recognition differentiation\n",
    "roi_list = ['V1', 'V2', 'LOC', 'IT', 'fusiform', 'parahippo', 'PRC', 'ento','hipp', 'mOFC']\n",
    "\n",
    "for this_roi in roi_list:\n",
    "#     draw = d[d['roi']==this_roi]['target-control'].values - d[d['roi']==this_roi]['foil-control'].values\n",
    "    draw = d[d['roi']==this_roi]['target-foil'].values\n",
    "    recog = prepost['tradiff_{}'.format(this_roi)].values-prepost['condiff_{}'.format(this_roi)].values\n",
    "#     recog = prepost['tradiff_{}'.format(this_roi)].values\n",
    "\n",
    "    z = pd.DataFrame([draw,recog])\n",
    "    z = z.transpose()\n",
    "    z.columns=['draw','recog']\n",
    "\n",
    "    ## plot \n",
    "    fig = plt.figure(figsize=(6,6))\n",
    "    sns.set_context('poster')\n",
    "    sns.regplot(x=\"draw\",\n",
    "                y =\"recog\",\n",
    "                data=z)\n",
    "    r,p = stats.pearsonr(draw,recog)\n",
    "    plt.title('ROI: {}  r={}  p={}'.format(this_roi,np.round(r,5),np.round(p,5)))\n",
    "    plt.xlabel('drawing: target vs. foil contrast')\n",
    "    plt.ylabel('recog: post-pre differentiation')\n",
    "    if not os.path.exists('./plots/roi/drawrecog'):\n",
    "        os.makedirs('./plots/roi/drawrecog')\n",
    "    plt.tight_layout()\n",
    "    plt.savefig('./plots/roi/drawrecog/draw_recog_scatter_{}.pdf'.format(this_roi))\n",
    "    plt.close(fig)        "
   ]
  },
  {
   "cell_type": "code",
   "execution_count": null,
   "metadata": {
    "collapsed": true
   },
   "outputs": [],
   "source": []
  },
  {
   "cell_type": "code",
   "execution_count": null,
   "metadata": {
    "collapsed": true
   },
   "outputs": [],
   "source": []
  },
  {
   "cell_type": "markdown",
   "metadata": {},
   "source": [
    "### relate neural to vgg drawing time series"
   ]
  },
  {
   "cell_type": "code",
   "execution_count": 178,
   "metadata": {
    "collapsed": true
   },
   "outputs": [],
   "source": [
    "vgg_ts = pd.read_csv('./logistic_timeseries_drawing_vgg.csv')\n",
    "neural_ts = pd.read_csv('./logistic_timeseries_drawing_neural.csv')"
   ]
  },
  {
   "cell_type": "code",
   "execution_count": 179,
   "metadata": {
    "collapsed": true
   },
   "outputs": [],
   "source": [
    "vgg_ts = vgg_ts.drop(['Unnamed: 0','Unnamed: 0.1'],axis=1)\n",
    "vgg_ts.wID = [i.split('_')[0] for i in vgg_ts.wID.values]"
   ]
  },
  {
   "cell_type": "code",
   "execution_count": 180,
   "metadata": {},
   "outputs": [
    {
     "data": {
      "text/html": [
       "<div>\n",
       "<style>\n",
       "    .dataframe thead tr:only-child th {\n",
       "        text-align: right;\n",
       "    }\n",
       "\n",
       "    .dataframe thead th {\n",
       "        text-align: left;\n",
       "    }\n",
       "\n",
       "    .dataframe tbody tr th {\n",
       "        vertical-align: top;\n",
       "    }\n",
       "</style>\n",
       "<table border=\"1\" class=\"dataframe\">\n",
       "  <thead>\n",
       "    <tr style=\"text-align: right;\">\n",
       "      <th></th>\n",
       "      <th>index</th>\n",
       "      <th>wID</th>\n",
       "      <th>viewpoint</th>\n",
       "      <th>trial</th>\n",
       "      <th>trialDuration</th>\n",
       "      <th>target</th>\n",
       "      <th>competitor</th>\n",
       "      <th>numSketch</th>\n",
       "      <th>bed</th>\n",
       "      <th>bench</th>\n",
       "      <th>chair</th>\n",
       "      <th>table</th>\n",
       "      <th>curr_winner</th>\n",
       "      <th>tc_pair</th>\n",
       "      <th>trialID</th>\n",
       "      <th>run</th>\n",
       "      <th>target_val</th>\n",
       "      <th>competitor_val</th>\n",
       "      <th>control_val</th>\n",
       "    </tr>\n",
       "  </thead>\n",
       "  <tbody>\n",
       "    <tr>\n",
       "      <th>0</th>\n",
       "      <td>0</td>\n",
       "      <td>0119174</td>\n",
       "      <td>20</td>\n",
       "      <td>320</td>\n",
       "      <td>39.00144</td>\n",
       "      <td>bench</td>\n",
       "      <td>chair</td>\n",
       "      <td>0</td>\n",
       "      <td>0.026822</td>\n",
       "      <td>0.055895</td>\n",
       "      <td>0.916243</td>\n",
       "      <td>0.001040</td>\n",
       "      <td>chair</td>\n",
       "      <td>bench/chair</td>\n",
       "      <td>0119174_neurosketch_320</td>\n",
       "      <td>1.0</td>\n",
       "      <td>0.055895</td>\n",
       "      <td>0.916243</td>\n",
       "      <td>0.013931</td>\n",
       "    </tr>\n",
       "    <tr>\n",
       "      <th>1</th>\n",
       "      <td>0</td>\n",
       "      <td>0119174</td>\n",
       "      <td>20</td>\n",
       "      <td>320</td>\n",
       "      <td>39.00144</td>\n",
       "      <td>bench</td>\n",
       "      <td>chair</td>\n",
       "      <td>1</td>\n",
       "      <td>0.934225</td>\n",
       "      <td>0.026225</td>\n",
       "      <td>0.039085</td>\n",
       "      <td>0.000465</td>\n",
       "      <td>bed</td>\n",
       "      <td>bench/chair</td>\n",
       "      <td>0119174_neurosketch_320</td>\n",
       "      <td>1.0</td>\n",
       "      <td>0.026225</td>\n",
       "      <td>0.039085</td>\n",
       "      <td>0.467345</td>\n",
       "    </tr>\n",
       "    <tr>\n",
       "      <th>2</th>\n",
       "      <td>0</td>\n",
       "      <td>0119174</td>\n",
       "      <td>20</td>\n",
       "      <td>320</td>\n",
       "      <td>39.00144</td>\n",
       "      <td>bench</td>\n",
       "      <td>chair</td>\n",
       "      <td>2</td>\n",
       "      <td>0.006035</td>\n",
       "      <td>0.970770</td>\n",
       "      <td>0.002714</td>\n",
       "      <td>0.020481</td>\n",
       "      <td>bench</td>\n",
       "      <td>bench/chair</td>\n",
       "      <td>0119174_neurosketch_320</td>\n",
       "      <td>1.0</td>\n",
       "      <td>0.970770</td>\n",
       "      <td>0.002714</td>\n",
       "      <td>0.013258</td>\n",
       "    </tr>\n",
       "    <tr>\n",
       "      <th>3</th>\n",
       "      <td>0</td>\n",
       "      <td>0119174</td>\n",
       "      <td>20</td>\n",
       "      <td>320</td>\n",
       "      <td>39.00144</td>\n",
       "      <td>bench</td>\n",
       "      <td>chair</td>\n",
       "      <td>3</td>\n",
       "      <td>0.009842</td>\n",
       "      <td>0.978927</td>\n",
       "      <td>0.003784</td>\n",
       "      <td>0.007447</td>\n",
       "      <td>bench</td>\n",
       "      <td>bench/chair</td>\n",
       "      <td>0119174_neurosketch_320</td>\n",
       "      <td>1.0</td>\n",
       "      <td>0.978927</td>\n",
       "      <td>0.003784</td>\n",
       "      <td>0.008644</td>\n",
       "    </tr>\n",
       "    <tr>\n",
       "      <th>4</th>\n",
       "      <td>0</td>\n",
       "      <td>0119174</td>\n",
       "      <td>20</td>\n",
       "      <td>320</td>\n",
       "      <td>39.00144</td>\n",
       "      <td>bench</td>\n",
       "      <td>chair</td>\n",
       "      <td>4</td>\n",
       "      <td>0.019298</td>\n",
       "      <td>0.967674</td>\n",
       "      <td>0.001463</td>\n",
       "      <td>0.011564</td>\n",
       "      <td>bench</td>\n",
       "      <td>bench/chair</td>\n",
       "      <td>0119174_neurosketch_320</td>\n",
       "      <td>1.0</td>\n",
       "      <td>0.967674</td>\n",
       "      <td>0.001463</td>\n",
       "      <td>0.015431</td>\n",
       "    </tr>\n",
       "  </tbody>\n",
       "</table>\n",
       "</div>"
      ],
      "text/plain": [
       "   index      wID  viewpoint  trial  trialDuration target competitor  \\\n",
       "0      0  0119174         20    320       39.00144  bench      chair   \n",
       "1      0  0119174         20    320       39.00144  bench      chair   \n",
       "2      0  0119174         20    320       39.00144  bench      chair   \n",
       "3      0  0119174         20    320       39.00144  bench      chair   \n",
       "4      0  0119174         20    320       39.00144  bench      chair   \n",
       "\n",
       "   numSketch       bed     bench     chair     table curr_winner      tc_pair  \\\n",
       "0          0  0.026822  0.055895  0.916243  0.001040       chair  bench/chair   \n",
       "1          1  0.934225  0.026225  0.039085  0.000465         bed  bench/chair   \n",
       "2          2  0.006035  0.970770  0.002714  0.020481       bench  bench/chair   \n",
       "3          3  0.009842  0.978927  0.003784  0.007447       bench  bench/chair   \n",
       "4          4  0.019298  0.967674  0.001463  0.011564       bench  bench/chair   \n",
       "\n",
       "                   trialID  run  target_val  competitor_val  control_val  \n",
       "0  0119174_neurosketch_320  1.0    0.055895        0.916243     0.013931  \n",
       "1  0119174_neurosketch_320  1.0    0.026225        0.039085     0.467345  \n",
       "2  0119174_neurosketch_320  1.0    0.970770        0.002714     0.013258  \n",
       "3  0119174_neurosketch_320  1.0    0.978927        0.003784     0.008644  \n",
       "4  0119174_neurosketch_320  1.0    0.967674        0.001463     0.015431  "
      ]
     },
     "execution_count": 180,
     "metadata": {},
     "output_type": "execute_result"
    }
   ],
   "source": [
    "vgg_ts.head()"
   ]
  },
  {
   "cell_type": "code",
   "execution_count": 181,
   "metadata": {
    "collapsed": true
   },
   "outputs": [],
   "source": [
    "## plotting helper\n",
    "def get_vgg_timecourse(iv,w):\n",
    "    trained_objs = np.unique(w.target.values)\n",
    "    control_objs = [i for i in ['bed','bench','chair','table'] if i not in trained_objs]\n",
    "    t1 = trained_objs[0]\n",
    "    t2 = trained_objs[1]\n",
    "    c1 = control_objs[0]\n",
    "    c2 = control_objs[1]\n",
    "    target = np.vstack((w[w.target==t1].groupby(iv)['{}'.format(t1)].mean().values,\n",
    "                   w[w.target==t2].groupby(iv)['{}'.format(t2)].mean().values)).mean(0) ## target timecourse\n",
    "    foil = np.vstack((w[w.target==t1].groupby(iv)['{}'.format(t2)].mean().values,\n",
    "                   w[w.target==t2].groupby(iv)['{}'.format(t1)].mean().values)).mean(0) ## foil timecourse\n",
    "    control = np.vstack((w[w.target==t1].groupby(iv)['{}'.format(c1)].mean().values,\n",
    "                        w[w.target==t1].groupby(iv)['{}'.format(c2)].mean().values,\n",
    "                        w[w.target==t2].groupby(iv)['{}'.format(c1)].mean().values,\n",
    "                        w[w.target==t2].groupby(iv)['{}'.format(c2)].mean().values)).mean(0) ## control timecourse\n",
    "\n",
    "    return target, foil, control"
   ]
  },
  {
   "cell_type": "code",
   "execution_count": 182,
   "metadata": {},
   "outputs": [
    {
     "data": {
      "image/png": "[encoded data removed]",
      "text/plain": [
       "<matplotlib.figure.Figure at 0x7f140d1d56d0>"
      ]
     },
     "metadata": {},
     "output_type": "display_data"
    }
   ],
   "source": [
    "render_cond = 0\n",
    "\n",
    "## get subject-level index of contrast between objects during drawing\n",
    "sub_tf = []\n",
    "sub_tc = []\n",
    "sub_fc = []\n",
    "roi = []\n",
    "\n",
    "T = []\n",
    "F = []\n",
    "C = []\n",
    "Sub = []\n",
    "\n",
    "this_iv = 'trial' ## options: 'trial' and 'numSketch'\n",
    "for this_sub in subs:\n",
    "    inds = (vgg_ts['wID']==this_sub)\n",
    "    w = vgg_ts[inds]\n",
    "    t,f,c = get_vgg_timecourse(this_iv,w)\n",
    "    \n",
    "    if len(T)==0:\n",
    "        T = t\n",
    "        F = f\n",
    "        C = c\n",
    "        DTF = t-f                \n",
    "        DTC = t-c\n",
    "        DFC = f-c\n",
    "    else:\n",
    "        T = np.hstack((T,t))\n",
    "        F = np.hstack((F,f))        \n",
    "        C = np.hstack((C,c)) \n",
    "        DTF = np.hstack((DTF,t-f))                \n",
    "        DTC = np.hstack((DTC,t-c))\n",
    "        DFC = np.hstack((DFC,f-c))\n",
    "    Sub.append([this_sub]*len(t))   \n",
    "\n",
    "if render_cond==1:\n",
    "    ## make longform version of dataframe to use in tsplot (by condition)            \n",
    "    Trial = np.tile(np.arange(len(t)),len(subs)*3)\n",
    "    Condition = np.repeat(['trained','foil','control'],len(T))\n",
    "    Sub = np.tile(np.array(flatten(Sub)),3)\n",
    "    Prob = np.hstack((T,F,C))\n",
    "    assert len(Trial)==len(Condition)\n",
    "    assert len(Sub)==len(Prob)\n",
    "    assert len(Condition)==len(Sub)\n",
    "    x = pd.DataFrame([Prob,Trial,Condition,Sub])\n",
    "    x = x.transpose()\n",
    "    x.columns = ['probability',this_iv,'condition','sub']\n",
    "else:\n",
    "    ## make longform version of dataframe to use in tsplot (difference btw conditions)                    \n",
    "    Trial = np.tile(np.arange(len(t)),len(subs)*3)\n",
    "    Condition = np.repeat(['trained-foil','trained-control','foil-control'],len(T))\n",
    "    Sub = np.tile(np.array(flatten(Sub)),3)\n",
    "    Prob = np.hstack((DTF,DTC,DFC))        \n",
    "    assert len(Trial)==len(Condition)\n",
    "    assert len(Sub)==len(Prob)\n",
    "    assert len(Condition)==len(Sub)\n",
    "    x = pd.DataFrame([Prob,Trial,Condition,Sub])\n",
    "    x = x.transpose()\n",
    "    x.columns = ['probability',this_iv,'condition','sub']\n",
    "    \n",
    "    for this_sub in subs:\n",
    "        sub_tf.append(x[(x['condition']=='trained-foil') & (x['sub']==this_sub)]['probability'].mean())\n",
    "        sub_tc.append(x[(x['condition']=='trained-control') & (x['sub']==this_sub)]['probability'].mean())  \n",
    "        sub_fc.append(x[(x['condition']=='foil-control') & (x['sub']==this_sub)]['probability'].mean()) \n",
    "        roi.append('vgg_fc6')\n",
    "        \n",
    "    ## make dataframe with subject-level difference scores\n",
    "    d2 = pd.DataFrame([sub_tf,sub_tc,sub_fc,roi])\n",
    "    d2 = d2.transpose()\n",
    "    d2.columns = ['trained-foil','trained-control','foil-control','roi']        \n",
    "\n",
    "## plot it\n",
    "fig = plt.figure(figsize=(8,4))\n",
    "## plot it\n",
    "sns.tsplot(data=x,\n",
    "          time=this_iv,\n",
    "          unit='sub',\n",
    "          condition='condition',\n",
    "          value='probability')\n",
    "# plt.ylim(0,0.5)\n",
    "plt.axhline(0.25,linestyle=':',color='k')  \n",
    "plt.legend(bbox_to_anchor=(0.8, 1.01))  \n",
    "plt.title('Classifier evidence by condition in VGG FC6')\n",
    "plt.tight_layout()  "
   ]
  },
  {
   "cell_type": "code",
   "execution_count": null,
   "metadata": {
    "collapsed": true
   },
   "outputs": [],
   "source": []
  },
  {
   "cell_type": "code",
   "execution_count": 882,
   "metadata": {
    "collapsed": true,
    "scrolled": false
   },
   "outputs": [],
   "source": [
    "## make dataframe to relate drawing contrast to recognition differentiation\n",
    "roi_list = ['V1', 'V2', 'LOC', 'IT', 'fusiform', 'parahippo', 'PRC', 'ento','hipp', 'mOFC']\n",
    "\n",
    "for this_roi in roi_list:\n",
    "    neural = d[d['roi']==this_roi]['trained-control'].values - d[d['roi']==this_roi]['foil-control'].values\n",
    "    vgg = d2['trained-foil'].values\n",
    "\n",
    "    z = pd.DataFrame([neural,vgg])\n",
    "    z = z.transpose()\n",
    "    z.columns=['neural','vgg']\n",
    "\n",
    "    ## plot \n",
    "    fig = plt.figure(figsize=(6,6))\n",
    "    sns.set_context('poster')\n",
    "    sns.regplot(x=\"neural\",\n",
    "                y =\"vgg\",\n",
    "                data=z)\n",
    "    r,p = stats.pearsonr(neural,vgg)\n",
    "    plt.title('ROI: {}  r={}  p={}'.format(this_roi,np.round(r,3),np.round(p,3)))\n",
    "    if not os.path.exists('./plots/roi/neuralvgg'):\n",
    "        os.makedirs('./plots/roi/neuralvgg')\n",
    "    plt.tight_layout()\n",
    "    plt.savefig('./plots/roi/neuralvgg/neural_vgg_scatter_{}.pdf'.format(this_roi))\n",
    "    plt.close(fig)    \n",
    "    "
   ]
  },
  {
   "cell_type": "code",
   "execution_count": null,
   "metadata": {
    "collapsed": true
   },
   "outputs": [],
   "source": []
  },
  {
   "cell_type": "code",
   "execution_count": null,
   "metadata": {
    "collapsed": true
   },
   "outputs": [],
   "source": []
  },
  {
   "cell_type": "code",
   "execution_count": null,
   "metadata": {
    "collapsed": true
   },
   "outputs": [],
   "source": []
  },
  {
   "cell_type": "code",
   "execution_count": null,
   "metadata": {
    "collapsed": true
   },
   "outputs": [],
   "source": []
  }
 ],
 "metadata": {
  "kernelspec": {
   "display_name": "Python 2",
   "language": "python",
   "name": "python2"
  },
  "language_info": {
   "codemirror_mode": {
    "name": "ipython",
    "version": 2
   },
   "file_extension": ".py",
   "mimetype": "text/x-python",
   "name": "python",
   "nbconvert_exporter": "python",
   "pygments_lexer": "ipython2",
   "version": "2.7.12"
  }
 },
 "nbformat": 4,
 "nbformat_minor": 2
}
