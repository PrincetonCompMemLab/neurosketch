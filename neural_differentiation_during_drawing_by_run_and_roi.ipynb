{
 "cells": [
  {
   "cell_type": "code",
   "execution_count": 31,
   "metadata": {
    "collapsed": true
   },
   "outputs": [],
   "source": [
    "from __future__ import division\n",
    "\n",
    "import numpy as np\n",
    "import os\n",
    "from glob import glob\n",
    "\n",
    "from PIL import Image\n",
    "from copy import deepcopy\n",
    "\n",
    "from sklearn import linear_model, datasets, neighbors\n",
    "from sklearn.model_selection import train_test_split, cross_val_score\n",
    "from sklearn import svm\n",
    "\n",
    "%matplotlib inline\n",
    "from scipy.misc import imread, imresize\n",
    "import matplotlib.pyplot as plt\n",
    "import matplotlib.image as mpimg\n",
    "import seaborn as sns\n",
    "\n",
    "import pandas as pd\n",
    "\n",
    "import scipy.stats as stats\n",
    "from scipy.stats import norm\n",
    "import sklearn\n"
   ]
  },
  {
   "cell_type": "code",
   "execution_count": 33,
   "metadata": {},
   "outputs": [],
   "source": [
    "X = pd.read_csv('./target_vs_competitor_similarity_trend_across_runs_by_roi.csv')"
   ]
  },
  {
   "cell_type": "code",
   "execution_count": 34,
   "metadata": {},
   "outputs": [
    {
     "name": "stdout",
     "output_type": "stream",
     "text": [
      "Our ROIs:\n",
      "['EC' 'Fus' 'HC' 'IT' 'LOC' 'PHC' 'PRC' 'V1' 'V2']\n"
     ]
    }
   ],
   "source": [
    "rois = np.unique(X.roi.values)\n",
    "print 'Our ROIs:'\n",
    "print rois"
   ]
  },
  {
   "cell_type": "code",
   "execution_count": 35,
   "metadata": {},
   "outputs": [
    {
     "data": {
      "text/plain": [
       "roi\n",
       "EC     0.002859\n",
       "Fus    0.002278\n",
       "HC     0.004494\n",
       "IT     0.002625\n",
       "LOC    0.000636\n",
       "PHC    0.006652\n",
       "PRC    0.002774\n",
       "V1     0.000987\n",
       "V2     0.001432\n",
       "Name: slope, dtype: float64"
      ]
     },
     "execution_count": 35,
     "metadata": {},
     "output_type": "execute_result"
    }
   ],
   "source": [
    "X.groupby('roi')['slope'].mean()"
   ]
  },
  {
   "cell_type": "code",
   "execution_count": 36,
   "metadata": {},
   "outputs": [
    {
     "name": "stdout",
     "output_type": "stream",
     "text": [
      "0.00665248641304\n"
     ]
    },
    {
     "data": {
      "image/png": "[encoded data removed]",
      "text/plain": [
       "<matplotlib.figure.Figure at 0x7f03a0762d50>"
      ]
     },
     "metadata": {},
     "output_type": "display_data"
    }
   ],
   "source": [
    "which_roi = 'PHC'\n",
    "_X  = X[X['roi']==which_roi]\n",
    "h = plt.hist(_X.slope,bins=20)\n",
    "print np.mean(_X.slope)"
   ]
  },
  {
   "cell_type": "code",
   "execution_count": 37,
   "metadata": {},
   "outputs": [
    {
     "data": {
      "text/plain": [
       "<matplotlib.axes._subplots.AxesSubplot at 0x7f03a0b9b850>"
      ]
     },
     "execution_count": 37,
     "metadata": {},
     "output_type": "execute_result"
    },
    {
     "data": {
      "image/png": "[encoded data removed]",
      "text/plain": [
       "<matplotlib.figure.Figure at 0x7f03a0b5cf10>"
      ]
     },
     "metadata": {},
     "output_type": "display_data"
    }
   ],
   "source": [
    "D = X.groupby('roi')['slope'].mean()\n",
    "Y = pd.DataFrame(D)\n",
    "sns.barplot(data=Y.transpose())"
   ]
  },
  {
   "cell_type": "code",
   "execution_count": 38,
   "metadata": {},
   "outputs": [
    {
     "data": {
      "text/plain": [
       "<matplotlib.axes._subplots.AxesSubplot at 0x7f03a0c03750>"
      ]
     },
     "execution_count": 38,
     "metadata": {},
     "output_type": "execute_result"
    },
    {
     "data": {
      "image/png": "[encoded data removed]",
      "text/plain": [
       "<matplotlib.figure.Figure at 0x7f03a0befd10>"
      ]
     },
     "metadata": {},
     "output_type": "display_data"
    }
   ],
   "source": [
    "D = X.groupby('roi')['pearson'].mean()\n",
    "Y = pd.DataFrame(D)\n",
    "sns.barplot(data=Y.transpose())"
   ]
  },
  {
   "cell_type": "code",
   "execution_count": 39,
   "metadata": {},
   "outputs": [
    {
     "data": {
      "text/plain": [
       "<matplotlib.axes._subplots.AxesSubplot at 0x7f03a0a97f90>"
      ]
     },
     "execution_count": 39,
     "metadata": {},
     "output_type": "execute_result"
    },
    {
     "data": {
      "image/png": "[encoded data removed]",
      "text/plain": [
       "<matplotlib.figure.Figure at 0x7f03a06a7450>"
      ]
     },
     "metadata": {},
     "output_type": "display_data"
    }
   ],
   "source": [
    "D = X.groupby('roi')['spearman'].mean()\n",
    "Y = pd.DataFrame(D)\n",
    "sns.barplot(data=Y.transpose())"
   ]
  },
  {
   "cell_type": "code",
   "execution_count": 50,
   "metadata": {},
   "outputs": [],
   "source": [
    "def bootstrap_lt0(w,nIter=50000):\n",
    "    boot = []\n",
    "    for i in np.arange(nIter):\n",
    "        boot.append(np.mean(np.random.choice(w,len(w),replace=True)))\n",
    "    boot = np.array(boot) \n",
    "    p = sum(boot<0)/len(boot)*2\n",
    "    print 'p = ' + str(sum(boot<0)/len(boot)*2)\n",
    "    return boot, p"
   ]
  },
  {
   "cell_type": "code",
   "execution_count": 51,
   "metadata": {},
   "outputs": [
    {
     "name": "stdout",
     "output_type": "stream",
     "text": [
      "EC\n",
      "p = 0.02124\n",
      "Fus\n",
      "p = 1.2898\n",
      "HC\n",
      "p = 0.24688\n",
      "IT\n",
      "p = 0.4046\n",
      "LOC\n",
      "p = 0.68592\n",
      "PHC\n",
      "p = 0.7672\n",
      "PRC\n",
      "p = 0.24504\n",
      "V1\n",
      "p = 0.8718\n",
      "V2\n",
      "p = 0.38512\n",
      "EC\n",
      "p = 0.02588\n",
      "Fus\n",
      "p = 0.80624\n",
      "HC\n",
      "p = 0.2662\n",
      "IT\n",
      "p = 0.44588\n",
      "LOC\n",
      "p = 0.48128\n",
      "PHC\n",
      "p = 0.99284\n",
      "PRC\n",
      "p = 0.20016\n",
      "V1\n",
      "p = 0.63832\n",
      "V2\n",
      "p = 0.32564\n",
      "EC\n",
      "p = 0.00408\n",
      "Fus\n",
      "p = 0.22508\n",
      "HC\n",
      "p = 0.0056\n",
      "IT\n",
      "p = 0.094\n",
      "LOC\n",
      "p = 0.61004\n",
      "PHC\n",
      "p = 0.02312\n",
      "PRC\n",
      "p = 0.12088\n",
      "V1\n",
      "p = 0.6444\n",
      "V2\n",
      "p = 0.3074\n"
     ]
    }
   ],
   "source": [
    "pearson_summary = []\n",
    "for roi in rois:\n",
    "    print roi\n",
    "    _X = X[X['roi']==roi]\n",
    "    boot,p = bootstrap_lt0(_X.pearson.values)\n",
    "    pearson_summary.append(p)\n",
    "    \n",
    "spearman_summary = []\n",
    "for roi in rois:\n",
    "    print roi\n",
    "    _X = X[X['roi']==roi]\n",
    "    boot,p = bootstrap_lt0(_X.spearman.values)\n",
    "    spearman_summary.append(p)   \n",
    "    \n",
    "slope_summary = []\n",
    "for roi in rois:\n",
    "    print roi\n",
    "    _X = X[X['roi']==roi]\n",
    "    boot,p = bootstrap_lt0(_X.slope.values)\n",
    "    slope_summary.append(p)  "
   ]
  },
  {
   "cell_type": "code",
   "execution_count": null,
   "metadata": {},
   "outputs": [],
   "source": []
  },
  {
   "cell_type": "code",
   "execution_count": 52,
   "metadata": {},
   "outputs": [],
   "source": [
    "X = pd.DataFrame([rois,pearson_summary,spearman_summary,slope_summary])\n",
    "X = X.transpose()\n",
    "X.columns = ['roi','pearson','spearman','slope']"
   ]
  },
  {
   "cell_type": "code",
   "execution_count": 53,
   "metadata": {},
   "outputs": [
    {
     "data": {
      "text/html": [
       "<div>\n",
       "<style>\n",
       "    .dataframe thead tr:only-child th {\n",
       "        text-align: right;\n",
       "    }\n",
       "\n",
       "    .dataframe thead th {\n",
       "        text-align: left;\n",
       "    }\n",
       "\n",
       "    .dataframe tbody tr th {\n",
       "        vertical-align: top;\n",
       "    }\n",
       "</style>\n",
       "<table border=\"1\" class=\"dataframe\">\n",
       "  <thead>\n",
       "    <tr style=\"text-align: right;\">\n",
       "      <th></th>\n",
       "      <th>roi</th>\n",
       "      <th>pearson</th>\n",
       "      <th>spearman</th>\n",
       "      <th>slope</th>\n",
       "    </tr>\n",
       "  </thead>\n",
       "  <tbody>\n",
       "    <tr>\n",
       "      <th>0</th>\n",
       "      <td>EC</td>\n",
       "      <td>0.02124</td>\n",
       "      <td>0.02588</td>\n",
       "      <td>0.00408</td>\n",
       "    </tr>\n",
       "    <tr>\n",
       "      <th>1</th>\n",
       "      <td>Fus</td>\n",
       "      <td>1.2898</td>\n",
       "      <td>0.80624</td>\n",
       "      <td>0.22508</td>\n",
       "    </tr>\n",
       "    <tr>\n",
       "      <th>2</th>\n",
       "      <td>HC</td>\n",
       "      <td>0.24688</td>\n",
       "      <td>0.2662</td>\n",
       "      <td>0.0056</td>\n",
       "    </tr>\n",
       "    <tr>\n",
       "      <th>3</th>\n",
       "      <td>IT</td>\n",
       "      <td>0.4046</td>\n",
       "      <td>0.44588</td>\n",
       "      <td>0.094</td>\n",
       "    </tr>\n",
       "    <tr>\n",
       "      <th>4</th>\n",
       "      <td>LOC</td>\n",
       "      <td>0.68592</td>\n",
       "      <td>0.48128</td>\n",
       "      <td>0.61004</td>\n",
       "    </tr>\n",
       "    <tr>\n",
       "      <th>5</th>\n",
       "      <td>PHC</td>\n",
       "      <td>0.7672</td>\n",
       "      <td>0.99284</td>\n",
       "      <td>0.02312</td>\n",
       "    </tr>\n",
       "    <tr>\n",
       "      <th>6</th>\n",
       "      <td>PRC</td>\n",
       "      <td>0.24504</td>\n",
       "      <td>0.20016</td>\n",
       "      <td>0.12088</td>\n",
       "    </tr>\n",
       "    <tr>\n",
       "      <th>7</th>\n",
       "      <td>V1</td>\n",
       "      <td>0.8718</td>\n",
       "      <td>0.63832</td>\n",
       "      <td>0.6444</td>\n",
       "    </tr>\n",
       "    <tr>\n",
       "      <th>8</th>\n",
       "      <td>V2</td>\n",
       "      <td>0.38512</td>\n",
       "      <td>0.32564</td>\n",
       "      <td>0.3074</td>\n",
       "    </tr>\n",
       "  </tbody>\n",
       "</table>\n",
       "</div>"
      ],
      "text/plain": [
       "   roi  pearson spearman    slope\n",
       "0   EC  0.02124  0.02588  0.00408\n",
       "1  Fus   1.2898  0.80624  0.22508\n",
       "2   HC  0.24688   0.2662   0.0056\n",
       "3   IT   0.4046  0.44588    0.094\n",
       "4  LOC  0.68592  0.48128  0.61004\n",
       "5  PHC   0.7672  0.99284  0.02312\n",
       "6  PRC  0.24504  0.20016  0.12088\n",
       "7   V1   0.8718  0.63832   0.6444\n",
       "8   V2  0.38512  0.32564   0.3074"
      ]
     },
     "execution_count": 53,
     "metadata": {},
     "output_type": "execute_result"
    }
   ],
   "source": [
    "X"
   ]
  },
  {
   "cell_type": "code",
   "execution_count": null,
   "metadata": {
    "collapsed": true
   },
   "outputs": [],
   "source": []
  }
 ],
 "metadata": {
  "kernelspec": {
   "display_name": "Python 2",
   "language": "python",
   "name": "python2"
  },
  "language_info": {
   "codemirror_mode": {
    "name": "ipython",
    "version": 2
   },
   "file_extension": ".py",
   "mimetype": "text/x-python",
   "name": "python",
   "nbconvert_exporter": "python",
   "pygments_lexer": "ipython2",
   "version": "2.7.12"
  }
 },
 "nbformat": 4,
 "nbformat_minor": 2
}
