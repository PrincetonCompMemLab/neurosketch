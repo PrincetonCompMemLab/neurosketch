{
 "cells": [
  {
   "cell_type": "markdown",
   "metadata": {},
   "source": [
    "## Searchlight Analysis"
   ]
  },
  {
   "cell_type": "markdown",
   "metadata": {},
   "source": [
    "How searchlight works with brainiak:\n",
    "\n",
    "1. Initiate a searchlight object, articulating certain parameters (e.g., searchlight shape, radius, max edge length, in voxels, of the 3D block(?)).\n",
    "2. Distribute to the searchlight object, sorting between MPI ranks (?).\n",
    "3. Broadcast data, i.e., define other variables to be available for each execution of the searchlight function.\n",
    "4. Run the searchlight, this time articulating as a parameter the function to be applied at each searchlight location."
   ]
  },
  {
   "cell_type": "code",
   "execution_count": 145,
   "metadata": {
    "collapsed": true
   },
   "outputs": [],
   "source": [
    "import warnings\n",
    "warnings.filterwarnings('ignore')"
   ]
  },
  {
   "cell_type": "code",
   "execution_count": 21,
   "metadata": {
    "collapsed": true
   },
   "outputs": [],
   "source": [
    "import numpy as np\n",
    "from numpy import shape\n",
    "\n",
    "import brainiak\n",
    "import os\n",
    "import json\n",
    "import _pickle as cPickle\n",
    "\n",
    "from nilearn import image\n",
    "from brainiak.searchlight.searchlight import Searchlight\n",
    "from brainiak.searchlight.searchlight import Diamond\n",
    "from sklearn.metrics.pairwise import pairwise_distances as pd"
   ]
  },
  {
   "cell_type": "markdown",
   "metadata": {},
   "source": [
    "## Setup"
   ]
  },
  {
   "cell_type": "code",
   "execution_count": 22,
   "metadata": {
    "collapsed": true
   },
   "outputs": [],
   "source": [
    "# load in experimental design pickle file\n",
    "# ??? What's a pickle file? How does this represent experimental design?\n",
    "with open('morph_drawing_training_design.pkl', 'rb') as f:\n",
    "    mdtd = cPickle.load(f, encoding='latin1') \n",
    "    "
   ]
  },
  {
   "cell_type": "code",
   "execution_count": 148,
   "metadata": {
    "collapsed": true
   },
   "outputs": [],
   "source": [
    "## cope numbering legend\n",
    "## cope1 = 'bed'\n",
    "## cope2 = 'bench'\n",
    "## cope3 = 'chair'\n",
    "## cope4 = 'table'\n",
    "\n",
    "cope2obj = {'cope1':'bed','cope2':'bench', 'cope3':'chair','cope4':'table'}\n",
    "obj2cope = {'bed':1,'bench':2, 'chair':3,'table':4}"
   ]
  },
  {
   "cell_type": "code",
   "execution_count": 24,
   "metadata": {
    "collapsed": true
   },
   "outputs": [],
   "source": [
    "# behavioral data from database\n",
    "with open('versionNums.json') as json_data:\n",
    "    coll = json.load(json_data)"
   ]
  },
  {
   "cell_type": "code",
   "execution_count": 25,
   "metadata": {},
   "outputs": [
    {
     "name": "stdout",
     "output_type": "stream",
     "text": [
      "['0110171_neurosketch', '0110172_neurosketch', '0111171_neurosketch', '0112171_neurosketch', '0112172_neurosketch', '0112173_neurosketch', '0113171_neurosketch', '0115172_neurosketch', '0115174_neurosketch', '0117171_neurosketch', '0118171_neurosketch', '0118172_neurosketch', '0119171_neurosketch', '0119172_neurosketch', '0119173_neurosketch', '0119174_neurosketch', '0120171_neurosketch', '0120172_neurosketch', '0120173_neurosketch', '0123171_neurosketch', '0123173_neurosketch', '0124171_neurosketch', '0125171_neurosketch', '0125172_neurosketch', '1121161_neurosketch', '1130161_neurosketch', '1201161_neurosketch', '1202161_neurosketch', '1203161_neurosketch', '1206161_neurosketch', '1206162_neurosketch', '1206163_neurosketch', '1207162_neurosketch']\n",
      "33 subjects\n"
     ]
    }
   ],
   "source": [
    "## get list of subject directories\n",
    "proj_dir = '/home/jefan/sketchloop02/'\n",
    "contents_dir = os.listdir(proj_dir)\n",
    "\n",
    "sub_dirs = []\n",
    "for i in contents_dir:\n",
    "    try:\n",
    "        if i.split('_')[1]=='neurosketch':\n",
    "            sub_dirs.append(i)\n",
    "    except:\n",
    "        pass\n",
    "\n",
    "sub_dirs = sorted(sub_dirs)\n",
    "\n",
    "# issue with 1207161\n",
    "sub_dirs = [s for s in sub_dirs if s != '1207161_neurosketch']\n",
    "\n",
    "print(sub_dirs)\n",
    "print(str(len(sub_dirs)) + ' subjects')"
   ]
  },
  {
   "cell_type": "code",
   "execution_count": 26,
   "metadata": {
    "collapsed": true
   },
   "outputs": [],
   "source": [
    "## Analysis helper functions (see and update: analysis_helpers.py)\n",
    "def getEndpoints(morphline):\n",
    "    # return two components \n",
    "    if morphline=='sedanMinivan':\n",
    "        return ['sedan','minivan']\n",
    "    elif morphline=='minivanSportscar':\n",
    "        return ['minivan','sportscar']\n",
    "    elif morphline=='sportscarSUV':\n",
    "        return ['sportscar','SUV']\n",
    "    elif morphline=='SUVMinivan':\n",
    "        return ['SUV','minivan']\n",
    "    elif morphline=='sportscarSedan':\n",
    "        return ['sportscar','sedan']\n",
    "    elif morphline=='sedanSUV':\n",
    "        return ['sedan','SUV']\n",
    "    elif morphline=='bedChair':\n",
    "        return ['bed','chair']\n",
    "    elif morphline=='bedTable':\n",
    "        return ['bed','table']\n",
    "    elif morphline=='benchBed':\n",
    "        return ['bench','bed']\n",
    "    elif morphline=='chairBench':\n",
    "        return ['chair','bench']\n",
    "    elif morphline=='chairTable':\n",
    "        return ['chair','table']\n",
    "    elif morphline=='tableBench':\n",
    "        return ['table','bench']\n",
    "    elif morphline=='limoToSUV':\n",
    "        return ['limo','SUV']    \n",
    "    elif morphline=='limoToSedan':\n",
    "        return ['sedan','limo']  \n",
    "    elif morphline=='limoToSmart':\n",
    "        return ['limo','smartcar']  \n",
    "    elif morphline=='smartToSedan':\n",
    "        return ['smartcar','sedan']    \n",
    "    elif morphline=='suvToSedan':\n",
    "        return ['SUV','sedan']  \n",
    "    elif morphline=='suvToSmart':\n",
    "        return ['SUV','smartcar']  \n",
    "    else:\n",
    "        return ['A','B']\n",
    "\n",
    "def load_single_run_weights(subj,run_num,cope_num):\n",
    "    nifti_path = proj_dir + '/' + subj + '/analysis/firstlevel/glm4_recognition_run_' + str(run_num) + \\\n",
    "                '.feat/stats/' + 'cope' + str(cope_num) + '.nii.gz'\n",
    "    fmri_img = image.load_img(nifti_path)\n",
    "    fmri_data = fmri_img.get_data()\n",
    "    return fmri_data\n",
    "\n",
    "def get_condorder(this_sub):\n",
    "    versionNum = coll[this_sub]\n",
    "\n",
    "    design = [i for i in mdtd if i['version'] == int(versionNum)] # find which axes belong to which condition\n",
    "    trained = design[0]['trained']\n",
    "    near = design[0]['near']\n",
    "\n",
    "    Tep = getEndpoints(trained)\n",
    "    Nep = getEndpoints(near)\n",
    "    condorder = Tep + Nep\n",
    "\n",
    "    return (obj2cope[condorder[0]],\n",
    "            obj2cope[condorder[1]],\n",
    "            obj2cope[condorder[2]],\n",
    "            obj2cope[condorder[3]])"
   ]
  },
  {
   "cell_type": "code",
   "execution_count": null,
   "metadata": {},
   "outputs": [],
   "source": [
    "## look at one \n",
    "from nilearn import plotting\n",
    "subj = sub_dirs[0]\n",
    "run_num = 1\n",
    "cope_num = 1\n",
    "nifti_path = proj_dir + '/' + subj + '/analysis/firstlevel/glm4_recognition_run_' + str(run_num) + \\\n",
    "            '.feat/stats/' + 'cope' + str(cope_num) + '.nii.gz'\n",
    "plotting.plot_img(nifti_path)\n",
    "fmri_img = image.load_img(nifti_path)\n",
    "fmri_data = fmri_img.get_data()\n",
    "vectorized = np.ndarray.flatten(fmri_data)\n",
    "thousand_random_voxels = np.random.choice(np.arange(len(vectorized)),1000)\n",
    "t_map = vectorized[thousand_random_voxels]/np.std(vectorized[thousand_random_voxels])\n",
    "hist = plt.hist(vectorized[thousand_random_voxels])"
   ]
  },
  {
   "cell_type": "code",
   "execution_count": null,
   "metadata": {
    "collapsed": true
   },
   "outputs": [],
   "source": []
  },
  {
   "cell_type": "markdown",
   "metadata": {},
   "source": [
    "## Analysis"
   ]
  },
  {
   "cell_type": "code",
   "execution_count": null,
   "metadata": {
    "collapsed": true
   },
   "outputs": [],
   "source": [
    "# parameters\n",
    "sl_rad = 1\n",
    "num_copes = 4\n",
    "num_runs = 2\n",
    "null_mask = np.ones((94, 94, 72))"
   ]
  },
  {
   "cell_type": "code",
   "execution_count": 228,
   "metadata": {
    "collapsed": true
   },
   "outputs": [],
   "source": [
    "# define function to operate over every searchlight region\n",
    "def compare_btw_wit_obj_similarity_across_runs(subject_data, mask, sl_rad, bcast_var):\n",
    "    # reshape to 3D so old code can be reused\n",
    "    global count\n",
    "    for i in range(len(subject_data)):\n",
    "        shaping = shape(subject_data[i])\n",
    "        subject_data[i] = np.reshape(subject_data[i], (shaping[0], shaping[1], shaping[2]))\n",
    "    \n",
    "    # stack by cope for each run like roi-based function did, and then stack runs\n",
    "    mat1 = np.vstack((subject_data[0].flatten(),\n",
    "                     subject_data[1].flatten(),\n",
    "                     subject_data[2].flatten(),\n",
    "                     subject_data[3].flatten()))\n",
    "    mat2 = np.vstack((subject_data[4].flatten(),\n",
    "                      subject_data[5].flatten(),\n",
    "                      subject_data[6].flatten(),\n",
    "                      subject_data[7].flatten()))\n",
    "    fAB = np.vstack((mat1, mat2))\n",
    "    \n",
    "    # take pairwise distance matrix life the roi-based function did and store summary statistics\n",
    "    DAB = pd(fAB, metric='correlation')\n",
    "    offblock = DAB[:len(mat1),range(len(mat1),shape(DAB)[1])]\n",
    "    wit_obj = DAB[:len(mat1),range(len(mat1),shape(DAB)[1])].diagonal()\n",
    "    btw_obj = np.hstack((offblock[np.triu_indices(shape(offblock)[0],k=1)],\n",
    "                         offblock[np.tril_indices(shape(offblock)[0],k=-1)]))\n",
    "    wit_mean = wit_obj.mean()\n",
    "    btw_mean = btw_obj.mean()\n",
    "    return wit_mean,btw_mean"
   ]
  },
  {
   "cell_type": "code",
   "execution_count": 234,
   "metadata": {
    "collapsed": true
   },
   "outputs": [],
   "source": [
    "# define function to set up and run searchlight for each in subject set\n",
    "count = 0\n",
    "def searchlight_over_each(subjects):\n",
    "    global count\n",
    "    for s in subjects:\n",
    "        # set up searchlight object\n",
    "        sl = Searchlight(sl_rad=sl_rad, shape=Diamond)\n",
    "        \n",
    "        # arrange data to be distributed to searchlight\n",
    "        # list of 4D not 3D arrays\n",
    "        subject_data = []\n",
    "        for run in range(1, num_runs+1):\n",
    "            for cope in  get_condorder(s):\n",
    "                subject_data.append(np.reshape(np.array(load_single_run_weights(s, run, cope)), (94, 94, 72, 1)))\n",
    "        \n",
    "        # distribute and broadcast needed data to searchlight\n",
    "        sl.distribute(subject_data, null_mask)\n",
    "        sl.broadcast(None)\n",
    "        \n",
    "        # run searchlight\n",
    "        subject_outputs = sl.run_searchlight(compare_btw_wit_obj_similarity_across_runs)\n",
    "        \n",
    "        # store output for this subject\n",
    "        np.save(s + 'searchlight.npy',\n",
    "                subject_outputs)"
   ]
  },
  {
   "cell_type": "code",
   "execution_count": 236,
   "metadata": {},
   "outputs": [
    {
     "ename": "ValueError",
     "evalue": "File not found: '/home/jefan/sketchloop02//1201161_neurosketch/analysis/firstlevel/glm4_recognition_run_1.feat/stats/cope4.nii.gz'",
     "output_type": "error",
     "traceback": [
      "\u001b[0;31m---------------------------------------------------------------------------\u001b[0m",
      "\u001b[0;31mValueError\u001b[0m                                Traceback (most recent call last)",
      "\u001b[0;32m<ipython-input-236-0aa6da1776f8>\u001b[0m in \u001b[0;36m<module>\u001b[0;34m()\u001b[0m\n\u001b[1;32m      2\u001b[0m \u001b[0;32mfrom\u001b[0m \u001b[0mtimeit\u001b[0m \u001b[0;32mimport\u001b[0m \u001b[0mdefault_timer\u001b[0m \u001b[0;32mas\u001b[0m \u001b[0mtimer\u001b[0m\u001b[0;34m\u001b[0m\u001b[0m\n\u001b[1;32m      3\u001b[0m \u001b[0mstart\u001b[0m \u001b[0;34m=\u001b[0m \u001b[0mtimer\u001b[0m\u001b[0;34m(\u001b[0m\u001b[0;34m)\u001b[0m\u001b[0;34m\u001b[0m\u001b[0m\n\u001b[0;32m----> 4\u001b[0;31m \u001b[0msearchlight_over_each\u001b[0m\u001b[0;34m(\u001b[0m\u001b[0msub_dirs\u001b[0m\u001b[0;34m)\u001b[0m\u001b[0;34m\u001b[0m\u001b[0m\n\u001b[0m\u001b[1;32m      5\u001b[0m \u001b[0mend\u001b[0m \u001b[0;34m=\u001b[0m \u001b[0mtimer\u001b[0m\u001b[0;34m(\u001b[0m\u001b[0;34m)\u001b[0m\u001b[0;34m\u001b[0m\u001b[0m\n\u001b[1;32m      6\u001b[0m \u001b[0mprint\u001b[0m\u001b[0;34m(\u001b[0m\u001b[0mend\u001b[0m \u001b[0;34m-\u001b[0m \u001b[0mstart\u001b[0m\u001b[0;34m)\u001b[0m\u001b[0;34m\u001b[0m\u001b[0m\n",
      "\u001b[0;32m<ipython-input-234-21377dbd57b9>\u001b[0m in \u001b[0;36msearchlight_over_each\u001b[0;34m(subjects)\u001b[0m\n\u001b[1;32m     12\u001b[0m         \u001b[0;32mfor\u001b[0m \u001b[0mrun\u001b[0m \u001b[0;32min\u001b[0m \u001b[0mrange\u001b[0m\u001b[0;34m(\u001b[0m\u001b[0;36m1\u001b[0m\u001b[0;34m,\u001b[0m \u001b[0mnum_runs\u001b[0m\u001b[0;34m+\u001b[0m\u001b[0;36m1\u001b[0m\u001b[0;34m)\u001b[0m\u001b[0;34m:\u001b[0m\u001b[0;34m\u001b[0m\u001b[0m\n\u001b[1;32m     13\u001b[0m             \u001b[0;32mfor\u001b[0m \u001b[0mcope\u001b[0m \u001b[0;32min\u001b[0m  \u001b[0mget_condorder\u001b[0m\u001b[0;34m(\u001b[0m\u001b[0ms\u001b[0m\u001b[0;34m)\u001b[0m\u001b[0;34m:\u001b[0m\u001b[0;34m\u001b[0m\u001b[0m\n\u001b[0;32m---> 14\u001b[0;31m                 \u001b[0msubject_data\u001b[0m\u001b[0;34m.\u001b[0m\u001b[0mappend\u001b[0m\u001b[0;34m(\u001b[0m\u001b[0mnp\u001b[0m\u001b[0;34m.\u001b[0m\u001b[0mreshape\u001b[0m\u001b[0;34m(\u001b[0m\u001b[0mnp\u001b[0m\u001b[0;34m.\u001b[0m\u001b[0marray\u001b[0m\u001b[0;34m(\u001b[0m\u001b[0mload_single_run_weights\u001b[0m\u001b[0;34m(\u001b[0m\u001b[0ms\u001b[0m\u001b[0;34m,\u001b[0m \u001b[0mrun\u001b[0m\u001b[0;34m,\u001b[0m \u001b[0mcope\u001b[0m\u001b[0;34m)\u001b[0m\u001b[0;34m)\u001b[0m\u001b[0;34m,\u001b[0m \u001b[0;34m(\u001b[0m\u001b[0;36m94\u001b[0m\u001b[0;34m,\u001b[0m \u001b[0;36m94\u001b[0m\u001b[0;34m,\u001b[0m \u001b[0;36m72\u001b[0m\u001b[0;34m,\u001b[0m \u001b[0;36m1\u001b[0m\u001b[0;34m)\u001b[0m\u001b[0;34m)\u001b[0m\u001b[0;34m)\u001b[0m\u001b[0;34m\u001b[0m\u001b[0m\n\u001b[0m\u001b[1;32m     15\u001b[0m \u001b[0;34m\u001b[0m\u001b[0m\n\u001b[1;32m     16\u001b[0m         \u001b[0;31m# distribute and broadcast needed data to searchlight\u001b[0m\u001b[0;34m\u001b[0m\u001b[0;34m\u001b[0m\u001b[0m\n",
      "\u001b[0;32m<ipython-input-151-4245b1cc3e85>\u001b[0m in \u001b[0;36mload_single_run_weights\u001b[0;34m(subj, run_num, cope_num)\u001b[0m\n\u001b[1;32m     43\u001b[0m \u001b[0;32mdef\u001b[0m \u001b[0mload_single_run_weights\u001b[0m\u001b[0;34m(\u001b[0m\u001b[0msubj\u001b[0m\u001b[0;34m,\u001b[0m\u001b[0mrun_num\u001b[0m\u001b[0;34m,\u001b[0m\u001b[0mcope_num\u001b[0m\u001b[0;34m)\u001b[0m\u001b[0;34m:\u001b[0m\u001b[0;34m\u001b[0m\u001b[0m\n\u001b[1;32m     44\u001b[0m     \u001b[0mnifti_path\u001b[0m \u001b[0;34m=\u001b[0m \u001b[0mproj_dir\u001b[0m \u001b[0;34m+\u001b[0m \u001b[0;34m'/'\u001b[0m \u001b[0;34m+\u001b[0m \u001b[0msubj\u001b[0m \u001b[0;34m+\u001b[0m \u001b[0;34m'/analysis/firstlevel/glm4_recognition_run_'\u001b[0m \u001b[0;34m+\u001b[0m \u001b[0mstr\u001b[0m\u001b[0;34m(\u001b[0m\u001b[0mrun_num\u001b[0m\u001b[0;34m)\u001b[0m \u001b[0;34m+\u001b[0m                 \u001b[0;34m'.feat/stats/'\u001b[0m \u001b[0;34m+\u001b[0m \u001b[0;34m'cope'\u001b[0m \u001b[0;34m+\u001b[0m \u001b[0mstr\u001b[0m\u001b[0;34m(\u001b[0m\u001b[0mcope_num\u001b[0m\u001b[0;34m)\u001b[0m \u001b[0;34m+\u001b[0m \u001b[0;34m'.nii.gz'\u001b[0m\u001b[0;34m\u001b[0m\u001b[0m\n\u001b[0;32m---> 45\u001b[0;31m     \u001b[0mfmri_img\u001b[0m \u001b[0;34m=\u001b[0m \u001b[0mimage\u001b[0m\u001b[0;34m.\u001b[0m\u001b[0mload_img\u001b[0m\u001b[0;34m(\u001b[0m\u001b[0mnifti_path\u001b[0m\u001b[0;34m)\u001b[0m\u001b[0;34m\u001b[0m\u001b[0m\n\u001b[0m\u001b[1;32m     46\u001b[0m     \u001b[0mfmri_data\u001b[0m \u001b[0;34m=\u001b[0m \u001b[0mfmri_img\u001b[0m\u001b[0;34m.\u001b[0m\u001b[0mget_data\u001b[0m\u001b[0;34m(\u001b[0m\u001b[0;34m)\u001b[0m\u001b[0;34m\u001b[0m\u001b[0m\n\u001b[1;32m     47\u001b[0m     \u001b[0;32mreturn\u001b[0m \u001b[0mfmri_data\u001b[0m\u001b[0;34m\u001b[0m\u001b[0m\n",
      "\u001b[0;32m/home/jgunn/.local/lib/python3.6/site-packages/nilearn/image/image.py\u001b[0m in \u001b[0;36mload_img\u001b[0;34m(img, wildcards, dtype)\u001b[0m\n\u001b[1;32m    901\u001b[0m         \u001b[0mthat\u001b[0m \u001b[0mthe\u001b[0m \u001b[0mreturned\u001b[0m \u001b[0mobject\u001b[0m \u001b[0mhas\u001b[0m \u001b[0mget_data\u001b[0m\u001b[0;34m(\u001b[0m\u001b[0;34m)\u001b[0m \u001b[0;32mand\u001b[0m \u001b[0maffine\u001b[0m \u001b[0mattributes\u001b[0m\u001b[0;34m.\u001b[0m\u001b[0;34m\u001b[0m\u001b[0m\n\u001b[1;32m    902\u001b[0m     \"\"\"\n\u001b[0;32m--> 903\u001b[0;31m     \u001b[0;32mreturn\u001b[0m \u001b[0mcheck_niimg\u001b[0m\u001b[0;34m(\u001b[0m\u001b[0mimg\u001b[0m\u001b[0;34m,\u001b[0m \u001b[0mwildcards\u001b[0m\u001b[0;34m=\u001b[0m\u001b[0mwildcards\u001b[0m\u001b[0;34m,\u001b[0m \u001b[0mdtype\u001b[0m\u001b[0;34m=\u001b[0m\u001b[0mdtype\u001b[0m\u001b[0;34m)\u001b[0m\u001b[0;34m\u001b[0m\u001b[0m\n\u001b[0m\u001b[1;32m    904\u001b[0m \u001b[0;34m\u001b[0m\u001b[0m\n\u001b[1;32m    905\u001b[0m \u001b[0;34m\u001b[0m\u001b[0m\n",
      "\u001b[0;32m/home/jgunn/.local/lib/python3.6/site-packages/nilearn/_utils/niimg_conversions.py\u001b[0m in \u001b[0;36mcheck_niimg\u001b[0;34m(niimg, ensure_ndim, atleast_4d, dtype, return_iterator, wildcards)\u001b[0m\n\u001b[1;32m    257\u001b[0m                 \u001b[0;32mraise\u001b[0m \u001b[0mValueError\u001b[0m\u001b[0;34m(\u001b[0m\u001b[0mmessage\u001b[0m\u001b[0;34m)\u001b[0m\u001b[0;34m\u001b[0m\u001b[0m\n\u001b[1;32m    258\u001b[0m             \u001b[0;32melse\u001b[0m\u001b[0;34m:\u001b[0m\u001b[0;34m\u001b[0m\u001b[0m\n\u001b[0;32m--> 259\u001b[0;31m                 \u001b[0;32mraise\u001b[0m \u001b[0mValueError\u001b[0m\u001b[0;34m(\u001b[0m\u001b[0;34m\"File not found: '%s'\"\u001b[0m \u001b[0;34m%\u001b[0m \u001b[0mniimg\u001b[0m\u001b[0;34m)\u001b[0m\u001b[0;34m\u001b[0m\u001b[0m\n\u001b[0m\u001b[1;32m    260\u001b[0m         \u001b[0;32melif\u001b[0m \u001b[0;32mnot\u001b[0m \u001b[0mos\u001b[0m\u001b[0;34m.\u001b[0m\u001b[0mpath\u001b[0m\u001b[0;34m.\u001b[0m\u001b[0mexists\u001b[0m\u001b[0;34m(\u001b[0m\u001b[0mniimg\u001b[0m\u001b[0;34m)\u001b[0m\u001b[0;34m:\u001b[0m\u001b[0;34m\u001b[0m\u001b[0m\n\u001b[1;32m    261\u001b[0m             \u001b[0;32mraise\u001b[0m \u001b[0mValueError\u001b[0m\u001b[0;34m(\u001b[0m\u001b[0;34m\"File not found: '%s'\"\u001b[0m \u001b[0;34m%\u001b[0m \u001b[0mniimg\u001b[0m\u001b[0;34m)\u001b[0m\u001b[0;34m\u001b[0m\u001b[0m\n",
      "\u001b[0;31mValueError\u001b[0m: File not found: '/home/jefan/sketchloop02//1201161_neurosketch/analysis/firstlevel/glm4_recognition_run_1.feat/stats/cope4.nii.gz'"
     ]
    }
   ],
   "source": [
    "# time the searchlight\n",
    "from timeit import default_timer as timer\n",
    "start = timer()\n",
    "searchlight_over_each(sub_dirs)\n",
    "end = timer()\n",
    "print(end - start)"
   ]
  },
  {
   "cell_type": "markdown",
   "metadata": {},
   "source": [
    "## Results/Visualization"
   ]
  },
  {
   "cell_type": "markdown",
   "metadata": {},
   "source": [
    "What kinds of visualizations do we want? Big picture: we're looking to identify brain areas that can discriminate between copes. Their within-object similarity is higher than their between-object similarity. Right? But more concretely...\n",
    "\n",
    "1. We want to observe the value distribution of values within a subject's array. Histogram.\n",
    "2. We want to observe the spatial distribution of values within a subject array. Map or set of maps..?"
   ]
  },
  {
   "cell_type": "code",
   "execution_count": 280,
   "metadata": {
    "collapsed": true
   },
   "outputs": [],
   "source": [
    "# parameters\n",
    "subjectindex = 2\n",
    "subject = np.load(sub_dirs[subjectindex] + 'searchlight.npy')\n",
    "subject = subject[~(subject == None)]\n"
   ]
  },
  {
   "cell_type": "code",
   "execution_count": 148,
   "metadata": {},
   "outputs": [
    {
     "name": "stdout",
     "output_type": "stream",
     "text": [
      "witmeans\n"
     ]
    },
    {
     "data": {
      "image/png": "[encoded data removed]",
      "text/plain": [
       "<matplotlib.figure.Figure at 0x7f3a297cdf28>"
      ]
     },
     "metadata": {},
     "output_type": "display_data"
    },
    {
     "name": "stdout",
     "output_type": "stream",
     "text": [
      "btwmeans\n"
     ]
    },
    {
     "data": {
      "image/png": "[encoded data removed]",
      "text/plain": [
       "<matplotlib.figure.Figure at 0x7f3a10c4f780>"
      ]
     },
     "metadata": {},
     "output_type": "display_data"
    },
    {
     "name": "stdout",
     "output_type": "stream",
     "text": [
      "btw-wit\n"
     ]
    },
    {
     "data": {
      "image/png": "[encoded data removed]",
      "text/plain": [
       "<matplotlib.figure.Figure at 0x7f3a14c439e8>"
      ]
     },
     "metadata": {},
     "output_type": "display_data"
    }
   ],
   "source": [
    "# histogram - value distribution\n",
    "import pylab\n",
    "\n",
    "print('witmeans')\n",
    "witmeans = [cell[0] for cell in subject]\n",
    "witmeans = np.array(witmeans)\n",
    "pylab.figure()\n",
    "pylab.hist(witmeans[~np.isnan(witmeans)])\n",
    "pylab.show()\n",
    "\n",
    "print('btwmeans')\n",
    "btwmeans = [cell[1] for cell in subject]\n",
    "btwmeans = np.array(btwmeans)\n",
    "pylab.figure()\n",
    "pylab.hist(btwmeans[~np.isnan(btwmeans)])\n",
    "pylab.show()\n",
    "\n",
    "print('btw-wit')\n",
    "differences = [(cell[1] - cell[0]) for cell in subject]\n",
    "differences = np.array(differences)\n",
    "pylab.figure()\n",
    "pylab.hist(differences[~np.isnan(differences)])\n",
    "pylab.show()"
   ]
  },
  {
   "cell_type": "code",
   "execution_count": null,
   "metadata": {
    "collapsed": true
   },
   "outputs": [],
   "source": [
    "# for now we have just one subject to produce visualizations for\n",
    "# make a difference map\n",
    "difference = np.subtract(wit_means, btw_means)\n",
    "\n",
    "# produce a histogram of the difference distribution\n",
    "hist, bin_edges = np.histogram(np.reshape(difference, difference.size))\n",
    "plt.hist(hist, bins='auto')\n",
    "plt.title(\"Difference Distribution\")\n",
    "plt.show()\n",
    "    "
   ]
  },
  {
   "cell_type": "code",
   "execution_count": 136,
   "metadata": {},
   "outputs": [
    {
     "data": {
      "text/plain": [
       "nan"
      ]
     },
     "execution_count": 136,
     "metadata": {},
     "output_type": "execute_result"
    }
   ],
   "source": [
    "np.nan"
   ]
  }
 ],
 "metadata": {
  "kernelspec": {
   "display_name": "Python 3",
   "language": "python",
   "name": "python3"
  },
  "language_info": {
   "codemirror_mode": {
    "name": "ipython",
    "version": 3
   },
   "file_extension": ".py",
   "mimetype": "text/x-python",
   "name": "python",
   "nbconvert_exporter": "python",
   "pygments_lexer": "ipython3",
   "version": "3.6.1"
  }
 },
 "nbformat": 4,
 "nbformat_minor": 2
}
