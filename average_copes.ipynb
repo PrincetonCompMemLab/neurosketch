{
 "cells": [
  {
   "cell_type": "markdown",
   "metadata": {},
   "source": [
    "Quick Code to Compute The Average Cope Map Across Subjects For Each Cope"
   ]
  },
  {
   "cell_type": "code",
   "execution_count": 29,
   "metadata": {
    "collapsed": true
   },
   "outputs": [],
   "source": [
    "import os\n",
    "import numpy as np\n",
    "from nilearn import image\n",
    "import nibabel as nib"
   ]
  },
  {
   "cell_type": "code",
   "execution_count": 30,
   "metadata": {},
   "outputs": [
    {
     "name": "stdout",
     "output_type": "stream",
     "text": [
      "['0110171_run1_cope1_aligned_standard.nii.gz', '0110171_run1_cope2_aligned_standard.nii.gz', '0110171_run1_cope3_aligned_standard.nii.gz', '0110171_run1_cope4_aligned_standard.nii.gz', '0110171_run2_cope1_aligned_standard.nii.gz', '0110171_run2_cope2_aligned_standard.nii.gz', '0110171_run2_cope3_aligned_standard.nii.gz', '0110171_run2_cope4_aligned_standard.nii.gz', '0110172_run1_cope1_aligned_standard.nii.gz', '0110172_run1_cope2_aligned_standard.nii.gz', '0110172_run1_cope3_aligned_standard.nii.gz', '0110172_run1_cope4_aligned_standard.nii.gz', '0110172_run2_cope1_aligned_standard.nii.gz', '0110172_run2_cope2_aligned_standard.nii.gz', '0110172_run2_cope3_aligned_standard.nii.gz', '0110172_run2_cope4_aligned_standard.nii.gz', '0111171_run1_cope1_aligned_standard.nii.gz', '0111171_run1_cope2_aligned_standard.nii.gz', '0111171_run1_cope3_aligned_standard.nii.gz', '0111171_run1_cope4_aligned_standard.nii.gz', '0111171_run2_cope1_aligned_standard.nii.gz', '0111171_run2_cope2_aligned_standard.nii.gz', '0111171_run2_cope3_aligned_standard.nii.gz', '0111171_run2_cope4_aligned_standard.nii.gz', '0112171_run1_cope1_aligned_standard.nii.gz', '0112171_run1_cope2_aligned_standard.nii.gz', '0112171_run1_cope3_aligned_standard.nii.gz', '0112171_run1_cope4_aligned_standard.nii.gz', '0112171_run2_cope1_aligned_standard.nii.gz', '0112171_run2_cope2_aligned_standard.nii.gz', '0112171_run2_cope3_aligned_standard.nii.gz', '0112171_run2_cope4_aligned_standard.nii.gz', '0112172_run1_cope1_aligned_standard.nii.gz', '0112172_run1_cope2_aligned_standard.nii.gz', '0112172_run1_cope3_aligned_standard.nii.gz', '0112172_run1_cope4_aligned_standard.nii.gz', '0112172_run2_cope1_aligned_standard.nii.gz', '0112172_run2_cope2_aligned_standard.nii.gz', '0112172_run2_cope3_aligned_standard.nii.gz', '0112172_run2_cope4_aligned_standard.nii.gz', '0112173_run1_cope1_aligned_standard.nii.gz', '0112173_run1_cope2_aligned_standard.nii.gz', '0112173_run1_cope3_aligned_standard.nii.gz', '0112173_run1_cope4_aligned_standard.nii.gz', '0112173_run2_cope1_aligned_standard.nii.gz', '0112173_run2_cope2_aligned_standard.nii.gz', '0112173_run2_cope3_aligned_standard.nii.gz', '0112173_run2_cope4_aligned_standard.nii.gz', '0113171_run1_cope1_aligned_standard.nii.gz', '0113171_run1_cope2_aligned_standard.nii.gz', '0113171_run1_cope3_aligned_standard.nii.gz', '0113171_run1_cope4_aligned_standard.nii.gz', '0113171_run2_cope1_aligned_standard.nii.gz', '0113171_run2_cope2_aligned_standard.nii.gz', '0113171_run2_cope3_aligned_standard.nii.gz', '0113171_run2_cope4_aligned_standard.nii.gz', '0115172_run1_cope1_aligned_standard.nii.gz', '0115172_run1_cope2_aligned_standard.nii.gz', '0115172_run1_cope3_aligned_standard.nii.gz', '0115172_run1_cope4_aligned_standard.nii.gz', '0115172_run2_cope1_aligned_standard.nii.gz', '0115172_run2_cope2_aligned_standard.nii.gz', '0115172_run2_cope3_aligned_standard.nii.gz', '0115172_run2_cope4_aligned_standard.nii.gz', '0115174_run1_cope1_aligned_standard.nii.gz', '0115174_run1_cope2_aligned_standard.nii.gz', '0115174_run1_cope3_aligned_standard.nii.gz', '0115174_run1_cope4_aligned_standard.nii.gz', '0115174_run2_cope1_aligned_standard.nii.gz', '0115174_run2_cope2_aligned_standard.nii.gz', '0115174_run2_cope3_aligned_standard.nii.gz', '0115174_run2_cope4_aligned_standard.nii.gz', '0117171_run1_cope1_aligned_standard.nii.gz', '0117171_run1_cope2_aligned_standard.nii.gz', '0117171_run1_cope3_aligned_standard.nii.gz', '0117171_run1_cope4_aligned_standard.nii.gz', '0117171_run2_cope1_aligned_standard.nii.gz', '0117171_run2_cope2_aligned_standard.nii.gz', '0117171_run2_cope3_aligned_standard.nii.gz', '0117171_run2_cope4_aligned_standard.nii.gz', '0118171_run1_cope1_aligned_standard.nii.gz', '0118171_run1_cope2_aligned_standard.nii.gz', '0118171_run1_cope3_aligned_standard.nii.gz', '0118171_run1_cope4_aligned_standard.nii.gz', '0118171_run2_cope1_aligned_standard.nii.gz', '0118171_run2_cope2_aligned_standard.nii.gz', '0118171_run2_cope3_aligned_standard.nii.gz', '0118171_run2_cope4_aligned_standard.nii.gz', '0118172_run1_cope1_aligned_standard.nii.gz', '0118172_run1_cope2_aligned_standard.nii.gz', '0118172_run1_cope3_aligned_standard.nii.gz', '0118172_run1_cope4_aligned_standard.nii.gz', '0118172_run2_cope1_aligned_standard.nii.gz', '0118172_run2_cope2_aligned_standard.nii.gz', '0118172_run2_cope3_aligned_standard.nii.gz', '0118172_run2_cope4_aligned_standard.nii.gz', '0119171_run1_cope1_aligned_standard.nii.gz', '0119171_run1_cope2_aligned_standard.nii.gz', '0119171_run1_cope3_aligned_standard.nii.gz', '0119171_run1_cope4_aligned_standard.nii.gz', '0119171_run2_cope1_aligned_standard.nii.gz', '0119171_run2_cope2_aligned_standard.nii.gz', '0119171_run2_cope3_aligned_standard.nii.gz', '0119171_run2_cope4_aligned_standard.nii.gz', '0119172_run1_cope1_aligned_standard.nii.gz', '0119172_run1_cope2_aligned_standard.nii.gz', '0119172_run1_cope3_aligned_standard.nii.gz', '0119172_run1_cope4_aligned_standard.nii.gz', '0119172_run2_cope1_aligned_standard.nii.gz', '0119172_run2_cope2_aligned_standard.nii.gz', '0119172_run2_cope3_aligned_standard.nii.gz', '0119172_run2_cope4_aligned_standard.nii.gz', '0119173_run1_cope1_aligned_standard.nii.gz', '0119173_run1_cope2_aligned_standard.nii.gz', '0119173_run1_cope3_aligned_standard.nii.gz', '0119173_run1_cope4_aligned_standard.nii.gz', '0119173_run2_cope1_aligned_standard.nii.gz', '0119173_run2_cope2_aligned_standard.nii.gz', '0119173_run2_cope3_aligned_standard.nii.gz', '0119173_run2_cope4_aligned_standard.nii.gz', '0119174_run1_cope1_aligned_standard.nii.gz', '0119174_run1_cope2_aligned_standard.nii.gz', '0119174_run1_cope3_aligned_standard.nii.gz', '0119174_run1_cope4_aligned_standard.nii.gz', '0119174_run2_cope1_aligned_standard.nii.gz', '0119174_run2_cope2_aligned_standard.nii.gz', '0119174_run2_cope3_aligned_standard.nii.gz', '0119174_run2_cope4_aligned_standard.nii.gz', '0120171_run1_cope1_aligned_standard.nii.gz', '0120171_run1_cope2_aligned_standard.nii.gz', '0120171_run1_cope3_aligned_standard.nii.gz', '0120171_run1_cope4_aligned_standard.nii.gz', '0120171_run2_cope1_aligned_standard.nii.gz', '0120171_run2_cope2_aligned_standard.nii.gz', '0120171_run2_cope3_aligned_standard.nii.gz', '0120171_run2_cope4_aligned_standard.nii.gz', '0120172_run1_cope1_aligned_standard.nii.gz', '0120172_run1_cope2_aligned_standard.nii.gz', '0120172_run1_cope3_aligned_standard.nii.gz', '0120172_run1_cope4_aligned_standard.nii.gz', '0120172_run2_cope1_aligned_standard.nii.gz', '0120172_run2_cope2_aligned_standard.nii.gz', '0120172_run2_cope3_aligned_standard.nii.gz', '0120172_run2_cope4_aligned_standard.nii.gz', '0120173_run1_cope1_aligned_standard.nii.gz', '0120173_run1_cope2_aligned_standard.nii.gz', '0120173_run1_cope3_aligned_standard.nii.gz', '0120173_run1_cope4_aligned_standard.nii.gz', '0120173_run2_cope1_aligned_standard.nii.gz', '0120173_run2_cope2_aligned_standard.nii.gz', '0120173_run2_cope3_aligned_standard.nii.gz', '0120173_run2_cope4_aligned_standard.nii.gz', '0123171_run1_cope1_aligned_standard.nii.gz', '0123171_run1_cope2_aligned_standard.nii.gz', '0123171_run1_cope3_aligned_standard.nii.gz', '0123171_run1_cope4_aligned_standard.nii.gz', '0123171_run2_cope1_aligned_standard.nii.gz', '0123171_run2_cope2_aligned_standard.nii.gz', '0123171_run2_cope3_aligned_standard.nii.gz', '0123171_run2_cope4_aligned_standard.nii.gz', '0123173_run1_cope1_aligned_standard.nii.gz', '0123173_run1_cope2_aligned_standard.nii.gz', '0123173_run1_cope3_aligned_standard.nii.gz', '0123173_run1_cope4_aligned_standard.nii.gz', '0123173_run2_cope1_aligned_standard.nii.gz', '0123173_run2_cope2_aligned_standard.nii.gz', '0123173_run2_cope3_aligned_standard.nii.gz', '0123173_run2_cope4_aligned_standard.nii.gz', '0124171_run1_cope1_aligned_standard.nii.gz', '0124171_run1_cope2_aligned_standard.nii.gz', '0124171_run1_cope3_aligned_standard.nii.gz', '0124171_run1_cope4_aligned_standard.nii.gz', '0124171_run2_cope1_aligned_standard.nii.gz', '0124171_run2_cope2_aligned_standard.nii.gz', '0124171_run2_cope3_aligned_standard.nii.gz', '0124171_run2_cope4_aligned_standard.nii.gz', '0125171_run1_cope1_aligned_standard.nii.gz', '0125171_run1_cope2_aligned_standard.nii.gz', '0125171_run1_cope3_aligned_standard.nii.gz', '0125171_run1_cope4_aligned_standard.nii.gz', '0125171_run2_cope1_aligned_standard.nii.gz', '0125171_run2_cope2_aligned_standard.nii.gz', '0125171_run2_cope3_aligned_standard.nii.gz', '0125171_run2_cope4_aligned_standard.nii.gz', '0125172_run1_cope1_aligned_standard.nii.gz', '0125172_run1_cope2_aligned_standard.nii.gz', '0125172_run1_cope3_aligned_standard.nii.gz', '0125172_run1_cope4_aligned_standard.nii.gz', '0125172_run2_cope1_aligned_standard.nii.gz', '0125172_run2_cope2_aligned_standard.nii.gz', '0125172_run2_cope3_aligned_standard.nii.gz', '0125172_run2_cope4_aligned_standard.nii.gz', '1121161_run1_cope1_aligned_standard.nii.gz', '1121161_run1_cope2_aligned_standard.nii.gz', '1121161_run1_cope3_aligned_standard.nii.gz', '1121161_run1_cope4_aligned_standard.nii.gz', '1121161_run2_cope1_aligned_standard.nii.gz', '1121161_run2_cope2_aligned_standard.nii.gz', '1121161_run2_cope3_aligned_standard.nii.gz', '1121161_run2_cope4_aligned_standard.nii.gz', '1130161_run1_cope1_aligned_standard.nii.gz', '1130161_run1_cope2_aligned_standard.nii.gz', '1130161_run1_cope3_aligned_standard.nii.gz', '1130161_run1_cope4_aligned_standard.nii.gz', '1130161_run2_cope1_aligned_standard.nii.gz', '1130161_run2_cope2_aligned_standard.nii.gz', '1130161_run2_cope3_aligned_standard.nii.gz', '1130161_run2_cope4_aligned_standard.nii.gz', '1202161_run1_cope1_aligned_standard.nii.gz', '1202161_run1_cope2_aligned_standard.nii.gz', '1202161_run1_cope3_aligned_standard.nii.gz', '1202161_run1_cope4_aligned_standard.nii.gz', '1202161_run2_cope1_aligned_standard.nii.gz', '1202161_run2_cope2_aligned_standard.nii.gz', '1202161_run2_cope3_aligned_standard.nii.gz', '1202161_run2_cope4_aligned_standard.nii.gz', '1203161_run1_cope1_aligned_standard.nii.gz', '1203161_run1_cope2_aligned_standard.nii.gz', '1203161_run1_cope3_aligned_standard.nii.gz', '1203161_run1_cope4_aligned_standard.nii.gz', '1203161_run2_cope1_aligned_standard.nii.gz', '1203161_run2_cope2_aligned_standard.nii.gz', '1203161_run2_cope3_aligned_standard.nii.gz', '1203161_run2_cope4_aligned_standard.nii.gz', '1206161_run1_cope1_aligned_standard.nii.gz', '1206161_run1_cope2_aligned_standard.nii.gz', '1206161_run1_cope3_aligned_standard.nii.gz', '1206161_run1_cope4_aligned_standard.nii.gz', '1206161_run2_cope1_aligned_standard.nii.gz', '1206161_run2_cope2_aligned_standard.nii.gz', '1206161_run2_cope3_aligned_standard.nii.gz', '1206161_run2_cope4_aligned_standard.nii.gz', '1206162_run1_cope1_aligned_standard.nii.gz', '1206162_run1_cope2_aligned_standard.nii.gz', '1206162_run1_cope3_aligned_standard.nii.gz', '1206162_run1_cope4_aligned_standard.nii.gz', '1206162_run2_cope1_aligned_standard.nii.gz', '1206162_run2_cope2_aligned_standard.nii.gz', '1206162_run2_cope3_aligned_standard.nii.gz', '1206162_run2_cope4_aligned_standard.nii.gz', '1206163_run1_cope1_aligned_standard.nii.gz', '1206163_run1_cope2_aligned_standard.nii.gz', '1206163_run1_cope3_aligned_standard.nii.gz', '1206163_run1_cope4_aligned_standard.nii.gz', '1206163_run2_cope1_aligned_standard.nii.gz', '1206163_run2_cope2_aligned_standard.nii.gz', '1206163_run2_cope3_aligned_standard.nii.gz', '1206163_run2_cope4_aligned_standard.nii.gz', '1207162_run1_cope1_aligned_standard.nii.gz', '1207162_run1_cope2_aligned_standard.nii.gz', '1207162_run1_cope3_aligned_standard.nii.gz', '1207162_run1_cope4_aligned_standard.nii.gz', '1207162_run2_cope1_aligned_standard.nii.gz', '1207162_run2_cope2_aligned_standard.nii.gz', '1207162_run2_cope3_aligned_standard.nii.gz', '1207162_run2_cope4_aligned_standard.nii.gz']\n",
      "32.0 subjects\n"
     ]
    }
   ],
   "source": [
    "## get list of files, exclude certain ones\n",
    "proj_dir = '/home/jgunn/neurosketch/standard_copes/'\n",
    "sub_dirs = os.listdir(proj_dir)\n",
    "sub_dirs = sorted(sub_dirs)\n",
    "\n",
    "# issue with 1207161\n",
    "sub_dirs = [s for s in sub_dirs if s.count('1207161') == 0]\n",
    "sub_dirs = [s for s in sub_dirs if s.count('1201161') == 0]\n",
    "sub_dirs = [s for s in sub_dirs if s.count('0112174') == 0]\n",
    "\n",
    "print(sub_dirs)\n",
    "print(str(len(sub_dirs)/8) + ' subjects')"
   ]
  },
  {
   "cell_type": "code",
   "execution_count": 31,
   "metadata": {
    "collapsed": true
   },
   "outputs": [],
   "source": [
    "## Analysis helper functions (see and update: analysis_helpers.py)\n",
    "def load_single_run_weights(nifti_path):\n",
    "    fmri_img = image.load_img(proj_dir + nifti_path)\n",
    "    fmri_data = fmri_img.get_data()\n",
    "    return fmri_data, fmri_img.affine"
   ]
  },
  {
   "cell_type": "code",
   "execution_count": 33,
   "metadata": {},
   "outputs": [
    {
     "name": "stdout",
     "output_type": "stream",
     "text": [
      "64\n",
      "(91, 109, 91)\n",
      "64\n",
      "(91, 109, 91)\n",
      "64\n",
      "(91, 109, 91)\n",
      "64\n",
      "(91, 109, 91)\n"
     ]
    }
   ],
   "source": [
    "# for each cope\n",
    "for cope in ['1', '2', '3', '4']:\n",
    "    combined = []\n",
    "    \n",
    "    # stack maps along 4th axis\n",
    "    for count, s in enumerate([each for each in sub_dirs if each.count('cope' + cope + '_aligned_standard.nii.gz') > 0]):\n",
    "        weights, affine = load_single_run_weights(s)\n",
    "        combined.append(weights)\n",
    "    \n",
    "    print(len(combined))\n",
    "    # take mean of concatenated map along this axis\n",
    "    averaged = np.mean(np.stack(combined, axis=3), axis=3)\n",
    "    \n",
    "    # sanity checks\n",
    "    print(np.shape(averaged))\n",
    "    \n",
    "    # save the result\n",
    "    img = nib.Nifti1Image(averaged.astype(np.float32), affine)\n",
    "    nib.save(img, 'average_cope_' + cope + '.nii.gz')"
   ]
  },
  {
   "cell_type": "code",
   "execution_count": null,
   "metadata": {
    "collapsed": true
   },
   "outputs": [],
   "source": []
  }
 ],
 "metadata": {
  "kernelspec": {
   "display_name": "Python 3",
   "language": "python",
   "name": "python3"
  },
  "language_info": {
   "codemirror_mode": {
    "name": "ipython",
    "version": 3
   },
   "file_extension": ".py",
   "mimetype": "text/x-python",
   "name": "python",
   "nbconvert_exporter": "python",
   "pygments_lexer": "ipython3",
   "version": "3.6.1"
  }
 },
 "nbformat": 4,
 "nbformat_minor": 2
}
