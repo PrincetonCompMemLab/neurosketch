{
 "cells": [
  {
   "cell_type": "code",
   "execution_count": null,
   "metadata": {
    "collapsed": true
   },
   "outputs": [],
   "source": [
    "from __future__ import division\n",
    "\n",
    "import numpy as np\n",
    "import os\n",
    "%matplotlib inline\n",
    "import matplotlib.pyplot as plt\n",
    "import seaborn as sns\n",
    "import pandas as pd\n",
    "import scipy.stats as stats\n",
    "import imageio\n",
    "import warnings\n",
    "\n",
    "from scipy.stats import norm\n",
    "from IPython.display import clear_output\n",
    "from PIL import Image"
   ]
  },
  {
   "cell_type": "markdown",
   "metadata": {},
   "source": [
    "#### Do you want to show figures in the notebook?\n",
    "#### Do you want to save them?"
   ]
  },
  {
   "cell_type": "code",
   "execution_count": null,
   "metadata": {
    "collapsed": true
   },
   "outputs": [],
   "source": [
    "show_fig = False\n",
    "save_fig = True"
   ]
  },
  {
   "cell_type": "code",
   "execution_count": null,
   "metadata": {
    "collapsed": true
   },
   "outputs": [],
   "source": [
    "# Assign paths where features can be found\n",
    "path_to_recog = '/Volumes/ntb/projects/sketchloop02/data/features/recog'\n",
    "path_to_draw = '/Volumes/ntb/projects/sketchloop02/data/features/drawing'\n",
    "roi_list = np.array(['V1Draw', 'V2Draw', 'LOCDraw', 'InsulaDraw', 'postCentralDraw', \n",
    "                     'preCentralDraw', 'ParietalDraw', 'FrontalDraw', 'smgDraw'])"
   ]
  },
  {
   "cell_type": "code",
   "execution_count": null,
   "metadata": {
    "collapsed": true
   },
   "outputs": [],
   "source": [
    "# Assign variables within imported analysis helpers\n",
    "import analysis_helpers\n",
    "from importlib import reload\n",
    "reload(analysis_helpers)\n",
    "\n",
    "analysis_helpers.path_to_recog = path_to_recog\n",
    "analysis_helpers.path_to_draw = path_to_draw\n",
    "\n",
    "# Suppress warnings\n",
    "warnings.filterwarnings('ignore')\n",
    "warnings.simplefilter(action='ignore', category=FutureWarning)"
   ]
  },
  {
   "cell_type": "code",
   "execution_count": null,
   "metadata": {
    "collapsed": true
   },
   "outputs": [],
   "source": [
    "#### Helper data loader functions\n",
    "\n",
    "def preprocess_recog(RECOG_METAS, RECOG_FEATS):\n",
    "    M = [i for i in RECOG_METAS if len(i.split('.')[0].split('_'))==4]\n",
    "    F = [i for i in RECOG_FEATS if len(i.split('.')[0].split('_'))==4]\n",
    "    return M,F\n",
    "\n",
    "def extract_good_sessions(DRAW_METAS,DRAW_FEATS):\n",
    "    _DRAW_METAS = [i for i in DRAW_METAS if i.split('_')[1] in sub_list]\n",
    "    _DRAW_FEATS = [i for i in DRAW_FEATS if i.split('_')[0] in sub_list]\n",
    "    return _DRAW_METAS, _DRAW_FEATS\n",
    "\n",
    "def cleanup_df(df):    \n",
    "    surplus = [i for i in df.columns if 'Unnamed' in i]\n",
    "    df = df.drop(surplus,axis=1)\n",
    "    return df\n",
    "\n",
    "def load_draw_meta(this_sub):\n",
    "    this_file = 'metadata_{}_drawing.csv'.format(this_sub)\n",
    "    x = pd.read_csv(os.path.join(path_to_draw,this_file))\n",
    "    x = cleanup_df(x)\n",
    "    x['trial_num'] = np.repeat(np.arange(40),23)        \n",
    "    return x\n",
    "    \n",
    "def load_draw_feats(this_sub,this_roi):\n",
    "    this_file = '{}_{}_featurematrix.npy'.format(this_sub,this_roi)\n",
    "    y = np.load(os.path.join(path_to_draw,this_file))\n",
    "    y = y.transpose()\n",
    "    return y\n",
    "\n",
    "def load_draw_data(this_sub,this_roi):\n",
    "    x = load_draw_meta(this_sub)\n",
    "    y = load_draw_feats(this_sub,this_roi)\n",
    "    assert y.shape[0] == x.shape[0]    \n",
    "    return x,y\n",
    "\n",
    "    \n",
    "def objects(sub_list):\n",
    "    sub_obj = pd.DataFrame(columns=['objects', 'subject'])\n",
    "    for this_sub in sub_list:\n",
    "        DM, DF = load_draw_data(this_sub,'V1Draw')\n",
    "        trained_objs = np.unique(DM.label.values)\n",
    "        sub_obj = sub_obj.append({'objects': str(trained_objs[0])+str(trained_objs[1]), \n",
    "                                  'subject': this_sub}, ignore_index=True)\n",
    "    return sub_obj  "
   ]
  },
  {
   "cell_type": "code",
   "execution_count": null,
   "metadata": {
    "collapsed": true
   },
   "outputs": [],
   "source": [
    "# LOAD FILE LIST FOR RECOGNITION RUNS\n",
    "RECOG_METAS = sorted([i for i in os.listdir(path_to_recog) if i.split('.')[-1]=='csv'])\n",
    "RECOG_FEATS = sorted([i for i in os.listdir(path_to_recog) if i.split('.')[-1]=='npy'])\n",
    "RECOG_SUBS = np.array([i.split('_')[0] for i in RECOG_FEATS])\n",
    "\n",
    "recog_sub_list = np.unique(RECOG_SUBS)\n",
    "\n",
    "RECOG_METAS, RECOG_FEATS = preprocess_recog(RECOG_METAS, RECOG_FEATS)"
   ]
  },
  {
   "cell_type": "code",
   "execution_count": null,
   "metadata": {
    "collapsed": true
   },
   "outputs": [],
   "source": [
    "# LOAD FILE LIST FOR DRAWING RUNS\n",
    "DRAW_METAS = sorted([i for i in os.listdir(path_to_draw) if i.split('.')[-1]=='csv'])\n",
    "DRAW_FEATS = sorted([i for i in os.listdir(path_to_draw) if i.split('.')[-1]=='npy'])\n",
    "DRAW_SUBS = np.array([i.split('_')[0] for i in DRAW_FEATS])\n",
    "draw_sub_list = np.unique(DRAW_SUBS)"
   ]
  },
  {
   "cell_type": "code",
   "execution_count": null,
   "metadata": {
    "collapsed": true
   },
   "outputs": [],
   "source": [
    "## get subject ID's that have complete datasets from all phases of experiment\n",
    "sub_list = draw_sub_list"
   ]
  },
  {
   "cell_type": "code",
   "execution_count": null,
   "metadata": {
    "collapsed": true
   },
   "outputs": [],
   "source": [
    "## filter file list so only contains the sessions that have full datasets\n",
    "\n",
    "DRAW_METAS,DRAW_FEATS =  \\\n",
    "extract_good_sessions(DRAW_METAS,DRAW_FEATS)\n",
    "\n",
    "DRAW_SUBS = np.array([i.split('_')[0]+'_neurosketch' for i in DRAW_FEATS])\n",
    "DRAW_ROIS = np.array([i.split('_')[1] for i in DRAW_FEATS])"
   ]
  },
  {
   "cell_type": "code",
   "execution_count": null,
   "metadata": {
    "collapsed": true
   },
   "outputs": [],
   "source": [
    "## general plotting params\n",
    "sns.set_context('poster')\n",
    "colors = sns.color_palette(\"cubehelix\", 5)"
   ]
  },
  {
   "cell_type": "code",
   "execution_count": null,
   "metadata": {
    "collapsed": true
   },
   "outputs": [],
   "source": [
    "# derive lists of subjects depending on which two items they drew. Currently unused but may prove useful later\n",
    "sub_obj = objects(sub_list)\n",
    "\n",
    "bedbench = np.array(sub_obj[sub_obj['objects']=='bedbench']['subject'])\n",
    "bedchair = np.array(sub_obj[sub_obj['objects']=='bedchair']['subject'])\n",
    "bedtable = np.array(sub_obj[sub_obj['objects']=='bedtable']['subject'])\n",
    "benchchair = np.array(sub_obj[sub_obj['objects']=='benchchair']['subject'])\n",
    "benchtable = np.array(sub_obj[sub_obj['objects']=='benchtable']['subject'])\n",
    "chairtable = np.array(sub_obj[sub_obj['objects']=='chairtable']['subject'])"
   ]
  },
  {
   "cell_type": "markdown",
   "metadata": {},
   "source": [
    "### BUILD MATRIX CONTAINING CLASSIFIER PROBABILITIES FOR ALL SUBJECTS, ROIS, DRAWING RUNS"
   ]
  },
  {
   "cell_type": "code",
   "execution_count": null,
   "metadata": {
    "collapsed": true
   },
   "outputs": [],
   "source": [
    "import analysis_helpers\n",
    "from importlib import reload\n",
    "reload(analysis_helpers)\n",
    "\n",
    "logged = [True]\n",
    "versions = ['2wayDraw']\n",
    "\n",
    "really_run = 1\n",
    "if really_run:\n",
    "    for l in logged:\n",
    "        tag = 'logged' if l else 'raw'\n",
    "        print(tag)\n",
    "        for version in versions:\n",
    "            roi_list_short = roi_list\n",
    "            sub_list_short = sub_list\n",
    "            ALLDM, Acc = analysis_helpers.make_drawing_predictions(sub_list_short,roi_list_short,version=version,logged=l)\n",
    "            ALLDM.to_csv('./logistic_timeseries_drawing_neural_{}_{}.csv'.format(version,tag)) ## train recog, test drawing run    "
   ]
  },
  {
   "cell_type": "code",
   "execution_count": null,
   "metadata": {
    "collapsed": true
   },
   "outputs": [],
   "source": [
    "# Turn accuracy into array\n",
    "Acc = np.array(Acc)\n",
    "x = pd.DataFrame(Acc.transpose())\n",
    "roi_reduce = [roi[:-4] for roi in roi_list_short]\n",
    "x.columns = roi_reduce"
   ]
  },
  {
   "cell_type": "code",
   "execution_count": null,
   "metadata": {
    "collapsed": true
   },
   "outputs": [],
   "source": [
    "# Plot raw classifier accuracy\n",
    "sns.set_context('talk')\n",
    "plt.figure(figsize=(12,6))\n",
    "sns.barplot(data=x,palette='Set2',ci=95)\n",
    "chance_dict = {'4way':0.25,'3way':0.33,'2way':0.5, '2wayDraw': 0.5}\n",
    "plt.axhline(chance_dict[version],linestyle=':',color='k')\n",
    "plt.ylabel('Accuracy')\n",
    "plt.xlabel('Intersect of Drawing Task Map and ROI')\n",
    "plt.tight_layout()\n",
    "plt.title('Object Classification during Drawing Runs')\n",
    "if save_fig:\n",
    "    plt.savefig('drawing_classification.pdf')\n",
    "plt.show() if show_fig else plt.close()"
   ]
  },
  {
   "cell_type": "markdown",
   "metadata": {},
   "source": [
    "## IMPORT AND PREPROCESS VGG PROBABILITIES"
   ]
  },
  {
   "cell_type": "code",
   "execution_count": null,
   "metadata": {
    "collapsed": true
   },
   "outputs": [],
   "source": [
    "types = ['bedbench', 'bedchair', 'bedtable', 'benchchair', 'benchtable', 'chairtable']\n",
    "subs = [bedbench, bedchair, bedtable, benchchair, benchtable, chairtable]\n",
    "objects = [['bed','bench'], ['bed','chair'], ['bed','table'], ['bench','chair'], ['bench','table'], ['chair','table']]\n",
    "obdict = dict(zip(types, objects))\n",
    "subdict = dict(zip(types, subs))"
   ]
  },
  {
   "cell_type": "code",
   "execution_count": null,
   "metadata": {
    "collapsed": true
   },
   "outputs": [],
   "source": [
    "VGG_feat = pd.read_csv('partial_sketch_full.csv')\n",
    "VGG_feat['time_point'] = VGG_feat['numSketch'] + 1\n",
    "VGG_feat['trial_num'] = VGG_feat['trial'] - 320\n",
    "VGG_feat['subj'] = [x.split('_')[0] for x in VGG_feat['wID']]\n",
    "updated = []\n",
    "for subject in sub_list:\n",
    "    sub_only = VGG_feat[VGG_feat['subj']==subject]\n",
    "    for typer in types:\n",
    "        if subject in subdict[typer]:\n",
    "            t1, t2 = obdict[typer]\n",
    "    sub_only['t1'] = t1\n",
    "    sub_only['t2'] = t2\n",
    "    sub_only['t1_prob'] = np.log(sub_only[t1])\n",
    "    sub_only['t2_prob'] = np.log(sub_only[t2])\n",
    "    if len(updated) == 0:\n",
    "        updated = sub_only\n",
    "    else:\n",
    "        updated = pd.concat((updated, sub_only))\n",
    "updated.to_csv('VGG.csv')"
   ]
  },
  {
   "cell_type": "markdown",
   "metadata": {},
   "source": [
    "## Plot correspondence between probabilities across regions - all time points"
   ]
  },
  {
   "cell_type": "markdown",
   "metadata": {},
   "source": [
    "#### Choose whether you want a plot for every subject"
   ]
  },
  {
   "cell_type": "code",
   "execution_count": null,
   "metadata": {
    "collapsed": true
   },
   "outputs": [],
   "source": [
    "# Do you want to plot this subject-wise?\n",
    "plot_subs = True"
   ]
  },
  {
   "cell_type": "markdown",
   "metadata": {},
   "source": [
    "#### Cycle through subjects, and compute the correlations"
   ]
  },
  {
   "cell_type": "code",
   "execution_count": null,
   "metadata": {
    "collapsed": true
   },
   "outputs": [],
   "source": [
    "#ALLDM = pd.read_csv('./logistic_timeseries_drawing_neural_2wayDraw_logged.csv')\n",
    "#ALLDM = pd.read_csv('./logistic_timeseries_drawing_neural_2wayDraw_raw.csv')\n",
    "#updated = pd.read_csv('./VGG.csv')\n",
    "\n",
    "\n",
    "_sub_list = sub_list\n",
    "_roi_list = ['V1Draw','V2Draw', 'LOCDraw', 'ParietalDraw', 'smgDraw', \n",
    "             'postCentralDraw', 'preCentralDraw', 'FrontalDraw', 'VGG']\n",
    "roi_name = ['V1', 'V2', 'LOC', 'Par', 'SMG', 'Sens', 'Mot', 'Front', 'VGG']\n",
    "\n",
    "images = []\n",
    "all_subs_all_rois = []\n",
    "all_corrs = []\n",
    "\n",
    "for sub in _sub_list:\n",
    "    sub_only = ALLDM[ALLDM['subj']==sub]\n",
    "    sub_only_vgg = updated[updated['subj']==sub]\n",
    "    drawpreds = []\n",
    "    for roi in _roi_list:\n",
    "        if roi == 'VGG':\n",
    "            roi_only = sub_only_vgg\n",
    "        else:\n",
    "            roi_only = sub_only[sub_only['roi']==roi]\n",
    "        t1 = np.array(roi_only['t1_prob'])\n",
    "        t2 = np.array(roi_only['t2_prob'])\n",
    "        assert t1.shape == t2.shape\n",
    "        trained = np.hstack((t1,t2))\n",
    "        drawpreds.append(trained)\n",
    "    drawpreds = np.array(drawpreds)\n",
    "    \n",
    "    #correlation across all regions for one subject\n",
    "    corrs = np.corrcoef(drawpreds)\n",
    "    \n",
    "    #stack\n",
    "    all_corrs = corrs if len(all_corrs) == 0 else np.dstack((all_corrs, corrs))\n",
    "    \n",
    "    if plot_subs:\n",
    "        clear_output(wait=True)\n",
    "        np.place(corrs, corrs>0.9, np.nan)\n",
    "        fig, ax = plt.subplots(figsize=(10,10))\n",
    "        im = ax.matshow(corrs, vmin = -0.15, vmax = 0.65)\n",
    "        ax.set_xticklabels(['']+roi_name)\n",
    "        ax.set_yticklabels(['']+roi_name)\n",
    "        plt.colorbar(im)\n",
    "        plt.title(str(sub), y=1.08)\n",
    "        plt.tight_layout()\n",
    "        if save_fig:\n",
    "            plt.savefig(str(sub)+'.pdf')\n",
    "            currIm = Image.open(str(sub) + '.pdf')\n",
    "            images.append(currIm)\n",
    "        plt.show() if show_fig else plt.close()\n",
    "all_corrs = np.array(all_corrs)\n",
    "t, p = stats.ttest_1samp(all_corrs, 0, axis=2)\n",
    "    \n",
    "# giffify results\n",
    "if plot_subs and save_fig:\n",
    "    images = [np.array(image) for image in images]\n",
    "    imageio.mimsave('all_mats_subs.gif', images, duration=1)   "
   ]
  },
  {
   "cell_type": "markdown",
   "metadata": {},
   "source": [
    "#### Plot the average across subjects, first as a matrix, then as a barplot with 95 CI error bars"
   ]
  },
  {
   "cell_type": "code",
   "execution_count": null,
   "metadata": {
    "collapsed": true
   },
   "outputs": [],
   "source": [
    "# Plot matrices showing average across subjects\n",
    "\n",
    "all_mean = np.mean(all_corrs, axis=2)\n",
    "all_std = (np.std(all_corrs, axis=2)/np.sqrt(len(sub_list)))*1.96\n",
    "\n",
    "\n",
    "fig, ax = plt.subplots(figsize=(10,10))\n",
    "im = ax.matshow(np.absolute(all_mean), vmin=0, vmax = 0.5)\n",
    "ax.set_xticklabels(['']+roi_name)\n",
    "ax.set_yticklabels(['']+roi_name)\n",
    "plt.colorbar(im)\n",
    "colours = im.cmap(im.norm(all_mean))\n",
    "if save_fig:\n",
    "    plt.savefig('all_subjects.pdf')\n",
    "plt.show() if show_fig else plt.close()\n",
    "\n",
    "\n",
    "# Plot average across subjects as barplot with error bars\n",
    "\n",
    "indices = np.arange(0,9)\n",
    "fig, axes = plt.subplots(9,1,figsize=(10,10), sharey=True, sharex=True)\n",
    "for i in range(all_mean.shape[0]):\n",
    "    ax = axes[i]\n",
    "    means = all_mean[i,:]\n",
    "    sterr = all_std[i,:]\n",
    "    ax.bar(indices, means, 1, color=colours[i], yerr=sterr, zorder=-1, edgecolor='black', lw=2, \n",
    "           ecolor='red', error_kw=dict(lw=2, capsize=2.5, capthick=1))\n",
    "    ax.set_facecolor('white')\n",
    "    ax.set_xticks(indices)\n",
    "    ax.set_xticklabels(roi_name)\n",
    "    ax.text(9.5, 0.25, roi_name[i], fontsize=17, fontname=\"Arial\", verticalalignment='center', \n",
    "            horizontalalignment='center')\n",
    "    ax.set_ylim([-0.05,0.5])\n",
    "    plt.errorbar\n",
    "plt.tight_layout()\n",
    "if save_fig:\n",
    "    plt.savefig('all_subjects_bar.pdf')\n",
    "plt.show() if show_fig else plt.close()"
   ]
  },
  {
   "cell_type": "markdown",
   "metadata": {},
   "source": [
    "## Plot correspondence between probabilities across regions - by timepoint"
   ]
  },
  {
   "cell_type": "markdown",
   "metadata": {},
   "source": [
    "#### Choose what time unit to plot by, and whether you want a moving window, or to plot every unit"
   ]
  },
  {
   "cell_type": "code",
   "execution_count": null,
   "metadata": {
    "collapsed": true
   },
   "outputs": [],
   "source": [
    "# Do you want to plot by trial number (trial_num), or by TR (time_point)    \n",
    "by = 'trial_num'\n",
    "\n",
    "# Do you want to plot as a moving window, or (if False) by each unit of time. \n",
    "moving = True\n",
    "\n",
    "# Choose the size of the moving window\n",
    "windowsize = 3\n",
    "\n",
    "# Choose whether you want the windows to be non-overlapping/discrete\n",
    "discrete = False"
   ]
  },
  {
   "cell_type": "markdown",
   "metadata": {},
   "source": [
    "#### This cell will create the actual plots, and giffify if you so choose"
   ]
  },
  {
   "cell_type": "code",
   "execution_count": null,
   "metadata": {
    "collapsed": true
   },
   "outputs": [],
   "source": [
    "#ALLDM = pd.read_csv('./logistic_timeseries_drawing_neural_2wayDraw_logged.csv')\n",
    "#ALLDM = pd.read_csv('./logistic_timeseries_drawing_neural_2wayDraw_raw.csv')\n",
    "\n",
    "if moving:\n",
    "    if discrete:\n",
    "        step = windowsize\n",
    "else:\n",
    "    step = 1\n",
    "    windowsize = 1\n",
    "if by == 'trial_num':\n",
    "    low = 0\n",
    "    high = 40\n",
    "elif by == 'time_point':\n",
    "    low = 1\n",
    "    high = 24\n",
    "\n",
    "_sub_list = sub_list\n",
    "_roi_list = ['V1Draw','V2Draw', 'LOCDraw', 'ParietalDraw', 'smgDraw', \n",
    "             'postCentralDraw', 'preCentralDraw', 'FrontalDraw', 'VGG']\n",
    "roi_name = ['V1', 'V2', 'LOC', 'Par', 'SMG', 'Sens', 'Mot', 'Front', 'VGG']\n",
    "images = []\n",
    "all_all = []\n",
    "for point in range(low,high-windowsize+1,step):\n",
    "    bottom = point\n",
    "    top = point + windowsize\n",
    "    _ALLDM = ALLDM[ALLDM[by]>=bottom]\n",
    "    __ALLDM = _ALLDM[_ALLDM[by]<top]\n",
    "    _updated = updated[updated[by]>=bottom]\n",
    "    __updated = _updated[_updated[by]<top]\n",
    "    all_corrs = []\n",
    "    for sub in _sub_list:\n",
    "        sub_only = __ALLDM[__ALLDM['subj']==sub]\n",
    "        sub_only_vgg = __updated[__updated['subj']==sub]\n",
    "        drawpreds = []\n",
    "        for roi in _roi_list:\n",
    "            if roi == 'VGG':\n",
    "                roi_only = sub_only_vgg\n",
    "            else:\n",
    "                roi_only = sub_only[sub_only['roi']==roi]\n",
    "            t1 = np.array(roi_only['t1_prob'])\n",
    "            t2 = np.array(roi_only['t2_prob'])\n",
    "            assert t1.shape == t2.shape\n",
    "            trained = np.hstack((t1,t2))\n",
    "            drawpreds.append(trained)\n",
    "        drawpreds = np.array(drawpreds)\n",
    "        corrs = np.corrcoef(drawpreds)\n",
    "        all_corrs = corrs if len(all_corrs) == 0 else np.dstack((all_corrs, corrs))\n",
    "    all_corrs = np.array(all_corrs)   \n",
    "    t, p = stats.ttest_1samp(all_corrs, 0, axis=2)\n",
    "    clear_output(wait=True)\n",
    "    all_collapse = np.mean(all_corrs, axis=2)\n",
    "    np.place(all_collapse, all_collapse>0.9, np.nan)\n",
    "    fig, ax = plt.subplots(figsize=(10,10))\n",
    "    im = ax.matshow(all_collapse, vmin = 0, vmax = 0.5)\n",
    "    ax.set_xticklabels(['']+roi_name)\n",
    "    ax.set_yticklabels(['']+roi_name)\n",
    "    plt.colorbar(im)\n",
    "    smoothing = ', win_size = {}'.format(windowsize) if windowsize > 1 else ''\n",
    "    plt.title(str(by) + ': '+ str(point) + str(smoothing), y=1.08)\n",
    "    plt.tight_layout()\n",
    "    if save_fig:\n",
    "        plt.savefig(str(point)+'.pdf')\n",
    "        currIm = Image.open(str(point) + '.pdf')\n",
    "        images.append(currIm)\n",
    "    plt.show() if show_fig else plt.close()\n",
    "\n",
    "# giffify results\n",
    "if save_fig:\n",
    "    images = [np.array(image) for image in images]\n",
    "    imageio.mimsave('all_mats_' + str(by) + '.gif', images, duration=1)"
   ]
  }
 ],
 "metadata": {
  "kernelspec": {
   "display_name": "Python 3",
   "language": "python",
   "name": "python3"
  },
  "language_info": {
   "codemirror_mode": {
    "name": "ipython",
    "version": 3
   },
   "file_extension": ".py",
   "mimetype": "text/x-python",
   "name": "python",
   "nbconvert_exporter": "python",
   "pygments_lexer": "ipython3",
   "version": "3.6.2"
  }
 },
 "nbformat": 4,
 "nbformat_minor": 2
}
