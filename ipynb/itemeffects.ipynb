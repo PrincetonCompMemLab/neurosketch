{
 "cells": [
  {
   "cell_type": "code",
   "execution_count": null,
   "metadata": {},
   "outputs": [],
   "source": [
    "# package installation; only necessary if you don't have package\n",
    "library(\"devtools\")\n",
    "install_github(\"lme4/lme4\",dependencies=TRUE)\n",
    "install.packages('arm')"
   ]
  },
  {
   "cell_type": "markdown",
   "metadata": {},
   "source": [
    "# Setup"
   ]
  },
  {
   "cell_type": "code",
   "execution_count": 362,
   "metadata": {},
   "outputs": [],
   "source": [
    "# import packages\n",
    "library(lme4)\n",
    "library(arm)\n",
    "library(stringr)"
   ]
  },
  {
   "cell_type": "code",
   "execution_count": 363,
   "metadata": {},
   "outputs": [],
   "source": [
    "# helper function(s)\n",
    "get_prob_timecourse <- function(iv, DM, score) {\n",
    "    objs = c('bed', 'bench', 'chair', 'table')\n",
    "    trained_objs = unique(DM[['label']])\n",
    "    control_objs = c()\n",
    "    for (obj in objs){\n",
    "        if (!is.element(obj, trained_objs)) {\n",
    "            control_objs = append(control_objs, obj) }}\n",
    "\n",
    "    t1 = trained_objs[1]\n",
    "    t2 = trained_objs[2]\n",
    "    c1 = trained_objs[1]\n",
    "    c2 = control_objs[2]\n",
    "    \n",
    "    if (score == 't') {\n",
    "        return(rowMeans(cbind(\n",
    "            array(aggregate(DM[DM['label']==toString(t1),]['t1_prob'],\n",
    "                            by=DM[DM['label']==toString(t1),][iv], mean)['t1_prob']),\n",
    "            array(aggregate(DM[DM['label']==toString(t2),]['t2_prob'],\n",
    "                            by=DM[DM['label']==toString(t2),][iv], mean)['t2_prob']))))\n",
    "    } else if (score == 'f') {\n",
    "        return(rowMeans(cbind(\n",
    "            array(aggregate(DM[DM['label']==toString(t1),]['t2_prob'],\n",
    "                            by=DM[DM['label']==toString(t1),][iv], mean)['t2_prob']),\n",
    "            array(aggregate(DM[DM['label']==toString(t2),]['t1_prob'],\n",
    "                            by=DM[DM['label']==toString(t2),][iv], mean)['t1_prob']))))\n",
    "    } else {\n",
    "        return(rowMeans(cbind(\n",
    "            array(aggregate(DM[DM['label']==toString(t1),]['c1_prob'],\n",
    "                            by=DM[DM['label']==toString(t1),][iv], mean)['c1_prob']),\n",
    "            array(aggregate(DM[DM['label']==toString(t1),]['c2_prob'],\n",
    "                            by=DM[DM['label']==toString(t1),][iv], mean)['c2_prob']),\n",
    "            array(aggregate(DM[DM['label']==toString(t2),]['c1_prob'],\n",
    "                            by=DM[DM['label']==toString(t2),][iv], mean)['c1_prob']),\n",
    "            array(aggregate(DM[DM['label']==toString(t2),]['c2_prob'],\n",
    "                            by=DM[DM['label']==toString(t2),][iv], mean)['c2_prob']))))\n",
    "    }\n",
    "}\n",
    "\n",
    "get_trained_objs <- function(DM) {\n",
    "    return(unique(DM[['label']]))\n",
    "}"
   ]
  },
  {
   "cell_type": "code",
   "execution_count": 364,
   "metadata": {},
   "outputs": [],
   "source": [
    "ALLDM = read.csv(\"logistic_timeseries_drawing_neural_4way_logged.csv\", header = TRUE)\n",
    "prepost = read.csv('neural_changes_by_surfroi_and_subject.csv', header = TRUE)\n",
    "\n",
    "# make subject ids in prepost dataframe match format in ALLDM\n",
    "newcol = integer(nrow(prepost['IDs']))\n",
    "for (i in 1:nrow(prepost['IDs'])) {\n",
    "    newcol[i] = as.numeric(substr(prepost['IDs'][i,1], 0, 7))}\n",
    "prepost['IDs'] = newcol\n",
    "subs = unique(ALLDM['subj'])\n",
    "rois = unique(ALLDM['roi'])"
   ]
  },
  {
   "cell_type": "code",
   "execution_count": 365,
   "metadata": {},
   "outputs": [
    {
     "data": {
      "image/png": "[encoded data removed]",
      "text/plain": [
       "plot without title"
      ]
     },
     "metadata": {},
     "output_type": "display_data"
    }
   ],
   "source": [
    "# quick sanity check: does this look like judy's?\n",
    "plot(prepost[,'trained_V1'], prepost[,'control_V1'])"
   ]
  },
  {
   "cell_type": "markdown",
   "metadata": {},
   "source": [
    "# Make the Data Frame"
   ]
  },
  {
   "cell_type": "code",
   "execution_count": 366,
   "metadata": {},
   "outputs": [
    {
     "data": {
      "text/html": [
       "<table>\n",
       "<thead><tr><th scope=col>diff</th><th scope=col>selectivity</th><th scope=col>object_assignment</th></tr></thead>\n",
       "<tbody>\n",
       "\t<tr><td> 0.019554990</td><td> 0.21378238 </td><td>bedbench    </td></tr>\n",
       "\t<tr><td>-0.070490518</td><td> 0.24487542 </td><td>chairbed    </td></tr>\n",
       "\t<tr><td> 0.013465994</td><td>-0.02642429 </td><td>tablebed    </td></tr>\n",
       "\t<tr><td>-0.140920330</td><td> 0.53382381 </td><td>benchchair  </td></tr>\n",
       "\t<tr><td>-0.017790068</td><td> 0.12025180 </td><td>benchtable  </td></tr>\n",
       "\t<tr><td>-0.028008770</td><td>-0.81801985 </td><td>tablechair  </td></tr>\n",
       "\t<tr><td>-0.022598529</td><td>-0.69826519 </td><td>chairbed    </td></tr>\n",
       "\t<tr><td>-0.041107531</td><td> 1.43940415 </td><td>benchchair  </td></tr>\n",
       "\t<tr><td> 0.073080889</td><td> 0.44644002 </td><td>benchtable  </td></tr>\n",
       "\t<tr><td>-0.045690825</td><td>-0.65671144 </td><td>tablechair  </td></tr>\n",
       "\t<tr><td> 0.097957368</td><td>-1.77818724 </td><td>tablechair  </td></tr>\n",
       "\t<tr><td>-0.031221088</td><td> 0.05719599 </td><td>bedbench    </td></tr>\n",
       "\t<tr><td> 0.002941255</td><td>-0.55344382 </td><td>chairbed    </td></tr>\n",
       "\t<tr><td>-0.039138723</td><td> 0.07184870 </td><td>tablebed    </td></tr>\n",
       "\t<tr><td>-0.106474492</td><td> 0.42127709 </td><td>benchchair  </td></tr>\n",
       "\t<tr><td>-0.019403139</td><td>-0.13998854 </td><td>benchtable  </td></tr>\n",
       "\t<tr><td> 0.043540550</td><td>-1.64722228 </td><td>tablechair  </td></tr>\n",
       "\t<tr><td>-0.356562671</td><td> 0.24503943 </td><td>bedbench    </td></tr>\n",
       "\t<tr><td> 0.008154897</td><td>-0.11208906 </td><td>tablebed    </td></tr>\n",
       "\t<tr><td> 0.065215893</td><td> 1.43423523 </td><td>benchtable  </td></tr>\n",
       "\t<tr><td>-0.021381422</td><td>-0.79621275 </td><td>tablechair  </td></tr>\n",
       "\t<tr><td> 0.017139351</td><td> 1.16057067 </td><td>benchchair  </td></tr>\n",
       "\t<tr><td> 0.012135048</td><td>-1.00498274 </td><td>chairbed    </td></tr>\n",
       "\t<tr><td>-0.188949065</td><td> 0.01064102 </td><td>tablebed    </td></tr>\n",
       "\t<tr><td>-0.001022922</td><td> 0.19067896 </td><td>benchchair  </td></tr>\n",
       "\t<tr><td>-0.191659162</td><td>-0.56039990 </td><td>chairbed    </td></tr>\n",
       "\t<tr><td> 0.178774473</td><td>-0.78858096 </td><td>tablechair  </td></tr>\n",
       "\t<tr><td>-0.035250879</td><td>-0.12165175 </td><td>bedbench    </td></tr>\n",
       "\t<tr><td> 0.101936244</td><td>-0.65595209 </td><td>chairbed    </td></tr>\n",
       "\t<tr><td>-0.143813366</td><td>-0.56314033 </td><td>tablebed    </td></tr>\n",
       "\t<tr><td> 0.035311184</td><td> 0.35124316 </td><td>benchtable  </td></tr>\n",
       "</tbody>\n",
       "</table>\n"
      ],
      "text/latex": [
       "\\begin{tabular}{r|lll}\n",
       " diff & selectivity & object\\_assignment\\\\\n",
       "\\hline\n",
       "\t  0.019554990 &  0.21378238  & bedbench    \\\\\n",
       "\t -0.070490518 &  0.24487542  & chairbed    \\\\\n",
       "\t  0.013465994 & -0.02642429  & tablebed    \\\\\n",
       "\t -0.140920330 &  0.53382381  & benchchair  \\\\\n",
       "\t -0.017790068 &  0.12025180  & benchtable  \\\\\n",
       "\t -0.028008770 & -0.81801985  & tablechair  \\\\\n",
       "\t -0.022598529 & -0.69826519  & chairbed    \\\\\n",
       "\t -0.041107531 &  1.43940415  & benchchair  \\\\\n",
       "\t  0.073080889 &  0.44644002  & benchtable  \\\\\n",
       "\t -0.045690825 & -0.65671144  & tablechair  \\\\\n",
       "\t  0.097957368 & -1.77818724  & tablechair  \\\\\n",
       "\t -0.031221088 &  0.05719599  & bedbench    \\\\\n",
       "\t  0.002941255 & -0.55344382  & chairbed    \\\\\n",
       "\t -0.039138723 &  0.07184870  & tablebed    \\\\\n",
       "\t -0.106474492 &  0.42127709  & benchchair  \\\\\n",
       "\t -0.019403139 & -0.13998854  & benchtable  \\\\\n",
       "\t  0.043540550 & -1.64722228  & tablechair  \\\\\n",
       "\t -0.356562671 &  0.24503943  & bedbench    \\\\\n",
       "\t  0.008154897 & -0.11208906  & tablebed    \\\\\n",
       "\t  0.065215893 &  1.43423523  & benchtable  \\\\\n",
       "\t -0.021381422 & -0.79621275  & tablechair  \\\\\n",
       "\t  0.017139351 &  1.16057067  & benchchair  \\\\\n",
       "\t  0.012135048 & -1.00498274  & chairbed    \\\\\n",
       "\t -0.188949065 &  0.01064102  & tablebed    \\\\\n",
       "\t -0.001022922 &  0.19067896  & benchchair  \\\\\n",
       "\t -0.191659162 & -0.56039990  & chairbed    \\\\\n",
       "\t  0.178774473 & -0.78858096  & tablechair  \\\\\n",
       "\t -0.035250879 & -0.12165175  & bedbench    \\\\\n",
       "\t  0.101936244 & -0.65595209  & chairbed    \\\\\n",
       "\t -0.143813366 & -0.56314033  & tablebed    \\\\\n",
       "\t  0.035311184 &  0.35124316  & benchtable  \\\\\n",
       "\\end{tabular}\n"
      ],
      "text/markdown": [
       "\n",
       "diff | selectivity | object_assignment | \n",
       "|---|---|---|---|---|---|---|---|---|---|---|---|---|---|---|---|---|---|---|---|---|---|---|---|---|---|---|---|---|---|---|\n",
       "|  0.019554990 |  0.21378238  | bedbench     | \n",
       "| -0.070490518 |  0.24487542  | chairbed     | \n",
       "|  0.013465994 | -0.02642429  | tablebed     | \n",
       "| -0.140920330 |  0.53382381  | benchchair   | \n",
       "| -0.017790068 |  0.12025180  | benchtable   | \n",
       "| -0.028008770 | -0.81801985  | tablechair   | \n",
       "| -0.022598529 | -0.69826519  | chairbed     | \n",
       "| -0.041107531 |  1.43940415  | benchchair   | \n",
       "|  0.073080889 |  0.44644002  | benchtable   | \n",
       "| -0.045690825 | -0.65671144  | tablechair   | \n",
       "|  0.097957368 | -1.77818724  | tablechair   | \n",
       "| -0.031221088 |  0.05719599  | bedbench     | \n",
       "|  0.002941255 | -0.55344382  | chairbed     | \n",
       "| -0.039138723 |  0.07184870  | tablebed     | \n",
       "| -0.106474492 |  0.42127709  | benchchair   | \n",
       "| -0.019403139 | -0.13998854  | benchtable   | \n",
       "|  0.043540550 | -1.64722228  | tablechair   | \n",
       "| -0.356562671 |  0.24503943  | bedbench     | \n",
       "|  0.008154897 | -0.11208906  | tablebed     | \n",
       "|  0.065215893 |  1.43423523  | benchtable   | \n",
       "| -0.021381422 | -0.79621275  | tablechair   | \n",
       "|  0.017139351 |  1.16057067  | benchchair   | \n",
       "|  0.012135048 | -1.00498274  | chairbed     | \n",
       "| -0.188949065 |  0.01064102  | tablebed     | \n",
       "| -0.001022922 |  0.19067896  | benchchair   | \n",
       "| -0.191659162 | -0.56039990  | chairbed     | \n",
       "|  0.178774473 | -0.78858096  | tablechair   | \n",
       "| -0.035250879 | -0.12165175  | bedbench     | \n",
       "|  0.101936244 | -0.65595209  | chairbed     | \n",
       "| -0.143813366 | -0.56314033  | tablebed     | \n",
       "|  0.035311184 |  0.35124316  | benchtable   | \n",
       "\n",
       "\n"
      ],
      "text/plain": [
       "   diff         selectivity object_assignment\n",
       "1   0.019554990  0.21378238 bedbench         \n",
       "2  -0.070490518  0.24487542 chairbed         \n",
       "3   0.013465994 -0.02642429 tablebed         \n",
       "4  -0.140920330  0.53382381 benchchair       \n",
       "5  -0.017790068  0.12025180 benchtable       \n",
       "6  -0.028008770 -0.81801985 tablechair       \n",
       "7  -0.022598529 -0.69826519 chairbed         \n",
       "8  -0.041107531  1.43940415 benchchair       \n",
       "9   0.073080889  0.44644002 benchtable       \n",
       "10 -0.045690825 -0.65671144 tablechair       \n",
       "11  0.097957368 -1.77818724 tablechair       \n",
       "12 -0.031221088  0.05719599 bedbench         \n",
       "13  0.002941255 -0.55344382 chairbed         \n",
       "14 -0.039138723  0.07184870 tablebed         \n",
       "15 -0.106474492  0.42127709 benchchair       \n",
       "16 -0.019403139 -0.13998854 benchtable       \n",
       "17  0.043540550 -1.64722228 tablechair       \n",
       "18 -0.356562671  0.24503943 bedbench         \n",
       "19  0.008154897 -0.11208906 tablebed         \n",
       "20  0.065215893  1.43423523 benchtable       \n",
       "21 -0.021381422 -0.79621275 tablechair       \n",
       "22  0.017139351  1.16057067 benchchair       \n",
       "23  0.012135048 -1.00498274 chairbed         \n",
       "24 -0.188949065  0.01064102 tablebed         \n",
       "25 -0.001022922  0.19067896 benchchair       \n",
       "26 -0.191659162 -0.56039990 chairbed         \n",
       "27  0.178774473 -0.78858096 tablechair       \n",
       "28 -0.035250879 -0.12165175 bedbench         \n",
       "29  0.101936244 -0.65595209 chairbed         \n",
       "30 -0.143813366 -0.56314033 tablebed         \n",
       "31  0.035311184  0.35124316 benchtable       "
      ]
     },
     "metadata": {},
     "output_type": "display_data"
    },
    {
     "data": {
      "image/png": "[encoded data removed]",
      "text/plain": [
       "plot without title"
      ]
     },
     "metadata": {},
     "output_type": "display_data"
    }
   ],
   "source": [
    "# single roi version\n",
    "roi = 'V1'\n",
    "\n",
    "# target selectivity\n",
    "selectivity = c()\n",
    "for (sub in subs[,]) {\n",
    "    inds = (ALLDM['roi']==roi) & (ALLDM['subj']==sub)\n",
    "    selectivity = append(selectivity,\n",
    "                         mean(get_prob_timecourse('trial_num', ALLDM[inds,], 't')-\n",
    "                              get_prob_timecourse('trial_num', ALLDM[inds,], 'f')))}\n",
    "\n",
    "# training pair\n",
    "object_assignment = c()\n",
    "for (sub in subs[,]) {\n",
    "    inds = (ALLDM['subj']==sub)\n",
    "    object_assignment = append(object_assignment, str_remove(toString(get_trained_objs(ALLDM[inds,])), ', '))}\n",
    "\n",
    "# prepost differentiation\n",
    "diff = prepost[,sprintf('tradiff_%s', roi)]-prepost[,sprintf('condiff_%s', roi)]\n",
    "#diff = prepost[,sprintf('trained_%s', roi)]-prepost[,sprintf('control_%s', roi)]\n",
    "\n",
    "regdf = data.frame(diff, selectivity, object_assignment)\n",
    "regdf['object_assignment'] = as.factor(unlist(regdf['object_assignment']))\n",
    "regdf\n",
    "plot(regdf[,'selectivity'], regdf[,'diff'])"
   ]
  },
  {
   "cell_type": "markdown",
   "metadata": {},
   "source": [
    "# Model Fitting"
   ]
  },
  {
   "cell_type": "code",
   "execution_count": 367,
   "metadata": {},
   "outputs": [
    {
     "name": "stderr",
     "output_type": "stream",
     "text": [
      "Warning message in checkConv(attr(opt, \"derivs\"), opt$par, ctrl = control$checkConv, :\n",
      "\"unable to evaluate scaled gradient\"Warning message in checkConv(attr(opt, \"derivs\"), opt$par, ctrl = control$checkConv, :\n",
      "\"Model failed to converge: degenerate  Hessian with 1 negative eigenvalues\""
     ]
    },
    {
     "data": {
      "text/plain": [
       "Linear mixed model fit by REML ['lmerMod']\n",
       "Formula: diff ~ selectivity + (selectivity | object_assignment)\n",
       "   Data: regdf\n",
       "\n",
       "REML criterion at convergence: -44.7\n",
       "\n",
       "Scaled residuals: \n",
       "    Min      1Q  Median      3Q     Max \n",
       "-3.1589 -0.2892  0.1448  0.5604  1.8311 \n",
       "\n",
       "Random effects:\n",
       " Groups            Name        Variance Std.Dev. Corr\n",
       " object_assignment (Intercept) 0.000000 0.00000      \n",
       "                   selectivity 0.003176 0.05636   NaN\n",
       " Residual                      0.009306 0.09647      \n",
       "Number of obs: 31, groups:  object_assignment, 6\n",
       "\n",
       "Fixed effects:\n",
       "            Estimate Std. Error t value\n",
       "(Intercept) -0.04317    0.02051  -2.105\n",
       "selectivity -0.01514    0.03663  -0.413\n",
       "\n",
       "Correlation of Fixed Effects:\n",
       "            (Intr)\n",
       "selectivity 0.062 \n",
       "convergence code: 0\n",
       "unable to evaluate scaled gradient\n",
       "Model failed to converge: degenerate  Hessian with 1 negative eigenvalues\n"
      ]
     },
     "metadata": {},
     "output_type": "display_data"
    }
   ],
   "source": [
    "OLSexamp <- lmer(diff ~ selectivity + (selectivity | object_assignment), data = regdf)\n",
    "summary(OLSexamp)"
   ]
  },
  {
   "cell_type": "code",
   "execution_count": 368,
   "metadata": {},
   "outputs": [
    {
     "data": {
      "text/plain": [
       "$object_assignment\n",
       "           (Intercept)  selectivity\n",
       "bedbench   -0.04316847 -0.035370927\n",
       "benchchair -0.04316847 -0.006164320\n",
       "benchtable -0.04316847  0.035608101\n",
       "chairbed   -0.04316847 -0.028614558\n",
       "tablebed   -0.04316847  0.001167374\n",
       "tablechair -0.04316847 -0.057450822\n",
       "\n",
       "attr(,\"class\")\n",
       "[1] \"coef.mer\""
      ]
     },
     "metadata": {},
     "output_type": "display_data"
    }
   ],
   "source": [
    "coef(OLSexamp)"
   ]
  },
  {
   "cell_type": "code",
   "execution_count": null,
   "metadata": {},
   "outputs": [],
   "source": []
  }
 ],
 "metadata": {
  "kernelspec": {
   "display_name": "R",
   "language": "R",
   "name": "ir"
  },
  "language_info": {
   "codemirror_mode": "r",
   "file_extension": ".r",
   "mimetype": "text/x-r-source",
   "name": "R",
   "pygments_lexer": "r",
   "version": "3.5.0"
  }
 },
 "nbformat": 4,
 "nbformat_minor": 2
}
