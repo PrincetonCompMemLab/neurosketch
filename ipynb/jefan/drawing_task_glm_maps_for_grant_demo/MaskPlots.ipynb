{
 "cells": [
  {
   "cell_type": "code",
   "execution_count": null,
   "metadata": {
    "collapsed": true
   },
   "outputs": [],
   "source": [
    "import nilearn\n",
    "from nilearn import datasets\n",
    "from nilearn import plotting\n",
    "import matplotlib.pyplot as plt\n",
    "import matplotlib.colors as colors\n",
    "import numpy as np"
   ]
  },
  {
   "cell_type": "markdown",
   "metadata": {},
   "source": [
    "This is a function to narrow the range of the colormap. This is what I used to make it one solid (blue) color on our poster. You can otherwise just skip this and fill in any colormap you choose in the final two plotting cells."
   ]
  },
  {
   "cell_type": "code",
   "execution_count": null,
   "metadata": {
    "collapsed": true
   },
   "outputs": [],
   "source": [
    "def truncate_colormap(cmap, minval=0.0, maxval=1.0, n=100):\n",
    "    new_cmap = colors.LinearSegmentedColormap.from_list(\n",
    "        'trunc({n},{a:.2f},{b:.2f})'.format(n=cmap.name, a=minval, b=maxval),\n",
    "        cmap(np.linspace(minval, maxval, n)))\n",
    "    return new_cmap\n",
    "\n",
    "cmap = plt.get_cmap('tab10')\n",
    "new_cmap = truncate_colormap(cmap, 0.0, 0.05)"
   ]
  },
  {
   "cell_type": "markdown",
   "metadata": {},
   "source": [
    "Read in necessary data"
   ]
  },
  {
   "cell_type": "code",
   "execution_count": null,
   "metadata": {
    "collapsed": true
   },
   "outputs": [],
   "source": [
    "fsaverage = datasets.fetch_surf_fsaverage5()\n",
    "\n",
    "texture1 = nilearn.surface.vol_to_surf('draw_task_mask_bin.nii.gz', fsaverage.pial_left)\n",
    "texture2 = nilearn.surface.vol_to_surf('draw_task_mask_bin.nii.gz', fsaverage.pial_right)"
   ]
  },
  {
   "cell_type": "markdown",
   "metadata": {},
   "source": [
    "Make plots - left then right"
   ]
  },
  {
   "cell_type": "code",
   "execution_count": null,
   "metadata": {
    "collapsed": true
   },
   "outputs": [],
   "source": [
    "plotting.plot_surf_stat_map(fsaverage.infl_left, texture1, hemi='left', bg_map=fsaverage.sulc_left,\n",
    "                            threshold=0.5, cmap=new_cmap, output_file='left.pdf')"
   ]
  },
  {
   "cell_type": "code",
   "execution_count": null,
   "metadata": {
    "collapsed": true
   },
   "outputs": [],
   "source": [
    "plotting.plot_surf_stat_map(fsaverage.infl_right, texture2, hemi='right',\n",
    "                            bg_map=fsaverage.sulc_right,\n",
    "                            threshold=0.5, cmap=new_cmap, view = 'lateral', \n",
    "                            output_file='right.pdf')"
   ]
  }
 ],
 "metadata": {
  "kernelspec": {
   "display_name": "Python 3",
   "language": "python",
   "name": "python3"
  },
  "language_info": {
   "codemirror_mode": {
    "name": "ipython",
    "version": 3
   },
   "file_extension": ".py",
   "mimetype": "text/x-python",
   "name": "python",
   "nbconvert_exporter": "python",
   "pygments_lexer": "ipython3",
   "version": "3.6.2"
  }
 },
 "nbformat": 4,
 "nbformat_minor": 2
}
