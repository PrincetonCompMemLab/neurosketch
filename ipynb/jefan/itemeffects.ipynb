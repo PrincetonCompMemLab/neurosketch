{
 "cells": [
  {
   "cell_type": "markdown",
   "metadata": {},
   "source": [
    "# Setup"
   ]
  },
  {
   "cell_type": "code",
   "execution_count": 19,
   "metadata": {
    "collapsed": true
   },
   "outputs": [],
   "source": [
    "# import packages\n",
    "library(lme4)\n",
    "library(arm)\n",
    "library(stringr)"
   ]
  },
  {
   "cell_type": "code",
   "execution_count": 20,
   "metadata": {
    "collapsed": true
   },
   "outputs": [],
   "source": [
    "# helper function(s)\n",
    "get_prob_timecourse <- function(iv, DM, score) {\n",
    "    objs = c('bed', 'bench', 'chair', 'table')\n",
    "    trained_objs = unique(DM[['label']])\n",
    "    trained_objs = trained_objs[order(trained_objs)]\n",
    "    control_objs = c()\n",
    "    for (obj in objs){\n",
    "        if (!is.element(obj, trained_objs)) {\n",
    "            control_objs = append(control_objs, obj) }}\n",
    "\n",
    "    t1 = trained_objs[1]\n",
    "    t2 = trained_objs[2]\n",
    "    c1 = trained_objs[1]\n",
    "    c2 = control_objs[2]\n",
    "    \n",
    "    if (score == 't') {\n",
    "        return(rowMeans(cbind(\n",
    "            array(aggregate(DM[DM['label']==toString(t1),]['t1_prob'],\n",
    "                            by=DM[DM['label']==toString(t1),][iv], mean)['t1_prob']),\n",
    "            array(aggregate(DM[DM['label']==toString(t2),]['t2_prob'],\n",
    "                            by=DM[DM['label']==toString(t2),][iv], mean)['t2_prob']))))\n",
    "    } else if (score == 'f') {\n",
    "        return(rowMeans(cbind(\n",
    "            array(aggregate(DM[DM['label']==toString(t1),]['t2_prob'],\n",
    "                            by=DM[DM['label']==toString(t1),][iv], mean)['t2_prob']),\n",
    "            array(aggregate(DM[DM['label']==toString(t2),]['t1_prob'],\n",
    "                            by=DM[DM['label']==toString(t2),][iv], mean)['t1_prob']))))\n",
    "    } else {\n",
    "        return(rowMeans(cbind(\n",
    "            array(aggregate(DM[DM['label']==toString(t1),]['c1_prob'],\n",
    "                            by=DM[DM['label']==toString(t1),][iv], mean)['c1_prob']),\n",
    "            array(aggregate(DM[DM['label']==toString(t1),]['c2_prob'],\n",
    "                            by=DM[DM['label']==toString(t1),][iv], mean)['c2_prob']),\n",
    "            array(aggregate(DM[DM['label']==toString(t2),]['c1_prob'],\n",
    "                            by=DM[DM['label']==toString(t2),][iv], mean)['c1_prob']),\n",
    "            array(aggregate(DM[DM['label']==toString(t2),]['c2_prob'],\n",
    "                            by=DM[DM['label']==toString(t2),][iv], mean)['c2_prob']))))\n",
    "    }\n",
    "}\n",
    "\n",
    "get_trained_objs <- function(DM) {\n",
    "    return(unique(DM[['label']]))\n",
    "}"
   ]
  },
  {
   "cell_type": "code",
   "execution_count": 21,
   "metadata": {
    "collapsed": true
   },
   "outputs": [],
   "source": [
    "ALLDM = read.csv(\"logistic_timeseries_drawing_neural_4way_logged.csv\", header = TRUE)\n",
    "prepost = read.csv('neural_changes_by_surfroi_and_subject.csv', header = TRUE)\n",
    "\n",
    "# make subject ids in prepost dataframe match format in ALLDM\n",
    "newcol = integer(nrow(prepost['IDs']))\n",
    "for (i in 1:nrow(prepost['IDs'])) {\n",
    "    newcol[i] = as.numeric(substr(prepost['IDs'][i,1], 0, 7))}\n",
    "prepost['IDs'] = newcol\n",
    "subs = unique(ALLDM['subj'])\n",
    "rois = unique(ALLDM['roi'])"
   ]
  },
  {
   "cell_type": "code",
   "execution_count": 22,
   "metadata": {},
   "outputs": [
    {
     "data": {
      "image/png": "[encoded data removed]",
      "text/plain": [
       "plot without title"
      ]
     },
     "metadata": {},
     "output_type": "display_data"
    }
   ],
   "source": [
    "# quick sanity check: does this look like judy's?\n",
    "prepost = read.csv('neural_changes_by_surfroi_and_subject.csv', header = TRUE)\n",
    "plot(prepost[,'trained_V1'], prepost[,'control_V1'])"
   ]
  },
  {
   "cell_type": "markdown",
   "metadata": {},
   "source": [
    "# Make the Data Frame"
   ]
  },
  {
   "cell_type": "code",
   "execution_count": 23,
   "metadata": {},
   "outputs": [
    {
     "data": {
      "text/html": [
       "<table>\n",
       "<thead><tr><th scope=col>selectivity</th><th scope=col>diff</th><th scope=col>object_assignment</th></tr></thead>\n",
       "<tbody>\n",
       "\t<tr><td> 0.21378238 </td><td> 0.019554990</td><td>bedbench    </td></tr>\n",
       "\t<tr><td>-0.24487542 </td><td>-0.070490518</td><td>chairbed    </td></tr>\n",
       "\t<tr><td> 0.02642429 </td><td> 0.013465994</td><td>tablebed    </td></tr>\n",
       "\t<tr><td> 0.53382381 </td><td>-0.140920330</td><td>benchchair  </td></tr>\n",
       "\t<tr><td> 0.12025180 </td><td>-0.017790068</td><td>benchtable  </td></tr>\n",
       "\t<tr><td> 0.81801985 </td><td>-0.028008770</td><td>tablechair  </td></tr>\n",
       "\t<tr><td> 0.69826519 </td><td>-0.022598529</td><td>chairbed    </td></tr>\n",
       "\t<tr><td> 1.43940415 </td><td>-0.041107531</td><td>benchchair  </td></tr>\n",
       "\t<tr><td> 0.44644002 </td><td> 0.073080889</td><td>benchtable  </td></tr>\n",
       "\t<tr><td> 0.65671144 </td><td>-0.045690825</td><td>tablechair  </td></tr>\n",
       "\t<tr><td> 1.77818724 </td><td> 0.097957368</td><td>tablechair  </td></tr>\n",
       "\t<tr><td> 0.05719599 </td><td>-0.031221088</td><td>bedbench    </td></tr>\n",
       "\t<tr><td> 0.55344382 </td><td> 0.002941255</td><td>chairbed    </td></tr>\n",
       "\t<tr><td>-0.07184870 </td><td>-0.039138723</td><td>tablebed    </td></tr>\n",
       "\t<tr><td> 0.42127709 </td><td>-0.106474492</td><td>benchchair  </td></tr>\n",
       "\t<tr><td>-0.13998854 </td><td>-0.019403139</td><td>benchtable  </td></tr>\n",
       "\t<tr><td> 1.64722228 </td><td> 0.043540550</td><td>tablechair  </td></tr>\n",
       "\t<tr><td> 0.24503943 </td><td>-0.356562671</td><td>bedbench    </td></tr>\n",
       "\t<tr><td> 0.11208906 </td><td> 0.008154897</td><td>tablebed    </td></tr>\n",
       "\t<tr><td> 1.43423523 </td><td> 0.065215893</td><td>benchtable  </td></tr>\n",
       "\t<tr><td> 0.79621275 </td><td>-0.021381422</td><td>tablechair  </td></tr>\n",
       "\t<tr><td> 1.16057067 </td><td> 0.017139351</td><td>benchchair  </td></tr>\n",
       "\t<tr><td> 1.00498274 </td><td> 0.012135048</td><td>chairbed    </td></tr>\n",
       "\t<tr><td>-0.01064102 </td><td>-0.188949065</td><td>tablebed    </td></tr>\n",
       "\t<tr><td> 0.19067896 </td><td>-0.001022922</td><td>benchchair  </td></tr>\n",
       "\t<tr><td> 0.56039990 </td><td>-0.191659162</td><td>chairbed    </td></tr>\n",
       "\t<tr><td> 0.78858096 </td><td> 0.178774473</td><td>tablechair  </td></tr>\n",
       "\t<tr><td>-0.12165175 </td><td>-0.035250879</td><td>bedbench    </td></tr>\n",
       "\t<tr><td> 0.65595209 </td><td> 0.101936244</td><td>chairbed    </td></tr>\n",
       "\t<tr><td> 0.56314033 </td><td>-0.143813366</td><td>tablebed    </td></tr>\n",
       "\t<tr><td> 0.35124316 </td><td> 0.035311184</td><td>benchtable  </td></tr>\n",
       "</tbody>\n",
       "</table>\n"
      ],
      "text/latex": [
       "\\begin{tabular}{r|lll}\n",
       " selectivity & diff & object\\_assignment\\\\\n",
       "\\hline\n",
       "\t  0.21378238  &  0.019554990 & bedbench    \\\\\n",
       "\t -0.24487542  & -0.070490518 & chairbed    \\\\\n",
       "\t  0.02642429  &  0.013465994 & tablebed    \\\\\n",
       "\t  0.53382381  & -0.140920330 & benchchair  \\\\\n",
       "\t  0.12025180  & -0.017790068 & benchtable  \\\\\n",
       "\t  0.81801985  & -0.028008770 & tablechair  \\\\\n",
       "\t  0.69826519  & -0.022598529 & chairbed    \\\\\n",
       "\t  1.43940415  & -0.041107531 & benchchair  \\\\\n",
       "\t  0.44644002  &  0.073080889 & benchtable  \\\\\n",
       "\t  0.65671144  & -0.045690825 & tablechair  \\\\\n",
       "\t  1.77818724  &  0.097957368 & tablechair  \\\\\n",
       "\t  0.05719599  & -0.031221088 & bedbench    \\\\\n",
       "\t  0.55344382  &  0.002941255 & chairbed    \\\\\n",
       "\t -0.07184870  & -0.039138723 & tablebed    \\\\\n",
       "\t  0.42127709  & -0.106474492 & benchchair  \\\\\n",
       "\t -0.13998854  & -0.019403139 & benchtable  \\\\\n",
       "\t  1.64722228  &  0.043540550 & tablechair  \\\\\n",
       "\t  0.24503943  & -0.356562671 & bedbench    \\\\\n",
       "\t  0.11208906  &  0.008154897 & tablebed    \\\\\n",
       "\t  1.43423523  &  0.065215893 & benchtable  \\\\\n",
       "\t  0.79621275  & -0.021381422 & tablechair  \\\\\n",
       "\t  1.16057067  &  0.017139351 & benchchair  \\\\\n",
       "\t  1.00498274  &  0.012135048 & chairbed    \\\\\n",
       "\t -0.01064102  & -0.188949065 & tablebed    \\\\\n",
       "\t  0.19067896  & -0.001022922 & benchchair  \\\\\n",
       "\t  0.56039990  & -0.191659162 & chairbed    \\\\\n",
       "\t  0.78858096  &  0.178774473 & tablechair  \\\\\n",
       "\t -0.12165175  & -0.035250879 & bedbench    \\\\\n",
       "\t  0.65595209  &  0.101936244 & chairbed    \\\\\n",
       "\t  0.56314033  & -0.143813366 & tablebed    \\\\\n",
       "\t  0.35124316  &  0.035311184 & benchtable  \\\\\n",
       "\\end{tabular}\n"
      ],
      "text/markdown": [
       "\n",
       "selectivity | diff | object_assignment | \n",
       "|---|---|---|---|---|---|---|---|---|---|---|---|---|---|---|---|---|---|---|---|---|---|---|---|---|---|---|---|---|---|---|\n",
       "|  0.21378238  |  0.019554990 | bedbench     | \n",
       "| -0.24487542  | -0.070490518 | chairbed     | \n",
       "|  0.02642429  |  0.013465994 | tablebed     | \n",
       "|  0.53382381  | -0.140920330 | benchchair   | \n",
       "|  0.12025180  | -0.017790068 | benchtable   | \n",
       "|  0.81801985  | -0.028008770 | tablechair   | \n",
       "|  0.69826519  | -0.022598529 | chairbed     | \n",
       "|  1.43940415  | -0.041107531 | benchchair   | \n",
       "|  0.44644002  |  0.073080889 | benchtable   | \n",
       "|  0.65671144  | -0.045690825 | tablechair   | \n",
       "|  1.77818724  |  0.097957368 | tablechair   | \n",
       "|  0.05719599  | -0.031221088 | bedbench     | \n",
       "|  0.55344382  |  0.002941255 | chairbed     | \n",
       "| -0.07184870  | -0.039138723 | tablebed     | \n",
       "|  0.42127709  | -0.106474492 | benchchair   | \n",
       "| -0.13998854  | -0.019403139 | benchtable   | \n",
       "|  1.64722228  |  0.043540550 | tablechair   | \n",
       "|  0.24503943  | -0.356562671 | bedbench     | \n",
       "|  0.11208906  |  0.008154897 | tablebed     | \n",
       "|  1.43423523  |  0.065215893 | benchtable   | \n",
       "|  0.79621275  | -0.021381422 | tablechair   | \n",
       "|  1.16057067  |  0.017139351 | benchchair   | \n",
       "|  1.00498274  |  0.012135048 | chairbed     | \n",
       "| -0.01064102  | -0.188949065 | tablebed     | \n",
       "|  0.19067896  | -0.001022922 | benchchair   | \n",
       "|  0.56039990  | -0.191659162 | chairbed     | \n",
       "|  0.78858096  |  0.178774473 | tablechair   | \n",
       "| -0.12165175  | -0.035250879 | bedbench     | \n",
       "|  0.65595209  |  0.101936244 | chairbed     | \n",
       "|  0.56314033  | -0.143813366 | tablebed     | \n",
       "|  0.35124316  |  0.035311184 | benchtable   | \n",
       "\n",
       "\n"
      ],
      "text/plain": [
       "   selectivity diff         object_assignment\n",
       "1   0.21378238  0.019554990 bedbench         \n",
       "2  -0.24487542 -0.070490518 chairbed         \n",
       "3   0.02642429  0.013465994 tablebed         \n",
       "4   0.53382381 -0.140920330 benchchair       \n",
       "5   0.12025180 -0.017790068 benchtable       \n",
       "6   0.81801985 -0.028008770 tablechair       \n",
       "7   0.69826519 -0.022598529 chairbed         \n",
       "8   1.43940415 -0.041107531 benchchair       \n",
       "9   0.44644002  0.073080889 benchtable       \n",
       "10  0.65671144 -0.045690825 tablechair       \n",
       "11  1.77818724  0.097957368 tablechair       \n",
       "12  0.05719599 -0.031221088 bedbench         \n",
       "13  0.55344382  0.002941255 chairbed         \n",
       "14 -0.07184870 -0.039138723 tablebed         \n",
       "15  0.42127709 -0.106474492 benchchair       \n",
       "16 -0.13998854 -0.019403139 benchtable       \n",
       "17  1.64722228  0.043540550 tablechair       \n",
       "18  0.24503943 -0.356562671 bedbench         \n",
       "19  0.11208906  0.008154897 tablebed         \n",
       "20  1.43423523  0.065215893 benchtable       \n",
       "21  0.79621275 -0.021381422 tablechair       \n",
       "22  1.16057067  0.017139351 benchchair       \n",
       "23  1.00498274  0.012135048 chairbed         \n",
       "24 -0.01064102 -0.188949065 tablebed         \n",
       "25  0.19067896 -0.001022922 benchchair       \n",
       "26  0.56039990 -0.191659162 chairbed         \n",
       "27  0.78858096  0.178774473 tablechair       \n",
       "28 -0.12165175 -0.035250879 bedbench         \n",
       "29  0.65595209  0.101936244 chairbed         \n",
       "30  0.56314033 -0.143813366 tablebed         \n",
       "31  0.35124316  0.035311184 benchtable       "
      ]
     },
     "metadata": {},
     "output_type": "display_data"
    },
    {
     "data": {
      "image/png": "[encoded data removed]",
      "text/plain": [
       "plot without title"
      ]
     },
     "metadata": {},
     "output_type": "display_data"
    }
   ],
   "source": [
    "# single roi version\n",
    "roi = 'V1'\n",
    "anchored = FALSE\n",
    "\n",
    "# target selectivity\n",
    "selectivity = c()\n",
    "for (sub in subs[,]) {\n",
    "    inds = (ALLDM['roi']==roi) & (ALLDM['subj']==sub)\n",
    "    selectivity = append(selectivity,\n",
    "                         mean(get_prob_timecourse('trial_num', ALLDM[inds,], 't')-\n",
    "                              get_prob_timecourse('trial_num', ALLDM[inds,], 'f')))}\n",
    "\n",
    "# training pair\n",
    "object_assignment = c()\n",
    "for (sub in subs[,]) {\n",
    "    inds = (ALLDM['subj']==sub)\n",
    "    object_assignment = append(object_assignment, str_remove(toString(get_trained_objs(ALLDM[inds,])), ', '))}\n",
    "\n",
    "# prepost differentiation\n",
    "if (anchored) {\n",
    "    diff = prepost[,sprintf('trained_%s', roi)]-prepost[,sprintf('control_%s', roi)]\n",
    "} else {\n",
    "    diff = prepost[,sprintf('tradiff_%s', roi)]-prepost[,sprintf('condiff_%s', roi)]\n",
    "}\n",
    "\n",
    "regdf = data.frame(selectivity, diff, object_assignment)\n",
    "regdf['object_assignment'] = as.factor(unlist(regdf['object_assignment']))\n",
    "regdf\n",
    "plot(regdf[,'selectivity'], regdf[,'diff'])"
   ]
  },
  {
   "cell_type": "code",
   "execution_count": 26,
   "metadata": {},
   "outputs": [
    {
     "data": {
      "text/html": [
       "0.344299423522425"
      ],
      "text/latex": [
       "0.344299423522425"
      ],
      "text/markdown": [
       "0.344299423522425"
      ],
      "text/plain": [
       "[1] 0.3442994"
      ]
     },
     "metadata": {},
     "output_type": "display_data"
    }
   ],
   "source": [
    "cor(regdf[,'selectivity'], regdf[,'diff'])"
   ]
  },
  {
   "cell_type": "markdown",
   "metadata": {},
   "source": [
    "### Model Fitting"
   ]
  },
  {
   "cell_type": "code",
   "execution_count": 28,
   "metadata": {},
   "outputs": [
    {
     "data": {
      "text/plain": [
       "\n",
       "Call:\n",
       "glm(formula = diff ~ selectivity, data = regdf[regdf[\"object_assignment\"] == \n",
       "    \"bedbench\", ])\n",
       "\n",
       "Deviance Residuals: \n",
       "       1        12        18        28  \n",
       " 0.17591   0.04971  -0.18516  -0.04046  \n",
       "\n",
       "Coefficients:\n",
       "            Estimate Std. Error t value Pr(>|t|)\n",
       "(Intercept) -0.05338    0.11240  -0.475    0.682\n",
       "selectivity -0.48164    0.63887  -0.754    0.530\n",
       "\n",
       "(Dispersion parameter for gaussian family taken to be 0.03466708)\n",
       "\n",
       "    Null deviance: 0.089038  on 3  degrees of freedom\n",
       "Residual deviance: 0.069334  on 2  degrees of freedom\n",
       "AIC: 1.1311\n",
       "\n",
       "Number of Fisher Scoring iterations: 2\n"
      ]
     },
     "metadata": {},
     "output_type": "display_data"
    }
   ],
   "source": [
    "OLSexamp <- glm(diff ~ selectivity, data = regdf[regdf['object_assignment']=='bedbench',])\n",
    "summary(OLSexamp)"
   ]
  },
  {
   "cell_type": "code",
   "execution_count": 29,
   "metadata": {},
   "outputs": [
    {
     "data": {
      "text/html": [
       "<dl class=dl-horizontal>\n",
       "\t<dt>(Intercept)</dt>\n",
       "\t\t<dd>-0.0533840024749857</dd>\n",
       "\t<dt>selectivity</dt>\n",
       "\t\t<dd>-0.481642979704967</dd>\n",
       "</dl>\n"
      ],
      "text/latex": [
       "\\begin{description*}\n",
       "\\item[(Intercept)] -0.0533840024749857\n",
       "\\item[selectivity] -0.481642979704967\n",
       "\\end{description*}\n"
      ],
      "text/markdown": [
       "(Intercept)\n",
       ":   -0.0533840024749857selectivity\n",
       ":   -0.481642979704967\n",
       "\n"
      ],
      "text/plain": [
       "(Intercept) selectivity \n",
       "  -0.053384   -0.481643 "
      ]
     },
     "metadata": {},
     "output_type": "display_data"
    }
   ],
   "source": [
    "coef(OLSexamp)"
   ]
  },
  {
   "cell_type": "code",
   "execution_count": 30,
   "metadata": {},
   "outputs": [
    {
     "data": {
      "text/plain": [
       "\n",
       "Call:\n",
       "glm(formula = diff ~ selectivity, data = regdf[regdf[\"object_assignment\"] == \n",
       "    \"tablechair\", ])\n",
       "\n",
       "Deviance Residuals: \n",
       "       6        10        11        17        21        27  \n",
       "-0.04973  -0.05770   0.01847  -0.02807  -0.04179   0.15883  \n",
       "\n",
       "Coefficients:\n",
       "            Estimate Std. Error t value Pr(>|t|)\n",
       "(Intercept) -0.02750    0.09753  -0.282    0.792\n",
       "selectivity  0.06017    0.08327   0.723    0.510\n",
       "\n",
       "(Dispersion parameter for gaussian family taken to be 0.008475945)\n",
       "\n",
       "    Null deviance: 0.038329  on 5  degrees of freedom\n",
       "Residual deviance: 0.033904  on 4  degrees of freedom\n",
       "AIC: -8.0287\n",
       "\n",
       "Number of Fisher Scoring iterations: 2\n"
      ]
     },
     "metadata": {},
     "output_type": "display_data"
    }
   ],
   "source": [
    "OLSexamp <- glm(diff ~ selectivity, data = regdf[regdf['object_assignment']=='tablechair',])\n",
    "summary(OLSexamp)"
   ]
  },
  {
   "cell_type": "code",
   "execution_count": 31,
   "metadata": {},
   "outputs": [
    {
     "data": {
      "text/html": [
       "<dl class=dl-horizontal>\n",
       "\t<dt>(Intercept)</dt>\n",
       "\t\t<dd>-0.0274978264053342</dd>\n",
       "\t<dt>selectivity</dt>\n",
       "\t\t<dd>0.0601668885054505</dd>\n",
       "</dl>\n"
      ],
      "text/latex": [
       "\\begin{description*}\n",
       "\\item[(Intercept)] -0.0274978264053342\n",
       "\\item[selectivity] 0.0601668885054505\n",
       "\\end{description*}\n"
      ],
      "text/markdown": [
       "(Intercept)\n",
       ":   -0.0274978264053342selectivity\n",
       ":   0.0601668885054505\n",
       "\n"
      ],
      "text/plain": [
       "(Intercept) selectivity \n",
       "-0.02749783  0.06016689 "
      ]
     },
     "metadata": {},
     "output_type": "display_data"
    }
   ],
   "source": [
    "coef(OLSexamp)"
   ]
  },
  {
   "cell_type": "code",
   "execution_count": 32,
   "metadata": {},
   "outputs": [
    {
     "data": {
      "text/plain": [
       "Linear mixed model fit by REML ['lmerMod']\n",
       "Formula: diff ~ selectivity + (1 + selectivity | object_assignment)\n",
       "   Data: regdf\n",
       "\n",
       "REML criterion at convergence: -47.4\n",
       "\n",
       "Scaled residuals: \n",
       "    Min      1Q  Median      3Q     Max \n",
       "-3.2009 -0.2368  0.2779  0.5158  1.9508 \n",
       "\n",
       "Random effects:\n",
       " Groups            Name        Variance  Std.Dev.  Corr\n",
       " object_assignment (Intercept) 0.000e+00 0.000e+00     \n",
       "                   selectivity 2.121e-24 1.456e-12  NaN\n",
       " Residual                      9.417e-03 9.704e-02     \n",
       "Number of obs: 31, groups:  object_assignment, 6\n",
       "\n",
       "Fixed effects:\n",
       "            Estimate Std. Error t value\n",
       "(Intercept) -0.06192    0.02488  -2.488\n",
       "selectivity  0.06516    0.03299   1.975\n",
       "\n",
       "Correlation of Fixed Effects:\n",
       "            (Intr)\n",
       "selectivity -0.714"
      ]
     },
     "metadata": {},
     "output_type": "display_data"
    }
   ],
   "source": [
    "OLSexamp <- lmer(diff ~ selectivity + (1 + selectivity | object_assignment), data = regdf)\n",
    "summary(OLSexamp)"
   ]
  },
  {
   "cell_type": "code",
   "execution_count": 33,
   "metadata": {},
   "outputs": [
    {
     "data": {
      "text/html": [
       "<table>\n",
       "<thead><tr><th></th><th scope=col>(Intercept)</th><th scope=col>selectivity</th></tr></thead>\n",
       "<tbody>\n",
       "\t<tr><th scope=row>bedbench</th><td>-0.06191565</td><td>0.06515661 </td></tr>\n",
       "\t<tr><th scope=row>benchchair</th><td>-0.06191565</td><td>0.06515661 </td></tr>\n",
       "\t<tr><th scope=row>benchtable</th><td>-0.06191565</td><td>0.06515661 </td></tr>\n",
       "\t<tr><th scope=row>chairbed</th><td>-0.06191565</td><td>0.06515661 </td></tr>\n",
       "\t<tr><th scope=row>tablebed</th><td>-0.06191565</td><td>0.06515661 </td></tr>\n",
       "\t<tr><th scope=row>tablechair</th><td>-0.06191565</td><td>0.06515661 </td></tr>\n",
       "</tbody>\n",
       "</table>\n"
      ],
      "text/latex": [
       "\\begin{tabular}{r|ll}\n",
       "  & (Intercept) & selectivity\\\\\n",
       "\\hline\n",
       "\tbedbench & -0.06191565 & 0.06515661 \\\\\n",
       "\tbenchchair & -0.06191565 & 0.06515661 \\\\\n",
       "\tbenchtable & -0.06191565 & 0.06515661 \\\\\n",
       "\tchairbed & -0.06191565 & 0.06515661 \\\\\n",
       "\ttablebed & -0.06191565 & 0.06515661 \\\\\n",
       "\ttablechair & -0.06191565 & 0.06515661 \\\\\n",
       "\\end{tabular}\n"
      ],
      "text/markdown": [
       "\n",
       "| <!--/--> | (Intercept) | selectivity | \n",
       "|---|---|---|---|---|---|\n",
       "| bedbench | -0.06191565 | 0.06515661  | \n",
       "| benchchair | -0.06191565 | 0.06515661  | \n",
       "| benchtable | -0.06191565 | 0.06515661  | \n",
       "| chairbed | -0.06191565 | 0.06515661  | \n",
       "| tablebed | -0.06191565 | 0.06515661  | \n",
       "| tablechair | -0.06191565 | 0.06515661  | \n",
       "\n",
       "\n"
      ],
      "text/plain": [
       "           (Intercept) selectivity\n",
       "bedbench   -0.06191565 0.06515661 \n",
       "benchchair -0.06191565 0.06515661 \n",
       "benchtable -0.06191565 0.06515661 \n",
       "chairbed   -0.06191565 0.06515661 \n",
       "tablebed   -0.06191565 0.06515661 \n",
       "tablechair -0.06191565 0.06515661 "
      ]
     },
     "metadata": {},
     "output_type": "display_data"
    }
   ],
   "source": [
    "coef(OLSexamp)$object_assignment"
   ]
  },
  {
   "cell_type": "markdown",
   "metadata": {},
   "source": [
    "# Toy Example for Comparison"
   ]
  },
  {
   "cell_type": "code",
   "execution_count": 34,
   "metadata": {},
   "outputs": [
    {
     "data": {
      "text/html": [
       "<table>\n",
       "<thead><tr><th scope=col>diff</th><th scope=col>selectivity</th><th scope=col>object_assignment</th></tr></thead>\n",
       "<tbody>\n",
       "\t<tr><td>-0.9829552</td><td>-1.00     </td><td>A         </td></tr>\n",
       "\t<tr><td>-1.3547940</td><td>-0.99     </td><td>A         </td></tr>\n",
       "\t<tr><td>-0.9815247</td><td>-0.98     </td><td>A         </td></tr>\n",
       "\t<tr><td>-1.0752960</td><td>-0.97     </td><td>A         </td></tr>\n",
       "\t<tr><td>-0.4929206</td><td>-0.96     </td><td>A         </td></tr>\n",
       "\t<tr><td>-0.6462017</td><td>-0.95     </td><td>A         </td></tr>\n",
       "</tbody>\n",
       "</table>\n"
      ],
      "text/latex": [
       "\\begin{tabular}{r|lll}\n",
       " diff & selectivity & object\\_assignment\\\\\n",
       "\\hline\n",
       "\t -0.9829552 & -1.00      & A         \\\\\n",
       "\t -1.3547940 & -0.99      & A         \\\\\n",
       "\t -0.9815247 & -0.98      & A         \\\\\n",
       "\t -1.0752960 & -0.97      & A         \\\\\n",
       "\t -0.4929206 & -0.96      & A         \\\\\n",
       "\t -0.6462017 & -0.95      & A         \\\\\n",
       "\\end{tabular}\n"
      ],
      "text/markdown": [
       "\n",
       "diff | selectivity | object_assignment | \n",
       "|---|---|---|---|---|---|\n",
       "| -0.9829552 | -1.00      | A          | \n",
       "| -1.3547940 | -0.99      | A          | \n",
       "| -0.9815247 | -0.98      | A          | \n",
       "| -1.0752960 | -0.97      | A          | \n",
       "| -0.4929206 | -0.96      | A          | \n",
       "| -0.6462017 | -0.95      | A          | \n",
       "\n",
       "\n"
      ],
      "text/plain": [
       "  diff       selectivity object_assignment\n",
       "1 -0.9829552 -1.00       A                \n",
       "2 -1.3547940 -0.99       A                \n",
       "3 -0.9815247 -0.98       A                \n",
       "4 -1.0752960 -0.97       A                \n",
       "5 -0.4929206 -0.96       A                \n",
       "6 -0.6462017 -0.95       A                "
      ]
     },
     "metadata": {},
     "output_type": "display_data"
    },
    {
     "data": {
      "image/png": "[encoded data removed]",
      "text/plain": [
       "plot without title"
      ]
     },
     "metadata": {},
     "output_type": "display_data"
    }
   ],
   "source": [
    "x1 = seq(-1, 1, by=.01)\n",
    "y1 = seq(-1, 1, by=.01) + rnorm(201, 0, .3)\n",
    "x2 = seq(-1, 1, by=.01)\n",
    "y2 = seq(-1, 9, by=.05) + rnorm(201, 0, .3)\n",
    "regdf = data.frame(c(y1, y2), c(x1, x2), c(rep('A', 201), rep('B', 201)))\n",
    "colnames(regdf) = c('diff', 'selectivity', 'object_assignment')\n",
    "regdf['object_assignment'] = as.factor(unlist(regdf['object_assignment']))\n",
    "\n",
    "head(regdf)\n",
    "plot(as.vector(regdf[,'selectivity']), as.vector(regdf[,'diff']))"
   ]
  },
  {
   "cell_type": "markdown",
   "metadata": {},
   "source": [
    "### Model Fitting"
   ]
  },
  {
   "cell_type": "code",
   "execution_count": 35,
   "metadata": {},
   "outputs": [
    {
     "data": {
      "text/plain": [
       "\n",
       "Call:\n",
       "glm(formula = diff ~ selectivity, data = regdf[regdf[\"object_assignment\"] == \n",
       "    \"A\", ])\n",
       "\n",
       "Deviance Residuals: \n",
       "     Min        1Q    Median        3Q       Max  \n",
       "-0.80929  -0.18234  -0.00138   0.17242   0.74374  \n",
       "\n",
       "Coefficients:\n",
       "             Estimate Std. Error t value Pr(>|t|)    \n",
       "(Intercept) -0.005243   0.020074  -0.261    0.794    \n",
       "selectivity  1.015573   0.034597  29.354   <2e-16 ***\n",
       "---\n",
       "Signif. codes:  0 '***' 0.001 '**' 0.01 '*' 0.05 '.' 0.1 ' ' 1\n",
       "\n",
       "(Dispersion parameter for gaussian family taken to be 0.08099903)\n",
       "\n",
       "    Null deviance: 85.913  on 200  degrees of freedom\n",
       "Residual deviance: 16.119  on 199  degrees of freedom\n",
       "AIC: 69.226\n",
       "\n",
       "Number of Fisher Scoring iterations: 2\n"
      ]
     },
     "metadata": {},
     "output_type": "display_data"
    }
   ],
   "source": [
    "OLSexamp <- glm(diff ~ selectivity, data = regdf[regdf['object_assignment']=='A',])\n",
    "summary(OLSexamp)"
   ]
  },
  {
   "cell_type": "code",
   "execution_count": 36,
   "metadata": {},
   "outputs": [
    {
     "data": {
      "text/html": [
       "<dl class=dl-horizontal>\n",
       "\t<dt>(Intercept)</dt>\n",
       "\t\t<dd>-0.00524331181581525</dd>\n",
       "\t<dt>selectivity</dt>\n",
       "\t\t<dd>1.01557311916077</dd>\n",
       "</dl>\n"
      ],
      "text/latex": [
       "\\begin{description*}\n",
       "\\item[(Intercept)] -0.00524331181581525\n",
       "\\item[selectivity] 1.01557311916077\n",
       "\\end{description*}\n"
      ],
      "text/markdown": [
       "(Intercept)\n",
       ":   -0.00524331181581525selectivity\n",
       ":   1.01557311916077\n",
       "\n"
      ],
      "text/plain": [
       " (Intercept)  selectivity \n",
       "-0.005243312  1.015573119 "
      ]
     },
     "metadata": {},
     "output_type": "display_data"
    }
   ],
   "source": [
    "coef(OLSexamp)"
   ]
  },
  {
   "cell_type": "code",
   "execution_count": 37,
   "metadata": {},
   "outputs": [
    {
     "data": {
      "text/plain": [
       "\n",
       "Call:\n",
       "glm(formula = diff ~ selectivity, data = regdf[regdf[\"object_assignment\"] == \n",
       "    \"B\", ])\n",
       "\n",
       "Deviance Residuals: \n",
       "     Min        1Q    Median        3Q       Max  \n",
       "-0.84549  -0.20652   0.00767   0.18247   0.82453  \n",
       "\n",
       "Coefficients:\n",
       "            Estimate Std. Error t value Pr(>|t|)    \n",
       "(Intercept)  4.02312    0.02053   195.9   <2e-16 ***\n",
       "selectivity  4.98812    0.03539   140.9   <2e-16 ***\n",
       "---\n",
       "Signif. codes:  0 '***' 0.001 '**' 0.01 '*' 0.05 '.' 0.1 ' ' 1\n",
       "\n",
       "(Dispersion parameter for gaussian family taken to be 0.0847553)\n",
       "\n",
       "    Null deviance: 1700.583  on 200  degrees of freedom\n",
       "Residual deviance:   16.866  on 199  degrees of freedom\n",
       "AIC: 78.338\n",
       "\n",
       "Number of Fisher Scoring iterations: 2\n"
      ]
     },
     "metadata": {},
     "output_type": "display_data"
    }
   ],
   "source": [
    "OLSexamp <- glm(diff ~ selectivity, data = regdf[regdf['object_assignment']=='B',])\n",
    "summary(OLSexamp)"
   ]
  },
  {
   "cell_type": "code",
   "execution_count": 38,
   "metadata": {},
   "outputs": [
    {
     "data": {
      "text/html": [
       "<dl class=dl-horizontal>\n",
       "\t<dt>(Intercept)</dt>\n",
       "\t\t<dd>4.02312135231595</dd>\n",
       "\t<dt>selectivity</dt>\n",
       "\t\t<dd>4.98811505179079</dd>\n",
       "</dl>\n"
      ],
      "text/latex": [
       "\\begin{description*}\n",
       "\\item[(Intercept)] 4.02312135231595\n",
       "\\item[selectivity] 4.98811505179079\n",
       "\\end{description*}\n"
      ],
      "text/markdown": [
       "(Intercept)\n",
       ":   4.02312135231595selectivity\n",
       ":   4.98811505179079\n",
       "\n"
      ],
      "text/plain": [
       "(Intercept) selectivity \n",
       "   4.023121    4.988115 "
      ]
     },
     "metadata": {},
     "output_type": "display_data"
    }
   ],
   "source": [
    "coef(OLSexamp)"
   ]
  },
  {
   "cell_type": "code",
   "execution_count": 39,
   "metadata": {},
   "outputs": [
    {
     "data": {
      "text/plain": [
       "Linear mixed model fit by REML ['lmerMod']\n",
       "Formula: diff ~ selectivity + (1 + selectivity | object_assignment)\n",
       "   Data: regdf\n",
       "\n",
       "REML criterion at convergence: 159.1\n",
       "\n",
       "Scaled residuals: \n",
       "     Min       1Q   Median       3Q      Max \n",
       "-2.94013 -0.70093  0.00525  0.62789  2.86819 \n",
       "\n",
       "Random effects:\n",
       " Groups            Name        Variance Std.Dev. Corr\n",
       " object_assignment (Intercept) 8.11370  2.8485       \n",
       "                   selectivity 7.89039  2.8090   1.00\n",
       " Residual                      0.08267  0.2875       \n",
       "Number of obs: 402, groups:  object_assignment, 2\n",
       "\n",
       "Fixed effects:\n",
       "            Estimate Std. Error t value\n",
       "(Intercept)    2.009      2.014   0.997\n",
       "selectivity    3.002      1.986   1.511\n",
       "\n",
       "Correlation of Fixed Effects:\n",
       "            (Intr)\n",
       "selectivity 1.000 "
      ]
     },
     "metadata": {},
     "output_type": "display_data"
    }
   ],
   "source": [
    "OLSexamp <- lmer(diff ~ selectivity + (1 + selectivity | object_assignment), data = regdf)\n",
    "summary(OLSexamp)"
   ]
  },
  {
   "cell_type": "code",
   "execution_count": 40,
   "metadata": {},
   "outputs": [
    {
     "data": {
      "text/html": [
       "<table>\n",
       "<thead><tr><th></th><th scope=col>(Intercept)</th><th scope=col>selectivity</th></tr></thead>\n",
       "<tbody>\n",
       "\t<tr><th scope=row>A</th><td>-0.005166382</td><td>1.015649    </td></tr>\n",
       "\t<tr><th scope=row>B</th><td> 4.023044423</td><td>4.988039    </td></tr>\n",
       "</tbody>\n",
       "</table>\n"
      ],
      "text/latex": [
       "\\begin{tabular}{r|ll}\n",
       "  & (Intercept) & selectivity\\\\\n",
       "\\hline\n",
       "\tA & -0.005166382 & 1.015649    \\\\\n",
       "\tB &  4.023044423 & 4.988039    \\\\\n",
       "\\end{tabular}\n"
      ],
      "text/markdown": [
       "\n",
       "| <!--/--> | (Intercept) | selectivity | \n",
       "|---|---|\n",
       "| A | -0.005166382 | 1.015649     | \n",
       "| B |  4.023044423 | 4.988039     | \n",
       "\n",
       "\n"
      ],
      "text/plain": [
       "  (Intercept)  selectivity\n",
       "A -0.005166382 1.015649   \n",
       "B  4.023044423 4.988039   "
      ]
     },
     "metadata": {},
     "output_type": "display_data"
    }
   ],
   "source": [
    "coef(OLSexamp)$object_assignment"
   ]
  },
  {
   "cell_type": "code",
   "execution_count": null,
   "metadata": {
    "collapsed": true
   },
   "outputs": [],
   "source": []
  }
 ],
 "metadata": {
  "kernelspec": {
   "display_name": "Python 2",
   "language": "python",
   "name": "python2"
  },
  "language_info": {
   "codemirror_mode": {
    "name": "ipython",
    "version": 2
   },
   "file_extension": ".py",
   "mimetype": "text/x-python",
   "name": "python",
   "nbconvert_exporter": "python",
   "pygments_lexer": "ipython2",
   "version": "2.7.12"
  }
 },
 "nbformat": 4,
 "nbformat_minor": 2
}
