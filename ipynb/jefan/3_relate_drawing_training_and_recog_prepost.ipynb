{
 "cells": [
  {
   "cell_type": "code",
   "execution_count": 1,
   "metadata": {
    "collapsed": true
   },
   "outputs": [],
   "source": [
    "from __future__ import division\n",
    "\n",
    "import numpy as np\n",
    "import os\n",
    "from glob import glob\n",
    "\n",
    "from PIL import Image\n",
    "from copy import deepcopy\n",
    "\n",
    "from sklearn import linear_model, datasets, neighbors\n",
    "from sklearn.model_selection import train_test_split, cross_val_score\n",
    "from sklearn import svm\n",
    "\n",
    "%matplotlib inline\n",
    "from scipy.misc import imread, imresize\n",
    "import matplotlib.pyplot as plt\n",
    "import matplotlib.image as mpimg\n",
    "import seaborn as sns\n",
    "sns.set_context('poster')\n",
    "colors = sns.color_palette(\"cubehelix\", 5)\n",
    "\n",
    "import pandas as pd\n",
    "\n",
    "import scipy.stats as stats\n",
    "from scipy.stats import norm\n",
    "import sklearn"
   ]
  },
  {
   "cell_type": "markdown",
   "metadata": {},
   "source": [
    "### define project paths"
   ]
  },
  {
   "cell_type": "code",
   "execution_count": 2,
   "metadata": {},
   "outputs": [
    {
     "name": "stderr",
     "output_type": "stream",
     "text": [
      "/usr/local/lib/python2.7/dist-packages/h5py/__init__.py:34: FutureWarning: Conversion of the second argument of issubdtype from `float` to `np.floating` is deprecated. In future, it will be treated as `np.float64 == np.dtype(float).type`.\n",
      "  from ._conv import register_converters as _register_converters\n"
     ]
    }
   ],
   "source": [
    "## add helpers to python path\n",
    "import sys\n",
    "if '/home/jefan/neurosketch/python' not in sys.path:\n",
    "    sys.path.append('/home/jefan/neurosketch/python')\n",
    "\n",
    "## root paths    \n",
    "data_dir = '/home/jefan/neurosketch/data/'\n",
    "proj_dir = '/home/jefan/neurosketch/'\n",
    "results_dir = '/home/jefan/neurosketch/csv/'\n",
    "\n",
    "## module definitions\n",
    "import analysis_helpers as h\n",
    "reload(h)\n",
    "\n",
    "h.data_dir = data_dir\n",
    "h.path_to_recog = data_dir + 'features/recog'\n",
    "h.path_to_draw = data_dir + 'features/drawing'\n",
    "h.roi_list_draw = np.array(['V1Draw', 'V2Draw', 'LOCDraw', 'InsulaDraw', 'postCentralDraw',\n",
    "                            'preCentralDraw', 'ParietalDraw', 'FrontalDraw', 'smgDraw'])\n",
    "h.roi_list_recog = np.array(['V1', 'V2', 'LOC', 'fusiform','parahippo','IT','ento','PRC','hipp','mOFC'])\n",
    "roi_list_recog = h.roi_list_recog"
   ]
  },
  {
   "cell_type": "markdown",
   "metadata": {},
   "source": [
    "### relate individual differences in overall target selectivity (log odds of target vs. foil) to prepost differentiation"
   ]
  },
  {
   "cell_type": "code",
   "execution_count": 4,
   "metadata": {
    "collapsed": true
   },
   "outputs": [],
   "source": [
    "version = '4way'\n",
    "tag = 'log'\n",
    "d = pd.read_csv(os.path.join(proj_dir,'csv/difference_{}probs_{}.csv'.format(tag,version)))\n",
    "prepost = pd.read_csv(os.path.join(proj_dir,'csv/neural_changes_by_surfroi_and_subject.csv'))"
   ]
  },
  {
   "cell_type": "code",
   "execution_count": 5,
   "metadata": {},
   "outputs": [
    {
     "name": "stdout",
     "output_type": "stream",
     "text": [
      "ROI: V1  r=0.37475  p=0.03779 *\n",
      "ROI: V2  r=0.46673  p=0.00812 *\n",
      "ROI: LOC  r=-0.01186  p=0.94952 \n",
      "ROI: IT  r=-0.10254  p=0.58306 \n",
      "ROI: fusiform  r=-0.39501  p=0.02786 *\n",
      "ROI: parahippo  r=0.12824  p=0.49176 \n",
      "ROI: PRC  r=-0.32177  p=0.07753 \n",
      "ROI: ento  r=0.08294  p=0.65735 \n",
      "ROI: hipp  r=0.0656  p=0.72586 \n",
      "ROI: mOFC  r=-0.3766  p=0.03677 *\n"
     ]
    }
   ],
   "source": [
    "## make dataframe to relate drawing contrast to recognition differentiation\n",
    "roi_list = ['V1', 'V2', 'LOC', 'IT', 'fusiform', 'parahippo', 'PRC', 'ento','hipp', 'mOFC']\n",
    "\n",
    "for this_roi in roi_list:\n",
    "    draw = d[d['roi']==this_roi]['target-foil'].values\n",
    "    recog = prepost['UnanchoredTrainedDiff_{}'.format(this_roi)].values-prepost['UnanchoredControlDiff_{}'.format(this_roi)].values\n",
    "\n",
    "    z = pd.DataFrame([draw,recog])\n",
    "    z = z.transpose()\n",
    "    z.columns=['draw','recog']\n",
    "\n",
    "    ## plot \n",
    "    fig = plt.figure(figsize=(6,6))\n",
    "    sns.set_context('poster')\n",
    "    sns.regplot(x=\"draw\",\n",
    "                y =\"recog\",\n",
    "                data=z)\n",
    "    r,p = stats.pearsonr(draw,recog)\n",
    "    plt.title('ROI: {}  r={}  p={}'.format(this_roi,np.round(r,5),np.round(p,5)))\n",
    "    if np.round(p,5)<0.05:\n",
    "        accent = '*'\n",
    "    else:\n",
    "        accent = ''\n",
    "    print 'ROI: {}  r={}  p={} {}'.format(this_roi,np.round(r,5),np.round(p,5),accent)\n",
    "    plt.xlabel('drawing: target vs. foil contrast') \n",
    "    plt.ylabel('recog: post-pre differentiation')\n",
    "    if not os.path.exists(os.path.join(proj_dir,'plots/roi/drawrecog')):\n",
    "        os.makedirs(os.path.join(proj_dir,'plots/roi/drawrecog'))\n",
    "    plt.tight_layout()\n",
    "    plt.savefig(os.path.join(proj_dir,'plots/roi/drawrecog/draw_recog_scatter_{}.pdf'.format(this_roi)))\n",
    "    plt.close(fig)"
   ]
  },
  {
   "cell_type": "markdown",
   "metadata": {},
   "source": [
    "### Some observations:\n",
    "* ROIs where we see positive relationship are: *V1*, *V2*. That is, individuals with GREATER target selectivity during drawing in these regions also show GREATER prepost differentiation.\n",
    "* ROIs where we see negative relationship are: *fusiform*, *mOFC* (maybe PRC?) That is, individuals with LESS target selectivity during drawing in these regions also show GREATER prepost differentiation."
   ]
  },
  {
   "cell_type": "markdown",
   "metadata": {},
   "source": [
    "### When does the relationship between target selectivity and differentiation emerge in these ROIs?\n"
   ]
  },
  {
   "cell_type": "code",
   "execution_count": 8,
   "metadata": {},
   "outputs": [],
   "source": [
    "version = '4way'\n",
    "tag = 'logged'\n",
    "ALLDM = pd.read_csv(os.path.join(results_dir,'logistic_timeseries_drawing_neural_{}_{}.csv'.format(version,tag)))"
   ]
  },
  {
   "cell_type": "code",
   "execution_count": 10,
   "metadata": {},
   "outputs": [
    {
     "data": {
      "text/html": [
       "<div>\n",
       "<style>\n",
       "    .dataframe thead tr:only-child th {\n",
       "        text-align: right;\n",
       "    }\n",
       "\n",
       "    .dataframe thead th {\n",
       "        text-align: left;\n",
       "    }\n",
       "\n",
       "    .dataframe tbody tr th {\n",
       "        vertical-align: top;\n",
       "    }\n",
       "</style>\n",
       "<table border=\"1\" class=\"dataframe\">\n",
       "  <thead>\n",
       "    <tr style=\"text-align: right;\">\n",
       "      <th></th>\n",
       "      <th>Unnamed: 0</th>\n",
       "      <th>subj</th>\n",
       "      <th>label</th>\n",
       "      <th>run_num</th>\n",
       "      <th>TR_num</th>\n",
       "      <th>time_point</th>\n",
       "      <th>trial_num</th>\n",
       "      <th>t1_prob</th>\n",
       "      <th>t2_prob</th>\n",
       "      <th>c1_prob</th>\n",
       "      <th>c2_prob</th>\n",
       "      <th>bed_prob</th>\n",
       "      <th>bench_prob</th>\n",
       "      <th>chair_prob</th>\n",
       "      <th>table_prob</th>\n",
       "      <th>roi</th>\n",
       "    </tr>\n",
       "  </thead>\n",
       "  <tbody>\n",
       "    <tr>\n",
       "      <th>0</th>\n",
       "      <td>0</td>\n",
       "      <td>110171</td>\n",
       "      <td>bed</td>\n",
       "      <td>1</td>\n",
       "      <td>10</td>\n",
       "      <td>1</td>\n",
       "      <td>0</td>\n",
       "      <td>-0.399953</td>\n",
       "      <td>-5.720615</td>\n",
       "      <td>-1.809654</td>\n",
       "      <td>-1.816093</td>\n",
       "      <td>-0.399953</td>\n",
       "      <td>-5.720615</td>\n",
       "      <td>-1.809654</td>\n",
       "      <td>-1.816093</td>\n",
       "      <td>V1</td>\n",
       "    </tr>\n",
       "    <tr>\n",
       "      <th>1</th>\n",
       "      <td>1</td>\n",
       "      <td>110171</td>\n",
       "      <td>bed</td>\n",
       "      <td>1</td>\n",
       "      <td>11</td>\n",
       "      <td>2</td>\n",
       "      <td>0</td>\n",
       "      <td>-0.467243</td>\n",
       "      <td>-1.571002</td>\n",
       "      <td>-1.899738</td>\n",
       "      <td>-4.146006</td>\n",
       "      <td>-0.467243</td>\n",
       "      <td>-1.571002</td>\n",
       "      <td>-1.899738</td>\n",
       "      <td>-4.146006</td>\n",
       "      <td>V1</td>\n",
       "    </tr>\n",
       "    <tr>\n",
       "      <th>2</th>\n",
       "      <td>2</td>\n",
       "      <td>110171</td>\n",
       "      <td>bed</td>\n",
       "      <td>1</td>\n",
       "      <td>12</td>\n",
       "      <td>3</td>\n",
       "      <td>0</td>\n",
       "      <td>-0.261171</td>\n",
       "      <td>-2.320307</td>\n",
       "      <td>-4.012254</td>\n",
       "      <td>-2.175825</td>\n",
       "      <td>-0.261171</td>\n",
       "      <td>-2.320307</td>\n",
       "      <td>-4.012254</td>\n",
       "      <td>-2.175825</td>\n",
       "      <td>V1</td>\n",
       "    </tr>\n",
       "    <tr>\n",
       "      <th>3</th>\n",
       "      <td>3</td>\n",
       "      <td>110171</td>\n",
       "      <td>bed</td>\n",
       "      <td>1</td>\n",
       "      <td>13</td>\n",
       "      <td>4</td>\n",
       "      <td>0</td>\n",
       "      <td>-2.709260</td>\n",
       "      <td>-3.450967</td>\n",
       "      <td>-2.398373</td>\n",
       "      <td>-0.209693</td>\n",
       "      <td>-2.709260</td>\n",
       "      <td>-3.450967</td>\n",
       "      <td>-2.398373</td>\n",
       "      <td>-0.209693</td>\n",
       "      <td>V1</td>\n",
       "    </tr>\n",
       "    <tr>\n",
       "      <th>4</th>\n",
       "      <td>4</td>\n",
       "      <td>110171</td>\n",
       "      <td>bed</td>\n",
       "      <td>1</td>\n",
       "      <td>14</td>\n",
       "      <td>5</td>\n",
       "      <td>0</td>\n",
       "      <td>-3.115572</td>\n",
       "      <td>-6.600511</td>\n",
       "      <td>-1.009318</td>\n",
       "      <td>-0.527939</td>\n",
       "      <td>-3.115572</td>\n",
       "      <td>-6.600511</td>\n",
       "      <td>-1.009318</td>\n",
       "      <td>-0.527939</td>\n",
       "      <td>V1</td>\n",
       "    </tr>\n",
       "  </tbody>\n",
       "</table>\n",
       "</div>"
      ],
      "text/plain": [
       "   Unnamed: 0    subj label  run_num  TR_num  time_point  trial_num   t1_prob  \\\n",
       "0           0  110171   bed        1      10           1          0 -0.399953   \n",
       "1           1  110171   bed        1      11           2          0 -0.467243   \n",
       "2           2  110171   bed        1      12           3          0 -0.261171   \n",
       "3           3  110171   bed        1      13           4          0 -2.709260   \n",
       "4           4  110171   bed        1      14           5          0 -3.115572   \n",
       "\n",
       "    t2_prob   c1_prob   c2_prob  bed_prob  bench_prob  chair_prob  table_prob  \\\n",
       "0 -5.720615 -1.809654 -1.816093 -0.399953   -5.720615   -1.809654   -1.816093   \n",
       "1 -1.571002 -1.899738 -4.146006 -0.467243   -1.571002   -1.899738   -4.146006   \n",
       "2 -2.320307 -4.012254 -2.175825 -0.261171   -2.320307   -4.012254   -2.175825   \n",
       "3 -3.450967 -2.398373 -0.209693 -2.709260   -3.450967   -2.398373   -0.209693   \n",
       "4 -6.600511 -1.009318 -0.527939 -3.115572   -6.600511   -1.009318   -0.527939   \n",
       "\n",
       "  roi  \n",
       "0  V1  \n",
       "1  V1  \n",
       "2  V1  \n",
       "3  V1  \n",
       "4  V1  "
      ]
     },
     "execution_count": 10,
     "metadata": {},
     "output_type": "execute_result"
    }
   ],
   "source": [
    "ALLDM.head()"
   ]
  },
  {
   "cell_type": "code",
   "execution_count": null,
   "metadata": {
    "collapsed": true
   },
   "outputs": [],
   "source": []
  },
  {
   "cell_type": "code",
   "execution_count": null,
   "metadata": {
    "collapsed": true
   },
   "outputs": [],
   "source": [
    "def get_summary_timecourse(ALLDM, \n",
    "                        this_iv='trial_num',\n",
    "                        roi_list=['V1','V2','LOC'],\n",
    "                        render_cond=1,\n",
    "                        version='4way',\n",
    "                        proj_dir='../'):\n",
    "'''\n",
    "input: \n",
    "    ALLDM matrix: supersubject matrix generated by fn make_drawing_predictions\n",
    "    this_iv: choice of time binning options. options are ['time_point','trial_num','run_num']\n",
    "    roi_list: list of ROIs to make plots for\n",
    "    render_cond: Is 1 if you want to the CONDITION-wise plots -- trained vs. foil vs control\n",
    "                 Is 0 if if you want the DIFFERENCE plots -- trained - foil vs foil - control\n",
    "    version: Using 4-way, 3-way, or 2-way classifier results? options are ['2way','3way','4way']\n",
    "\n",
    "    proj_dir: root directory of project.\n",
    "\n",
    "output: \n",
    "    saves PDF versions of plots in plots dir, which is located at top level of project directory\n",
    "'''    \n",
    "\n",
    "subs = np.unique(ALLDM.subj.values)\n",
    "lookup = dict(zip(['trial_num','run_num','time_point'],['repetition','run','TR']))\n",
    "\n",
    "ivs=['run_num','trial_num','time_point']\n",
    "assert this_iv in ivs    \n",
    "\n",
    "for this_roi in roi_list:\n",
    "\n",
    "    print 'Now plotting results for {} ...'.format(this_roi)\n",
    "\n",
    "    T = []\n",
    "    F = []\n",
    "    C = []\n",
    "    Sub = []\n",
    "    for sub in subs:\n",
    "        inds =(ALLDM['roi']==this_roi) & (ALLDM['subj']==sub) \n",
    "        t,f,c = get_prob_timecourse(this_iv,ALLDM[inds],version=version)\n",
    "        if len(T)==0:\n",
    "            T = t\n",
    "            F = f\n",
    "            C = c\n",
    "            DTF = t-f  ## these differences already in log space       \n",
    "            DTC = t-c\n",
    "            DFC = f-c\n",
    "        else:\n",
    "            T = np.hstack((T,t))\n",
    "            F = np.hstack((F,f))        \n",
    "            C = np.hstack((C,c)) \n",
    "            DTF = np.hstack((DTF,t-f))                \n",
    "            DTC = np.hstack((DTC,t-c))\n",
    "            DFC = np.hstack((DFC,f-c))\n",
    "        Sub.append([sub]*len(t))   \n",
    "\n",
    "    if render_cond==1:\n",
    "        ## make longform version of dataframe to use in tsplot (by condition)            \n",
    "        Trial = np.tile(np.arange(len(t)),len(subs)*3)\n",
    "        Condition = np.repeat(['target','foil','control'],len(T))\n",
    "        Sub = np.tile(np.array(flatten(Sub)),3)\n",
    "        Prob = np.hstack((T,F,C))\n",
    "        assert len(Trial)==len(Condition)\n",
    "        assert len(Sub)==len(Prob)\n",
    "        assert len(Condition)==len(Sub)\n",
    "        x = pd.DataFrame([Prob,Trial,Condition,Sub])\n",
    "        x = x.transpose()\n",
    "        x.columns = ['probability',lookup[this_iv],'condition','sub']\n",
    "        toop = 'condition'            \n",
    "    else:\n",
    "        ## make longform version of dataframe to use in tsplot (difference btw conditions)                    \n",
    "        Trial = np.tile(np.arange(len(t)),len(subs)*3)\n",
    "        Condition = np.repeat(['target-foil','target-control','foil-control'],len(T))\n",
    "        Sub = np.tile(np.array(flatten(Sub)),3)\n",
    "        Prob = np.hstack((DTF,DTC,DFC))        \n",
    "        assert len(Trial)==len(Condition)\n",
    "        assert len(Sub)==len(Prob)\n",
    "        assert len(Condition)==len(Sub)\n",
    "        x = pd.DataFrame([Prob,Trial,Condition,Sub])\n",
    "        x = x.transpose()\n",
    "        x.columns = ['probability',lookup[this_iv],'condition','sub']        \n",
    "        toop = 'difference'"
   ]
  },
  {
   "cell_type": "code",
   "execution_count": null,
   "metadata": {
    "collapsed": true
   },
   "outputs": [],
   "source": []
  },
  {
   "cell_type": "code",
   "execution_count": null,
   "metadata": {
    "collapsed": true
   },
   "outputs": [],
   "source": []
  },
  {
   "cell_type": "code",
   "execution_count": null,
   "metadata": {
    "collapsed": true
   },
   "outputs": [],
   "source": []
  },
  {
   "cell_type": "code",
   "execution_count": null,
   "metadata": {
    "collapsed": true
   },
   "outputs": [],
   "source": []
  },
  {
   "cell_type": "code",
   "execution_count": null,
   "metadata": {
    "collapsed": true
   },
   "outputs": [],
   "source": []
  },
  {
   "cell_type": "code",
   "execution_count": null,
   "metadata": {
    "collapsed": true
   },
   "outputs": [],
   "source": []
  }
 ],
 "metadata": {
  "kernelspec": {
   "display_name": "Python 2",
   "language": "python",
   "name": "python2"
  },
  "language_info": {
   "codemirror_mode": {
    "name": "ipython",
    "version": 2
   },
   "file_extension": ".py",
   "mimetype": "text/x-python",
   "name": "python",
   "nbconvert_exporter": "python",
   "pygments_lexer": "ipython2",
   "version": "2.7.12"
  }
 },
 "nbformat": 4,
 "nbformat_minor": 2
}
