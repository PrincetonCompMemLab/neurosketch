{
 "cells": [
  {
   "cell_type": "markdown",
   "metadata": {},
   "source": [
    "# Cluster Analysis\n",
    "To alter which data set is being analyzed, I alter what data is loaded into clfmaps and prepostmaps, plus target/source file paths for intermediate analyses until the final result of a thresholded TFCE image is computed."
   ]
  },
  {
   "cell_type": "markdown",
   "metadata": {},
   "source": [
    "## Setup"
   ]
  },
  {
   "cell_type": "markdown",
   "metadata": {},
   "source": [
    "### Dependencies"
   ]
  },
  {
   "cell_type": "code",
   "execution_count": null,
   "metadata": {},
   "outputs": [],
   "source": [
    "import warnings\n",
    "warnings.simplefilter('ignore')\n",
    "\n",
    "import matplotlib.pyplot as plt\n",
    "from nilearn import plotting\n",
    "from nilearn import image\n",
    "import os\n",
    "import numpy as np\n",
    "from brainiak.searchlight.searchlight import Searchlight\n",
    "from brainiak.searchlight.searchlight import Cube\n",
    "from scipy import stats\n",
    "from scipy.stats.stats import pearsonr\n",
    "from scipy.stats.stats import ttest_1samp\n",
    "import nibabel as nib\n",
    "import subprocess\n",
    "import statistics\n",
    "from tqdm import tqdm\n",
    "\n",
    "\n",
    "SAVE_PATH = '/jukebox/ntb/projects/sketchloop02/data/searchlight_output'\n",
    "standard_reference_path = '/jukebox/ntb/projects/sketchloop02/searchlight_outputs/MNI152_T1_2mm_brain.nii.gz'\n",
    "\n",
    "## subject list\n",
    "sub_list = ['0110171', '0110172', '0111171', '0112171', '0112172', '0112173',\n",
    "            '0113171', '0115174', '0117171', '0118171', '0118172', '0119171',\n",
    "            '0119172', '0119173', '0119174', '0120171', '0120172', '0120173',\n",
    "            '0123171', '0123173', '0124171', '0125171', '0125172', '1121161',\n",
    "            '1130161', '1202161', '1203161', '1206161', '1206162', '1206163',\n",
    "            '1207162']\n",
    "\n",
    "rois = ['V1',\n",
    " 'V2',\n",
    " 'LOC',\n",
    " 'IT',\n",
    " 'fusiform',\n",
    " 'parahippo',\n",
    " 'PRC',\n",
    " 'ento',\n",
    " 'hipp',\n",
    " 'mOFC']\n",
    "maskpath= os.path.join(SAVE_PATH, '1207162_neurosketch_{}_standard.nii.gz')\n",
    "sl_rad=1\n",
    "\n",
    "## collect target selectivity maps\n",
    "clfmaps = [image.load_img(os.path.join(SAVE_PATH, s+'_standard_acc_searchlight.nii.gz')).get_data() for s in sub_list]\n",
    "clfaffine = image.load_img(os.path.join(SAVE_PATH, sub_list[0]+'_standard_acc_searchlight.nii.gz')).affine\n",
    "\n",
    "## collect prepost rsa maps\n",
    "prepostmaps = []\n",
    "for sub in sub_list:\n",
    "    prepostmaps.append(image.load_img(os.path.join(SAVE_PATH, sub+'_standard_prepostclf_34_searchlight.nii.gz')).get_data())\n",
    "    mask = image.load_img(standard_reference_path).get_data()\n",
    "    mask = mask.astype(bool)\n",
    "    prepostmaps[-1][~mask] = np.nan\n",
    "prepostaffine = image.load_img(os.path.join(SAVE_PATH, sub_list[0]+'_standard_prepostclf_34_searchlight.nii.gz')).affine\n",
    "\n",
    "# arrange data to be distributed to searchlight\n",
    "subject_data = [np.stack((prepostmaps[i], clfmaps[i]), axis=3) for i in range(len(clfmaps))]\n",
    "permutation = np.arange(len(clfmaps))"
   ]
  },
  {
   "cell_type": "markdown",
   "metadata": {},
   "source": [
    "### Helper Functions"
   ]
  },
  {
   "cell_type": "code",
   "execution_count": null,
   "metadata": {},
   "outputs": [],
   "source": [
    "def generate_tmap(integratingfunction, targetpath, affinepath):\n",
    "    \"generating t-statistic map using the given integrating function and paths to target and affine\"\n",
    "    # generate the t-statistic map using the function\n",
    "    sl = Searchlight(sl_rad=sl_rad, shape=Cube)\n",
    "    sl.distribute(subject_data, np.ones((91, 109, 91)))\n",
    "    sl.broadcast(None)\n",
    "    result = np.array(sl.run_searchlight(integratingfunction)).astype(np.float32)\n",
    "    \n",
    "    # save result\n",
    "    affine = image.load_img(affinepath).affine\n",
    "    nib.save(nib.Nifti1Image(result.astype(np.float32), affine), targetpath)\n",
    "    \n",
    "    # remove NaNs from result\n",
    "    !module load fsl; fslmaths \"$targetpath\" -nan \"$targetpath\"\n",
    "\n",
    "def cluster_summary(inputpath, target_tfce_path, percentile):\n",
    "    \"Summarize cluster information before any permutation-sampling-derived thresholding\"\n",
    "    \n",
    "    ## take their mean\n",
    "    result = image.load_img(inputpath).get_data()\n",
    "    threshold = np.percentile(result.flatten(), percentile)\n",
    "    print('Voxel Intensity Threshold For Non-TFCE Results:', threshold)\n",
    "    #plt.hist(result.flatten())\n",
    "    #plt.axvline(x=threshold, color='r')\n",
    "    #plt.title(\"Distribution of Voxel Intensities/T-Statistics\\nWith {}th Percentile Marked\".format(percentile))\n",
    "    #plt.xlabel('Voxel Intensity/T-Statistic')\n",
    "    #plt.ylabel('Frequency')\n",
    "    #plt.show()\n",
    "\n",
    "    # plot result\n",
    "    print('T-Statistic Maps With Threshold')\n",
    "    localizer_tmap_filename = inputpath\n",
    "    plotting.plot_glass_brain(localizer_tmap_filename, threshold=threshold,\n",
    "                            colorbar=True, plot_abs=False, title='Thresholded Z-Stat Glass Brain')\n",
    "    plotting.plot_stat_map(localizer_tmap_filename, cut_coords=(2, -21, 11), threshold=threshold, title='Thresholded Stat')\n",
    "    plt.show()\n",
    "    \n",
    "    #view = plotting.view_img_on_surf(localizer_tmap_filename, threshold=threshold, black_bg=False, cmap='black_pink')\n",
    "    #return view\n",
    "\n",
    "    # compare with cluster analysis output\n",
    "    print('Thresholded Cluster Analysis Figures')\n",
    "    inputimage = inputpath\n",
    "    !module load fsl; fslmaths \"$inputimage\" -nan \"$inputimage\"\n",
    "    result = !module load fsl; cluster -i \"$inputimage\" -t \"$threshold\" -o cluster_index --osize=cluster_size\n",
    "\n",
    "    #localizer_tmap_filename = 'cluster_index.nii.gz'\n",
    "    #plotting.plot_glass_brain(localizer_tmap_filename, plot_abs=False, colorbar=True, title='Clusters, Ranked by Size, Ascending')\n",
    "    #plt.show()\n",
    "\n",
    "    localizer_tmap_filename = 'cluster_size.nii.gz'\n",
    "    plotting.plot_glass_brain(localizer_tmap_filename, plot_abs=False, colorbar=True, title='Clusters, Scored by Size')\n",
    "    plt.show()\n",
    "\n",
    "    # compare with tfce output\n",
    "    print('Raw TFCE Output')\n",
    "    localizer_tmap_filename = target_tfce_path\n",
    "    !module load fsl; fslmaths \"$inputimage\" -tfce 2 0.5 6 \"$localizer_tmap_filename\"\n",
    "    plotting.plot_glass_brain(localizer_tmap_filename, plot_abs=False, colorbar=True, title='Raw TFCE Glass Brain')\n",
    "    #plotting.plot_stat_map(localizer_tmap_filename, cut_coords=(2, -21, 11), title='TFCE Stat Brain')\n",
    "    plt.show()\n",
    "\n",
    "    # consider distribution of tfce values\n",
    "    print('Distribution of TFCE Scores')\n",
    "    result = image.load_img(target_tfce_path).get_data()\n",
    "    print('25th percentile:', np.percentile(result.flatten(), 25))\n",
    "    print('50th percentile:', np.percentile(result.flatten(), 50))\n",
    "    print('75th percentile:', np.percentile(result.flatten(), 75))\n",
    "    print('99th percentile:', np.percentile(result.flatten(), 99))\n",
    "    \n",
    "def generate_null_distribution(integratingfunction, samplesize, tag):\n",
    "    global permutation\n",
    "    \n",
    "    nullpath = '{}_maxes.txt'.format(tag)\n",
    "    # set of max cluster sizes to build\n",
    "    sizes = []\n",
    "    try:\n",
    "        sofar = open(nullpath).read()\n",
    "    except FileNotFoundError:\n",
    "        sofar = ''\n",
    "\n",
    "    sl = Searchlight(sl_rad=sl_rad, shape=Cube)\n",
    "    sl.distribute(subject_data, np.ones((91, 109, 91)))\n",
    "    sl.broadcast(None)\n",
    "    \n",
    "    # loop samplesize times to sample null distribution\n",
    "    for i in tqdm(range(samplesize-sofar.count('\\n'))):\n",
    "        np.random.shuffle(permutation) # not relevant to sign-flipping approaches\n",
    "    \n",
    "        # create permuted map\n",
    "        permutationpath =  '{}_perm.nii.gz'.format(tag)\n",
    "        output = np.array(sl.run_searchlight(integratingfunction)).astype(np.float32)\n",
    "        nib.save(nib.Nifti1Image(output, clfaffine), permutationpath)\n",
    "\n",
    "        # perform tfce on the map\n",
    "        !module load fsl; fslmaths \"$permutationpath\" -nan \"$permutationpath\" # remove NaNs first!\n",
    "        !module load fsl; fslmaths \"$permutationpath\" -tfce 2 0.5 6 \"$permutationpath\"\n",
    "\n",
    "        # extract max from tfce score map\n",
    "        size = np.max(image.load_img(permutationpath).get_data())\n",
    "\n",
    "        # store \n",
    "        sizes.append(size)\n",
    "        f = open(nullpath, 'a')\n",
    "        f.write(\"{}\\n\".format(sizes[-1]))\n",
    "        f.close()\n",
    "\n",
    "def plot_arbitrary_perm(tag):\n",
    "    print('TFCE of Arbitrary Permutation From Analysis')\n",
    "    localizer_tmap_filename = '{}_perm.nii.gz'.format(tag)\n",
    "    view = plotting.plot_glass_brain(localizer_tmap_filename, plot_abs=False, colorbar=True, title='Raw TFCE Glass Brain')\n",
    "    #plotting.plot_stat_map(localizer_tmap_filename, cut_coords=(2, -21, 11), title='TFCE Stat Brain')\n",
    "    plt.show()\n",
    "    \n",
    "def report_null_distribution(tag, percentile):\n",
    "    # generate data\n",
    "    nullpath = '{}_maxes.txt'.format(tag)\n",
    "    maximums = np.array([float(each) for each in open(nullpath).read().split('\\n')[:-1]])\n",
    "    sizethreshold = np.percentile(maximums, percentile)\n",
    "    \n",
    "    # plotting\n",
    "    plt.hist(maximums)\n",
    "    plt.axvline(x=sizethreshold, color='r')\n",
    "    plt.title(\"Distribution of Biggest TFCE Scores\\nWith {}th Percentile Marked\".format(percentile))\n",
    "    plt.xlabel('Maximum TFCE Score')\n",
    "    plt.ylabel('Frequency')\n",
    "    plt.show()\n",
    "    print('TFCE Score Threshold:', sizethreshold)\n",
    "    return sizethreshold"
   ]
  },
  {
   "cell_type": "markdown",
   "metadata": {},
   "source": [
    "## Mean Prepost Clf Maps\n",
    "Run the clustering analysis pipeline on the mean prepost clf map using an arbitrary cluster threshold."
   ]
  },
  {
   "cell_type": "markdown",
   "metadata": {},
   "source": [
    "### Create T-Statistic Map of Mean Prepost Clf"
   ]
  },
  {
   "cell_type": "code",
   "execution_count": null,
   "metadata": {},
   "outputs": [],
   "source": [
    "# function to operate over every searchlight region\n",
    "targetpath = os.path.join(SAVE_PATH, 'mean_acc_searchlight.nii.gz')\n",
    "affinepath = os.path.join(SAVE_PATH, sub_list[0]+'_standard_acc_searchlight.nii.gz')\n",
    "\n",
    "def meanprepost(subject_data, mask, sl_rad, bcast_var):\n",
    "    subject_data = np.array(subject_data)\n",
    "    prepost_vector = subject_data[:,1,1,1,0]\n",
    "    tstat = ttest_1samp(prepost_vector, 0).statistic\n",
    "    return tstat\n",
    "\n",
    "generate_tmap(meanprepost, targetpath, affinepath)"
   ]
  },
  {
   "cell_type": "markdown",
   "metadata": {},
   "source": [
    "### Plot The PrePost Clf Map and Choose an Intensity Threshold From the Value Distribution"
   ]
  },
  {
   "cell_type": "code",
   "execution_count": null,
   "metadata": {},
   "outputs": [],
   "source": [
    "percentile = 99\n",
    "inputpath = os.path.join(SAVE_PATH, 'mean_acc_searchlight.nii.gz')\n",
    "target_tfce_path = os.path.join(SAVE_PATH, 'tfce_acc_searchlight.nii.gz')\n",
    "\n",
    "cluster_summary(inputpath, target_tfce_path, percentile)"
   ]
  },
  {
   "cell_type": "markdown",
   "metadata": {},
   "source": [
    "### Sampling Max Cluster Sizes from Null Distribution"
   ]
  },
  {
   "cell_type": "code",
   "execution_count": null,
   "metadata": {},
   "outputs": [],
   "source": [
    "samplesize = 100\n",
    "tag = 'tfceacc' # tfcemeannegclf\n",
    "\n",
    "# function to operate over every searchlight region\n",
    "def permute_meanclf(subject_data, mask, sl_rad, bcast_var):\n",
    "    subject_data = np.array(subject_data)\n",
    "    clf_vector = subject_data[:,1,1,1,0]\n",
    "    tstat = ttest_1samp(clf_vector, 0).statistic\n",
    "    choice = np.random.choice([tstat, -tstat], size=1)\n",
    "    return choice\n",
    "\n",
    "generate_null_distribution(permute_meanclf, samplesize, tag)"
   ]
  },
  {
   "cell_type": "markdown",
   "metadata": {},
   "source": [
    "### Arbitrary Image From Permutations"
   ]
  },
  {
   "cell_type": "code",
   "execution_count": null,
   "metadata": {},
   "outputs": [],
   "source": [
    "tag = 'tfceacc'\n",
    "plot_arbitrary_perm(tag)"
   ]
  },
  {
   "cell_type": "markdown",
   "metadata": {},
   "source": [
    "### Plot Null Distribution and TFCE Output Thresholded on Percentile Thereof"
   ]
  },
  {
   "cell_type": "code",
   "execution_count": null,
   "metadata": {},
   "outputs": [],
   "source": [
    "# find associated tfce threshold\n",
    "print('Sampling Threshold from Null Distribution Results')\n",
    "percentile = 95\n",
    "tag = 'tfceacc'\n",
    "tfcethreshold = report_null_distribution(tag, percentile)\n",
    "target_tfce_path = os.path.join(SAVE_PATH, 'tfce_acc_searchlight.nii.gz')\n",
    "\n",
    "# plot result with threshold\n",
    "#print('Thresholded TFCE Output')"
   ]
  },
  {
   "cell_type": "code",
   "execution_count": null,
   "metadata": {},
   "outputs": [],
   "source": [
    "for roi in rois:\n",
    "    print(roi)\n",
    "    view = plotting.plot_glass_brain(target_tfce_path, plot_abs=False, colorbar=True, threshold=tfcethreshold,\n",
    "                              title='Thresholded TFCE Glass Brain')\n",
    "    view.add_contours(maskpath.format(roi))\n",
    "    plt.show()"
   ]
  },
  {
   "cell_type": "code",
   "execution_count": null,
   "metadata": {},
   "outputs": [],
   "source": [
    "plotting.view_img_on_surf(target_tfce_path, threshold=tfcethreshold, black_bg=True)#, cmap='black_pink')"
   ]
  },
  {
   "cell_type": "markdown",
   "metadata": {},
   "source": [
    "## Mean Target Selectivity Maps\n",
    "Run the clustering analysis pipeline on the mean target selectivity map using an arbitrary cluster threshold."
   ]
  },
  {
   "cell_type": "markdown",
   "metadata": {},
   "source": [
    "### Create T-Statistic Map of Mean Target Selectivity"
   ]
  },
  {
   "cell_type": "code",
   "execution_count": null,
   "metadata": {},
   "outputs": [],
   "source": [
    "# function to operate over every searchlight region\n",
    "targetpath = os.path.join(SAVE_PATH, 'mean_acc_searchlight.nii.gz')\n",
    "affinepath = os.path.join(SAVE_PATH, sub_list[0]+'_standard_acc_searchlight.nii.gz')\n",
    "\n",
    "def meanclf(subject_data, mask, sl_rad, bcast_var):\n",
    "    subject_data = np.array(subject_data)\n",
    "    clf_vector = subject_data[:,1,1,1,1]\n",
    "    tstat = ttest_1samp(clf_vector, 0).statistic\n",
    "    return -tstat\n",
    "\n",
    "generate_tmap(meanclf, targetpath, affinepath)"
   ]
  },
  {
   "cell_type": "markdown",
   "metadata": {},
   "source": [
    "### Plot The Mean Target Selectivity Map and Choose an Intensity Threshold From the Value Distribution"
   ]
  },
  {
   "cell_type": "code",
   "execution_count": null,
   "metadata": {},
   "outputs": [],
   "source": [
    "percentile = 99\n",
    "inputpath = os.path.join(SAVE_PATH, 'mean_acc_searchlight.nii.gz')\n",
    "target_tfce_path = os.path.join(SAVE_PATH, 'tfce_mean_acc_searchlight.nii.gz')\n",
    "\n",
    "cluster_summary(inputpath, target_tfce_path, percentile)"
   ]
  },
  {
   "cell_type": "markdown",
   "metadata": {},
   "source": [
    "### Sampling Max Cluster Sizes from Null Distribution"
   ]
  },
  {
   "cell_type": "code",
   "execution_count": null,
   "metadata": {},
   "outputs": [],
   "source": [
    "samplesize = 100\n",
    "tag = 'tfcemeanacc' # tfcemeannegclf\n",
    "\n",
    "# function to operate over every searchlight region\n",
    "def permute_meanclf(subject_data, mask, sl_rad, bcast_var):\n",
    "    subject_data = np.array(subject_data)\n",
    "    clf_vector = subject_data[:,1,1,1,1]\n",
    "    tstat = ttest_1samp(clf_vector, 0).statistic\n",
    "    choice = np.random.choice([tstat, -tstat], size=1)\n",
    "    return choice\n",
    "\n",
    "generate_null_distribution(permute_meanclf, samplesize, tag)"
   ]
  },
  {
   "cell_type": "markdown",
   "metadata": {},
   "source": [
    "### Arbitrary Image From Permutations"
   ]
  },
  {
   "cell_type": "code",
   "execution_count": null,
   "metadata": {},
   "outputs": [],
   "source": [
    "tag = 'tfcemeanacc'\n",
    "plot_arbitrary_perm(tag)"
   ]
  },
  {
   "cell_type": "markdown",
   "metadata": {},
   "source": [
    "### Plot Null Distribution and TFCE Output Thresholded on Percentile Thereof"
   ]
  },
  {
   "cell_type": "code",
   "execution_count": null,
   "metadata": {},
   "outputs": [],
   "source": [
    "# find associated tfce threshold\n",
    "print('Sampling Threshold from Null Distribution Results')\n",
    "percentile = 95\n",
    "tag = 'tfcemeanacc'\n",
    "tfcethreshold = report_null_distribution(tag, percentile)\n",
    "target_tfce_path = os.path.join(SAVE_PATH, 'tfce_mean_clf_searchlight.nii.gz')\n",
    "\n",
    "# plot result with threshold\n",
    "#print('Thresholded TFCE Output')"
   ]
  },
  {
   "cell_type": "code",
   "execution_count": null,
   "metadata": {},
   "outputs": [],
   "source": [
    "for roi in rois:\n",
    "    print(roi)\n",
    "    view = plotting.plot_glass_brain(target_tfce_path, plot_abs=False, colorbar=True, threshold=tfcethreshold,\n",
    "                              title='Thresholded TFCE Glass Brain')\n",
    "    view.add_contours(maskpath.format(roi))\n",
    "    plt.show()"
   ]
  },
  {
   "cell_type": "code",
   "execution_count": null,
   "metadata": {},
   "outputs": [],
   "source": [
    "plotting.view_img_on_surf(target_tfce_path, threshold=tfcethreshold, black_bg=False, cmap='black_pink')"
   ]
  },
  {
   "cell_type": "markdown",
   "metadata": {},
   "source": [
    "## Mean Prepost Differentiation Maps\n",
    "Run the clustering analysis pipeline on the mean pre-post differentiation map using an arbitrary cluster threshold."
   ]
  },
  {
   "cell_type": "markdown",
   "metadata": {},
   "source": [
    "### Create T-Statistic Map of Mean Pre-Post Differentiation"
   ]
  },
  {
   "cell_type": "code",
   "execution_count": null,
   "metadata": {},
   "outputs": [],
   "source": [
    "# function to operate over every searchlight region\n",
    "targetpath = os.path.join(SAVE_PATH, 'negmean_prepost_searchlight.nii.gz')\n",
    "affinepath = os.path.join(SAVE_PATH, sub+'_neurosketch_standard_prepost_searchlight.nii.gz')\n",
    "\n",
    "def meanprepost(subject_data, mask, sl_rad, bcast_var):\n",
    "    subject_data = np.array(subject_data)\n",
    "    prepost_vector = subject_data[:,1,1,1,0]\n",
    "    tstat = ttest_1samp(prepost_vector, 0).statistic\n",
    "    return -tstat\n",
    "\n",
    "generate_tmap(meanprepost, targetpath, affinepath)"
   ]
  },
  {
   "cell_type": "markdown",
   "metadata": {},
   "source": [
    "### Plot The Mean Pre-Post Differentiation Map and Choose an Intensity Threshold From the Value Distribution"
   ]
  },
  {
   "cell_type": "code",
   "execution_count": null,
   "metadata": {},
   "outputs": [],
   "source": [
    "percentile = 99\n",
    "inputpath = os.path.join(SAVE_PATH, 'negmean_prepost_searchlight.nii.gz')\n",
    "target_tfce_path = os.path.join(SAVE_PATH, 'tfce_negprepost_searchlight.nii.gz')\n",
    "\n",
    "cluster_summary(inputpath, target_tfce_path, percentile)"
   ]
  },
  {
   "cell_type": "markdown",
   "metadata": {},
   "source": [
    "### Sampling Max Cluster Sizes from Null Distribution"
   ]
  },
  {
   "cell_type": "code",
   "execution_count": null,
   "metadata": {},
   "outputs": [],
   "source": [
    "samplesize = 100\n",
    "tag = 'tfcemeannegprepost'\n",
    "\n",
    "# function to operate over every searchlight region\n",
    "def permute_meanprepost(subject_data, mask, sl_rad, bcast_var):\n",
    "    subject_data = np.array(subject_data)\n",
    "    prepost_vector = subject_data[:,1,1,1,0]\n",
    "    tstat = ttest_1samp(prepost_vector, 0).statistic\n",
    "    choice = np.random.choice([tstat, -tstat], size=1)\n",
    "    return choice\n",
    "\n",
    "generate_null_distribution(permute_meanprepost, samplesize, tag)"
   ]
  },
  {
   "cell_type": "markdown",
   "metadata": {},
   "source": [
    "### Arbitrary Image From Permutations"
   ]
  },
  {
   "cell_type": "code",
   "execution_count": null,
   "metadata": {},
   "outputs": [],
   "source": [
    "tag = 'tfcemeannegprepost'\n",
    "plot_arbitrary_perm(tag)"
   ]
  },
  {
   "cell_type": "markdown",
   "metadata": {},
   "source": [
    "### Plot Null Distribution and TFCE Output Thresholded on Percentile Thereof"
   ]
  },
  {
   "cell_type": "code",
   "execution_count": null,
   "metadata": {},
   "outputs": [],
   "source": [
    "# find associated tfce threshold\n",
    "percentile = 95\n",
    "tag = 'tfcemeanprepost'\n",
    "tfcethreshold = report_null_distribution(tag, percentile)\n",
    "\n",
    "# plot result with threshold\n",
    "print('Thresholded TFCE Output')\n",
    "target_tfce_path = os.path.join(SAVE_PATH, 'tfce_prepost_searchlight.nii.gz')\n",
    "plotting.plot_glass_brain(target_tfce_path, plot_abs=False, colorbar=True, threshold=tfcethreshold,\n",
    "                          title='Thresholded TFCE Glass Brain')\n",
    "plt.show()"
   ]
  },
  {
   "cell_type": "code",
   "execution_count": null,
   "metadata": {},
   "outputs": [],
   "source": [
    "for roi in rois:\n",
    "    print(roi)\n",
    "    view = plotting.plot_glass_brain(target_tfce_path, plot_abs=False, colorbar=True, threshold=tfcethreshold,\n",
    "                              title='Thresholded TFCE Glass Brain')\n",
    "    view.add_contours(maskpath.format(roi))\n",
    "    plt.show()"
   ]
  },
  {
   "cell_type": "code",
   "execution_count": null,
   "metadata": {},
   "outputs": [],
   "source": [
    "plotting.view_img_on_surf(target_tfce_path, threshold=tfcethreshold, black_bg=False, cmap='black_purple')"
   ]
  },
  {
   "cell_type": "markdown",
   "metadata": {},
   "source": [
    "## Correlation of Prepost Differentiation and Target Selectivity Maps\n",
    "Run the clustering analysis pipeline on the correlation map using an arbitrary cluster threshold."
   ]
  },
  {
   "cell_type": "markdown",
   "metadata": {},
   "source": [
    "### Create T-Statistic Map of Mean Pre-Post Differentiation"
   ]
  },
  {
   "cell_type": "code",
   "execution_count": null,
   "metadata": {},
   "outputs": [],
   "source": [
    "# function to operate over every searchlight region\n",
    "targetpath = os.path.join(SAVE_PATH, 'clfcor_searchlight.nii.gz')\n",
    "affinepath =os.path.join(SAVE_PATH, sub_list[0]+'_standard_clf_searchlight.nii.gz')\n",
    "\n",
    "def corr(subject_data, mask, sl_rad, bcast_var):\n",
    "    \n",
    "    # extract target selectivity and prepost differentiation vectors from data\n",
    "    subject_data = np.array(subject_data)\n",
    "    prepost_vector = subject_data[:,1,1,1,0]\n",
    "    clf_vector = subject_data[:,1,1,1,1]\n",
    "    \n",
    "    # compute correlation\n",
    "    correlation, pvalue = pearsonr(clf_vector, prepost_vector)\n",
    "    \n",
    "    # convert 1-tailed p-value into z-score using normal ppf\n",
    "    zscore = stats.norm.ppf(pvalue/2)\n",
    "    \n",
    "    # flip sign of zscore if its sign doesn't match that of corelation\n",
    "    if correlation*zscore > 0:\n",
    "        return zscore\n",
    "    else:\n",
    "        return -zscore\n",
    "\n",
    "generate_tmap(corr, targetpath, affinepath)"
   ]
  },
  {
   "cell_type": "markdown",
   "metadata": {},
   "source": [
    "### Plot The Correlation Map and Choose an Intensity Threshold From the Value Distribution"
   ]
  },
  {
   "cell_type": "code",
   "execution_count": null,
   "metadata": {},
   "outputs": [],
   "source": [
    "percentile = 99\n",
    "inputpath = os.path.join(SAVE_PATH, 'clfcor_searchlight.nii.gz')\n",
    "target_tfce_path = os.path.join(SAVE_PATH, 'tfce_clfcor_searchlight.nii.gz')\n",
    "\n",
    "cluster_summary(inputpath, target_tfce_path, percentile)"
   ]
  },
  {
   "cell_type": "markdown",
   "metadata": {},
   "source": [
    "### Sampling Max Cluster Sizes from Null Distribution"
   ]
  },
  {
   "cell_type": "code",
   "execution_count": null,
   "metadata": {},
   "outputs": [],
   "source": [
    "samplesize = 100\n",
    "tag = 'tfceclfcor'\n",
    "\n",
    "# function to operate over every searchlight region\n",
    "def permute_corr(subject_data, mask, sl_rad, bcast_var):\n",
    "    global permutation\n",
    "    \n",
    "    # extract target selectivity and prepost differentiation vectors from data\n",
    "    subject_data = np.array(subject_data)\n",
    "    prepost_vector = subject_data[:,1,1,1,0]\n",
    "    clf_vector = subject_data[:,1,1,1,1]\n",
    "    \n",
    "    # compute correlation\n",
    "    correlation, pvalue = pearsonr(clf_vector, prepost_vector[permutation])\n",
    "    \n",
    "    # convert 1-tailed p-value into z-score using normal ppf\n",
    "    zscore = stats.norm.ppf(pvalue/2)\n",
    "    \n",
    "    # flip sign of zscore if its sign doesn't match that of corelation\n",
    "    if correlation*zscore > 0:\n",
    "        return zscore\n",
    "    else:\n",
    "        return -zscore\n",
    "\n",
    "generate_null_distribution(permute_corr, samplesize, tag)"
   ]
  },
  {
   "cell_type": "markdown",
   "metadata": {},
   "source": [
    "### Arbitrary Image From Permutations"
   ]
  },
  {
   "cell_type": "code",
   "execution_count": null,
   "metadata": {},
   "outputs": [],
   "source": [
    "tag = 'tfcecor'\n",
    "plot_arbitrary_perm(tag)"
   ]
  },
  {
   "cell_type": "markdown",
   "metadata": {},
   "source": [
    "### Plot Null Distribution and TFCE Output Thresholded on Percentile Thereof"
   ]
  },
  {
   "cell_type": "code",
   "execution_count": null,
   "metadata": {},
   "outputs": [],
   "source": [
    "# find associated tfce threshold\n",
    "print('Sampling Threshold from Null Distribution Results')\n",
    "percentile = 95\n",
    "tag = 'tfceclfcor'\n",
    "tfcethreshold = report_null_distribution(tag, percentile)\n",
    "\n",
    "# plot result with threshold\n",
    "print('Thresholded TFCE Output')\n",
    "target_tfce_path = os.path.join(SAVE_PATH, 'tfce_clfcor_searchlight.nii.gz')\n",
    "plotting.plot_glass_brain(target_tfce_path, plot_abs=False, colorbar=True, threshold=tfcethreshold,\n",
    "                          title='Thresholded TFCE Glass Brain')\n",
    "plt.show()"
   ]
  },
  {
   "cell_type": "markdown",
   "metadata": {},
   "source": [
    "## NEGATIVE Correlation of Prepost Differentiation and Target Selectivity Maps\n",
    "Run the clustering analysis pipeline on the correlation map using an arbitrary cluster threshold."
   ]
  },
  {
   "cell_type": "markdown",
   "metadata": {},
   "source": [
    "### Create T-Statistic Map of Negative Correlation"
   ]
  },
  {
   "cell_type": "code",
   "execution_count": null,
   "metadata": {},
   "outputs": [],
   "source": [
    "# function to operate over every searchlight region\n",
    "targetpath = os.path.join(SAVE_PATH, 'negcor_searchlight.nii.gz')\n",
    "affinepath =os.path.join(SAVE_PATH, sub_list[0]+'_standard_clf_searchlight.nii.gz')\n",
    "\n",
    "def corr(subject_data, mask, sl_rad, bcast_var):\n",
    "    \n",
    "    # extract target selectivity and prepost differentiation vectors from data\n",
    "    subject_data = np.array(subject_data)\n",
    "    prepost_vector = subject_data[:,1,1,1,0]\n",
    "    clf_vector = subject_data[:,1,1,1,1]\n",
    "    \n",
    "    # compute correlation\n",
    "    correlation, pvalue = pearsonr(clf_vector, prepost_vector)\n",
    "    \n",
    "    # convert 1-tailed p-value into z-score using normal ppf\n",
    "    zscore = stats.norm.ppf(pvalue/2)\n",
    "    \n",
    "    # flip sign of zscore if its sign doesn't match that of corelation\n",
    "    if correlation*zscore < 0:\n",
    "        return zscore\n",
    "    else:\n",
    "        return -zscore\n",
    "\n",
    "generate_tmap(corr, targetpath, affinepath)"
   ]
  },
  {
   "cell_type": "markdown",
   "metadata": {},
   "source": [
    "### Plot The Correlation Map and Choose an Intensity Threshold From the Value Distribution"
   ]
  },
  {
   "cell_type": "code",
   "execution_count": null,
   "metadata": {},
   "outputs": [],
   "source": [
    "percentile = 99\n",
    "inputpath = os.path.join(SAVE_PATH, 'negcor_searchlight.nii.gz')\n",
    "target_tfce_path = os.path.join(SAVE_PATH, 'tfce_negcor_searchlight.nii.gz')\n",
    "\n",
    "cluster_summary(inputpath, target_tfce_path, percentile)"
   ]
  },
  {
   "cell_type": "markdown",
   "metadata": {},
   "source": [
    "### Sampling Max Cluster Sizes from Null Distribution"
   ]
  },
  {
   "cell_type": "code",
   "execution_count": null,
   "metadata": {},
   "outputs": [],
   "source": [
    "samplesize = 1000\n",
    "tag = 'tfcenegcor'\n",
    "\n",
    "# function to operate over every searchlight region\n",
    "def permute_corr(subject_data, mask, sl_rad, bcast_var):\n",
    "    global permutation\n",
    "    \n",
    "    # extract target selectivity and prepost differentiation vectors from data\n",
    "    subject_data = np.array(subject_data)\n",
    "    prepost_vector = subject_data[:,1,1,1,0]\n",
    "    clf_vector = subject_data[:,1,1,1,1]\n",
    "    \n",
    "    # compute correlation\n",
    "    correlation, pvalue = pearsonr(clf_vector, prepost_vector[permutation])\n",
    "    \n",
    "    # convert 1-tailed p-value into z-score using normal ppf\n",
    "    zscore = stats.norm.ppf(pvalue/2)\n",
    "    \n",
    "    # flip sign of zscore if its sign doesn't match that of corelation\n",
    "    if correlation*zscore < 0:\n",
    "        return zscore\n",
    "    else:\n",
    "        return -zscore\n",
    "\n",
    "generate_null_distribution(permute_corr, samplesize, tag)"
   ]
  },
  {
   "cell_type": "markdown",
   "metadata": {},
   "source": [
    "### Arbitrary Image From Permutations"
   ]
  },
  {
   "cell_type": "code",
   "execution_count": null,
   "metadata": {},
   "outputs": [],
   "source": [
    "tag = 'tfcenegcor'\n",
    "plot_arbitrary_perm(tag)"
   ]
  },
  {
   "cell_type": "markdown",
   "metadata": {},
   "source": [
    "### Plot Null Distribution and TFCE Output Thresholded on Percentile Thereof"
   ]
  },
  {
   "cell_type": "code",
   "execution_count": null,
   "metadata": {},
   "outputs": [],
   "source": [
    "# find associated tfce threshold\n",
    "print('Sampling Threshold from Null Distribution Results')\n",
    "percentile = 95\n",
    "tag = 'tfcenegcor'\n",
    "tfcethreshold = report_null_distribution(tag, percentile)\n",
    "\n",
    "# plot result with threshold\n",
    "print('Thresholded TFCE Output')\n",
    "target_tfce_path = os.path.join(SAVE_PATH, 'tfce_negcor_searchlight.nii.gz')\n",
    "plotting.plot_glass_brain(target_tfce_path, plot_abs=False, colorbar=True, threshold=tfcethreshold,\n",
    "                          title='Thresholded TFCE Glass Brain')\n",
    "plt.show()"
   ]
  },
  {
   "cell_type": "markdown",
   "metadata": {},
   "source": [
    "## Identify Where Significant Target Selectivity and Prepost Integration Clustering Overlap"
   ]
  },
  {
   "cell_type": "code",
   "execution_count": null,
   "metadata": {},
   "outputs": [],
   "source": [
    "selectivitypath = os.path.join(SAVE_PATH, 'tfce_mean_clf_searchlight.nii.gz')\n",
    "selectivitythreshold = report_null_distribution('tfcemeanclf', percentile)\n",
    "selectivitymap = image.load_img(selectivitypath).get_data()\n",
    "\n",
    "integrationpath = os.path.join(SAVE_PATH, 'tfce_negprepost_searchlight.nii.gz')\n",
    "integrationthreshold = report_null_distribution('tfcemeannegprepost', percentile)\n",
    "integrationmap = image.load_img(integrationpath).get_data()\n",
    "\n",
    "overlapmap = np.logical_and(selectivitymap > selectivitythreshold, integrationmap > integrationthreshold)\n",
    "np.sum(overlapmap)"
   ]
  },
  {
   "cell_type": "code",
   "execution_count": null,
   "metadata": {},
   "outputs": [],
   "source": [
    "integrationmap[np.logical_not(overlapmap)] = 0\n",
    "affine = image.load_img(affinepath).affine\n",
    "nib.save(nib.Nifti1Image(integrationmap.astype(np.float32), affine), os.path.join(SAVE_PATH, 'overlap_negprepost_searchlight.nii.gz'))"
   ]
  },
  {
   "cell_type": "code",
   "execution_count": null,
   "metadata": {},
   "outputs": [],
   "source": [
    "plotting.view_img_on_surf(os.path.join(SAVE_PATH, 'overlap_negprepost_searchlight.nii.gz'), threshold=integrationthreshold, black_bg=False, cmap='black_pink')"
   ]
  },
  {
   "cell_type": "code",
   "execution_count": null,
   "metadata": {},
   "outputs": [],
   "source": []
  }
 ],
 "metadata": {
  "kernelspec": {
   "display_name": "Python 3",
   "language": "python",
   "name": "python3"
  },
  "language_info": {
   "codemirror_mode": {
    "name": "ipython",
    "version": 3
   },
   "file_extension": ".py",
   "mimetype": "text/x-python",
   "name": "python",
   "nbconvert_exporter": "python",
   "pygments_lexer": "ipython3",
   "version": "3.6.5"
  }
 },
 "nbformat": 4,
 "nbformat_minor": 2
}
