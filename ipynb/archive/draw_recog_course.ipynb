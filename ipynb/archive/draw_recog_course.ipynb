{
 "cells": [
  {
   "cell_type": "markdown",
   "metadata": {},
   "source": [
    "# Setup"
   ]
  },
  {
   "cell_type": "code",
   "execution_count": 1,
   "metadata": {},
   "outputs": [],
   "source": [
    "# import packages\n",
    "import numpy as np\n",
    "import os\n",
    "import pandas as pd\n",
    "import scipy.stats as stats\n",
    "import matplotlib.pyplot as plt\n",
    "import seaborn as sns\n",
    "import statsmodels.formula.api as smf\n",
    "from tqdm import tqdm"
   ]
  },
  {
   "cell_type": "code",
   "execution_count": 2,
   "metadata": {},
   "outputs": [],
   "source": [
    "## define path to input datasets (tidy format)\n",
    "path_to_recog = '/home/jefan/neurosketch_compmem/neurosketch_voxelmat_freesurfer_recog'\n",
    "path_to_draw = '/home/jefan/neurosketch_compmem/neurosketch_voxelmat_freesurfer_drawing'\n",
    "path_to_recog = '/home/jgunn/neurosketch/recmatrices'\n",
    "path_to_draw = '/home/jgunn/neurosketch/drawmatrices' \n",
    "roi_list = np.array([\"V1\", \"V2\", \"LOC\", \"IT\", \"fusiform\", \"parahippo\",  \"PRC\",  \"ento\", \"hipp\", 'mOFC', 'IFG', 'rostMFG', 'caudMFG', 'precentral', 'SMG', 'STG'])\n",
    "roi_formatted = np.array([\"V1\", \"V2\", \"LOC\", \"IT\", \"fusiform\", \"para\\nhippo\",  \"PRC\",  \"ento\", \"hipp\", 'mOFC', 'IFG', 'rost\\nMFG', 'caud\\nMFG', 'pre\\ncentral', 'SMG', 'STG'])\n",
    "\n",
    "roi_formatted = np.array([\"V1\", \"V2\", \"LOC\", \"IT\", \"fusiform\", \"para\\nhippo\",  \"PRC\",  \"ento\", \"hipp\", 'mOFC'])\n",
    "roi_list = np.array([\"V1\", \"V2\", \"LOC\", \"IT\", \"fusiform\", \"parahippo\",  \"PRC\",  \"ento\", \"hipp\", 'mOFC'])\n",
    "## get raw file list for recognition runs\n",
    "RECOG_METAS = sorted([i for i in os.listdir(path_to_recog) if i.split('.')[-1]=='csv'])\n",
    "RECOG_FEATS = sorted([i for i in os.listdir(path_to_recog) if i.split('.')[-1]=='npy'])\n",
    "RECOG_SUBS = np.array([i.split('_')[0] for i in RECOG_FEATS])\n",
    "\n",
    "recog_sub_list = np.unique(RECOG_SUBS)\n",
    "\n",
    "def preprocess_recog(RECOG_METAS, RECOG_FEATS):\n",
    "    M = [i for i in RECOG_METAS if len(i.split('.')[0].split('_'))==4]\n",
    "    F = [i for i in RECOG_FEATS if len(i.split('.')[0].split('_'))==4]\n",
    "    return M,F\n",
    "\n",
    "RECOG_METAS, RECOG_FEATS = preprocess_recog(RECOG_METAS, RECOG_FEATS)"
   ]
  },
  {
   "cell_type": "code",
   "execution_count": 3,
   "metadata": {},
   "outputs": [],
   "source": [
    "## get raw file list for drawing runs\n",
    "DRAW_METAS = sorted([i for i in os.listdir(path_to_draw) if i.split('.')[-1]=='csv'])\n",
    "DRAW_FEATS = sorted([i for i in os.listdir(path_to_draw) if i.split('.')[-1]=='npy'])\n",
    "DRAW_SUBS = np.array([i.split('_')[0] for i in DRAW_FEATS])\n",
    "draw_sub_list = np.unique(DRAW_SUBS)"
   ]
  },
  {
   "cell_type": "code",
   "execution_count": 4,
   "metadata": {},
   "outputs": [
    {
     "name": "stdout",
     "output_type": "stream",
     "text": [
      "Number of subs: 31\n"
     ]
    }
   ],
   "source": [
    "## get subject ID's that have complete datasets from all phases of experiment\n",
    "sub_list = np.intersect1d(recog_sub_list,draw_sub_list)\n",
    "#sub_list = [s for s in sub_list if s != '1207162']\n",
    "print('Number of subs: {}'.format(len(sub_list)))"
   ]
  },
  {
   "cell_type": "code",
   "execution_count": 5,
   "metadata": {},
   "outputs": [],
   "source": [
    "## filter file list so only contains the sessions that have full datasets\n",
    "def extract_good_sessions(DRAW_METAS,DRAW_FEATS,RECOG_METAS,RECOG_FEATS):\n",
    "    _DRAW_METAS = [i for i in DRAW_METAS if i.split('_')[1] in sub_list]\n",
    "    _DRAW_FEATS = [i for i in DRAW_FEATS if i.split('_')[0] in sub_list]\n",
    "    _RECOG_METAS = [i for i in RECOG_METAS if i.split('_')[1] in sub_list]\n",
    "    _RECOG_FEATS = [i for i in RECOG_FEATS if i.split('_')[0] in sub_list]\n",
    "    return _DRAW_METAS, _DRAW_FEATS, _RECOG_METAS, _RECOG_FEATS\n",
    "\n",
    "DRAW_METAS,DRAW_FEATS,RECOG_METAS,RECOG_FEATS =  \\\n",
    "extract_good_sessions(DRAW_METAS,DRAW_FEATS,RECOG_METAS,RECOG_FEATS)\n",
    "\n",
    "RECOG_SUBS = np.array([i.split('_')[0]+'_neurosketch' for i in RECOG_FEATS])\n",
    "RECOG_ROIS = np.array([i.split('_')[1] for i in RECOG_FEATS])\n",
    "\n",
    "DRAW_SUBS = np.array([i.split('_')[0]+'_neurosketch' for i in DRAW_FEATS])\n",
    "DRAW_ROIS = np.array([i.split('_')[1] for i in DRAW_FEATS])"
   ]
  },
  {
   "cell_type": "code",
   "execution_count": 6,
   "metadata": {},
   "outputs": [],
   "source": [
    "#### Helper data loader functions\n",
    "def cleanup_df(df):    \n",
    "    surplus = [i for i in df.columns if 'Unnamed' in i]\n",
    "    df = df.drop(surplus,axis=1)\n",
    "    return df\n",
    "\n",
    "def flatten(x):\n",
    "    return [item for sublist in x for item in sublist]\n",
    "\n",
    "def bootstrapCI(x,estimator,nIter):\n",
    "    u = []\n",
    "    for i in tqdm(np.arange(nIter)):\n",
    "        inds = np.random.RandomState(i).choice(len(x),len(x))\n",
    "        boot = x[inds]\n",
    "        u.append(estimator(boot))\n",
    "        \n",
    "    p1 = len([i for i in u if i<0])/len(u) * 2\n",
    "    p2 = len([i for i in u if i>0])/len(u) * 2\n",
    "    p = np.min([p1,p2])\n",
    "    U = np.mean(u)\n",
    "    lb = np.percentile(u,2.5)\n",
    "    ub = np.percentile(u,97.5)    \n",
    "    return U,lb,ub,p\n",
    "\n",
    "def corrbootstrapCI(x,y,nIter):\n",
    "    '''\n",
    "    input: x is an array\n",
    "    '''\n",
    "    u = []\n",
    "    for i in np.arange(nIter):\n",
    "        inds = np.random.RandomState(i).choice(len(x),len(x))\n",
    "        bootx = x[inds]\n",
    "        booty = y[inds]\n",
    "        u.append(stats.pearsonr(bootx,booty)[0])\n",
    "        \n",
    "    p1 = len([i for i in u if i<0])/len(u) * 2\n",
    "    p2 = len([i for i in u if i>0])/len(u) * 2\n",
    "    p = np.min([p1,p2])\n",
    "    U = np.mean(u)\n",
    "    lb = np.percentile(u,2.5)\n",
    "    ub = np.percentile(u,97.5)    \n",
    "    return U,lb,ub,p\n",
    "\n",
    "def get_trained_objs(DM):\n",
    "    return np.unique(DM.label.values)\n",
    "\n",
    "def get_prob_timecourse(iv,DM,version='4way'):\n",
    "    trained_objs = np.unique(DM.label.values)\n",
    "    control_objs = [i for i in ['bed','bench','chair','table'] if i not in trained_objs]    \n",
    "    \n",
    "    if version=='4way':\n",
    "        t1 = trained_objs[0]\n",
    "        t2 = trained_objs[1]\n",
    "        c1 = control_objs[0]\n",
    "        c2 = control_objs[1]\n",
    "        target = np.vstack((DM[DM.label==t1].groupby(iv)['t1_prob'].mean().values,\n",
    "                       DM[DM.label==t2].groupby(iv)['t2_prob'].mean().values)).mean(0) ## target timecourse\n",
    "        foil = np.vstack((DM[DM.label==t1].groupby(iv)['t2_prob'].mean().values,\n",
    "                       DM[DM.label==t2].groupby(iv)['t1_prob'].mean().values)).mean(0) ## foil timecourse\n",
    "        control = np.vstack((DM[DM.label==t1].groupby(iv)['c1_prob'].mean().values,\n",
    "                            DM[DM.label==t1].groupby(iv)['c2_prob'].mean().values,\n",
    "                            DM[DM.label==t2].groupby(iv)['c1_prob'].mean().values,\n",
    "                            DM[DM.label==t2].groupby(iv)['c2_prob'].mean().values)).mean(0) ## control timecourse    \n",
    "    elif version=='3way':\n",
    "        t1 = trained_objs[0]\n",
    "        t2 = trained_objs[1]\n",
    "        target = np.vstack((DM[DM.label==t1].groupby(iv)['t1_prob'].mean().values,\n",
    "                       DM[DM.label==t2].groupby(iv)['t2_prob'].mean().values)).mean(0) ## target timecourse; mean is taken over what?\n",
    "        foil = np.vstack((DM[DM.label==t1].groupby(iv)['t2_prob'].mean().values,\n",
    "                       DM[DM.label==t2].groupby(iv)['t1_prob'].mean().values)).mean(0) ## foil timecourse\n",
    "        control = np.vstack((DM[DM.label==t1].groupby(iv)['c_prob'].mean().values,\n",
    "                            DM[DM.label==t2].groupby(iv)['c_prob'].mean().values)).mean(0) ## control timecourse\n",
    "        \n",
    "    elif version=='2way':\n",
    "        t1 = trained_objs[0]\n",
    "        t2 = trained_objs[1]\n",
    "        target = np.vstack((DM[DM.label==t1].groupby(iv)['t1_prob'].mean().values,\n",
    "                       DM[DM.label==t2].groupby(iv)['t2_prob'].mean().values)).mean(0) ## target timecourse; mean is taken over what?\n",
    "        foil = np.vstack((DM[DM.label==t1].groupby(iv)['t2_prob'].mean().values,\n",
    "                       DM[DM.label==t2].groupby(iv)['t1_prob'].mean().values)).mean(0) ## foil timecourse\n",
    "        \n",
    "        control = np.zeros(len(foil)) \n",
    "        \n",
    "    return target, foil, control"
   ]
  },
  {
   "cell_type": "code",
   "execution_count": 7,
   "metadata": {},
   "outputs": [],
   "source": [
    "version = '4way'\n",
    "tag = 'raw'\n",
    "ALLDM = pd.read_csv('./logistic_timeseries_drawing_neural_{}_{}.csv'.format(version,tag))\n",
    "#ALLDM = pd.read_csv('./formatted_partial_sketch.csv')\n",
    "ALLDM = cleanup_df(ALLDM)"
   ]
  },
  {
   "cell_type": "markdown",
   "metadata": {},
   "source": [
    "# Implementation"
   ]
  },
  {
   "cell_type": "markdown",
   "metadata": {},
   "source": [
    "Here's the plan. For each ROI...\n",
    "1. Generate a subject-by-trial_num matrix where each cell is either `t`, `f`, or `t-f` from the output of `analysis_helpers.get_prob_timecourse` for the associated trial and subject (and roi) pairing. \n",
    "2. Generate a subject_num length vector consisting of each subject's pre-post change measure in the same order as they are in the matrix.\n",
    "3. The vector defined by taking the `stats.pearsonr()` between each column of the subject-by-trial_num matrix and the prepost change vector is the time course we're looking to understand for this ROI."
   ]
  },
  {
   "cell_type": "code",
   "execution_count": 8,
   "metadata": {},
   "outputs": [],
   "source": [
    "# Here's the plan. For each ROI...\n",
    "# 1. Generate a subject-by-iv matrix where each cell is either `t`, `f`, or `t-f` from the output of `analysis_helpers.get_prob_timecourse` for the associated trial and subject (and roi) pairing. \n",
    "# 2. Generate a subject_num length vector consisting of each subject's pre-post change measure in the same order as they are in the matrix.\n",
    "# 3. The vector defined by taking the `stats.pearsonr()` between each column of the subject-by-trial_num matrix and the prepost change vector is the time course we're looking to understand for this ROI.\n",
    "\n",
    "subs = np.unique(ALLDM.subj.values)\n",
    "prepost = pd.read_csv('neural_changes_by_surfroi_and_subject.csv')\n",
    "variants = ['t', 'f','t-f']#['t', 'f', 't-f', 'c']\n",
    "ivs = ['trial_num']#['run_num','trial_num']#,'time_point']\n",
    "#this_iv = 'run_num'\n",
    "\n",
    "for this_iv in ivs:\n",
    "    for variant in variants:\n",
    "        for this_roi in roi_list:\n",
    "\n",
    "            # 1. Generate a subject-by-trial_num matrix where each cell is either `t`, `f`, or `t-f` from the \n",
    "            # output of `analysis_helpers.get_prob_timecourse` for the associated trial and subject (and roi) pairing. \n",
    "            scores = []\n",
    "\n",
    "            for sub in subs:\n",
    "                inds = (ALLDM['roi']==this_roi) & (ALLDM['subj']==sub)\n",
    "                t,f,c = get_prob_timecourse(this_iv,ALLDM[inds])\n",
    "\n",
    "                if variant == 't':\n",
    "                    score = t\n",
    "                elif variant == 'f':\n",
    "                    score = f\n",
    "                elif variant == 'c':\n",
    "                    score = c\n",
    "                else:\n",
    "                    score = t-f\n",
    "\n",
    "                if len(scores) == 0:\n",
    "                    scores = score\n",
    "                else:\n",
    "                    scores = np.vstack((scores, score))\n",
    "\n",
    "            # 2. Generate a subject_num length vector consisting of each subject's pre-post change measure \n",
    "            # in the same order as they are in the matrix.\n",
    "            #recog = prepost['tradiff_{}'.format(this_roi)].values-prepost['condiff_{}'.format(this_roi)].values\n",
    "            recog = prepost['trained_{}'.format(this_roi)].values-prepost['control_{}'.format(this_roi)].values\n",
    "            \n",
    "            # 3. The vector defined by taking the `stats.pearsonr()` between each column of the subject-by-trial_num matrix\n",
    "            # and the prepost change vector is the time course we're looking to understand for this ROI.\n",
    "            corcourse = [stats.pearsonr(scores[:,i],recog)[0] for i in range(np.shape(scores)[1])]\n",
    "            #corcourse = [np.mean(scores[:,i]) for i in range(np.shape(scores)[1])]\n",
    "            \n",
    "            #r,p = stats.pearsonr(np.arange(np.shape(scores)[1]),corcourse)\n",
    "            \n",
    "            bootstrap = [corrbootstrapCI(scores[:,i],recog, 3000) for i in range(np.shape(scores)[1])]\n",
    "            lesserror, pluserror = [b[1] for b in bootstrap], [b[2] for b in bootstrap]\n",
    "\n",
    "            fig = plt.figure(figsize=(8,4))\n",
    "            plt.plot(corcourse, 'ro', label='data')\n",
    "            #sns.regplot(x=np.arange(len(corcourse)), y=np.array(corcourse))\n",
    "            plt.axhline(y=0.0,linestyle='dashed')\n",
    "            plt.ylim((-.6,.6))\n",
    "            plt.ylabel('corr({}, prepost_difference)'.format(variant))\n",
    "            plt.xlabel(this_iv)\n",
    "            plt.title('ROI: {}'.format(this_roi))\n",
    "            plt.fill_between(np.arange(len(corcourse)), lesserror,pluserror, alpha=.2)\n",
    "            \n",
    "            if not os.path.exists('./plots/roi/drawrecogcourse'):\n",
    "                os.makedirs('./plots/roi/drawrecogcourse')\n",
    "            plt.tight_layout()\n",
    "            #plt.savefig('./plots/roi/drawrecogcourse/draw_recog_course_{}_{}_{}.png'.format(this_roi,this_iv,variant))\n",
    "            plt.savefig('./plots/roi/drawrecogcourse/{}_{}.png'.format(this_roi,variant))\n",
    "            plt.close(fig)\n",
    "            #plt.show()"
   ]
  },
  {
   "cell_type": "markdown",
   "metadata": {},
   "source": [
    "Let's try a variant that plots t and f correlations with prepost separately/on the same graph."
   ]
  },
  {
   "cell_type": "code",
   "execution_count": 25,
   "metadata": {},
   "outputs": [],
   "source": [
    "subs = np.unique(ALLDM.subj.values)\n",
    "prepost = pd.read_csv('neural_changes_by_surfroi_and_subject.csv')\n",
    "ivs = ['run_num','trial_num']#,'time_point']\n",
    "#this_iv = 'run_num'\n",
    "\n",
    "for this_iv in ivs:\n",
    "    for this_roi in roi_list:\n",
    "\n",
    "        # 1. Generate a subject-by-trial_num matrix where each cell is either `t`, `f`, or `t-f` from the \n",
    "        # output of `analysis_helpers.get_prob_timecourse` for the associated trial and subject (and roi) pairing. \n",
    "        T = []\n",
    "        F = []\n",
    "        C = []\n",
    "\n",
    "        for sub in subs:\n",
    "            inds = (ALLDM['roi']==this_roi) & (ALLDM['subj']==sub)\n",
    "            t,f,c = get_prob_timecourse(this_iv,ALLDM[inds])\n",
    "            num_ivs = len(t)\n",
    "\n",
    "            if len(T) == 0:\n",
    "                T = t\n",
    "                F = f\n",
    "                C = c\n",
    "                DTF = t-f\n",
    "            else:\n",
    "                T = np.vstack((T,t))\n",
    "                F = np.vstack((F,f))\n",
    "                C = np.vstack((C,c))\n",
    "                DTF = np.vstack((DTF,t-f))\n",
    "\n",
    "        # 2. Generate a subject_num length vector consisting of each subject's pre-post change measure \n",
    "        # in the same order as they are in the matrix.\n",
    "        recog = prepost['tradiff_{}'.format(this_roi)].values-prepost['condiff_{}'.format(this_roi)].values\n",
    "        recog = prepost['trained_{}'.format(this_roi)].values-prepost['control_{}'.format(this_roi)].values\n",
    "\n",
    "        # 3. The vector defined by taking the `stats.pearsonr()` between each column of the subject-by-trial_num matrix\n",
    "        # and the prepost change vector is the time course we're looking to understand for this ROI.\n",
    "\n",
    "        fig = plt.figure(figsize=(8,4))\n",
    "\n",
    "        corcourse = [stats.pearsonr(T[:,i],recog)[0] for i in range(num_ivs)]\n",
    "        #corcourse = [np.mean(T[:,i]) for i in range(num_ivs)]\n",
    "        meanT = np.mean(np.array(corcourse))\n",
    "        r,p = stats.pearsonr(np.arange(num_ivs),corcourse)\n",
    "        plt.plot(corcourse, 'ro', label='target')\n",
    "        plt.plot(np.arange(num_ivs), np.poly1d(np.polyfit(np.arange(num_ivs), corcourse, 1))(np.unique(np.arange(num_ivs))), 'r')\n",
    "\n",
    "        corcourse = [stats.pearsonr(F[:,i],recog)[0] for i in range(num_ivs)]\n",
    "        #corcourse = [np.mean(F[:,i]) for i in range(num_ivs)]\n",
    "        meanF = np.mean(np.array(corcourse))\n",
    "        r,p = stats.pearsonr(np.arange(num_ivs),corcourse)\n",
    "        plt.plot(corcourse, 'cv', label='competitor')\n",
    "        plt.plot(np.arange(num_ivs), np.poly1d(np.polyfit(np.arange(num_ivs), corcourse, 1))(np.unique(np.arange(num_ivs))), 'c')\n",
    "\n",
    "        plt.ylabel('corr({}, prepost_difference)'.format(variant))\n",
    "        plt.xlabel(this_iv)\n",
    "        plt.title('ROI: {}  mean(t): {}  mean(f): {}'.format(this_roi, meanT, meanF))\n",
    "        plt.legend()\n",
    "\n",
    "        if not os.path.exists('./plots/roi/drawrecogcourse'):\n",
    "            os.makedirs('./plots/roi/drawrecogcourse')\n",
    "        plt.tight_layout()\n",
    "        plt.savefig('./plots/roi/drawrecogcourse/draw_recog_course_{}_{}.pdf'.format(this_roi, this_iv))\n",
    "        plt.close(fig)"
   ]
  },
  {
   "cell_type": "markdown",
   "metadata": {},
   "source": [
    "Let's try redo-ing the original draw_contrast vs prepost differentiation analysis focusing the target and competitor scores."
   ]
  },
  {
   "cell_type": "code",
   "execution_count": 22,
   "metadata": {},
   "outputs": [],
   "source": [
    "sub_tf = []\n",
    "sub_tc = []\n",
    "sub_fc = []\n",
    "roi = []\n",
    "lookup = dict(zip(['trial_num','run_num','time_point'],['repetition','run','TR']))\n",
    "\n",
    "subs = np.unique(ALLDM.subj.values)\n",
    "ivs = ['trial_num'] ## other options 'run_num','trial_num',\n",
    "\n",
    "## do you want to render the CONDITION-wise plots -- trained vs. foil vs control\n",
    "## or the DIFFERENCE plots -- trained - foil vs foil - control?\n",
    "render_cond = 0\n",
    "\n",
    "for this_iv in ivs:\n",
    "    for this_roi in roi_list:\n",
    "\n",
    "        T = []\n",
    "        F = []\n",
    "        C = []\n",
    "        Sub = []\n",
    "        for sub in subs:\n",
    "            inds =(ALLDM['roi']==this_roi) & (ALLDM['subj']==sub) \n",
    "            t,f,c = get_prob_timecourse(this_iv,ALLDM[inds],version=version)\n",
    "#             t,f,c = get_prob_timecourse_alt(this_iv,ALLDM[inds])                    \n",
    "            if len(T)==0:\n",
    "                T = t\n",
    "                F = f\n",
    "                C = c\n",
    "                DTF = t-f               \n",
    "                DTC = t\n",
    "                DFC = f\n",
    "            else:\n",
    "                T = np.hstack((T,t))\n",
    "                F = np.hstack((F,f))        \n",
    "                C = np.hstack((C,c)) \n",
    "                DTF = np.hstack((DTF,t-f))                \n",
    "                DTC = np.hstack((DTC,t))\n",
    "                DFC = np.hstack((DFC,f))\n",
    "            Sub.append([sub]*len(t))   \n",
    "          \n",
    "        ## make longform version of dataframe to use in tsplot (difference btw conditions)                    \n",
    "        Trial = np.tile(np.arange(len(t)),len(subs)*3)\n",
    "        Condition = np.repeat(['target-foil','target','foil'],len(T))\n",
    "        Sub = np.tile(np.array(flatten(Sub)),3)\n",
    "        Prob = np.hstack((DTF,DTC,DFC))        \n",
    "        assert len(Trial)==len(Condition)\n",
    "        assert len(Sub)==len(Prob)\n",
    "        assert len(Condition)==len(Sub)\n",
    "        x = pd.DataFrame([Prob,Trial,Condition,Sub])\n",
    "        x = x.transpose()\n",
    "        x.columns = ['probability',lookup[this_iv],'condition','sub']\n",
    "        \n",
    "        for this_sub in subs:\n",
    "            sub_tf.append(x[(x['condition']=='target-foil') & (x['sub']==this_sub)]['probability'].mean())\n",
    "            sub_tc.append(x[(x['condition']=='target') & (x['sub']==this_sub)]['probability'].mean())  \n",
    "            sub_fc.append(x[(x['condition']=='foil') & (x['sub']==this_sub)]['probability'].mean()) \n",
    "            roi.append(this_roi)\n",
    "            \n",
    "## make dataframe with subject-level difference scores\n",
    "d = pd.DataFrame([sub_tf,sub_tc,sub_fc,roi])\n",
    "d = d.transpose()\n",
    "d.columns = ['target-foil','target','foil','roi']\n",
    "d = d.astype({'target-foil':'float64','target':'float64','foil':'float64'})"
   ]
  },
  {
   "cell_type": "code",
   "execution_count": 23,
   "metadata": {},
   "outputs": [],
   "source": [
    "prepost = pd.read_csv('neural_changes_by_surfroi_and_subject.csv')\n",
    "\n",
    "## make dataframe to relate drawing contrast to recognition differentiation\n",
    "roi_list = ['V1', 'V2', 'LOC', 'IT', 'fusiform', 'parahippo', 'PRC', 'ento','hipp', 'mOFC']\n",
    "\n",
    "for spec in ['target-foil']:\n",
    "    for this_roi in roi_list:\n",
    "    #     draw = d[d['roi']==this_roi]['target-control'].values - d[d['roi']==this_roi]['foil-control'].values\n",
    "        draw = d[d['roi']==this_roi][spec].values\n",
    "        recog = prepost['tradiff_{}'.format(this_roi)].values-prepost['condiff_{}'.format(this_roi)].values\n",
    "        recog = prepost['trained_{}'.format(this_roi)].values-prepost['control_{}'.format(this_roi)].values\n",
    "\n",
    "        z = pd.DataFrame([draw,recog])\n",
    "        z = z.transpose()\n",
    "        z.columns=['draw','recog']\n",
    "\n",
    "        ## plot \n",
    "        fig = plt.figure(figsize=(6,6))\n",
    "        sns.set_context('poster')\n",
    "        sns.regplot(x=\"draw\",\n",
    "                    y =\"recog\",\n",
    "                    data=z)\n",
    "        r,p = stats.pearsonr(draw,recog)\n",
    "        plt.title('ROI: {}  r={}  p={}'.format(this_roi,np.round(r,5),np.round(p,5)))\n",
    "        plt.xlabel('drawing: {}'.format(spec[:spec.find('-')]))\n",
    "        plt.ylabel('recog: post-pre differentiation')\n",
    "        if not os.path.exists('./plots/roi/drawrecog'):\n",
    "            os.makedirs('./plots/roi/drawrecog')\n",
    "        plt.tight_layout()\n",
    "        plt.savefig('./plots/roi/drawrecog/draw_recog_scatter_{}_{}.pdf'.format(this_roi, spec))\n",
    "        plt.close(fig)    "
   ]
  },
  {
   "cell_type": "markdown",
   "metadata": {},
   "source": [
    "# Follow Up: Bar Graph Summaries"
   ]
  },
  {
   "cell_type": "code",
   "execution_count": 8,
   "metadata": {},
   "outputs": [],
   "source": [
    "# parameters\n",
    "logged = True\n",
    "anchored = False\n",
    "takeDiffDifference = True\n",
    "clfmeasure = 'contrast' # one of ['target', 'foil', 'contrast']\n",
    "comparison = 'regression' # one of ['correlation', 'regression', 'itemeffects']\n",
    "roi_list = np.array([\"V1\", \"V2\", \"LOC\", \"IT\", \"fusiform\", \"parahippo\",  \"PRC\",  \"ento\", \"hipp\", 'mOFC'])\n",
    "roi_formatted = np.array([\"V1\", \"V2\", \"LOC\", \"IT\", \"fusiform\", \"para\\nhippo\",  \"PRC\",  \"ento\", \"hipp\", 'mOFC'])"
   ]
  },
  {
   "cell_type": "markdown",
   "metadata": {},
   "source": [
    "preprocessing..."
   ]
  },
  {
   "cell_type": "code",
   "execution_count": 11,
   "metadata": {},
   "outputs": [],
   "source": [
    "# first we want to create a dataframe that seaborn can easily bootstrap by\n",
    "# we want an subject by ROI dataframe, where each entry has the subject's get_prob_timecourse() output and prepost score for the associated ROI.\n",
    "\n",
    "version = '4way'\n",
    "ALLDM = pd.read_csv('./logistic_timeseries_drawing_neural_{}_{}.csv'.format(version,'logged' if logged else 'raw'))\n",
    "ALLDM = cleanup_df(ALLDM)\n",
    "\n",
    "subs = np.unique(ALLDM.subj.values)\n",
    "prepost = pd.read_csv('neural_changes_by_surfroi_and_subject.csv')\n",
    "this_iv = 'trial_num'\n",
    "\n",
    "columns = []\n",
    "for this_roi in roi_list:\n",
    "    scores = [get_prob_timecourse(this_iv,ALLDM[(ALLDM['roi']==this_roi) & (ALLDM['subj']==sub)]) for sub in subs]\n",
    "    objs = [str(np.unique(ALLDM[(ALLDM['subj']==sub)].label.values)) for sub in subs]\n",
    "    if anchored:\n",
    "        recog = prepost['trained_{}'.format(this_roi)].values\n",
    "        recog -= prepost['control_{}'.format(this_roi)].values if takeDiffDifference else 0\n",
    "    else:\n",
    "        recog = prepost['tradiff_{}'.format(this_roi)].values\n",
    "        recog -= prepost['condiff_{}'.format(this_roi)].values if takeDiffDifference else 0\n",
    "        \n",
    "    columns.append([{'clf':scores[i], 'diff':recog[i], 'objs':objs[i]} for i in range(len(scores))])\n",
    "bardf = pd.DataFrame(columns).transpose()\n",
    "bardf.columns = roi_formatted"
   ]
  },
  {
   "cell_type": "code",
   "execution_count": 12,
   "metadata": {},
   "outputs": [],
   "source": [
    "# helper functions\n",
    "def clfBySub(subdata):\n",
    "    if clfmeasure == 'contrast':\n",
    "        return [sub[0]-sub[1] for sub in subdata]\n",
    "    elif clfmeasure == 'target':\n",
    "        return [sub[0] for sub in subdata]\n",
    "    elif clfmeasure == 'foil':\n",
    "        return [sub[1] for sub in subdata]\n",
    "    else:\n",
    "        return [sub[2] for sub in subdata]\n",
    "    \n",
    "def prepReg(clfscores, diffscores, objs):\n",
    "    regdf = pd.DataFrame([clfscores, diffscores, objs]).transpose()\n",
    "    regdf.columns = ['selectivity', 'diff', 'objs']\n",
    "    regdf['selectivity'] = regdf['selectivity'].astype(float)\n",
    "    regdf['diff'] = regdf['diff'].astype(float)\n",
    "    regdf['objs'] = regdf['objs'].astype('category')\n",
    "    return smf.ols(formula='diff ~ selectivity * objs', data = regdf).fit()"
   ]
  },
  {
   "cell_type": "markdown",
   "metadata": {},
   "source": [
    "mean overall"
   ]
  },
  {
   "cell_type": "code",
   "execution_count": 32,
   "metadata": {},
   "outputs": [
    {
     "data": {
      "image/png": "[encoded data removed]",
      "text/plain": [
       "<matplotlib.figure.Figure at 0x7ff128b660b8>"
      ]
     },
     "metadata": {},
     "output_type": "display_data"
    }
   ],
   "source": [
    "# first let's look at the mean draw_contrast score for each subject versus each subject's prepost differentiation measure. \n",
    "\n",
    "# define the estimator\n",
    "# find the correlation between the vector of each subject's draw_contrast scores and that of each subject's differentiation scores\n",
    "    \n",
    "def scoreVSdiff(subdata):\n",
    "    clfscores = [np.mean(c) for c in clfBySub([s['clf'] for s in subdata])]\n",
    "    diffscores = [sub['diff'] for sub in subdata]\n",
    "    return stats.pearsonr(clfscores, diffscores)[0]\n",
    "\n",
    "def controlled_scoreVSdiff(subdata):\n",
    "    clfscores = [np.mean(c) for c in clfBySub([s['clf'] for s in subdata])]\n",
    "    diffscores = [sub['diff'] for sub in subdata]\n",
    "    objs = [sub['objs'] for sub in subdata]\n",
    "    reg = prepReg(clfscores, diffscores, objs)\n",
    "    return reg.params[len(np.unique(objs))]\n",
    "\n",
    "def covariate_scoreVSdiff(subdata):\n",
    "    clfscores = [np.mean(c) for c in clfBySub([s['clf'] for s in subdata])]\n",
    "    diffscores = [sub['diff'] for sub in subdata]\n",
    "    objs = [sub['objs'] for sub in subdata]\n",
    "    reg = prepReg(clfscores, diffscores, objs)\n",
    "    A = np.identity(len(reg.params))\n",
    "    InteractionTest = A[len(np.unique(objs))+1:,:]\n",
    "    return reg.f_test(InteractionTest).pvalue\n",
    "\n",
    "functionmap = {'correlation': scoreVSdiff, 'regression': controlled_scoreVSdiff, 'itemeffects': covariate_scoreVSdiff}\n",
    "\n",
    "# derive from bardf the df we want to plot and the error bars we want\n",
    "meandf = pd.DataFrame([functionmap[comparison](np.array(bardf)[:,i]) for i in range(len(roi_list))]).transpose()\n",
    "meandf.columns = roi_formatted\n",
    "#error = [bootstrapCI(np.array(bardf)[:,i],functionmap[comparison], 1000)[1:3] for i in range(len(roi_list))]\n",
    "\n",
    "plt.figure(figsize=(11,4))\n",
    "sns.barplot(data=meandf,palette='husl',ci=None)\n",
    "plt.xlabel('ROIs')\n",
    "plt.title('Subjectwise Relationship B/t Mean(t-f) & PrePost Diff') # 'Significance of Iteraction Term for (Diff ~ Mean(t-f) * object_assignment)'\n",
    "plt.ylabel('Mean(t-f) vs PrePost Relationship') # 'f-test p-value'\n",
    "for i in range(len(roi_list)):\n",
    "    pass\n",
    "    #plt.vlines(i, error[i][0], error[i][1])\n",
    "plt.show()"
   ]
  },
  {
   "cell_type": "markdown",
   "metadata": {},
   "source": [
    "slope of correlations"
   ]
  },
  {
   "cell_type": "code",
   "execution_count": 12,
   "metadata": {},
   "outputs": [
    {
     "name": "stderr",
     "output_type": "stream",
     "text": [
      "100%|██████████| 1000/1000 [02:49<00:00,  5.90it/s]\n",
      "  0%|          | 1/1000 [00:00<02:48,  5.91it/s]"
     ]
    },
    {
     "name": "stdout",
     "output_type": "stream",
     "text": [
      "(-0.62911638083818888, 0.036372105854620286)\n"
     ]
    },
    {
     "name": "stderr",
     "output_type": "stream",
     "text": [
      "100%|██████████| 1000/1000 [02:51<00:00,  5.84it/s]\n",
      "  0%|          | 1/1000 [00:00<02:46,  6.00it/s]"
     ]
    },
    {
     "name": "stdout",
     "output_type": "stream",
     "text": [
      "(-0.49131584308028836, 0.018210507978188014)\n"
     ]
    },
    {
     "name": "stderr",
     "output_type": "stream",
     "text": [
      "100%|██████████| 1000/1000 [02:51<00:00,  5.85it/s]\n",
      "  0%|          | 1/1000 [00:00<02:52,  5.79it/s]"
     ]
    },
    {
     "name": "stdout",
     "output_type": "stream",
     "text": [
      "(-0.033015534577140654, 0.020583061161431854)\n"
     ]
    },
    {
     "name": "stderr",
     "output_type": "stream",
     "text": [
      "100%|██████████| 1000/1000 [02:49<00:00,  5.88it/s]\n",
      "  0%|          | 1/1000 [00:00<02:46,  6.00it/s]"
     ]
    },
    {
     "name": "stdout",
     "output_type": "stream",
     "text": [
      "(-0.033331148115875758, 0.0047197481972441344)\n"
     ]
    },
    {
     "name": "stderr",
     "output_type": "stream",
     "text": [
      "100%|██████████| 1000/1000 [02:49<00:00,  5.91it/s]\n",
      "  0%|          | 1/1000 [00:00<02:48,  5.92it/s]"
     ]
    },
    {
     "name": "stdout",
     "output_type": "stream",
     "text": [
      "(-0.052333016954717891, 0.1616657939651267)\n"
     ]
    },
    {
     "name": "stderr",
     "output_type": "stream",
     "text": [
      "100%|██████████| 1000/1000 [02:49<00:00,  5.89it/s]\n",
      "  0%|          | 1/1000 [00:00<03:03,  5.45it/s]"
     ]
    },
    {
     "name": "stdout",
     "output_type": "stream",
     "text": [
      "(-0.69763085120458956, 1.7579613553129527)\n"
     ]
    },
    {
     "name": "stderr",
     "output_type": "stream",
     "text": [
      "100%|██████████| 1000/1000 [02:48<00:00,  5.94it/s]\n",
      "  0%|          | 1/1000 [00:00<02:47,  5.95it/s]"
     ]
    },
    {
     "name": "stdout",
     "output_type": "stream",
     "text": [
      "(-0.22445686855848324, 0.0086629002335341047)\n"
     ]
    },
    {
     "name": "stderr",
     "output_type": "stream",
     "text": [
      "100%|██████████| 1000/1000 [02:51<00:00,  5.85it/s]\n",
      "  0%|          | 1/1000 [00:00<02:46,  6.00it/s]"
     ]
    },
    {
     "name": "stdout",
     "output_type": "stream",
     "text": [
      "(-0.11391402321050183, 0.060376990320347337)\n"
     ]
    },
    {
     "name": "stderr",
     "output_type": "stream",
     "text": [
      "100%|██████████| 1000/1000 [02:51<00:00,  5.83it/s]\n",
      "  0%|          | 1/1000 [00:00<02:45,  6.03it/s]"
     ]
    },
    {
     "name": "stdout",
     "output_type": "stream",
     "text": [
      "(-0.20933099470720248, 0.031994128830238215)\n"
     ]
    },
    {
     "name": "stderr",
     "output_type": "stream",
     "text": [
      "100%|██████████| 1000/1000 [02:49<00:00,  5.89it/s]"
     ]
    },
    {
     "name": "stdout",
     "output_type": "stream",
     "text": [
      "(-0.074494487105500537, 0.012068779778027941)\n"
     ]
    },
    {
     "name": "stderr",
     "output_type": "stream",
     "text": [
      "\n"
     ]
    },
    {
     "data": {
      "image/png": "[encoded data removed]",
      "text/plain": [
       "<matplotlib.figure.Figure at 0x7fd244be7d30>"
      ]
     },
     "metadata": {},
     "output_type": "display_data"
    }
   ],
   "source": [
    "from scipy.stats import linregress\n",
    "\n",
    "# second, instead of taking the overall mean draw_contrast score and relating that with differentiation, \n",
    "# get the draw_contrast score for each timepoint and relate those against differentiation\n",
    "# the slope of all 20 or whatever correlations is what we graph\n",
    "\n",
    "# define the estimator\n",
    "def slope_scoreVSdiff(subdata):\n",
    "    num_ivs = 20\n",
    "    diffscores = [sub['diff'] for sub in subdata]\n",
    "    clfscores = clfBySub([s['clf'] for s in subdata])\n",
    "    coefficients = [stats.pearsonr([c[i] for c in clfscores], diffscores)[0] for i in range(num_ivs)]\n",
    "    return linregress(np.arange(num_ivs),coefficients)[0]\n",
    "\n",
    "def controlled_slopescoreVSdiff(subdata):\n",
    "    num_ivs = 20\n",
    "    diffscores = [sub['diff'] for sub in subdata]\n",
    "    clfscores = clfBySub([s['clf'] for s in subdata])\n",
    "    objs = [sub['objs'] for sub in subdata]\n",
    "    coefficients = []\n",
    "    for i in range(num_ivs):\n",
    "        reg = prepReg([c[i] for c in clfscores], diffscores, objs)\n",
    "        coefficients.append(reg.params[len(np.unique(objs))])\n",
    "    return linregress(np.arange(num_ivs),coefficients)[0]\n",
    "\n",
    "def covariate_slopescoreVSdiff(subdata):\n",
    "    num_ivs = 20\n",
    "    diffscores = [sub['diff'] for sub in subdata]\n",
    "    clfscores = clfBySub([s['clf'] for s in subdata])\n",
    "    objs = [sub['objs'] for sub in subdata]\n",
    "    pvalues = []\n",
    "    for i in range(num_ivs):\n",
    "        reg = prepReg([c[i] for c in clfscores], diffscores, objs)\n",
    "        A = np.identity(len(reg.params))\n",
    "        InteractionTest = A[len(np.unique(objs))+1:,:]\n",
    "        pvalues.append(reg.f_test(InteractionTest).pvalue)\n",
    "    return linregress(np.arange(num_ivs),pvalues)[0]\n",
    "\n",
    "functionmap = {'correlation': slope_scoreVSdiff, 'regression': controlled_slopescoreVSdiff, 'itemeffects': covariate_slopescoreVSdiff}\n",
    "\n",
    "# derive from bardf the df we want to plot and the error bars we want\n",
    "meandf = pd.DataFrame([functionmap[comparison](np.array(bardf)[:,i]) for i in range(len(roi_list))]).transpose()\n",
    "meandf.columns = roi_formatted\n",
    "error = []\n",
    "for i in range(len(roi_list)):\n",
    "    e = bootstrapCI(np.array(bardf)[:,i],functionmap[comparison], 1000)[1:3]\n",
    "    print(e)\n",
    "    error.append(e)\n",
    "\n",
    "plt.figure(figsize=(11,4))\n",
    "sns.barplot(data=meandf,palette='husl',ci=None)\n",
    "plt.xlabel('ROIs')\n",
    "plt.title('Slope over Timepoints of Subjectwise Relationship B/t t-f & Prepost Diff')\n",
    "plt.ylabel('Slope Over Timepoints of(t-f) vs PrePost Relationship')\n",
    "for i in range(len(roi_list)):\n",
    "    plt.vlines(i, error[i][0], error[i][1])\n",
    "plt.show()"
   ]
  },
  {
   "cell_type": "code",
   "execution_count": 22,
   "metadata": {},
   "outputs": [
    {
     "data": {
      "image/png": "[encoded data removed]",
      "text/plain": [
       "<matplotlib.figure.Figure at 0x7fa7e3238438>"
      ]
     },
     "metadata": {},
     "output_type": "display_data"
    }
   ],
   "source": [
    "from scipy.stats import linregress\n",
    "\n",
    "# second, instead of taking the overall mean draw_contrast score and relating that with differentiation, \n",
    "# get the draw_contrast score for each timepoint and relate those against differentiation\n",
    "# the slope of all 20 or whatever correlations is what we graph\n",
    "\n",
    "# define the estimator\n",
    "def slope_contrastVSdiff(subdata):\n",
    "    num_ivs = 20\n",
    "    diffscores = [sub[1] for sub in subdata]\n",
    "    correlations = []\n",
    "    for i in range(num_ivs):\n",
    "        clfscores = [np.mean(sub[0][0][i]) for sub in subdata]\n",
    "        #clfscores = [np.mean(sub[0][0][i]-sub[0][1][i]) for sub in subdata]\n",
    "        correlations.append(stats.pearsonr(clfscores, diffscores)[0])\n",
    "    return linregress(np.arange(num_ivs),correlations)[0]\n",
    "\n",
    "# derive from bardf the df we want to plot and the error bars we want\n",
    "meandf = pd.DataFrame([slope_contrastVSdiff(np.array(bardf)[:,i]) for i in range(len(roi_list))]).transpose()\n",
    "meandf.columns = roi_formatted\n",
    "error = [bootstrapCI(np.array(bardf)[:,i],slope_contrastVSdiff, 1000)[1:3] for i in range(len(roi_list))]\n",
    "\n",
    "plt.figure(figsize=(11,4))\n",
    "sns.barplot(data=meandf,palette='husl',ci=None)\n",
    "plt.xlabel('ROIs')\n",
    "plt.title('Slope over Timepoints of Subjectwise Correlation B/t t & Prepost Diff')\n",
    "plt.ylabel('Slope Over Timepoints of (t) vs PrePost Correlation')\n",
    "for i in range(len(roi_list)):\n",
    "    plt.vlines(i, error[i][0], error[i][1])\n",
    "plt.show()"
   ]
  },
  {
   "cell_type": "code",
   "execution_count": null,
   "metadata": {},
   "outputs": [],
   "source": []
  },
  {
   "cell_type": "markdown",
   "metadata": {},
   "source": [
    "# Defunct"
   ]
  },
  {
   "cell_type": "code",
   "execution_count": null,
   "metadata": {},
   "outputs": [],
   "source": []
  },
  {
   "cell_type": "markdown",
   "metadata": {},
   "source": [
    "mean of binned cors"
   ]
  },
  {
   "cell_type": "code",
   "execution_count": 11,
   "metadata": {},
   "outputs": [
    {
     "data": {
      "image/png": "[encoded data removed]",
      "text/plain": [
       "<matplotlib.figure.Figure at 0x7f58bd0f96d8>"
      ]
     },
     "metadata": {},
     "output_type": "display_data"
    }
   ],
   "source": [
    "# second, instead of taking the overall mean draw_contrast score and relating that with differentiation, \n",
    "# get the draw_contrast score for each timepoint and relate those against differentiation\n",
    "# the mean of all 20 or whatever correlations is what we graph\n",
    "\n",
    "# define the estimator\n",
    "def ivwise_contrastVSdiff(subdata):\n",
    "    num_ivs = 20\n",
    "    diffscores = [sub[1] for sub in subdata]\n",
    "    correlations = []\n",
    "    for i in range(num_ivs):\n",
    "        clfscores = [np.mean(sub[0][0][i]) for sub in subdata]\n",
    "        #clfscores = [np.mean(sub[0][0][i]-sub[0][1][i]) for sub in subdata]\n",
    "        correlations.append(stats.pearsonr(clfscores, diffscores)[0])\n",
    "    return np.mean(correlations)\n",
    "\n",
    "# derive from bardf the df we want to plot and the error bars we want\n",
    "meandf = pd.DataFrame([ivwise_contrastVSdiff(np.array(bardf)[:,i]) for i in range(len(roi_list))]).transpose()\n",
    "meandf.columns = roi_formatted\n",
    "error = [bootstrapCI(np.array(bardf)[:,i],ivwise_contrastVSdiff, 1000)[1:3] for i in range(len(roi_list))]\n",
    "\n",
    "plt.figure(figsize=(11,4))\n",
    "sns.barplot(data=meandf,palette='husl',ci=None)\n",
    "plt.xlabel('ROIs')\n",
    "plt.title('*Mean* of Subjectwise Correlation B/t t-f & Prepost Diff\\n*Over Timepoints*')\n",
    "plt.ylabel('(t-f) vs PrePost Correlation Mean Taken Over Timepoints')\n",
    "for i in range(len(roi_list)):\n",
    "    plt.vlines(i, error[i][0], error[i][1])\n",
    "plt.show()"
   ]
  },
  {
   "cell_type": "markdown",
   "metadata": {},
   "source": [
    "correlation of correlations"
   ]
  },
  {
   "cell_type": "code",
   "execution_count": 12,
   "metadata": {},
   "outputs": [
    {
     "data": {
      "image/png": "[encoded data removed]",
      "text/plain": [
       "<matplotlib.figure.Figure at 0x7f58c5ef50b8>"
      ]
     },
     "metadata": {},
     "output_type": "display_data"
    }
   ],
   "source": [
    "# second, instead of taking the overall mean draw_contrast score and relating that with differentiation, \n",
    "# get the draw_contrast score for each timepoint and relate those against differentiation\n",
    "# the correlation of all 20 or whatever correlations is what we graph\n",
    "\n",
    "# define the estimator\n",
    "def cor_contrastVSdiff(subdata):\n",
    "    num_ivs = 20\n",
    "    diffscores = [sub[1] for sub in subdata]\n",
    "    correlations = []\n",
    "    for i in range(num_ivs):\n",
    "        clfscores = [np.mean(sub[0][0][i]) for sub in subdata]\n",
    "        #clfscores = [np.mean(sub[0][0][i]-sub[0][1][i]) for sub in subdata]\n",
    "        correlations.append(stats.pearsonr(clfscores, diffscores)[0])\n",
    "    return stats.pearsonr(np.arange(num_ivs),correlations)[0]\n",
    "\n",
    "# derive from bardf the df we want to plot and the error bars we want\n",
    "meandf = pd.DataFrame([cor_contrastVSdiff(np.array(bardf)[:,i]) for i in range(len(roi_list))]).transpose()\n",
    "meandf.columns = roi_formatted\n",
    "error = [bootstrapCI(np.array(bardf)[:,i],cor_contrastVSdiff, 1000)[1:3] for i in range(len(roi_list))]\n",
    "\n",
    "plt.figure(figsize=(11,4))\n",
    "sns.barplot(data=meandf,palette='husl',ci=None)\n",
    "plt.xlabel('ROIs')\n",
    "plt.title('Correlation over Timepoints of Subjectwise Correlation B/t t-f & Prepost Diff')\n",
    "plt.ylabel('Correlation Over Timepoints of (t-f) vs PrePost Correlation')\n",
    "for i in range(len(roi_list)):\n",
    "    plt.vlines(i, error[i][0], error[i][1])\n",
    "plt.show()"
   ]
  }
 ],
 "metadata": {
  "kernelspec": {
   "display_name": "Python 3",
   "language": "python",
   "name": "python3"
  },
  "language_info": {
   "codemirror_mode": {
    "name": "ipython",
    "version": 3
   },
   "file_extension": ".py",
   "mimetype": "text/x-python",
   "name": "python",
   "nbconvert_exporter": "python",
   "pygments_lexer": "ipython3",
   "version": "3.6.1"
  }
 },
 "nbformat": 4,
 "nbformat_minor": 2
}
