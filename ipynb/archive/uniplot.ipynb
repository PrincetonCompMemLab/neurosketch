{
 "cells": [
  {
   "cell_type": "markdown",
   "metadata": {},
   "source": [
    "## Preprocessing"
   ]
  },
  {
   "cell_type": "code",
   "execution_count": 2,
   "metadata": {
    "collapsed": true
   },
   "outputs": [],
   "source": [
    "import os\n",
    "import numpy as np\n",
    "from nilearn import image\n",
    "import matplotlib.pyplot as plt\n",
    "from scipy import stats"
   ]
  },
  {
   "cell_type": "code",
   "execution_count": 3,
   "metadata": {
    "collapsed": true
   },
   "outputs": [],
   "source": [
    "ROIs = ['V1','fusiform','IT','LOC', 'occitemp']"
   ]
  },
  {
   "cell_type": "code",
   "execution_count": 4,
   "metadata": {},
   "outputs": [
    {
     "name": "stdout",
     "output_type": "stream",
     "text": [
      "['0110171_neurosketch', '0110172_neurosketch', '0111171_neurosketch', '0112171_neurosketch', '0112172_neurosketch', '0112173_neurosketch', '0113171_neurosketch', '0115172_neurosketch', '0115174_neurosketch', '0117171_neurosketch', '0118171_neurosketch', '0118172_neurosketch', '0119171_neurosketch', '0119172_neurosketch', '0119173_neurosketch', '0119174_neurosketch', '0120171_neurosketch', '0120172_neurosketch', '0120173_neurosketch', '0123171_neurosketch', '0123173_neurosketch', '0124171_neurosketch', '0125171_neurosketch', '0125172_neurosketch', '1121161_neurosketch', '1130161_neurosketch', '1202161_neurosketch', '1203161_neurosketch', '1206161_neurosketch', '1206162_neurosketch', '1206163_neurosketch', '1207162_neurosketch']\n",
      "32 subjects\n"
     ]
    }
   ],
   "source": [
    "## get list of subject directories\n",
    "proj_dir = '/home/jefan/sketchloop02/'\n",
    "contents_dir = os.listdir(proj_dir)\n",
    "\n",
    "sub_dirs = []\n",
    "for i in contents_dir:\n",
    "    try:\n",
    "        if i.split('_')[1]=='neurosketch':\n",
    "            sub_dirs.append(i)\n",
    "    except:\n",
    "        pass\n",
    "\n",
    "sub_dirs = sorted(sub_dirs)\n",
    "\n",
    "# issue with 1207161\n",
    "sub_dirs = [s for s in sub_dirs if s != '1207161_neurosketch']\n",
    "\n",
    "# issue with 1201161\n",
    "sub_dirs = [s for s in sub_dirs if s != '1201161_neurosketch']\n",
    "\n",
    "print(sub_dirs)\n",
    "print(str(len(sub_dirs)) + ' subjects')"
   ]
  },
  {
   "cell_type": "code",
   "execution_count": 5,
   "metadata": {
    "collapsed": true
   },
   "outputs": [],
   "source": [
    "# Analysis helper functions\n",
    "def get_mask_array(mask_path):\n",
    "    # loads mask applied to nifty (.nii.gz) file\n",
    "    # mask selects voxels to be included/discarded\n",
    "    mask_img = image.load_img(mask_path)\n",
    "    mask_data = mask_img.get_data()\n",
    "    num_brain_voxels = sum(sum(sum(mask_data==1)))\n",
    "    return mask_data, num_brain_voxels\n",
    "\n",
    "def load_roi_mask_combined(subj,run_num,roi):\n",
    "    if run_num in [1,2]:\n",
    "        phase_num = '12' \n",
    "    elif run_num in [3,4]:\n",
    "        phase_num = '34'\n",
    "    elif run_num in [5,6]:\n",
    "        phase_num = '56'\n",
    "    mask_path = proj_dir + '/' + subj +'/analysis/firstlevel/rois/' + roi + '_func_combined_' + phase_num + '_binarized.nii.gz'        \n",
    "    mask_data, nv = get_mask_array(mask_path)\n",
    "    return mask_data"
   ]
  },
  {
   "cell_type": "markdown",
   "metadata": {},
   "source": [
    "# Univariate Time Course Plot"
   ]
  },
  {
   "cell_type": "markdown",
   "metadata": {},
   "source": [
    "Preprocessing..."
   ]
  },
  {
   "cell_type": "code",
   "execution_count": 123,
   "metadata": {
    "scrolled": true
   },
   "outputs": [
    {
     "name": "stdout",
     "output_type": "stream",
     "text": [
      "0110171_neurosketch\n"
     ]
    },
    {
     "name": "stderr",
     "output_type": "stream",
     "text": [
      "/home/jgunn/anaconda3/lib/python3.6/site-packages/scipy/stats/stats.py:2247: RuntimeWarning: invalid value encountered in true_divide\n",
      "  return (a - mns) / sstd\n"
     ]
    },
    {
     "name": "stdout",
     "output_type": "stream",
     "text": [
      "occitemp\n",
      "occitemp\n"
     ]
    },
    {
     "ename": "KeyboardInterrupt",
     "evalue": "",
     "output_type": "error",
     "traceback": [
      "\u001b[0;31m---------------------------------------------------------------------------\u001b[0m",
      "\u001b[0;31mKeyboardInterrupt\u001b[0m                         Traceback (most recent call last)",
      "\u001b[0;32m<ipython-input-123-21b2428632d4>\u001b[0m in \u001b[0;36m<module>\u001b[0;34m()\u001b[0m\n\u001b[1;32m     48\u001b[0m                             \u001b[0mresult\u001b[0m \u001b[0;34m=\u001b[0m \u001b[0mnp\u001b[0m\u001b[0;34m.\u001b[0m\u001b[0mvstack\u001b[0m\u001b[0;34m(\u001b[0m\u001b[0;34m(\u001b[0m\u001b[0mresult\u001b[0m\u001b[0;34m,\u001b[0m \u001b[0mtimeseries\u001b[0m\u001b[0;34m[\u001b[0m\u001b[0mi\u001b[0m\u001b[0;34m]\u001b[0m\u001b[0;34m.\u001b[0m\u001b[0mflatten\u001b[0m\u001b[0;34m(\u001b[0m\u001b[0;34m)\u001b[0m\u001b[0;34m)\u001b[0m\u001b[0;34m)\u001b[0m\u001b[0;34m\u001b[0m\u001b[0m\n\u001b[1;32m     49\u001b[0m                         \u001b[0;32melse\u001b[0m\u001b[0;34m:\u001b[0m\u001b[0;34m\u001b[0m\u001b[0m\n\u001b[0;32m---> 50\u001b[0;31m                             \u001b[0mresult\u001b[0m \u001b[0;34m=\u001b[0m \u001b[0mnp\u001b[0m\u001b[0;34m.\u001b[0m\u001b[0mvstack\u001b[0m\u001b[0;34m(\u001b[0m\u001b[0;34m(\u001b[0m\u001b[0mresult\u001b[0m\u001b[0;34m,\u001b[0m \u001b[0mtimeseries\u001b[0m\u001b[0;34m[\u001b[0m\u001b[0mi\u001b[0m\u001b[0;34m]\u001b[0m\u001b[0;34m[\u001b[0m\u001b[0mroi_mask\u001b[0m\u001b[0;34m==\u001b[0m\u001b[0;36m1\u001b[0m\u001b[0;34m]\u001b[0m\u001b[0;34m)\u001b[0m\u001b[0;34m)\u001b[0m \u001b[0;31m# 9 x k\u001b[0m\u001b[0;34m\u001b[0m\u001b[0m\n\u001b[0m\u001b[1;32m     51\u001b[0m                     \u001b[0mresults\u001b[0m\u001b[0;34m[\u001b[0m\u001b[0mcounter\u001b[0m\u001b[0;34m]\u001b[0m \u001b[0;34m=\u001b[0m \u001b[0mresult\u001b[0m\u001b[0;34m\u001b[0m\u001b[0m\n\u001b[1;32m     52\u001b[0m                     \u001b[0mcounter\u001b[0m \u001b[0;34m+=\u001b[0m \u001b[0;36m1\u001b[0m\u001b[0;34m\u001b[0m\u001b[0m\n",
      "\u001b[0;31mKeyboardInterrupt\u001b[0m: "
     ]
    }
   ],
   "source": [
    "# for each subject and each run\n",
    "runA = np.zeros(9)\n",
    "runB = np.zeros(9)\n",
    "V1 = np.zeros(9)\n",
    "fusiform = np.zeros(9)\n",
    "IT = np.zeros(9)\n",
    "LOC = np.zeros(9)\n",
    "occitemp = np.zeros(9)\n",
    "wholebrain = np.zeros(9)\n",
    "\n",
    "for subject in sub_dirs:\n",
    "    print(subject)\n",
    "    for run in [1, 2]:\n",
    "        \n",
    "        # load subject's time series for this run\n",
    "        timeseries = image.load_img(proj_dir + subject + '/analysis/firstlevel/preproc_recognition_run_' +\n",
    "                                             str(run) + '.feat/filtered_func_data.nii.gz')\n",
    "        timeseries = stats.zscore(timeseries.get_data().transpose((3, 0, 1, 2)), axis=0)\n",
    "        \n",
    "        # use information in regressor/run_x folder to make hasImage vector\n",
    "        hasImage = [0]*240\n",
    "        for cope in ['bed', 'bench', 'chair', 'table']:\n",
    "            with open('/home/jgunn/neurosketch/timepoints/' + subject[:7] + '_' + str(run) + '_' + cope + '.txt') as f:\n",
    "                times = [line.split(' ')[0] for line in f.read().split('\\n')[:-1]]\n",
    "                for t in times:\n",
    "                    tr = float(t)/1.5\n",
    "                    hasImage[int(tr)] = 1\n",
    "        \n",
    "        # for all 80 volumes where hasImage = 1, take 4 +/- adjacent indicies in corresponding volume set\n",
    "        # apply the ROI masks to them, \n",
    "        # then vstack output of full loop\n",
    "        # result being 80 x k x 9 matrix where k is number of voxels in roi_mask\n",
    "        for roi in ['occitemp']: # select k voxels\n",
    "            print(roi)\n",
    "            roi_mask = load_roi_mask_combined(subject, 1, roi) if roi != 'wholebrain' else None\n",
    "            results = (np.zeros((80, 9, int(np.sum(roi_mask)))) if roi != 'wholebrain' else\n",
    "                       np.zeros((80, 9, timeseries[0].size))) # 80 x 9 x k\n",
    "            counter = 0\n",
    "            \n",
    "            for i, has in enumerate(hasImage): # 80 times\n",
    "                if has and i > 3 and i < 236:\n",
    "                    start = i-4\n",
    "                    end = i+5\n",
    "\n",
    "                    result = timeseries[start][roi_mask==1] if roi != 'wholebrain' else timeseries[start].flatten()\n",
    "                    for i in range(start+1, end): # 9 times\n",
    "                        if roi == 'wholebrain':\n",
    "                            result = np.vstack((result, timeseries[i].flatten()))\n",
    "                        else:\n",
    "                            result = np.vstack((result, timeseries[i][roi_mask==1])) # 9 x k\n",
    "                    results[counter] = result\n",
    "                    counter += 1\n",
    "            \n",
    "            results = np.mean(results, axis = 0)\n",
    "            results = np.mean(results, axis = 1)\n",
    "            if roi == 'V1':\n",
    "                V1 = np.vstack((V1, results))\n",
    "            elif roi == 'fusiform':\n",
    "                fusiform = np.vstack((fusiform, results))\n",
    "            elif roi == 'IT':\n",
    "                IT = np.vstack((IT, results))\n",
    "            elif roi == 'LOC':\n",
    "                LOC = np.vstack((LOC, results))\n",
    "            elif roi == 'occitemp':\n",
    "                occitemp = np.vstack((occitemp, results))\n",
    "            else:\n",
    "                wholebrain = np.vstack((wholebrain, results))\n",
    "                if run == 1:\n",
    "                    runA = np.vstack((runA, results))\n",
    "                else:\n",
    "                    runB = np.vstack((runB, results))\n",
    "                    \n",
    "runA = np.delete(runA, (0), axis=0)\n",
    "runB = np.delete(runB, (0), axis=0)\n",
    "V1 = np.delete(V1, (0), axis=0)\n",
    "fusiform = np.delete(fusiform, (0), axis=0)\n",
    "IT = np.delete(IT, (0), axis=0)\n",
    "LOC = np.delete(LOC, (0), axis=0)\n",
    "occitemp = np.delete(occitemp, (0), axis=0)\n",
    "wholebrain = np.delete(wholebrain, (0), axis=0)"
   ]
  },
  {
   "cell_type": "markdown",
   "metadata": {},
   "source": [
    "Now just modify what \"everyone\" refers to to indicate which group to graph"
   ]
  },
  {
   "cell_type": "code",
   "execution_count": 113,
   "metadata": {},
   "outputs": [
    {
     "name": "stdout",
     "output_type": "stream",
     "text": [
      "(64, 9)\n"
     ]
    },
    {
     "data": {
      "image/png": "[encoded data removed]",
      "text/plain": [
       "<matplotlib.figure.Figure at 0x7f52af8315f8>"
      ]
     },
     "metadata": {},
     "output_type": "display_data"
    }
   ],
   "source": [
    "everyone = occitemp\n",
    "print(np.shape(everyone))\n",
    "\n",
    "x = np.arange(0, 9)\n",
    "y = np.mean(everyone, axis=0)\n",
    "e = np.std(everyone, axis=0)\n",
    "plt.errorbar(x, y)\n",
    "plt.title('Univariate Time Course')\n",
    "plt.xlabel('TR centered around Event')\n",
    "plt.ylabel('Average')\n",
    "plt.xticks(np.arange(0, 9), ['-4', '-3', '-2', '-1', '0', '1', '2', '3', '4'])\n",
    "plt.show()"
   ]
  },
  {
   "cell_type": "markdown",
   "metadata": {},
   "source": [
    "**Conclusion**: Peak of response is at 3 seconds after display."
   ]
  },
  {
   "cell_type": "markdown",
   "metadata": {},
   "source": [
    "## Vanilla Classification Performance"
   ]
  },
  {
   "cell_type": "markdown",
   "metadata": {},
   "source": [
    "Sanity check. How does classifer perform simply classifying whether an image has just occurred or not?"
   ]
  },
  {
   "cell_type": "code",
   "execution_count": 25,
   "metadata": {},
   "outputs": [
    {
     "name": "stdout",
     "output_type": "stream",
     "text": [
      "0110171_neurosketch\n"
     ]
    },
    {
     "name": "stderr",
     "output_type": "stream",
     "text": [
      "/home/jgunn/anaconda3/lib/python3.6/site-packages/scipy/stats/stats.py:2247: RuntimeWarning: invalid value encountered in true_divide\n",
      "  return (a - mns) / sstd\n"
     ]
    },
    {
     "name": "stdout",
     "output_type": "stream",
     "text": [
      "0110172_neurosketch\n",
      "0111171_neurosketch\n",
      "0112171_neurosketch\n",
      "0112172_neurosketch\n",
      "0112173_neurosketch\n",
      "0113171_neurosketch\n",
      "0115172_neurosketch\n",
      "0115174_neurosketch\n",
      "0117171_neurosketch\n",
      "0118171_neurosketch\n",
      "0118172_neurosketch\n",
      "0119171_neurosketch\n",
      "0119172_neurosketch\n",
      "0119173_neurosketch\n",
      "0119174_neurosketch\n",
      "0120171_neurosketch\n",
      "0120172_neurosketch\n",
      "0120173_neurosketch\n",
      "0123171_neurosketch\n",
      "0123173_neurosketch\n",
      "0124171_neurosketch\n",
      "0125171_neurosketch\n",
      "0125172_neurosketch\n",
      "1121161_neurosketch\n",
      "1130161_neurosketch\n",
      "1202161_neurosketch\n",
      "1203161_neurosketch\n",
      "1206161_neurosketch\n",
      "1206162_neurosketch\n",
      "1206163_neurosketch\n",
      "1207162_neurosketch\n"
     ]
    }
   ],
   "source": [
    "# train on run 1, test on run 2 using SVM or 4-way softmax (logistic regression classifier)\n",
    "# how to define training set?\n",
    "# get the 80 cope maps for run 1 per subject\n",
    "# i'll do it for the whole brain and then with ROI masks applied, compare results\n",
    "\n",
    "# this time, we only pick one instead of (presumably at +3, maybe +2) \n",
    "\n",
    "from sklearn.linear_model import LogisticRegression\n",
    "from sklearn.model_selection import cross_val_score\n",
    "\n",
    "predicted = []\n",
    "actual = []\n",
    "\n",
    "for subject in sub_dirs:\n",
    "    print(subject)\n",
    "    trainingX = []\n",
    "    trainingY = []\n",
    "    testX = []\n",
    "    testY = []\n",
    "    roi_mask = load_roi_mask_combined(subject, 1, 'occitemp')\n",
    "    for run in [1, 2]:\n",
    "        \n",
    "        # load subject's time series for this run\n",
    "        timeseries = image.load_img(proj_dir + subject + '/analysis/firstlevel/preproc_recognition_run_' +\n",
    "                                             str(run) + '.feat/filtered_func_data.nii.gz')\n",
    "        timeseries = timeseries.get_data().transpose((3, 0, 1, 2))\n",
    "        timeseries = stats.zscore(timeseries, axis=0)\n",
    "        timeseries[np.isnan(timeseries)] = 0\n",
    "\n",
    "        # use information in regressor/run_x folder to make hasImage vector\n",
    "        hasImage = [0]*240\n",
    "        for cope in ['bed', 'bench', 'chair', 'table']:\n",
    "            with open('/home/jgunn/neurosketch/timepoints/' + subject[:7] + '_' + str(run) + '_' + cope + '.txt') as f:\n",
    "                times = [line.split(' ')[0] for line in f.read().split('\\n')[:-1]]\n",
    "                for t in times:\n",
    "                    tr = float(t)/1.5\n",
    "                    hasImage[int(tr)] = 1\n",
    "        \n",
    "        # wherever hasImage, get associated volume and flatten it for training\n",
    "        for i, has in enumerate(hasImage): # 80 times\n",
    "            if i + 3 < 240:\n",
    "                if run == 1:\n",
    "                    trainingX.append(timeseries[i+3][roi_mask==1])\n",
    "                    trainingY.append(has)\n",
    "                else:\n",
    "                    testX.append(timeseries[i+3][roi_mask==1])\n",
    "                    testY.append(has)\n",
    "                    \n",
    "    lin_clf = LogisticRegression()\n",
    "    lin_clf.fit(trainingX, trainingY)\n",
    "    predicted = predicted + lin_clf.predict(testX).tolist()\n",
    "    actual = actual + testY\n",
    "    \n",
    "print(np.mean(np.equal(actual, predicted)))"
   ]
  },
  {
   "cell_type": "code",
   "execution_count": 26,
   "metadata": {},
   "outputs": [
    {
     "data": {
      "text/plain": [
       "0.65994198312236285"
      ]
     },
     "execution_count": 26,
     "metadata": {},
     "output_type": "execute_result"
    }
   ],
   "source": [
    "np.mean(np.equal(predicted, actual))"
   ]
  },
  {
   "cell_type": "code",
   "execution_count": null,
   "metadata": {
    "collapsed": true
   },
   "outputs": [],
   "source": []
  },
  {
   "cell_type": "code",
   "execution_count": 30,
   "metadata": {},
   "outputs": [
    {
     "name": "stdout",
     "output_type": "stream",
     "text": [
      "0110171_neurosketch\n"
     ]
    },
    {
     "name": "stderr",
     "output_type": "stream",
     "text": [
      "/home/jgunn/anaconda3/lib/python3.6/site-packages/scipy/stats/stats.py:2247: RuntimeWarning: invalid value encountered in true_divide\n",
      "  return (a - mns) / sstd\n"
     ]
    },
    {
     "name": "stdout",
     "output_type": "stream",
     "text": [
      "0110172_neurosketch\n",
      "0111171_neurosketch\n",
      "0112171_neurosketch\n",
      "0112172_neurosketch\n",
      "0112173_neurosketch\n",
      "0113171_neurosketch\n",
      "0115172_neurosketch\n",
      "0115174_neurosketch\n",
      "0117171_neurosketch\n",
      "0118171_neurosketch\n",
      "0118172_neurosketch\n",
      "0119171_neurosketch\n",
      "0119172_neurosketch\n",
      "0119173_neurosketch\n",
      "0119174_neurosketch\n",
      "0120171_neurosketch\n",
      "0120172_neurosketch\n",
      "0120173_neurosketch\n",
      "0123171_neurosketch\n",
      "0123173_neurosketch\n",
      "0124171_neurosketch\n",
      "0125171_neurosketch\n",
      "0125172_neurosketch\n",
      "1121161_neurosketch\n",
      "1130161_neurosketch\n",
      "1202161_neurosketch\n",
      "1203161_neurosketch\n",
      "1206161_neurosketch\n",
      "1206162_neurosketch\n",
      "1206163_neurosketch\n",
      "1207162_neurosketch\n",
      "0.33125\n"
     ]
    }
   ],
   "source": [
    "# train on run 1, test on run 2 using SVM or 4-way softmax (logistic regression classifier)\n",
    "# how to define training set?\n",
    "# get the 80 cope maps for run 1 per subject\n",
    "# i'll do it for the whole brain and then with ROI masks applied, compare results\n",
    "\n",
    "# this time, we only pick one instead of (presumably at +3, maybe +2) \n",
    "\n",
    "from sklearn.linear_model import LogisticRegression\n",
    "\n",
    "predicted = []\n",
    "actual = []\n",
    "\n",
    "for subject in sub_dirs:\n",
    "    print(subject)\n",
    "    trainingX = []\n",
    "    trainingY = []\n",
    "    testX = []\n",
    "    testY = []\n",
    "    roi_mask = load_roi_mask_combined(subject, 1, 'occitemp')\n",
    "    for run in [1, 2]:\n",
    "\n",
    "        # load subject's time series for this run\n",
    "        timeseries = image.load_img(proj_dir + subject + '/analysis/firstlevel/preproc_recognition_run_' +\n",
    "                                             str(run) + '.feat/filtered_func_data.nii.gz')\n",
    "        timeseries = timeseries.get_data().transpose((3, 0, 1, 2))\n",
    "        timeseries = stats.zscore(timeseries, axis=0)\n",
    "        timeseries[np.isnan(timeseries)] = 0\n",
    "        \n",
    "        # use information in regressor/run_x folder to make hasImage vector\n",
    "        hasImage = [0]*240\n",
    "        for cope in ['bed', 'bench', 'chair', 'table']:\n",
    "            with open('/home/jgunn/neurosketch/timepoints/' + subject[:7] + '_' + str(run) + '_' + cope + '.txt') as f:\n",
    "                times = [line.split(' ')[0] for line in f.read().split('\\n')[:-1]]\n",
    "                for t in times:\n",
    "                    tr = float(t)/1.5\n",
    "                    if cope == 'bed':\n",
    "                        hasImage[int(tr)] = 1\n",
    "                    elif cope == 'bench':\n",
    "                        hasImage[int(tr)] = 2\n",
    "                    elif cope == 'chair':\n",
    "                        hasImage[int(tr)] = 3\n",
    "                    elif cope == 'table':\n",
    "                        hasImage[int(tr)] = 4\n",
    "        \n",
    "        # wherever hasImage, get associated volume and flatten it for training\n",
    "        for i, has in enumerate(hasImage): # 80 times\n",
    "            if has > 0:\n",
    "                if run == 1:\n",
    "                    trainingX.append(timeseries[i+3][roi_mask==1])\n",
    "                    trainingY.append(has-1)\n",
    "                else:\n",
    "                    testX.append(timeseries[i+3][roi_mask==1])\n",
    "                    testY.append(has-1)\n",
    "                    \n",
    "    lin_clf = LogisticRegression()\n",
    "    lin_clf.fit(trainingX, trainingY)\n",
    "    predicted = predicted + lin_clf.predict(testX).tolist()\n",
    "    actual = actual + testY\n",
    "    #scores = scores + cross_val_score(lin_clf, trainingX + testX, trainingY +testY).tolist()\n",
    "    \n",
    "print(np.mean(np.equal(actual, predicted)))"
   ]
  },
  {
   "cell_type": "code",
   "execution_count": 28,
   "metadata": {},
   "outputs": [
    {
     "name": "stdout",
     "output_type": "stream",
     "text": [
      "0110171_neurosketch\n",
      "10730.0\n"
     ]
    },
    {
     "name": "stderr",
     "output_type": "stream",
     "text": [
      "/home/jgunn/anaconda3/lib/python3.6/site-packages/scipy/stats/stats.py:2247: RuntimeWarning: invalid value encountered in true_divide\n",
      "  return (a - mns) / sstd\n"
     ]
    },
    {
     "name": "stdout",
     "output_type": "stream",
     "text": [
      "Optimal number of features : 4845\n"
     ]
    }
   ],
   "source": [
    "from sklearn.linear_model import LogisticRegression\n",
    "from sklearn.model_selection import StratifiedKFold\n",
    "from sklearn.feature_selection import RFECV\n",
    "\n",
    "scores = []\n",
    "\n",
    "for subject in sub_dirs[:1]:\n",
    "    print(subject)\n",
    "    trainingX = []\n",
    "    trainingY = []\n",
    "    testX = []\n",
    "    testY = []\n",
    "    roi_mask = load_roi_mask_combined(subject, 1, 'occitemp')\n",
    "    print(np.sum(roi_mask))\n",
    "    for run in [1, 2]:\n",
    "\n",
    "        # load subject's time series for this run\n",
    "        timeseries = image.load_img(proj_dir + subject + '/analysis/firstlevel/preproc_recognition_run_' +\n",
    "                                             str(run) + '.feat/filtered_func_data.nii.gz')\n",
    "        timeseries = timeseries.get_data().transpose((3, 0, 1, 2))\n",
    "        timeseries = stats.zscore(timeseries, axis=0)\n",
    "        timeseries[np.isnan(timeseries)] = 0\n",
    "        \n",
    "        # use information in regressor/run_x folder to make hasImage vector\n",
    "        hasImage = [0]*240\n",
    "        for cope in ['bed', 'bench', 'chair', 'table']:\n",
    "            with open('/home/jgunn/neurosketch/timepoints/' + subject[:7] + '_' + str(run) + '_' + cope + '.txt') as f:\n",
    "                times = [line.split(' ')[0] for line in f.read().split('\\n')[:-1]]\n",
    "                for t in times:\n",
    "                    tr = float(t)/1.5\n",
    "                    if cope == 'bed':\n",
    "                        hasImage[int(tr)] = 1\n",
    "                    elif cope == 'bench':\n",
    "                        hasImage[int(tr)] = 2\n",
    "                    elif cope == 'chair':\n",
    "                        hasImage[int(tr)] = 3\n",
    "                    elif cope == 'table':\n",
    "                        hasImage[int(tr)] = 4\n",
    "        \n",
    "        # wherever hasImage, get associated volume and flatten it for training\n",
    "        for i, has in enumerate(hasImage): # 80 times\n",
    "            if has > 0:\n",
    "                if run == 1:\n",
    "                    trainingX.append(timeseries[i+3][roi_mask==1])\n",
    "                    trainingY.append(has-1)\n",
    "                else:\n",
    "                    testX.append(timeseries[i+3][roi_mask==1])\n",
    "                    testY.append(has-1)\n",
    "                    \n",
    "    lin_clf = LogisticRegression()\n",
    "    rfecv = RFECV(estimator=lin_clf, step=.01, scoring='accuracy')\n",
    "    rfecv.fit(trainingX + testX, trainingY + testY)\n",
    "    \n",
    "    print(\"Optimal number of features : %d\" % rfecv.n_features_)\n",
    "    \n",
    "    #lin_clf.fit(trainingX, trainingY)\n",
    "    #predicted = predicted + lin_clf.predict(testX).tolist()\n",
    "    #actual = actual + testY\n",
    "    #scores = scores + cross_val_score(lin_clf, trainingX + testX, trainingY +testY).tolist()\n",
    "    \n",
    "#print(np.mean(np.equal(actual, predicted)))\n",
    "#np.mean(scores)"
   ]
  },
  {
   "cell_type": "code",
   "execution_count": 29,
   "metadata": {},
   "outputs": [
    {
     "data": {
      "image/png": "[encoded data removed]",
      "text/plain": [
       "<matplotlib.figure.Figure at 0x7fb75a427cf8>"
      ]
     },
     "metadata": {},
     "output_type": "display_data"
    }
   ],
   "source": [
    "plt.figure()\n",
    "plt.title('Cross Validation Score\\nas Function of Percent of Features Selected\\n(Arbitrary Subject, Occitemp ROI)')\n",
    "plt.xlabel(\"Percent of features selected\")\n",
    "plt.ylabel(\"Cross validation score (nb of correct classifications)\")\n",
    "plt.plot(range(1, len(rfecv.grid_scores_) + 1), rfecv.grid_scores_)\n",
    "plt.show()"
   ]
  },
  {
   "cell_type": "code",
   "execution_count": 96,
   "metadata": {},
   "outputs": [
    {
     "data": {
      "text/plain": [
       "(170,)"
      ]
     },
     "execution_count": 96,
     "metadata": {},
     "output_type": "execute_result"
    }
   ],
   "source": [
    "np.shape(timeseries[0][roi_mask==1][rfecv.support_])"
   ]
  },
  {
   "cell_type": "code",
   "execution_count": 14,
   "metadata": {},
   "outputs": [
    {
     "data": {
      "text/plain": [
       "LinearSVC(C=1.0, class_weight=None, dual=True, fit_intercept=True,\n",
       "     intercept_scaling=1, loss='squared_hinge', max_iter=1000,\n",
       "     multi_class='ovr', penalty='l2', random_state=None, tol=0.0001,\n",
       "     verbose=0)"
      ]
     },
     "execution_count": 14,
     "metadata": {},
     "output_type": "execute_result"
    }
   ],
   "source": [
    "from sklearn import svm\n",
    "\n",
    "from sklearn.feature_selection import RFE\n",
    "estimator = svm.LinearSVC()\n",
    "selector = RFE(estimator, .25*N, step=1)\n",
    "\n"
   ]
  },
  {
   "cell_type": "code",
   "execution_count": 15,
   "metadata": {},
   "outputs": [
    {
     "ename": "KeyboardInterrupt",
     "evalue": "",
     "output_type": "error",
     "traceback": [
      "\u001b[0;31m---------------------------------------------------------------------------\u001b[0m",
      "\u001b[0;31mKeyboardInterrupt\u001b[0m                         Traceback (most recent call last)",
      "\u001b[0;32m<ipython-input-15-eba3ddc4cb58>\u001b[0m in \u001b[0;36m<module>\u001b[0;34m()\u001b[0m\n\u001b[1;32m     11\u001b[0m rfecv = RFECV(estimator=svc, step=1, cv=StratifiedKFold(2),\n\u001b[1;32m     12\u001b[0m               scoring='accuracy')\n\u001b[0;32m---> 13\u001b[0;31m \u001b[0mrfecv\u001b[0m\u001b[0;34m.\u001b[0m\u001b[0mfit\u001b[0m\u001b[0;34m(\u001b[0m\u001b[0mtrainingX\u001b[0m\u001b[0;34m,\u001b[0m \u001b[0mtrainingY\u001b[0m\u001b[0;34m)\u001b[0m\u001b[0;34m\u001b[0m\u001b[0m\n\u001b[0m\u001b[1;32m     14\u001b[0m \u001b[0;34m\u001b[0m\u001b[0m\n\u001b[1;32m     15\u001b[0m \u001b[0mprint\u001b[0m\u001b[0;34m(\u001b[0m\u001b[0;34m\"Optimal number of features : %d\"\u001b[0m \u001b[0;34m%\u001b[0m \u001b[0mrfecv\u001b[0m\u001b[0;34m.\u001b[0m\u001b[0mn_features_\u001b[0m\u001b[0;34m)\u001b[0m\u001b[0;34m\u001b[0m\u001b[0m\n",
      "\u001b[0;32m/home/jgunn/anaconda3/lib/python3.6/site-packages/sklearn/feature_selection/rfe.py\u001b[0m in \u001b[0;36mfit\u001b[0;34m(self, X, y)\u001b[0m\n\u001b[1;32m    428\u001b[0m         scores = parallel(\n\u001b[1;32m    429\u001b[0m             \u001b[0mfunc\u001b[0m\u001b[0;34m(\u001b[0m\u001b[0mrfe\u001b[0m\u001b[0;34m,\u001b[0m \u001b[0mself\u001b[0m\u001b[0;34m.\u001b[0m\u001b[0mestimator\u001b[0m\u001b[0;34m,\u001b[0m \u001b[0mX\u001b[0m\u001b[0;34m,\u001b[0m \u001b[0my\u001b[0m\u001b[0;34m,\u001b[0m \u001b[0mtrain\u001b[0m\u001b[0;34m,\u001b[0m \u001b[0mtest\u001b[0m\u001b[0;34m,\u001b[0m \u001b[0mscorer\u001b[0m\u001b[0;34m)\u001b[0m\u001b[0;34m\u001b[0m\u001b[0m\n\u001b[0;32m--> 430\u001b[0;31m             for train, test in cv.split(X, y))\n\u001b[0m\u001b[1;32m    431\u001b[0m \u001b[0;34m\u001b[0m\u001b[0m\n\u001b[1;32m    432\u001b[0m         \u001b[0mscores\u001b[0m \u001b[0;34m=\u001b[0m \u001b[0mnp\u001b[0m\u001b[0;34m.\u001b[0m\u001b[0msum\u001b[0m\u001b[0;34m(\u001b[0m\u001b[0mscores\u001b[0m\u001b[0;34m,\u001b[0m \u001b[0maxis\u001b[0m\u001b[0;34m=\u001b[0m\u001b[0;36m0\u001b[0m\u001b[0;34m)\u001b[0m\u001b[0;34m\u001b[0m\u001b[0m\n",
      "\u001b[0;32m/home/jgunn/anaconda3/lib/python3.6/site-packages/sklearn/feature_selection/rfe.py\u001b[0m in \u001b[0;36m<genexpr>\u001b[0;34m(.0)\u001b[0m\n\u001b[1;32m    428\u001b[0m         scores = parallel(\n\u001b[1;32m    429\u001b[0m             \u001b[0mfunc\u001b[0m\u001b[0;34m(\u001b[0m\u001b[0mrfe\u001b[0m\u001b[0;34m,\u001b[0m \u001b[0mself\u001b[0m\u001b[0;34m.\u001b[0m\u001b[0mestimator\u001b[0m\u001b[0;34m,\u001b[0m \u001b[0mX\u001b[0m\u001b[0;34m,\u001b[0m \u001b[0my\u001b[0m\u001b[0;34m,\u001b[0m \u001b[0mtrain\u001b[0m\u001b[0;34m,\u001b[0m \u001b[0mtest\u001b[0m\u001b[0;34m,\u001b[0m \u001b[0mscorer\u001b[0m\u001b[0;34m)\u001b[0m\u001b[0;34m\u001b[0m\u001b[0m\n\u001b[0;32m--> 430\u001b[0;31m             for train, test in cv.split(X, y))\n\u001b[0m\u001b[1;32m    431\u001b[0m \u001b[0;34m\u001b[0m\u001b[0m\n\u001b[1;32m    432\u001b[0m         \u001b[0mscores\u001b[0m \u001b[0;34m=\u001b[0m \u001b[0mnp\u001b[0m\u001b[0;34m.\u001b[0m\u001b[0msum\u001b[0m\u001b[0;34m(\u001b[0m\u001b[0mscores\u001b[0m\u001b[0;34m,\u001b[0m \u001b[0maxis\u001b[0m\u001b[0;34m=\u001b[0m\u001b[0;36m0\u001b[0m\u001b[0;34m)\u001b[0m\u001b[0;34m\u001b[0m\u001b[0m\n",
      "\u001b[0;32m/home/jgunn/anaconda3/lib/python3.6/site-packages/sklearn/feature_selection/rfe.py\u001b[0m in \u001b[0;36m_rfe_single_fit\u001b[0;34m(rfe, estimator, X, y, train, test, scorer)\u001b[0m\n\u001b[1;32m     28\u001b[0m     \u001b[0mX_test\u001b[0m\u001b[0;34m,\u001b[0m \u001b[0my_test\u001b[0m \u001b[0;34m=\u001b[0m \u001b[0m_safe_split\u001b[0m\u001b[0;34m(\u001b[0m\u001b[0mestimator\u001b[0m\u001b[0;34m,\u001b[0m \u001b[0mX\u001b[0m\u001b[0;34m,\u001b[0m \u001b[0my\u001b[0m\u001b[0;34m,\u001b[0m \u001b[0mtest\u001b[0m\u001b[0;34m,\u001b[0m \u001b[0mtrain\u001b[0m\u001b[0;34m)\u001b[0m\u001b[0;34m\u001b[0m\u001b[0m\n\u001b[1;32m     29\u001b[0m     return rfe._fit(\n\u001b[0;32m---> 30\u001b[0;31m         \u001b[0mX_train\u001b[0m\u001b[0;34m,\u001b[0m \u001b[0my_train\u001b[0m\u001b[0;34m,\u001b[0m \u001b[0;32mlambda\u001b[0m \u001b[0mestimator\u001b[0m\u001b[0;34m,\u001b[0m \u001b[0mfeatures\u001b[0m\u001b[0;34m:\u001b[0m\u001b[0;34m\u001b[0m\u001b[0m\n\u001b[0m\u001b[1;32m     31\u001b[0m         _score(estimator, X_test[:, features], y_test, scorer)).scores_\n\u001b[1;32m     32\u001b[0m \u001b[0;34m\u001b[0m\u001b[0m\n",
      "\u001b[0;32m/home/jgunn/anaconda3/lib/python3.6/site-packages/sklearn/feature_selection/rfe.py\u001b[0m in \u001b[0;36m_fit\u001b[0;34m(self, X, y, step_score)\u001b[0m\n\u001b[1;32m    167\u001b[0m                 \u001b[0mprint\u001b[0m\u001b[0;34m(\u001b[0m\u001b[0;34m\"Fitting estimator with %d features.\"\u001b[0m \u001b[0;34m%\u001b[0m \u001b[0mnp\u001b[0m\u001b[0;34m.\u001b[0m\u001b[0msum\u001b[0m\u001b[0;34m(\u001b[0m\u001b[0msupport_\u001b[0m\u001b[0;34m)\u001b[0m\u001b[0;34m)\u001b[0m\u001b[0;34m\u001b[0m\u001b[0m\n\u001b[1;32m    168\u001b[0m \u001b[0;34m\u001b[0m\u001b[0m\n\u001b[0;32m--> 169\u001b[0;31m             \u001b[0mestimator\u001b[0m\u001b[0;34m.\u001b[0m\u001b[0mfit\u001b[0m\u001b[0;34m(\u001b[0m\u001b[0mX\u001b[0m\u001b[0;34m[\u001b[0m\u001b[0;34m:\u001b[0m\u001b[0;34m,\u001b[0m \u001b[0mfeatures\u001b[0m\u001b[0;34m]\u001b[0m\u001b[0;34m,\u001b[0m \u001b[0my\u001b[0m\u001b[0;34m)\u001b[0m\u001b[0;34m\u001b[0m\u001b[0m\n\u001b[0m\u001b[1;32m    170\u001b[0m \u001b[0;34m\u001b[0m\u001b[0m\n\u001b[1;32m    171\u001b[0m             \u001b[0;31m# Get coefs\u001b[0m\u001b[0;34m\u001b[0m\u001b[0;34m\u001b[0m\u001b[0m\n",
      "\u001b[0;32m/home/jgunn/anaconda3/lib/python3.6/site-packages/sklearn/svm/base.py\u001b[0m in \u001b[0;36mfit\u001b[0;34m(self, X, y, sample_weight)\u001b[0m\n\u001b[1;32m    187\u001b[0m \u001b[0;34m\u001b[0m\u001b[0m\n\u001b[1;32m    188\u001b[0m         \u001b[0mseed\u001b[0m \u001b[0;34m=\u001b[0m \u001b[0mrnd\u001b[0m\u001b[0;34m.\u001b[0m\u001b[0mrandint\u001b[0m\u001b[0;34m(\u001b[0m\u001b[0mnp\u001b[0m\u001b[0;34m.\u001b[0m\u001b[0miinfo\u001b[0m\u001b[0;34m(\u001b[0m\u001b[0;34m'i'\u001b[0m\u001b[0;34m)\u001b[0m\u001b[0;34m.\u001b[0m\u001b[0mmax\u001b[0m\u001b[0;34m)\u001b[0m\u001b[0;34m\u001b[0m\u001b[0m\n\u001b[0;32m--> 189\u001b[0;31m         \u001b[0mfit\u001b[0m\u001b[0;34m(\u001b[0m\u001b[0mX\u001b[0m\u001b[0;34m,\u001b[0m \u001b[0my\u001b[0m\u001b[0;34m,\u001b[0m \u001b[0msample_weight\u001b[0m\u001b[0;34m,\u001b[0m \u001b[0msolver_type\u001b[0m\u001b[0;34m,\u001b[0m \u001b[0mkernel\u001b[0m\u001b[0;34m,\u001b[0m \u001b[0mrandom_seed\u001b[0m\u001b[0;34m=\u001b[0m\u001b[0mseed\u001b[0m\u001b[0;34m)\u001b[0m\u001b[0;34m\u001b[0m\u001b[0m\n\u001b[0m\u001b[1;32m    190\u001b[0m         \u001b[0;31m# see comment on the other call to np.iinfo in this file\u001b[0m\u001b[0;34m\u001b[0m\u001b[0;34m\u001b[0m\u001b[0m\n\u001b[1;32m    191\u001b[0m \u001b[0;34m\u001b[0m\u001b[0m\n",
      "\u001b[0;32m/home/jgunn/anaconda3/lib/python3.6/site-packages/sklearn/svm/base.py\u001b[0m in \u001b[0;36m_dense_fit\u001b[0;34m(self, X, y, sample_weight, solver_type, kernel, random_seed)\u001b[0m\n\u001b[1;32m    254\u001b[0m                 \u001b[0mcache_size\u001b[0m\u001b[0;34m=\u001b[0m\u001b[0mself\u001b[0m\u001b[0;34m.\u001b[0m\u001b[0mcache_size\u001b[0m\u001b[0;34m,\u001b[0m \u001b[0mcoef0\u001b[0m\u001b[0;34m=\u001b[0m\u001b[0mself\u001b[0m\u001b[0;34m.\u001b[0m\u001b[0mcoef0\u001b[0m\u001b[0;34m,\u001b[0m\u001b[0;34m\u001b[0m\u001b[0m\n\u001b[1;32m    255\u001b[0m                 \u001b[0mgamma\u001b[0m\u001b[0;34m=\u001b[0m\u001b[0mself\u001b[0m\u001b[0;34m.\u001b[0m\u001b[0m_gamma\u001b[0m\u001b[0;34m,\u001b[0m \u001b[0mepsilon\u001b[0m\u001b[0;34m=\u001b[0m\u001b[0mself\u001b[0m\u001b[0;34m.\u001b[0m\u001b[0mepsilon\u001b[0m\u001b[0;34m,\u001b[0m\u001b[0;34m\u001b[0m\u001b[0m\n\u001b[0;32m--> 256\u001b[0;31m                 max_iter=self.max_iter, random_seed=random_seed)\n\u001b[0m\u001b[1;32m    257\u001b[0m \u001b[0;34m\u001b[0m\u001b[0m\n\u001b[1;32m    258\u001b[0m         \u001b[0mself\u001b[0m\u001b[0;34m.\u001b[0m\u001b[0m_warn_from_fit_status\u001b[0m\u001b[0;34m(\u001b[0m\u001b[0;34m)\u001b[0m\u001b[0;34m\u001b[0m\u001b[0m\n",
      "\u001b[0;31mKeyboardInterrupt\u001b[0m: "
     ]
    }
   ],
   "source": [
    "import matplotlib.pyplot as plt\n",
    "from sklearn.svm import SVC\n",
    "from sklearn.model_selection import StratifiedKFold\n",
    "from sklearn.feature_selection import RFECV\n",
    "from sklearn.datasets import make_classification\n",
    "\n",
    "# Create the RFE object and compute a cross-validated score.\n",
    "svc = SVC(kernel=\"linear\")\n",
    "# The \"accuracy\" scoring is proportional to the number of correct\n",
    "# classifications\n",
    "rfecv = RFECV(estimator=svc, step=1, cv=StratifiedKFold(2),\n",
    "              scoring='accuracy')\n",
    "rfecv.fit(trainingX, trainingY)\n",
    "\n",
    "print(\"Optimal number of features : %d\" % rfecv.n_features_)\n",
    "\n",
    "# Plot number of features VS. cross-validation scores\n",
    "plt.figure()\n",
    "plt.xlabel(\"Number of features selected\")\n",
    "plt.ylabel(\"Cross validation score (nb of correct classifications)\")\n",
    "plt.plot(range(1, len(rfecv.grid_scores_) + 1), rfecv.grid_scores_)\n",
    "plt.show()"
   ]
  },
  {
   "cell_type": "markdown",
   "metadata": {},
   "source": [
    "## Follow-up by doing RFE based on the smallest weights, using paper that Norman recommended long ago.\n",
    "## Visualize slices that expose regions that prior work has identified as object selective\n",
    "## Apply searchlight with larger radius, re-do analyses"
   ]
  },
  {
   "cell_type": "code",
   "execution_count": null,
   "metadata": {
    "collapsed": true
   },
   "outputs": [],
   "source": []
  }
 ],
 "metadata": {
  "kernelspec": {
   "display_name": "Python 3",
   "language": "python",
   "name": "python3"
  },
  "language_info": {
   "codemirror_mode": {
    "name": "ipython",
    "version": 3
   },
   "file_extension": ".py",
   "mimetype": "text/x-python",
   "name": "python",
   "nbconvert_exporter": "python",
   "pygments_lexer": "ipython3",
   "version": "3.6.1"
  }
 },
 "nbformat": 4,
 "nbformat_minor": 1
}
