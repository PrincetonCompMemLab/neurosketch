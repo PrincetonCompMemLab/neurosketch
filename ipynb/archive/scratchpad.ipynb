{
 "cells": [
  {
   "cell_type": "code",
   "execution_count": 27,
   "metadata": {
    "collapsed": true
   },
   "outputs": [],
   "source": [
    "import pandas as pd\n",
    "import numpy as np\n",
    "\n",
    "%matplotlib inline\n",
    "from scipy.misc import imread, imresize\n",
    "import matplotlib.pyplot as plt\n",
    "import matplotlib.image as mpimg\n",
    "import seaborn as sns\n",
    "\n",
    "def cleanup_df(df):    \n",
    "    surplus = [i for i in df.columns if 'Unnamed' in i]\n",
    "    df = df.drop(surplus,axis=1)\n",
    "    return df\n"
   ]
  },
  {
   "cell_type": "code",
   "execution_count": 11,
   "metadata": {
    "collapsed": true
   },
   "outputs": [],
   "source": [
    "# read in original\n",
    "x = pd.read_csv('./logistic_timeseries_neural_vgg.csv')\n",
    "x = cleanup_df(x)\n",
    "\n",
    "# read in modified\n",
    "version = '4way'\n",
    "tag = 'raw'\n",
    "y = pd.read_csv('./logistic_timeseries_drawing_neural_{}_{}.csv'.format(version,tag))\n",
    "y = cleanup_df(y)"
   ]
  },
  {
   "cell_type": "code",
   "execution_count": 12,
   "metadata": {},
   "outputs": [
    {
     "name": "stdout",
     "output_type": "stream",
     "text": [
      "(285200, 11) (285200, 15)\n"
     ]
    }
   ],
   "source": [
    "print x.shape, y.shape"
   ]
  },
  {
   "cell_type": "code",
   "execution_count": 13,
   "metadata": {},
   "outputs": [
    {
     "data": {
      "text/html": [
       "<div>\n",
       "<style>\n",
       "    .dataframe thead tr:only-child th {\n",
       "        text-align: right;\n",
       "    }\n",
       "\n",
       "    .dataframe thead th {\n",
       "        text-align: left;\n",
       "    }\n",
       "\n",
       "    .dataframe tbody tr th {\n",
       "        vertical-align: top;\n",
       "    }\n",
       "</style>\n",
       "<table border=\"1\" class=\"dataframe\">\n",
       "  <thead>\n",
       "    <tr style=\"text-align: right;\">\n",
       "      <th></th>\n",
       "      <th>TR_num</th>\n",
       "      <th>bed_prob</th>\n",
       "      <th>bench_prob</th>\n",
       "      <th>chair_prob</th>\n",
       "      <th>label</th>\n",
       "      <th>roi</th>\n",
       "      <th>run_num</th>\n",
       "      <th>subj</th>\n",
       "      <th>table_prob</th>\n",
       "      <th>time_point</th>\n",
       "      <th>trial_num</th>\n",
       "    </tr>\n",
       "  </thead>\n",
       "  <tbody>\n",
       "    <tr>\n",
       "      <th>0</th>\n",
       "      <td>10</td>\n",
       "      <td>0.785917</td>\n",
       "      <td>0.013764</td>\n",
       "      <td>0.010464</td>\n",
       "      <td>bed</td>\n",
       "      <td>V1</td>\n",
       "      <td>1</td>\n",
       "      <td>110171</td>\n",
       "      <td>0.189855</td>\n",
       "      <td>1</td>\n",
       "      <td>0</td>\n",
       "    </tr>\n",
       "    <tr>\n",
       "      <th>1</th>\n",
       "      <td>11</td>\n",
       "      <td>0.943448</td>\n",
       "      <td>0.012615</td>\n",
       "      <td>0.012706</td>\n",
       "      <td>bed</td>\n",
       "      <td>V1</td>\n",
       "      <td>1</td>\n",
       "      <td>110171</td>\n",
       "      <td>0.031231</td>\n",
       "      <td>2</td>\n",
       "      <td>0</td>\n",
       "    </tr>\n",
       "    <tr>\n",
       "      <th>2</th>\n",
       "      <td>12</td>\n",
       "      <td>0.223766</td>\n",
       "      <td>0.118172</td>\n",
       "      <td>0.020711</td>\n",
       "      <td>bed</td>\n",
       "      <td>V1</td>\n",
       "      <td>1</td>\n",
       "      <td>110171</td>\n",
       "      <td>0.637351</td>\n",
       "      <td>3</td>\n",
       "      <td>0</td>\n",
       "    </tr>\n",
       "    <tr>\n",
       "      <th>3</th>\n",
       "      <td>13</td>\n",
       "      <td>0.018425</td>\n",
       "      <td>0.429318</td>\n",
       "      <td>0.000032</td>\n",
       "      <td>bed</td>\n",
       "      <td>V1</td>\n",
       "      <td>1</td>\n",
       "      <td>110171</td>\n",
       "      <td>0.552225</td>\n",
       "      <td>4</td>\n",
       "      <td>0</td>\n",
       "    </tr>\n",
       "    <tr>\n",
       "      <th>4</th>\n",
       "      <td>14</td>\n",
       "      <td>0.399308</td>\n",
       "      <td>0.000777</td>\n",
       "      <td>0.054215</td>\n",
       "      <td>bed</td>\n",
       "      <td>V1</td>\n",
       "      <td>1</td>\n",
       "      <td>110171</td>\n",
       "      <td>0.545701</td>\n",
       "      <td>5</td>\n",
       "      <td>0</td>\n",
       "    </tr>\n",
       "  </tbody>\n",
       "</table>\n",
       "</div>"
      ],
      "text/plain": [
       "   TR_num  bed_prob  bench_prob  chair_prob label roi  run_num    subj  \\\n",
       "0      10  0.785917    0.013764    0.010464   bed  V1        1  110171   \n",
       "1      11  0.943448    0.012615    0.012706   bed  V1        1  110171   \n",
       "2      12  0.223766    0.118172    0.020711   bed  V1        1  110171   \n",
       "3      13  0.018425    0.429318    0.000032   bed  V1        1  110171   \n",
       "4      14  0.399308    0.000777    0.054215   bed  V1        1  110171   \n",
       "\n",
       "   table_prob  time_point  trial_num  \n",
       "0    0.189855           1          0  \n",
       "1    0.031231           2          0  \n",
       "2    0.637351           3          0  \n",
       "3    0.552225           4          0  \n",
       "4    0.545701           5          0  "
      ]
     },
     "execution_count": 13,
     "metadata": {},
     "output_type": "execute_result"
    }
   ],
   "source": [
    "x.head()"
   ]
  },
  {
   "cell_type": "code",
   "execution_count": 14,
   "metadata": {},
   "outputs": [
    {
     "data": {
      "text/html": [
       "<div>\n",
       "<style>\n",
       "    .dataframe thead tr:only-child th {\n",
       "        text-align: right;\n",
       "    }\n",
       "\n",
       "    .dataframe thead th {\n",
       "        text-align: left;\n",
       "    }\n",
       "\n",
       "    .dataframe tbody tr th {\n",
       "        vertical-align: top;\n",
       "    }\n",
       "</style>\n",
       "<table border=\"1\" class=\"dataframe\">\n",
       "  <thead>\n",
       "    <tr style=\"text-align: right;\">\n",
       "      <th></th>\n",
       "      <th>TR_num</th>\n",
       "      <th>bed_prob</th>\n",
       "      <th>bench_prob</th>\n",
       "      <th>c1_prob</th>\n",
       "      <th>c2_prob</th>\n",
       "      <th>chair_prob</th>\n",
       "      <th>label</th>\n",
       "      <th>roi</th>\n",
       "      <th>run_num</th>\n",
       "      <th>subj</th>\n",
       "      <th>t1_prob</th>\n",
       "      <th>t2_prob</th>\n",
       "      <th>table_prob</th>\n",
       "      <th>time_point</th>\n",
       "      <th>trial_num</th>\n",
       "    </tr>\n",
       "  </thead>\n",
       "  <tbody>\n",
       "    <tr>\n",
       "      <th>0</th>\n",
       "      <td>10</td>\n",
       "      <td>0.785915</td>\n",
       "      <td>0.013766</td>\n",
       "      <td>0.010464</td>\n",
       "      <td>0.189855</td>\n",
       "      <td>0.010464</td>\n",
       "      <td>bed</td>\n",
       "      <td>V1</td>\n",
       "      <td>1</td>\n",
       "      <td>110171</td>\n",
       "      <td>0.785915</td>\n",
       "      <td>0.013766</td>\n",
       "      <td>0.189855</td>\n",
       "      <td>1</td>\n",
       "      <td>0</td>\n",
       "    </tr>\n",
       "    <tr>\n",
       "      <th>1</th>\n",
       "      <td>11</td>\n",
       "      <td>0.943442</td>\n",
       "      <td>0.012621</td>\n",
       "      <td>0.012706</td>\n",
       "      <td>0.031231</td>\n",
       "      <td>0.012706</td>\n",
       "      <td>bed</td>\n",
       "      <td>V1</td>\n",
       "      <td>1</td>\n",
       "      <td>110171</td>\n",
       "      <td>0.943442</td>\n",
       "      <td>0.012621</td>\n",
       "      <td>0.031231</td>\n",
       "      <td>2</td>\n",
       "      <td>0</td>\n",
       "    </tr>\n",
       "    <tr>\n",
       "      <th>2</th>\n",
       "      <td>12</td>\n",
       "      <td>0.223747</td>\n",
       "      <td>0.118222</td>\n",
       "      <td>0.020710</td>\n",
       "      <td>0.637321</td>\n",
       "      <td>0.020710</td>\n",
       "      <td>bed</td>\n",
       "      <td>V1</td>\n",
       "      <td>1</td>\n",
       "      <td>110171</td>\n",
       "      <td>0.223747</td>\n",
       "      <td>0.118222</td>\n",
       "      <td>0.637321</td>\n",
       "      <td>3</td>\n",
       "      <td>0</td>\n",
       "    </tr>\n",
       "    <tr>\n",
       "      <th>3</th>\n",
       "      <td>13</td>\n",
       "      <td>0.018421</td>\n",
       "      <td>0.429356</td>\n",
       "      <td>0.000032</td>\n",
       "      <td>0.552191</td>\n",
       "      <td>0.000032</td>\n",
       "      <td>bed</td>\n",
       "      <td>V1</td>\n",
       "      <td>1</td>\n",
       "      <td>110171</td>\n",
       "      <td>0.018421</td>\n",
       "      <td>0.429356</td>\n",
       "      <td>0.552191</td>\n",
       "      <td>4</td>\n",
       "      <td>0</td>\n",
       "    </tr>\n",
       "    <tr>\n",
       "      <th>4</th>\n",
       "      <td>14</td>\n",
       "      <td>0.399306</td>\n",
       "      <td>0.000777</td>\n",
       "      <td>0.054215</td>\n",
       "      <td>0.545702</td>\n",
       "      <td>0.054215</td>\n",
       "      <td>bed</td>\n",
       "      <td>V1</td>\n",
       "      <td>1</td>\n",
       "      <td>110171</td>\n",
       "      <td>0.399306</td>\n",
       "      <td>0.000777</td>\n",
       "      <td>0.545702</td>\n",
       "      <td>5</td>\n",
       "      <td>0</td>\n",
       "    </tr>\n",
       "  </tbody>\n",
       "</table>\n",
       "</div>"
      ],
      "text/plain": [
       "   TR_num  bed_prob  bench_prob   c1_prob   c2_prob  chair_prob label roi  \\\n",
       "0      10  0.785915    0.013766  0.010464  0.189855    0.010464   bed  V1   \n",
       "1      11  0.943442    0.012621  0.012706  0.031231    0.012706   bed  V1   \n",
       "2      12  0.223747    0.118222  0.020710  0.637321    0.020710   bed  V1   \n",
       "3      13  0.018421    0.429356  0.000032  0.552191    0.000032   bed  V1   \n",
       "4      14  0.399306    0.000777  0.054215  0.545702    0.054215   bed  V1   \n",
       "\n",
       "   run_num    subj   t1_prob   t2_prob  table_prob  time_point  trial_num  \n",
       "0        1  110171  0.785915  0.013766    0.189855           1          0  \n",
       "1        1  110171  0.943442  0.012621    0.031231           2          0  \n",
       "2        1  110171  0.223747  0.118222    0.637321           3          0  \n",
       "3        1  110171  0.018421  0.429356    0.552191           4          0  \n",
       "4        1  110171  0.399306  0.000777    0.545702           5          0  "
      ]
     },
     "execution_count": 14,
     "metadata": {},
     "output_type": "execute_result"
    }
   ],
   "source": [
    "y.head()"
   ]
  },
  {
   "cell_type": "code",
   "execution_count": 28,
   "metadata": {},
   "outputs": [
    {
     "name": "stdout",
     "output_type": "stream",
     "text": [
      "45\n"
     ]
    }
   ],
   "source": [
    "z = zip(x.bed_prob.values, y.bed_prob.values)\n",
    "nonmatches = [(i,j) for (i,j) in z if (np.abs(i-j)>1e-3)]\n",
    "print len(nonmatches)"
   ]
  },
  {
   "cell_type": "code",
   "execution_count": 30,
   "metadata": {},
   "outputs": [
    {
     "name": "stdout",
     "output_type": "stream",
     "text": [
      "68\n"
     ]
    }
   ],
   "source": [
    "z = zip(x.bench_prob.values, y.bench_prob.values)\n",
    "nonmatches = [(i,j) for (i,j) in z if (np.abs(i-j)>1e-3)]\n",
    "print len(nonmatches)"
   ]
  },
  {
   "cell_type": "code",
   "execution_count": 32,
   "metadata": {},
   "outputs": [
    {
     "name": "stdout",
     "output_type": "stream",
     "text": [
      "51\n"
     ]
    }
   ],
   "source": [
    "z = zip(x.chair_prob.values, y.chair_prob.values)\n",
    "nonmatches = [(i,j) for (i,j) in z if (np.abs(i-j)>1e-3)]\n",
    "print len(nonmatches)"
   ]
  },
  {
   "cell_type": "code",
   "execution_count": 31,
   "metadata": {},
   "outputs": [
    {
     "name": "stdout",
     "output_type": "stream",
     "text": [
      "34\n"
     ]
    }
   ],
   "source": [
    "z = zip(x.table_prob.values, y.table_prob.values)\n",
    "nonmatches = [(i,j) for (i,j) in z if (np.abs(i-j)>1e-3)]\n",
    "print len(nonmatches)"
   ]
  },
  {
   "cell_type": "code",
   "execution_count": null,
   "metadata": {
    "collapsed": true
   },
   "outputs": [],
   "source": []
  }
 ],
 "metadata": {
  "kernelspec": {
   "display_name": "Python 2",
   "language": "python",
   "name": "python2"
  },
  "language_info": {
   "codemirror_mode": {
    "name": "ipython",
    "version": 2
   },
   "file_extension": ".py",
   "mimetype": "text/x-python",
   "name": "python",
   "nbconvert_exporter": "python",
   "pygments_lexer": "ipython2",
   "version": "2.7.12"
  }
 },
 "nbformat": 4,
 "nbformat_minor": 2
}
