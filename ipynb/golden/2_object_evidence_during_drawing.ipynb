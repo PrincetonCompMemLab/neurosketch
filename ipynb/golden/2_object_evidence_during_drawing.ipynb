{
 "cells": [
  {
   "cell_type": "markdown",
   "metadata": {},
   "source": [
    "## Setup"
   ]
  },
  {
   "cell_type": "code",
   "execution_count": 278,
   "metadata": {},
   "outputs": [],
   "source": [
    "import warnings\n",
    "warnings.filterwarnings(\"ignore\")\n",
    "\n",
    "from __future__ import division\n",
    "\n",
    "import numpy as np\n",
    "import os\n",
    "from glob import glob\n",
    "\n",
    "from PIL import Image\n",
    "from copy import deepcopy\n",
    "\n",
    "from IPython.display import clear_output\n",
    "\n",
    "from sklearn import linear_model, datasets, neighbors\n",
    "from sklearn.model_selection import train_test_split, cross_val_score\n",
    "from sklearn import svm\n",
    "\n",
    "%matplotlib inline\n",
    "from scipy.misc import imread, imresize\n",
    "import matplotlib.pyplot as plt\n",
    "import matplotlib.image as mpimg\n",
    "import seaborn as sns\n",
    "sns.set_context('poster')\n",
    "colors = sns.color_palette(\"cubehelix\", 5)\n",
    "import matplotlib as mpl\n",
    "mpl.rcParams['pdf.fonttype'] = 42\n",
    "\n",
    "import pandas as pd\n",
    "\n",
    "import scipy.stats as stats\n",
    "from scipy.stats import norm\n",
    "import sklearn\n",
    "\n",
    "# from importlib import reload"
   ]
  },
  {
   "cell_type": "markdown",
   "metadata": {},
   "source": [
    "### define paths to data"
   ]
  },
  {
   "cell_type": "code",
   "execution_count": 279,
   "metadata": {},
   "outputs": [
    {
     "data": {
      "text/plain": [
       "'/home/jefan/neurosketch'"
      ]
     },
     "execution_count": 279,
     "metadata": {},
     "output_type": "execute_result"
    }
   ],
   "source": [
    "curr_dir = os.getcwd()\n",
    "os.path.abspath(os.path.join(curr_dir,'..','..'))"
   ]
  },
  {
   "cell_type": "code",
   "execution_count": 626,
   "metadata": {},
   "outputs": [],
   "source": [
    "## root paths\n",
    "curr_dir = os.getcwd()\n",
    "proj_dir = os.path.abspath(os.path.join(curr_dir,'..','..')) ## use relative paths\n",
    "data_dir = os.path.abspath(os.path.join(curr_dir,'..','..','data')) ## use relative paths 'D:\\\\data'\n",
    "results_dir = os.path.join(proj_dir, 'csv')\n",
    "nb_name = '2_object_evidence_during_drawing'\n",
    "\n",
    "## add helpers to python path\n",
    "import sys\n",
    "if os.path.join(proj_dir, 'python') not in sys.path:\n",
    "    sys.path.append(os.path.join(proj_dir, 'python'))\n",
    "\n",
    "## module definitions\n",
    "import utils as utils\n",
    "reload(utils)\n",
    "utils.data_dir = data_dir\n",
    "utils.path_to_recog = os.path.join(data_dir, 'features/recog')\n",
    "utils.path_to_draw = os.path.join(data_dir, 'features/drawing')\n",
    "utils.roi_list_draw = np.array(['V1Draw', 'V2Draw', 'LOCDraw', 'InsulaDraw', 'postCentralDraw',\n",
    "                            'preCentralDraw', 'ParietalDraw', 'FrontalDraw', 'smgDraw'])\n",
    "utils.roi_list_recog = ['V1','V2','LOC','IT','fusiform','parahippo','PRC','ento','hipp']\n",
    "utils.roi_list_recog_formatted = np.array(['V1', 'V2', 'LOC', 'FUS','PHC','IT','ENT','PRC','HC']) \n",
    "roi_list_recog = utils.roi_list_recog"
   ]
  },
  {
   "cell_type": "markdown",
   "metadata": {},
   "source": [
    "### get file list"
   ]
  },
  {
   "cell_type": "code",
   "execution_count": 4,
   "metadata": {},
   "outputs": [],
   "source": [
    "## get raw file list for recognition runs\n",
    "path_to_recog = utils.path_to_recog\n",
    "\n",
    "RECOG_METAS = sorted([i for i in os.listdir(path_to_recog) if (i.split('.')[-1]=='csv') & (i.split('_')[2][-4:] != 'Draw')])\n",
    "RECOG_FEATS = sorted([i for i in os.listdir(path_to_recog) if (i.split('.')[-1]=='npy') & (i.split('_')[1][-4:] != 'Draw')])\n",
    "RECOG_SUBS = np.array([i.split('_')[0] for i in RECOG_FEATS])\n",
    "\n",
    "recog_sub_list = np.unique(RECOG_SUBS)\n",
    "\n",
    "def preprocess_recog(RECOG_METAS, RECOG_FEATS):\n",
    "    M = [i for i in RECOG_METAS if len(i.split('.')[0].split('_'))==4]\n",
    "    F = [i for i in RECOG_FEATS if len(i.split('.')[0].split('_'))==4]\n",
    "    return M,F\n",
    "\n",
    "RECOG_METAS, RECOG_FEATS = preprocess_recog(RECOG_METAS, RECOG_FEATS)"
   ]
  },
  {
   "cell_type": "code",
   "execution_count": 5,
   "metadata": {},
   "outputs": [],
   "source": [
    "## get raw file list for drawing runs\n",
    "path_to_draw = utils.path_to_draw\n",
    "\n",
    "DRAW_METAS = sorted([i for i in os.listdir(path_to_draw) if (i.split('.')[-1]=='csv') & (i.split('_')[2][-4:] == 'Draw')])\n",
    "DRAW_FEATS = sorted([i for i in os.listdir(path_to_draw) if (i.split('.')[-1]=='npy') & (i.split('_')[1][-4:] == 'Draw')])\n",
    "DRAW_SUBS = np.array([i.split('_')[0] for i in DRAW_FEATS])\n",
    "draw_sub_list = np.unique(DRAW_SUBS)"
   ]
  },
  {
   "cell_type": "code",
   "execution_count": 6,
   "metadata": {},
   "outputs": [],
   "source": [
    "## get subject ID's that have complete datasets from all phases of experiment\n",
    "sub_list = np.intersect1d(recog_sub_list,draw_sub_list)\n",
    "#print('Number of subs: {}'.format(len(sub_list)))"
   ]
  },
  {
   "cell_type": "code",
   "execution_count": 7,
   "metadata": {},
   "outputs": [],
   "source": [
    "## filter file list so only contains the sessions that have full datasets\n",
    "def extract_good_sessions(DRAW_METAS,DRAW_FEATS,RECOG_METAS,RECOG_FEATS):\n",
    "    _DRAW_METAS = [i for i in DRAW_METAS if i.split('_')[1] in sub_list]\n",
    "    _DRAW_FEATS = [i for i in DRAW_FEATS if i.split('_')[0] in sub_list]\n",
    "    _RECOG_METAS = [i for i in RECOG_METAS if i.split('_')[1] in sub_list]\n",
    "    _RECOG_FEATS = [i for i in RECOG_FEATS if i.split('_')[0] in sub_list]\n",
    "    return _DRAW_METAS, _DRAW_FEATS, _RECOG_METAS, _RECOG_FEATS\n",
    "\n",
    "DRAW_METAS,DRAW_FEATS,RECOG_METAS,RECOG_FEATS =  \\\n",
    "extract_good_sessions(DRAW_METAS,DRAW_FEATS,RECOG_METAS,RECOG_FEATS)\n",
    "\n",
    "RECOG_SUBS = np.array([i.split('_')[0]+'_neurosketch' for i in RECOG_FEATS])\n",
    "RECOG_ROIS = np.array([i.split('_')[1] for i in RECOG_FEATS])\n",
    "\n",
    "DRAW_SUBS = np.array([i.split('_')[0]+'_neurosketch' for i in DRAW_FEATS])\n",
    "DRAW_ROIS = np.array([i.split('_')[1] for i in DRAW_FEATS])"
   ]
  },
  {
   "cell_type": "code",
   "execution_count": 8,
   "metadata": {},
   "outputs": [
    {
     "name": "stdout",
     "output_type": "stream",
     "text": [
      "We have data from 31 subjects.\n"
     ]
    }
   ],
   "source": [
    "print 'We have data from {} subjects.'.format(len(sub_list))"
   ]
  },
  {
   "cell_type": "markdown",
   "metadata": {},
   "source": [
    "### PRODUCTION: How well do we do at classifying the target during production runs when we train on initial recognition patterns only?"
   ]
  },
  {
   "cell_type": "code",
   "execution_count": 631,
   "metadata": {},
   "outputs": [
    {
     "name": "stdout",
     "output_type": "stream",
     "text": [
      "Done!\n"
     ]
    }
   ],
   "source": [
    "reload(utils)\n",
    "version = '4way'\n",
    "logged = True\n",
    "\n",
    "really_run = 0\n",
    "if really_run:\n",
    "\n",
    "    ALLDM, Acc = utils.make_drawing_predictions(sub_list,roi_list_recog,\n",
    "                                            version=version,logged=logged)\n",
    "    ## save out ALLDM & Acc\n",
    "    Acc = np.array(Acc)\n",
    "    np.save(os.path.join(results_dir,'object_classifier_accuracy_production.npy'),Acc)\n",
    "    ALLDM.to_csv(os.path.join(results_dir,'object_classifier_probs_production.csv'),index=False)\n",
    "    \n",
    "else:\n",
    "    ## load in existing ALLDM & Acc \n",
    "    Acc = np.load(os.path.join(results_dir,'object_classifier_accuracy_production.npy'))\n",
    "    ALLDM = pd.read_csv(os.path.join(results_dir,'object_classifier_probs_production.csv'))\n",
    "    \n",
    "print 'Done!'"
   ]
  },
  {
   "cell_type": "markdown",
   "metadata": {},
   "source": [
    "#### basic summary plot of classifier accuracy between ROIs"
   ]
  },
  {
   "cell_type": "code",
   "execution_count": null,
   "metadata": {},
   "outputs": [],
   "source": []
  },
  {
   "cell_type": "code",
   "execution_count": 181,
   "metadata": {},
   "outputs": [],
   "source": [
    "def plot_draw_decoding():\n",
    "\n",
    "    ## plot test accuracy on drawing runs; trained on recognition runs\n",
    "    from matplotlib import rc\n",
    "    hfont = {'fontname':'Helvetica'}    \n",
    "    Acc = np.load(os.path.join(results_dir,'decoding_object_accuracy_production.npy'))\n",
    "\n",
    "    Acc = np.array(Acc)\n",
    "    x = pd.DataFrame(Acc.transpose())\n",
    "    x.columns = roi_list_recog    \n",
    "    sns.set_context('talk')\n",
    "    fig = plt.figure(figsize=(8,8))\n",
    "    fig = sns.barplot(data=x,palette='husl',ci=95,zorder=1)\n",
    "    x2 = x\n",
    "    plt.ylim(0,0.5)\n",
    "\n",
    "    ## melt into longform dataframe to be able to make stripplot for draw decoding accuracy \n",
    "    ## for each subject\n",
    "    x = x.assign(sub=sub_list)\n",
    "    xl = pd.melt(x, \n",
    "                id_vars=['sub'], \n",
    "                var_name='roi',\n",
    "                value_vars=roi_list_recog, \n",
    "                value_name='draw_acc')        \n",
    "    fig2 = sns.swarmplot(data=xl,x=\"roi\", \n",
    "                         y=\"draw_acc\", \n",
    "                         #color=(0.25,0.25,0.25),\n",
    "                         palette='husl',\n",
    "                         dodge=True,\n",
    "    #                      jitter=0.12,\n",
    "                         alpha=0.6,    \n",
    "                         size=6,\n",
    "                         edgecolor=(0.1,0.1,0.1),\n",
    "                         linewidth=1,\n",
    "                         zorder=2)    \n",
    "\n",
    "    fig3 = sns.barplot(data=x2,palette='husl',ci=95,alpha=0.1,zorder=3)\n",
    "    plt.xlabel('')\n",
    "\n",
    "    chance_dict = {'4way':0.25,'3way':0.33,'2way':0.5}\n",
    "    plt.axhline(chance_dict[version],linestyle=':',color='k')\n",
    "    plt.ylabel('object decoding accuracy',fontsize=20, **hfont)\n",
    "    plt.title('drawing', **hfont)\n",
    "    fig.set_xticklabels(utils.roi_list_recog_formatted,fontsize=16, **hfont)\n",
    "    out_path = os.path.join(proj_dir,'plots/{}/draw_decoding_accuracy.pdf'.format(nb_name))\n",
    "    plt.savefig(out_path,format='pdf')        \n",
    "        "
   ]
  },
  {
   "cell_type": "code",
   "execution_count": 182,
   "metadata": {},
   "outputs": [
    {
     "data": {
      "image/png": "[encoded data removed]",
      "text/plain": [
       "<Figure size 576x576 with 1 Axes>"
      ]
     },
     "metadata": {},
     "output_type": "display_data"
    }
   ],
   "source": [
    "plot_draw_decoding()"
   ]
  },
  {
   "cell_type": "code",
   "execution_count": null,
   "metadata": {},
   "outputs": [],
   "source": []
  },
  {
   "cell_type": "code",
   "execution_count": null,
   "metadata": {},
   "outputs": [],
   "source": []
  },
  {
   "cell_type": "markdown",
   "metadata": {},
   "source": [
    "#### How well do we do at classifying the target during the pre/post recognition runs, trained on initial recognition data?"
   ]
  },
  {
   "cell_type": "code",
   "execution_count": 281,
   "metadata": {},
   "outputs": [
    {
     "name": "stdout",
     "output_type": "stream",
     "text": [
      "Done!\n"
     ]
    }
   ],
   "source": [
    "reload(h)\n",
    "logged = True\n",
    "version = '4way'\n",
    "\n",
    "ALLPRE, Accpre = utils.make_prepostrecog_predictions(sub_list,roi_list_recog,test_phase='pre',logged=logged)\n",
    "ALLPOST, Accpost = utils.make_prepostrecog_predictions(sub_list,roi_list_recog,test_phase='post',logged=logged)\n",
    "\n",
    "## add raw probs to ALLPRE and ALLPOST dataframes\n",
    "append_raw_dict = dict(zip(['t1_prob','t2_prob','c1_prob','c2_prob'],['t1_prob_raw','t2_prob_raw','c1_prob_raw','c2_prob_raw']))\n",
    "for key, value in append_raw_dict.iteritems():\n",
    "    ALLPRE[value] = ALLPRE[key].apply(lambda x: np.exp(x))\n",
    "    ALLPOST[value] = ALLPOST[key].apply(lambda x: np.exp(x))\n",
    "    \n",
    "## save out dataframe\n",
    "ALLPRE.to_csv(os.path.join(results_dir,'logistic_timeseries_{}_neural_{}_{}.csv'.format('pre',version,'logged')),index=False) ## train recog, test drawing run    \n",
    "ALLPOST.to_csv(os.path.join(results_dir,'logistic_timeseries_{}_neural_{}_{}.csv'.format('post',version,'logged')),index=False) ## train recog, test drawing run    \n",
    "## save out Acc\n",
    "np.save(os.path.join(results_dir,'decoding_object_accuracy_recog_pre.npy'),Accpre)\n",
    "np.save(os.path.join(results_dir,'decoding_object_accuracy_recog_post.npy'),Accpost)\n",
    "Accdiff = np.array(Accpost) - np.array(Accpre)\n",
    "np.save(os.path.join(results_dir,'decoding_object_accuracy_recog_diff.npy'),Accdiff)\n",
    "print 'Done!'    "
   ]
  },
  {
   "cell_type": "code",
   "execution_count": null,
   "metadata": {},
   "outputs": [],
   "source": []
  },
  {
   "cell_type": "code",
   "execution_count": 192,
   "metadata": {},
   "outputs": [],
   "source": [
    "## helper function to plot test accuracy on pre recognition runs; trained on initial recognition runs\n",
    "\n",
    "def plot_recog_decoding(test_phase='pre'):\n",
    "    from matplotlib import rc\n",
    "    hfont = {'fontname':'Helvetica'}\n",
    "    Acc = np.load(os.path.join(results_dir,'decoding_object_accuracy_recog_{}.npy'.format(test_phase)))\n",
    "    Acc = np.array(Acc)\n",
    "    x = pd.DataFrame(Acc.transpose())\n",
    "    x.columns = roi_list_recog    \n",
    "    sns.set_context('talk')\n",
    "    fig = plt.figure(figsize=(8,8))\n",
    "    fig = sns.barplot(data=x,palette='husl',ci=95,zorder=1)\n",
    "    x2 = x\n",
    "    if test_phase=='diff':\n",
    "        plt.ylim(-0.25,0.25)\n",
    "    else:\n",
    "        plt.ylim(0,0.5)\n",
    "        \n",
    "    ## melt into longform dataframe to be able to make stripplot for draw decoding accuracy \n",
    "    ## for each subject\n",
    "    x = x.assign(sub=sub_list)\n",
    "    xl = pd.melt(x, \n",
    "                id_vars=['sub'], \n",
    "                var_name='roi',\n",
    "                value_vars=roi_list_recog, \n",
    "                value_name='draw_acc')        \n",
    "    fig2 = sns.swarmplot(data=xl,x=\"roi\", \n",
    "                         y=\"draw_acc\", \n",
    "                         #color=(0.25,0.25,0.25),\n",
    "                         palette='husl',\n",
    "                         dodge=True,\n",
    "    #                      jitter=0.12,\n",
    "                         alpha=0.6,    \n",
    "                         size=6,\n",
    "                         edgecolor=(0.1,0.1,0.1),\n",
    "                         linewidth=1,\n",
    "                         zorder=2)    \n",
    "\n",
    "    fig3 = sns.barplot(data=x2,palette='husl',ci=95,alpha=0.1,zorder=3)\n",
    "    plt.xlabel('')\n",
    "    plt.title(test_phase)\n",
    "\n",
    "    chance_dict = {'4way':0.25,'3way':0.33,'2way':0.5}\n",
    "    plt.axhline(chance_dict[version],linestyle=':',color='k')\n",
    "    plt.ylabel('object decoding accuracy',fontsize=20, **hfont)\n",
    "\n",
    "    fig.set_xticklabels(h.roi_list_recog_formatted,fontsize=16, **hfont)\n",
    "    out_path = os.path.join(proj_dir,'plots/{}/{}_decoding_accuracy.pdf'.format(nb_name,test_phase))\n",
    "    plt.savefig(out_path,format='pdf')\n",
    "    \n",
    "# plot_recog_decoding(test_phase='pre')\n",
    "# plot_recog_decoding(test_phase='post')    "
   ]
  },
  {
   "cell_type": "code",
   "execution_count": null,
   "metadata": {},
   "outputs": [],
   "source": []
  },
  {
   "cell_type": "code",
   "execution_count": 282,
   "metadata": {},
   "outputs": [
    {
     "data": {
      "image/png": "[encoded data removed]",
      "text/plain": [
       "<Figure size 864x432 with 1 Axes>"
      ]
     },
     "metadata": {},
     "output_type": "display_data"
    }
   ],
   "source": [
    "Acc = np.load(os.path.join(results_dir,'decoding_object_accuracy_production.npy'))\n",
    "Accpre = np.load(os.path.join(results_dir,'decoding_object_accuracy_recog_pre.npy'))\n",
    "Accpost = np.load(os.path.join(results_dir,'decoding_object_accuracy_recog_post.npy'))\n",
    "Accdiff = np.load(os.path.join(results_dir,'decoding_object_accuracy_recog_diff.npy'))\n",
    "\n",
    "## helper function to preprocess accuracy array\n",
    "def preprocess_acc_array(Acc,phase='draw', \n",
    "                         roi_list = ['V1', 'V2', 'LOC', 'FUS', 'PHC', 'IT', 'ENT', 'PRC', 'HC'],\n",
    "                         sub_list = ['0110171', '0110172', '0111171', '0112171', '0112172', '0112173',\n",
    "                                   '0113171', '0115174', '0117171', '0118171', '0118172', '0119171',\n",
    "                                   '0119172', '0119173', '0119174', '0120171', '0120172', '0120173',\n",
    "                                   '0123171', '0123173', '0124171', '0125171', '0125172', '1121161',\n",
    "                                   '1130161', '1202161', '1203161', '1206161', '1206162', '1206163',\n",
    "                                   '1207162']):\n",
    "    A = pd.DataFrame(Acc.T)\n",
    "    A.columns = roi_list\n",
    "    A['sub'] = sub_list\n",
    "    A['phase'] = phase\n",
    "    A1 = pd.melt(A, \n",
    "                id_vars=['sub','phase'], \n",
    "                var_name='roi',\n",
    "                value_vars=h.roi_list_recog_formatted, \n",
    "                value_name='acc') \n",
    "    return A1\n",
    "\n",
    "## aggregate pre, draw, post decoding accuracy\n",
    "AD = preprocess_acc_array(Acc,phase='draw')\n",
    "AE = preprocess_acc_array(Accpre,phase='pre')\n",
    "AO = preprocess_acc_array(Accpost,phase='post')\n",
    "A = pd.concat([AE,AO,AD],axis=0)\n",
    "\n",
    "## save out change in decoding accuracy from pre to post to dataframe\n",
    "AF = preprocess_acc_array(Accpost,phase='diff')\n",
    "A2 = pd.concat([AE,AO,AD,AF],axis=0)\n",
    "AF.to_csv(os.path.join(proj_dir,'csv/recog_decoding_changes_by_surfroi_and_subject_longform.csv'))\n",
    "A2.to_csv(os.path.join(proj_dir,'csv/object_decoding_by_surfroi_and_subject_longform.csv'))\n",
    "\n",
    "## generate plot\n",
    "g = sns.catplot(data=A,\n",
    "            x='roi',\n",
    "            y='acc',\n",
    "            hue='phase',\n",
    "            kind='bar',\n",
    "            palette='husl',\n",
    "            legend=False,\n",
    "            aspect=2,\n",
    "            height=6)\n",
    "plt.legend()\n",
    "plt.ylabel('object decoding accuracy')\n",
    "plt.axhline(0.25,linestyle=':',color='k')\n",
    "out_path = os.path.join(proj_dir,'plots/{}/decoding_accuracy_bars_all.pdf'.format(nb_name))\n",
    "plt.savefig(out_path,format='pdf')"
   ]
  },
  {
   "cell_type": "code",
   "execution_count": 284,
   "metadata": {},
   "outputs": [
    {
     "name": "stdout",
     "output_type": "stream",
     "text": [
      "ROI:  V1| 95% CI: [0.0004,0.03306] | p = 0.0437\n",
      "ROI:  V2| 95% CI: [-0.00605,0.03367] | p = 0.1633\n",
      "ROI:  LOC| 95% CI: [0.00363,0.03125] | p = 0.0153\n",
      "ROI:  FUS| 95% CI: [-0.01976,0.01552] | p = 1.0979\n",
      "ROI:  PHC| 95% CI: [-0.01815,0.01573] | p = 1.127\n",
      "ROI:  IT| 95% CI: [-0.00665,0.02863] | p = 0.231\n",
      "ROI:  ENT| 95% CI: [-0.00161,0.03387] | p = 0.0766\n",
      "ROI:  PRC| 95% CI: [-0.01956,0.01472] | p = 1.1888\n",
      "ROI:  HC| 95% CI: [-0.00645,0.02601] | p = 0.2707\n"
     ]
    }
   ],
   "source": [
    "## print 95% CIs for change in decoding accuracy for each ROI\n",
    "reload(h)\n",
    "roi_list_formatted = ['V1', 'V2', 'LOC', 'FUS', 'PHC', 'IT', 'ENT', 'PRC', 'HC']\n",
    "for i,roi in enumerate(roi_list_formatted):\n",
    "    U,lb,ub,p1,p2 = h.bootstrapCI(Accdiff[i,:],nIter=20000)\n",
    "    print 'ROI:  {}| 95% CI: [{},{}] | p = {}'.format(roi, np.round(lb,5), np.round(ub,5), p1)"
   ]
  },
  {
   "cell_type": "code",
   "execution_count": null,
   "metadata": {},
   "outputs": [],
   "source": []
  },
  {
   "cell_type": "code",
   "execution_count": 462,
   "metadata": {},
   "outputs": [],
   "source": []
  },
  {
   "cell_type": "code",
   "execution_count": 618,
   "metadata": {},
   "outputs": [],
   "source": [
    "def add_target_prob_column(df):\n",
    "    '''\n",
    "    df is dataframe, e.g., ALLPRE or ALLPOST that contains classifier probabilities for recognition runs\n",
    "    in either the pre or post phases, respectively.\n",
    "\n",
    "    '''\n",
    "    \n",
    "    df['target_prob_raw'] = np.nan\n",
    "    df['foil_prob_raw'] = np.nan\n",
    "    df['trained'] = np.bool\n",
    "\n",
    "    for ind,d in df.iterrows():\n",
    "        print 'Analyzing {} of {}'.format(ind,df.shape[0])\n",
    "        clear_output(wait=True)\n",
    "        ordered_entries = ['t1_name','t2_name','c1_name','c2_name']\n",
    "        ordered_labels = d[['t1_name','t2_name','c1_name','c2_name']].values.tolist()\n",
    "        obj2cond = dict(zip(ordered_labels,ordered_entries))\n",
    "        this_obj = d['label']\n",
    "        this_raw_column = '{}_prob_raw'.format(obj2cond[this_obj].split('_')[0])\n",
    "\n",
    "        ## assign target probability (raw space) to dedicated column\n",
    "        df.at[ind,'target_prob_raw'] = d[this_raw_column]\n",
    "\n",
    "        ## assign condition of stimulus\n",
    "        cond = True if obj2cond[this_obj][0]=='t' else False\n",
    "        df.at[ind,'trained'] = cond  \n",
    "                \n",
    "        ## if trained object, also extract the foil probability\n",
    "        foil_mapper = dict(zip(['t1','t2','c1','c2'],['t2','t1','c2','c1']))        \n",
    "        foil_id = foil_mapper[obj2cond[this_obj].split('_')[0]]\n",
    "        df.at[ind,'foil_prob_raw'] = d['{}_prob_raw'.format(foil_id)]        \n",
    "            \n",
    "    return df"
   ]
  },
  {
   "cell_type": "code",
   "execution_count": 619,
   "metadata": {},
   "outputs": [
    {
     "name": "stdout",
     "output_type": "stream",
     "text": [
      "Done!\n"
     ]
    }
   ],
   "source": [
    "ALLPRE = add_target_prob_column(ALLPRE)\n",
    "ALLPOST = add_target_prob_column(ALLPOST)\n",
    "print 'Done!'"
   ]
  },
  {
   "cell_type": "code",
   "execution_count": 620,
   "metadata": {},
   "outputs": [],
   "source": [
    "## post processing on the mega dataframes for pretty plotting\n",
    "ALLPRE['phase'] = 'pre'\n",
    "ALLPOST['phase'] = 'post'\n",
    "ALLPREPOST = pd.concat([ALLPRE,ALLPOST],axis=0)\n",
    "\n",
    "## add formatted ROI list\n",
    "roi_list_formatted = ['V1', 'V2', 'LOC', 'FUS', 'PHC', 'IT', 'ENT', 'PRC', 'HC']\n",
    "roi_formatter = dict(zip(roi_list,roi_list_formatted))\n",
    "ALLPREPOST['roi_formatted'] = ALLPREPOST['roi'].apply(lambda x: roi_formatter[x])\n",
    "\n",
    "## add max prob column to dataframe\n",
    "ALLPREPOST['max_prob_raw'] = ALLPREPOST[['t1_prob_raw','t2_prob_raw','c1_prob_raw','c2_prob_raw']].max(axis=1)\n",
    "\n",
    "## add correct column, assuming classifier deterministically takes top probability object\n",
    "ALLPREPOST['correct'] = ALLPREPOST['max_prob_raw']==ALLPREPOST['target_prob_raw']"
   ]
  },
  {
   "cell_type": "code",
   "execution_count": 621,
   "metadata": {},
   "outputs": [],
   "source": [
    "## define accuracy dataframe for each roi, subject, phase, roi\n",
    "ALLPREPOSTACC = ALLPREPOST.groupby(['roi_formatted','subj','phase','trained'])['correct'].mean().reset_index()\n",
    "ALLPREPOSTACC.to_csv(os.path.join(results_dir,'prepost_recog_accuracy.csv'),index=False)\n",
    "\n",
    "## define mean target probability dataframe for each roi, subject, phase, roi\n",
    "ALLPROBS = ALLPREPOST.groupby(['roi_formatted','subj','phase','trained'])['target_prob_raw'].mean().reset_index()\n",
    "ALLPROBS.to_csv(os.path.join(results_dir,'prepost_recog_probs.csv'),index=False)"
   ]
  },
  {
   "cell_type": "code",
   "execution_count": null,
   "metadata": {},
   "outputs": [],
   "source": []
  },
  {
   "cell_type": "code",
   "execution_count": 622,
   "metadata": {},
   "outputs": [
    {
     "data": {
      "text/plain": [
       "<matplotlib.legend.Legend at 0x7fd3c8acbd50>"
      ]
     },
     "execution_count": 622,
     "metadata": {},
     "output_type": "execute_result"
    },
    {
     "data": {
      "image/png": "[encoded data removed]",
      "text/plain": [
       "<Figure size 1080x360 with 2 Axes>"
      ]
     },
     "metadata": {},
     "output_type": "display_data"
    }
   ],
   "source": [
    "g = sns.catplot(data=ALLPREPOST, \n",
    "            x = 'roi_formatted',\n",
    "            y = 'target_prob_raw',\n",
    "            hue = 'phase',\n",
    "            col = 'trained',\n",
    "            col_order = [True,False],\n",
    "            kind = 'bar',\n",
    "            legend=False,\n",
    "            aspect = 1.5)\n",
    "\n",
    "def refline(*args, **kwargs):\n",
    "    plt.axhline(0.25,linestyle=':',color='k')    \n",
    "\n",
    "g = g.map(refline)    \n",
    "g = (g.set_axis_labels(\"\", 'classifier probability'))\n",
    "plt.legend()\n",
    "    "
   ]
  },
  {
   "cell_type": "code",
   "execution_count": 623,
   "metadata": {},
   "outputs": [
    {
     "data": {
      "text/plain": [
       "<matplotlib.legend.Legend at 0x7fd3c8756a50>"
      ]
     },
     "execution_count": 623,
     "metadata": {},
     "output_type": "execute_result"
    },
    {
     "data": {
      "image/png": "[encoded data removed]",
      "text/plain": [
       "<Figure size 1080x360 with 2 Axes>"
      ]
     },
     "metadata": {},
     "output_type": "display_data"
    }
   ],
   "source": [
    "g = sns.catplot(data=ALLPREPOSTACC, \n",
    "            x = 'roi_formatted',\n",
    "            y = 'correct',\n",
    "            hue = 'phase',\n",
    "            col = 'trained',\n",
    "            col_order = [True,False],\n",
    "            order = roi_list_formatted,\n",
    "            hue_order = ['pre','post'],\n",
    "            kind = 'bar',\n",
    "            legend=False,\n",
    "            aspect = 1.5)\n",
    "\n",
    "def refline(*args, **kwargs):\n",
    "    plt.axhline(0.25,linestyle=':',color='k')    \n",
    "\n",
    "g = g.map(refline)    \n",
    "g = (g.set_axis_labels(\"\", 'classifier probability'))\n",
    "plt.legend()"
   ]
  },
  {
   "cell_type": "code",
   "execution_count": null,
   "metadata": {},
   "outputs": [],
   "source": []
  },
  {
   "cell_type": "code",
   "execution_count": null,
   "metadata": {},
   "outputs": [],
   "source": []
  },
  {
   "cell_type": "markdown",
   "metadata": {},
   "source": [
    "### make summary timecourse plots"
   ]
  },
  {
   "cell_type": "code",
   "execution_count": 111,
   "metadata": {},
   "outputs": [
    {
     "name": "stdout",
     "output_type": "stream",
     "text": [
      "Now plotting results for V1 ...\n",
      "Now plotting results for V2 ...\n",
      "Now plotting results for LOC ...\n",
      "Now plotting results for IT ...\n",
      "Now plotting results for fusiform ...\n",
      "Now plotting results for parahippo ...\n",
      "Now plotting results for PRC ...\n",
      "Now plotting results for ento ...\n",
      "Now plotting results for hipp ...\n"
     ]
    }
   ],
   "source": [
    "reload(h)\n",
    "# versions = ['2way','3way','4way', '4wayIndependent']\n",
    "versions = ['4way']\n",
    "tags = ['logged']\n",
    "# tags = ['logged', 'raw']\n",
    "iv_list = ['time_point','trial_num','run_num']\n",
    "csvname = 'logistic_timeseries_drawing_neural_{}_{}.csv'\n",
    "\n",
    "reallyRun = 1\n",
    "if reallyRun:\n",
    "    for version in versions:\n",
    "        for tag in tags:\n",
    "            ALLDM = pd.read_csv(\n",
    "                os.path.join(results_dir, csvname.format(version,tag)))\n",
    "            try:\n",
    "                h.plot_summary_timecourse(ALLDM,\n",
    "                                        this_iv='trial_num',\n",
    "                                        roi_list=roi_list_recog,\n",
    "                                        render_cond=1,\n",
    "                                        version = version,\n",
    "                                        proj_dir=proj_dir)\n",
    "            except KeyError:\n",
    "                pass"
   ]
  },
  {
   "cell_type": "code",
   "execution_count": null,
   "metadata": {},
   "outputs": [],
   "source": []
  },
  {
   "cell_type": "markdown",
   "metadata": {},
   "source": [
    "#### get subject-level index of contrast between objects during drawing\n"
   ]
  },
  {
   "cell_type": "code",
   "execution_count": 633,
   "metadata": {},
   "outputs": [
    {
     "name": "stdout",
     "output_type": "stream",
     "text": [
      "roi\n",
      "IT           1.006932\n",
      "LOC          1.437331\n",
      "PRC          0.999914\n",
      "V1           2.533212\n",
      "V2           3.097409\n",
      "ento         1.020229\n",
      "fusiform     1.198618\n",
      "hipp         1.026324\n",
      "parahippo    0.986917\n",
      "Name: target-foil, dtype: float64\n"
     ]
    }
   ],
   "source": [
    "reload(utils)\n",
    "lookup = dict(zip(['trial_num','run_num','time_point'],['repetition','run','TR']))\n",
    "version = '4way'\n",
    "tag = 'logged'\n",
    "this_iv = 'trial_num' ## other options 'run_num','trial_num','time_point'\n",
    "\n",
    "ALLDM = pd.read_csv(os.path.join(results_dir,'object_classifier_probs_production.csv'))\n",
    "d = utils.get_log_odds(ALLDM,\n",
    "               this_iv = this_iv,\n",
    "               roi_list = roi_list_recog,\n",
    "               phase = 'production',\n",
    "               version=version,\n",
    "               logged=True,\n",
    "               proj_dir=proj_dir)\n"
   ]
  },
  {
   "cell_type": "code",
   "execution_count": 634,
   "metadata": {},
   "outputs": [
    {
     "data": {
      "text/html": [
       "<div>\n",
       "<style scoped>\n",
       "    .dataframe tbody tr th:only-of-type {\n",
       "        vertical-align: middle;\n",
       "    }\n",
       "\n",
       "    .dataframe tbody tr th {\n",
       "        vertical-align: top;\n",
       "    }\n",
       "\n",
       "    .dataframe thead th {\n",
       "        text-align: right;\n",
       "    }\n",
       "</style>\n",
       "<table border=\"1\" class=\"dataframe\">\n",
       "  <thead>\n",
       "    <tr style=\"text-align: right;\">\n",
       "      <th></th>\n",
       "      <th>target-foil</th>\n",
       "      <th>target-control</th>\n",
       "      <th>foil-control</th>\n",
       "      <th>roi</th>\n",
       "      <th>sub</th>\n",
       "    </tr>\n",
       "  </thead>\n",
       "  <tbody>\n",
       "    <tr>\n",
       "      <th>0</th>\n",
       "      <td>0.166797</td>\n",
       "      <td>0.168756</td>\n",
       "      <td>0.001959</td>\n",
       "      <td>V1</td>\n",
       "      <td>0110171</td>\n",
       "    </tr>\n",
       "    <tr>\n",
       "      <th>1</th>\n",
       "      <td>-0.376876</td>\n",
       "      <td>-0.358052</td>\n",
       "      <td>0.018825</td>\n",
       "      <td>V1</td>\n",
       "      <td>0110172</td>\n",
       "    </tr>\n",
       "    <tr>\n",
       "      <th>2</th>\n",
       "      <td>0.002253</td>\n",
       "      <td>0.113622</td>\n",
       "      <td>0.111369</td>\n",
       "      <td>V1</td>\n",
       "      <td>0111171</td>\n",
       "    </tr>\n",
       "    <tr>\n",
       "      <th>3</th>\n",
       "      <td>0.517825</td>\n",
       "      <td>0.279221</td>\n",
       "      <td>-0.238603</td>\n",
       "      <td>V1</td>\n",
       "      <td>0112171</td>\n",
       "    </tr>\n",
       "    <tr>\n",
       "      <th>4</th>\n",
       "      <td>0.118490</td>\n",
       "      <td>-0.004151</td>\n",
       "      <td>-0.122641</td>\n",
       "      <td>V1</td>\n",
       "      <td>0112172</td>\n",
       "    </tr>\n",
       "  </tbody>\n",
       "</table>\n",
       "</div>"
      ],
      "text/plain": [
       "   target-foil  target-control  foil-control roi      sub\n",
       "0     0.166797        0.168756      0.001959  V1  0110171\n",
       "1    -0.376876       -0.358052      0.018825  V1  0110172\n",
       "2     0.002253        0.113622      0.111369  V1  0111171\n",
       "3     0.517825        0.279221     -0.238603  V1  0112171\n",
       "4     0.118490       -0.004151     -0.122641  V1  0112172"
      ]
     },
     "execution_count": 634,
     "metadata": {},
     "output_type": "execute_result"
    }
   ],
   "source": [
    "d.head()"
   ]
  },
  {
   "cell_type": "code",
   "execution_count": 15,
   "metadata": {},
   "outputs": [
    {
     "data": {
      "image/png": "[encoded data removed]",
      "text/plain": [
       "<Figure size 432x288 with 1 Axes>"
      ]
     },
     "metadata": {},
     "output_type": "display_data"
    }
   ],
   "source": [
    "run_this = 1\n",
    "if run_this:\n",
    "    ## comparing 4-way and 2-way probability ratios\n",
    "    d4way = pd.read_csv(os.path.join(proj_dir,'csv', 'difference_logprobs_4way.csv'))\n",
    "    d2way = pd.read_csv(os.path.join(proj_dir,'csv', 'difference_logprobs_2way.csv'))\n",
    "    inds = d4way['roi']=='V1'\n",
    "    plt.scatter(d4way[inds]['target-foil'],d2way[inds]['target-foil'])"
   ]
  },
  {
   "cell_type": "code",
   "execution_count": 16,
   "metadata": {},
   "outputs": [
    {
     "name": "stdout",
     "output_type": "stream",
     "text": [
      "------- condition: target-foil -------\n",
      "ROI = V1 | mean = 0.69538  95% CI: [0.472 0.92676] p(x<0)=0.0 p(x>0)=2.0\n",
      "ROI = V2 | mean = 0.79073  95% CI: [0.544 1.05589] p(x<0)=0.0 p(x>0)=2.0\n",
      "ROI = LOC | mean = 0.32103  95% CI: [0.227 0.42033] p(x<0)=0.0 p(x>0)=2.0\n",
      "ROI = IT | mean = -0.01537  95% CI: [-0.088 0.05629] p(x<0)=1.31067 p(x>0)=0.68933\n",
      "ROI = fusiform | mean = 0.15829  95% CI: [0.081 0.23466] p(x<0)=0.0 p(x>0)=2.0\n",
      "ROI = parahippo | mean = -0.02608  95% CI: [-0.081 0.0295] p(x<0)=1.63267 p(x>0)=0.36733\n",
      "ROI = PRC | mean = -0.01341  95% CI: [-0.07 0.04382] p(x<0)=1.37467 p(x>0)=0.62533\n",
      "ROI = ento | mean = 0.00705  95% CI: [-0.052 0.06451] p(x<0)=0.80867 p(x>0)=1.19133\n",
      "ROI = hipp | mean = 0.01326  95% CI: [-0.042 0.07028] p(x<0)=0.64067 p(x>0)=1.35933\n",
      "------- condition: target-control -------\n",
      "ROI = V1 | mean = 0.247  95% CI: [0.113 0.38657] p(x<0)=0.0 p(x>0)=2.0\n",
      "ROI = V2 | mean = 0.2912  95% CI: [0.148 0.43988] p(x<0)=0.0 p(x>0)=2.0\n",
      "ROI = LOC | mean = 0.15865  95% CI: [0.066 0.26207] p(x<0)=0.00067 p(x>0)=1.99933\n",
      "ROI = IT | mean = -0.08056  95% CI: [-0.168 0.00332] p(x<0)=1.934 p(x>0)=0.066\n",
      "ROI = fusiform | mean = 0.09639  95% CI: [-0.034 0.22453] p(x<0)=0.14933 p(x>0)=1.85067\n",
      "ROI = parahippo | mean = -0.0075  95% CI: [-0.069 0.05477] p(x<0)=1.18467 p(x>0)=0.81533\n",
      "ROI = PRC | mean = -0.0212  95% CI: [-0.067 0.02505] p(x<0)=1.62267 p(x>0)=0.37733\n",
      "ROI = ento | mean = -0.05273  95% CI: [-0.119 0.01383] p(x<0)=1.882 p(x>0)=0.118\n",
      "ROI = hipp | mean = 0.00084  95% CI: [-0.055 0.05575] p(x<0)=0.96267 p(x>0)=1.03733\n",
      "------- condition: foil-control -------\n",
      "ROI = V1 | mean = -0.44838  95% CI: [-0.607 -0.29175] p(x<0)=2.0 p(x>0)=0.0\n",
      "ROI = V2 | mean = -0.49953  95% CI: [-0.714 -0.28014] p(x<0)=2.0 p(x>0)=0.0\n",
      "ROI = LOC | mean = -0.16239  95% CI: [-0.255 -0.06672] p(x<0)=1.998 p(x>0)=0.002\n",
      "ROI = IT | mean = -0.0652  95% CI: [-0.16 0.0247] p(x<0)=1.84 p(x>0)=0.16\n",
      "ROI = fusiform | mean = -0.0619  95% CI: [-0.18 0.0586] p(x<0)=1.676 p(x>0)=0.324\n",
      "ROI = parahippo | mean = 0.01858  95% CI: [-0.03 0.06755] p(x<0)=0.46333 p(x>0)=1.53667\n",
      "ROI = PRC | mean = -0.00778  95% CI: [-0.056 0.03859] p(x<0)=1.244 p(x>0)=0.756\n",
      "ROI = ento | mean = -0.05978  95% CI: [-0.126 0.00483] p(x<0)=1.92667 p(x>0)=0.07333\n",
      "ROI = hipp | mean = -0.01242  95% CI: [-0.074 0.04555] p(x<0)=1.32267 p(x>0)=0.67733\n"
     ]
    }
   ],
   "source": [
    "conditions = ['target-foil','target-control','foil-control']\n",
    "for condition in conditions:\n",
    "    print('------- condition: {} -------'.format(condition))\n",
    "    for this_roi in roi_list_recog:\n",
    "        data = d[d['roi']==this_roi][condition].values\n",
    "        U,lb,ub,p1,p2 = h.bootstrapCI(data,3000)\n",
    "        print('ROI = {} | mean = {}  95% CI: [{} {}] p(x<0)={} p(x>0)={}'.format(\n",
    "            this_roi,np.round(U,5),np.round(lb,3),np.round(ub,5),np.round(p1,5),np.round(p2,5)))"
   ]
  },
  {
   "cell_type": "markdown",
   "metadata": {},
   "source": [
    "### How do individual differences in object evidence relate to individual differences in pre-post differentiation across ROIs?"
   ]
  },
  {
   "cell_type": "code",
   "execution_count": 17,
   "metadata": {},
   "outputs": [],
   "source": [
    "version = '4way'\n",
    "tag = 'log'\n",
    "d = pd.read_csv(os.path.join(proj_dir,'csv/difference_{}probs_{}.csv'.format(tag,version)))\n",
    "prepost = pd.read_csv(os.path.join(proj_dir,'csv/neural_changes_by_surfroi_and_subject_longform.csv'))"
   ]
  },
  {
   "cell_type": "code",
   "execution_count": 18,
   "metadata": {},
   "outputs": [
    {
     "name": "stdout",
     "output_type": "stream",
     "text": [
      "ROI: V1 r=0.37475  p=0.03779 *\n",
      "ROI: V2 r=0.46673  p=0.00812 *\n",
      "ROI: LOC r=-0.01186  p=0.94952 \n",
      "ROI: IT r=-0.10254  p=0.58306 \n",
      "ROI: fusiform r=-0.39501  p=0.02786 *\n",
      "ROI: parahippo r=0.12824  p=0.49176 \n",
      "ROI: PRC r=-0.32177  p=0.07753 \n",
      "ROI: ento r=0.08294  p=0.65735 \n",
      "ROI: hipp r=0.0656  p=0.72586 \n"
     ]
    }
   ],
   "source": [
    "## make dataframe to relate drawing contrast to recognition differentiation\n",
    "roi_list = ['V1', 'V2', 'LOC', 'IT', 'fusiform', 'parahippo', 'PRC', 'ento','hipp']\n",
    "roi_dict = dict(zip(roi_list,prepost.roi.unique()))\n",
    "\n",
    "for this_roi in roi_list:\n",
    "    draw = d[d['roi']==this_roi]['target-foil'].values\n",
    "    recog = (prepost[(prepost['condition']=='difference') & (prepost['roi']==roi_dict[this_roi])]['prepost_diff']).values\n",
    "\n",
    "    \n",
    "    z = pd.DataFrame([draw,recog])\n",
    "    z = z.transpose()\n",
    "    z.columns=['draw','recog']\n",
    "\n",
    "    ## plot \n",
    "    fig = plt.figure(figsize=(6,6))\n",
    "    sns.set_context('poster')\n",
    "    sns.regplot(x=\"draw\",\n",
    "                y =\"recog\",\n",
    "                data=z)\n",
    "    r,p = stats.pearsonr(draw,recog)\n",
    "    plt.title('ROI: {}  r={}  p={}'.format(this_roi,np.round(r,5),np.round(p,5)))\n",
    "    if np.round(p,5)<0.05:\n",
    "        accent = '*'\n",
    "    else:\n",
    "        accent = ''\n",
    "    print('ROI: {} r={}  p={} {}'.format(this_roi,np.round(r,5),np.round(p,5),accent))\n",
    "    plt.xlabel('drawing: target vs. foil contrast') \n",
    "    plt.ylabel('recog: post-pre differentiation')\n",
    "    if not os.path.exists(os.path.join(proj_dir,'plots/{}/drawrecog'.format(nb_name))):\n",
    "        os.makedirs(os.path.join(proj_dir,'plots/{}/drawrecog'.format(nb_name)))\n",
    "    plt.tight_layout()\n",
    "    plt.savefig(os.path.join(proj_dir,'plots/{}/drawrecog/draw_recog_scatter_{}.png'.format(nb_name,this_roi)))\n",
    "    plt.close(fig)"
   ]
  },
  {
   "cell_type": "markdown",
   "metadata": {},
   "source": [
    "### How are individual differences in object evidence related between ROIs? "
   ]
  },
  {
   "cell_type": "code",
   "execution_count": 19,
   "metadata": {},
   "outputs": [],
   "source": [
    "### jgunn will add correlation matrices here"
   ]
  },
  {
   "cell_type": "code",
   "execution_count": null,
   "metadata": {},
   "outputs": [],
   "source": []
  }
 ],
 "metadata": {
  "kernelspec": {
   "display_name": "Python 2",
   "language": "python",
   "name": "python2"
  },
  "language_info": {
   "codemirror_mode": {
    "name": "ipython",
    "version": 2
   },
   "file_extension": ".py",
   "mimetype": "text/x-python",
   "name": "python",
   "nbconvert_exporter": "python",
   "pygments_lexer": "ipython2",
   "version": "2.7.12"
  }
 },
 "nbformat": 4,
 "nbformat_minor": 2
}
