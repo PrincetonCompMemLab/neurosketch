{
 "cells": [
  {
   "cell_type": "markdown",
   "metadata": {},
   "source": [
    "## Setup"
   ]
  },
  {
   "cell_type": "code",
   "execution_count": 1,
   "metadata": {},
   "outputs": [],
   "source": [
    "import warnings\n",
    "warnings.filterwarnings(\"ignore\")\n",
    "\n",
    "from __future__ import division\n",
    "\n",
    "import numpy as np\n",
    "import os\n",
    "from glob import glob\n",
    "\n",
    "from PIL import Image\n",
    "from copy import deepcopy\n",
    "\n",
    "from sklearn import linear_model, datasets, neighbors\n",
    "from sklearn.model_selection import train_test_split, cross_val_score\n",
    "from sklearn import svm\n",
    "\n",
    "%matplotlib inline\n",
    "from scipy.misc import imread, imresize\n",
    "import matplotlib.pyplot as plt\n",
    "import matplotlib.image as mpimg\n",
    "import seaborn as sns\n",
    "sns.set_context('poster')\n",
    "colors = sns.color_palette(\"cubehelix\", 5)\n",
    "\n",
    "import pandas as pd\n",
    "\n",
    "import scipy.stats as stats\n",
    "from scipy.stats import norm\n",
    "import sklearn\n",
    "\n",
    "# from importlib import reload"
   ]
  },
  {
   "cell_type": "markdown",
   "metadata": {},
   "source": [
    "### define paths to data"
   ]
  },
  {
   "cell_type": "code",
   "execution_count": 2,
   "metadata": {},
   "outputs": [
    {
     "data": {
      "text/plain": [
       "'/home/jefan/neurosketch'"
      ]
     },
     "execution_count": 2,
     "metadata": {},
     "output_type": "execute_result"
    }
   ],
   "source": [
    "curr_dir = os.getcwd()\n",
    "os.path.abspath(os.path.join(curr_dir,'..','..'))"
   ]
  },
  {
   "cell_type": "code",
   "execution_count": 29,
   "metadata": {},
   "outputs": [],
   "source": [
    "## root paths\n",
    "curr_dir = os.getcwd()\n",
    "proj_dir = os.path.abspath(os.path.join(curr_dir,'..','..')) ## use relative paths\n",
    "data_dir = os.path.abspath(os.path.join(curr_dir,'..','..','data')) ## use relative paths 'D:\\\\data'\n",
    "results_dir = os.path.join(proj_dir, 'csv')\n",
    "nb_name = '2_object_evidence_during_drawing'\n",
    "\n",
    "## add helpers to python path\n",
    "import sys\n",
    "if os.path.join(proj_dir, 'python') not in sys.path:\n",
    "    sys.path.append(os.path.join(proj_dir, 'python'))\n",
    "\n",
    "## module definitions\n",
    "import analysis_helpers as h\n",
    "reload(h)\n",
    "h.data_dir = data_dir\n",
    "h.path_to_recog = os.path.join(data_dir, 'features/recog')\n",
    "h.path_to_draw = os.path.join(data_dir, 'features/drawing')\n",
    "h.roi_list_draw = np.array(['V1Draw', 'V2Draw', 'LOCDraw', 'InsulaDraw', 'postCentralDraw',\n",
    "                            'preCentralDraw', 'ParietalDraw', 'FrontalDraw', 'smgDraw'])\n",
    "h.roi_list_recog = np.array(['V1', 'V2', 'LOC', 'FUS','PHC','IT','ENT','PRC','HC'])  #,'mOFC'])\n",
    "roi_list_recog = h.roi_list_recog"
   ]
  },
  {
   "cell_type": "markdown",
   "metadata": {},
   "source": [
    "### get file list"
   ]
  },
  {
   "cell_type": "code",
   "execution_count": 30,
   "metadata": {},
   "outputs": [],
   "source": [
    "## get raw file list for recognition runs\n",
    "path_to_recog = h.path_to_recog\n",
    "\n",
    "RECOG_METAS = sorted([i for i in os.listdir(path_to_recog) if (i.split('.')[-1]=='csv') & (i.split('_')[2][-4:] != 'Draw')])\n",
    "RECOG_FEATS = sorted([i for i in os.listdir(path_to_recog) if (i.split('.')[-1]=='npy') & (i.split('_')[1][-4:] != 'Draw')])\n",
    "RECOG_SUBS = np.array([i.split('_')[0] for i in RECOG_FEATS])\n",
    "\n",
    "recog_sub_list = np.unique(RECOG_SUBS)\n",
    "\n",
    "def preprocess_recog(RECOG_METAS, RECOG_FEATS):\n",
    "    M = [i for i in RECOG_METAS if len(i.split('.')[0].split('_'))==4]\n",
    "    F = [i for i in RECOG_FEATS if len(i.split('.')[0].split('_'))==4]\n",
    "    return M,F\n",
    "\n",
    "RECOG_METAS, RECOG_FEATS = preprocess_recog(RECOG_METAS, RECOG_FEATS)"
   ]
  },
  {
   "cell_type": "code",
   "execution_count": 31,
   "metadata": {},
   "outputs": [],
   "source": [
    "## get raw file list for drawing runs\n",
    "path_to_draw = h.path_to_draw\n",
    "\n",
    "DRAW_METAS = sorted([i for i in os.listdir(path_to_draw) if (i.split('.')[-1]=='csv') & (i.split('_')[2][-4:] == 'Draw')])\n",
    "DRAW_FEATS = sorted([i for i in os.listdir(path_to_draw) if (i.split('.')[-1]=='npy') & (i.split('_')[1][-4:] == 'Draw')])\n",
    "DRAW_SUBS = np.array([i.split('_')[0] for i in DRAW_FEATS])\n",
    "draw_sub_list = np.unique(DRAW_SUBS)"
   ]
  },
  {
   "cell_type": "code",
   "execution_count": 32,
   "metadata": {},
   "outputs": [],
   "source": [
    "## get subject ID's that have complete datasets from all phases of experiment\n",
    "sub_list = np.intersect1d(recog_sub_list,draw_sub_list)\n",
    "#print('Number of subs: {}'.format(len(sub_list)))"
   ]
  },
  {
   "cell_type": "code",
   "execution_count": 33,
   "metadata": {},
   "outputs": [],
   "source": [
    "## filter file list so only contains the sessions that have full datasets\n",
    "def extract_good_sessions(DRAW_METAS,DRAW_FEATS,RECOG_METAS,RECOG_FEATS):\n",
    "    _DRAW_METAS = [i for i in DRAW_METAS if i.split('_')[1] in sub_list]\n",
    "    _DRAW_FEATS = [i for i in DRAW_FEATS if i.split('_')[0] in sub_list]\n",
    "    _RECOG_METAS = [i for i in RECOG_METAS if i.split('_')[1] in sub_list]\n",
    "    _RECOG_FEATS = [i for i in RECOG_FEATS if i.split('_')[0] in sub_list]\n",
    "    return _DRAW_METAS, _DRAW_FEATS, _RECOG_METAS, _RECOG_FEATS\n",
    "\n",
    "DRAW_METAS,DRAW_FEATS,RECOG_METAS,RECOG_FEATS =  \\\n",
    "extract_good_sessions(DRAW_METAS,DRAW_FEATS,RECOG_METAS,RECOG_FEATS)\n",
    "\n",
    "RECOG_SUBS = np.array([i.split('_')[0]+'_neurosketch' for i in RECOG_FEATS])\n",
    "RECOG_ROIS = np.array([i.split('_')[1] for i in RECOG_FEATS])\n",
    "\n",
    "DRAW_SUBS = np.array([i.split('_')[0]+'_neurosketch' for i in DRAW_FEATS])\n",
    "DRAW_ROIS = np.array([i.split('_')[1] for i in DRAW_FEATS])"
   ]
  },
  {
   "cell_type": "code",
   "execution_count": 34,
   "metadata": {},
   "outputs": [
    {
     "name": "stdout",
     "output_type": "stream",
     "text": [
      "We have data from 31 subjects.\n"
     ]
    }
   ],
   "source": [
    "print 'We have data from {} subjects.'.format(len(sub_list))"
   ]
  },
  {
   "cell_type": "markdown",
   "metadata": {},
   "source": [
    "### How well do we do at classifying the target when we train on recognition patterns only?"
   ]
  },
  {
   "cell_type": "markdown",
   "metadata": {},
   "source": [
    "#### generate ALLDM supersubject matrix with classifier probabilities"
   ]
  },
  {
   "cell_type": "code",
   "execution_count": 35,
   "metadata": {},
   "outputs": [],
   "source": [
    "from IPython.display import clear_output\n",
    "reload(h)\n",
    "logged = [True,False]\n",
    "versions = ['2way','3way','4wayIndependent','4way']\n",
    "\n",
    "really_run = 0\n",
    "if really_run:\n",
    "    for l in logged:\n",
    "        clear_output(wait=True)\n",
    "        if l==True:\n",
    "            tag = 'logged'\n",
    "        elif l==False:\n",
    "            tag = 'raw'\n",
    "        for version in versions:\n",
    "            ALLDM, Acc = h.make_drawing_predictions(sub_list,roi_list_recog,version=version,logged=l)\n",
    "            ALLDM.to_csv(os.path.join(results_dir,'logistic_timeseries_drawing_neural_{}_{}.csv'.format(version,tag)),index=False) ## train recog, test drawing run    "
   ]
  },
  {
   "cell_type": "markdown",
   "metadata": {},
   "source": [
    "#### basic summary plot of classifier accuracy between ROIs"
   ]
  },
  {
   "cell_type": "code",
   "execution_count": 19,
   "metadata": {},
   "outputs": [],
   "source": [
    "version = '4way'\n",
    "logged = True\n",
    "ALLDM, Acc = h.make_drawing_predictions(sub_list,roi_list_recog,\n",
    "                                        version=version,logged=logged)"
   ]
  },
  {
   "cell_type": "code",
   "execution_count": 53,
   "metadata": {},
   "outputs": [
    {
     "data": {
      "image/png": "[encoded data removed]",
      "text/plain": [
       "<Figure size 576x432 with 1 Axes>"
      ]
     },
     "metadata": {},
     "output_type": "display_data"
    },
    {
     "data": {
      "text/plain": [
       "<Figure size 432x288 with 0 Axes>"
      ]
     },
     "metadata": {},
     "output_type": "display_data"
    }
   ],
   "source": [
    "## plot test accuracy on drawing runs; trained on recognition runs\n",
    "from matplotlib import rc\n",
    "hfont = {'fontname':'Helvetica'}\n",
    "if 'Acc' in locals():\n",
    "    Acc = np.array(Acc)\n",
    "    x = pd.DataFrame(Acc.transpose())\n",
    "    x.columns = roi_list_recog\n",
    "    \n",
    "    sns.set_context('talk')\n",
    "    plt.figure(figsize=(8,6))\n",
    "    fig = sns.barplot(data=x,palette='terrain',ci=95)\n",
    "    chance_dict = {'4way':0.25,'3way':0.33,'2way':0.5}\n",
    "    plt.axhline(chance_dict[version],linestyle=':',color='k')\n",
    "    plt.ylabel('object decoding accuracy',fontsize=20, **hfont)\n",
    "    plt.title('generalization to drawing phase', **hfont)\n",
    "    fig.set_xticklabels(roi_list_recog,fontsize=16, **hfont)\n",
    "    plt.show()\n",
    "    plt.savefig(os.path.join(proj_dir,'plots/{}/draw_decoding_accuracy.pdf'.format(nb_name)))"
   ]
  },
  {
   "cell_type": "markdown",
   "metadata": {},
   "source": [
    "### make summary timecourse plots"
   ]
  },
  {
   "cell_type": "code",
   "execution_count": 15,
   "metadata": {},
   "outputs": [],
   "source": [
    "reload(h)\n",
    "versions = ['2way','3way','4way', '4wayIndependent']\n",
    "tags = ['logged', 'raw']\n",
    "csvname = 'logistic_timeseries_drawing_neural_{}_{}.csv'\n",
    "\n",
    "reallyRun = 0\n",
    "if reallyRun:\n",
    "    for version in versions:\n",
    "        for tag in tags:\n",
    "            ALLDM = pd.read_csv(\n",
    "                os.path.join(results_dir, csvname.format(version,tag)))\n",
    "            try:\n",
    "                h.plot_summary_timecourse(ALLDM,\n",
    "                                        this_iv='trial_num',\n",
    "                                        roi_list=roi_list_recog,\n",
    "                                        render_cond=1,\n",
    "                                        version = version,\n",
    "                                        proj_dir=proj_dir)\n",
    "            except KeyError:\n",
    "                pass"
   ]
  },
  {
   "cell_type": "code",
   "execution_count": 16,
   "metadata": {},
   "outputs": [],
   "source": [
    "vgg_mode = 0\n",
    "if vgg_mode:\n",
    "    vgg_tag = 'raw'\n",
    "    baseline_correct = True\n",
    "    bc = 'basecorr' if baseline_correct else ''\n",
    "    VGG = pd.read_csv(str(results_dir)+'VGG_{}_{}.csv'.format(vgg_tag, bc))\n",
    "\n",
    "    h.plot_summary_timecourse(VGG,\n",
    "                            this_iv='trial_num',\n",
    "                            roi_list=['VGG'],\n",
    "                            render_cond=1,\n",
    "                            baseline_correct = True,\n",
    "                            version = version,\n",
    "                            proj_dir=proj_dir)"
   ]
  },
  {
   "cell_type": "markdown",
   "metadata": {},
   "source": [
    "#### get subject-level index of contrast between objects during drawing\n"
   ]
  },
  {
   "cell_type": "code",
   "execution_count": 17,
   "metadata": {},
   "outputs": [],
   "source": [
    "lookup = dict(zip(['trial_num','run_num','time_point'],['repetition','run','TR']))\n",
    "version = '4way'\n",
    "tag = 'logged'\n",
    "ALLDM = pd.read_csv('{}/csv/logistic_timeseries_drawing_neural_{}_{}.csv'.format(proj_dir,version,tag))\n",
    "ALLDM = h.cleanup_df(ALLDM)\n",
    "# VGG = pd.read_csv(os.path.join(results_dir,'partial_sketch_full.csv'))"
   ]
  },
  {
   "cell_type": "code",
   "execution_count": 18,
   "metadata": {},
   "outputs": [
    {
     "name": "stdout",
     "output_type": "stream",
     "text": [
      "roi\n",
      "IT           1.006930\n",
      "LOC          1.437328\n",
      "PRC          1.059425\n",
      "V1           2.533233\n",
      "V2           3.097376\n",
      "ento         1.020228\n",
      "fusiform     1.198618\n",
      "hipp         1.026324\n",
      "mOFC         1.066654\n",
      "parahippo    0.986918\n",
      "Name: target-foil, dtype: float64\n"
     ]
    }
   ],
   "source": [
    "reload(h)\n",
    "this_iv = 'trial_num' ## other options 'run_num','trial_num','time_point'\n",
    "version = '4way'\n",
    "\n",
    "d = h.get_log_odds(ALLDM,\n",
    "               this_iv = this_iv,\n",
    "               roi_list = roi_list_recog,\n",
    "               version=version,\n",
    "               logged=True,\n",
    "               proj_dir=proj_dir)"
   ]
  },
  {
   "cell_type": "code",
   "execution_count": 19,
   "metadata": {},
   "outputs": [
    {
     "data": {
      "image/png": "[encoded data removed]",
      "text/plain": [
       "<Figure size 432x288 with 1 Axes>"
      ]
     },
     "metadata": {},
     "output_type": "display_data"
    }
   ],
   "source": [
    "run_this = 1\n",
    "if run_this:\n",
    "    ## comparing 4-way and 2-way probability ratios\n",
    "    d4way = pd.read_csv(os.path.join(proj_dir,'csv', 'difference_logprobs_4way.csv'))\n",
    "    d2way = pd.read_csv(os.path.join(proj_dir,'csv', 'difference_logprobs_2way.csv'))\n",
    "    inds = d4way['roi']=='V1'\n",
    "    plt.scatter(d4way[inds]['target-foil'],d2way[inds]['target-foil'])"
   ]
  },
  {
   "cell_type": "code",
   "execution_count": 20,
   "metadata": {},
   "outputs": [
    {
     "name": "stdout",
     "output_type": "stream",
     "text": [
      "------- condition: target-foil -------\n",
      "ROI = V1 | mean = 0.69538  95% CI: [0.472 0.92675] p(x<0)=0.0 p(x>0)=2.0\n",
      "ROI = V2 | mean = 0.79068  95% CI: [0.544 1.05584] p(x<0)=0.0 p(x>0)=2.0\n",
      "ROI = LOC | mean = 0.32103  95% CI: [0.227 0.42033] p(x<0)=0.0 p(x>0)=2.0\n",
      "ROI = fusiform | mean = 0.15829  95% CI: [0.081 0.23466] p(x<0)=0.0 p(x>0)=2.0\n",
      "ROI = parahippo | mean = -0.02608  95% CI: [-0.081 0.0295] p(x<0)=1.63267 p(x>0)=0.36733\n",
      "ROI = IT | mean = -0.01537  95% CI: [-0.088 0.05629] p(x<0)=1.31067 p(x>0)=0.68933\n",
      "ROI = ento | mean = 0.00705  95% CI: [-0.052 0.06451] p(x<0)=0.80867 p(x>0)=1.19133\n",
      "ROI = PRC | mean = 0.03536  95% CI: [-0.036 0.1081] p(x<0)=0.34333 p(x>0)=1.65667\n",
      "ROI = hipp | mean = 0.01326  95% CI: [-0.042 0.07028] p(x<0)=0.64067 p(x>0)=1.35933\n",
      "ROI = mOFC | mean = 0.03991  95% CI: [-0.037 0.1139] p(x<0)=0.316 p(x>0)=1.684\n",
      "------- condition: target-control -------\n",
      "ROI = V1 | mean = 0.24701  95% CI: [0.113 0.38657] p(x<0)=0.0 p(x>0)=2.0\n",
      "ROI = V2 | mean = 0.29114  95% CI: [0.148 0.43981] p(x<0)=0.0 p(x>0)=2.0\n",
      "ROI = LOC | mean = 0.15866  95% CI: [0.066 0.26208] p(x<0)=0.00067 p(x>0)=1.99933\n",
      "ROI = fusiform | mean = 0.09638  95% CI: [-0.034 0.22451] p(x<0)=0.14933 p(x>0)=1.85067\n",
      "ROI = parahippo | mean = -0.0075  95% CI: [-0.069 0.05477] p(x<0)=1.18467 p(x>0)=0.81533\n",
      "ROI = IT | mean = -0.08054  95% CI: [-0.168 0.00335] p(x<0)=1.934 p(x>0)=0.066\n",
      "ROI = ento | mean = -0.05273  95% CI: [-0.119 0.01383] p(x<0)=1.882 p(x>0)=0.118\n",
      "ROI = PRC | mean = -0.00648  95% CI: [-0.076 0.07051] p(x<0)=1.152 p(x>0)=0.848\n",
      "ROI = hipp | mean = 0.00085  95% CI: [-0.055 0.05575] p(x<0)=0.962 p(x>0)=1.038\n",
      "ROI = mOFC | mean = 0.01928  95% CI: [-0.061 0.09838] p(x<0)=0.62667 p(x>0)=1.37333\n",
      "------- condition: foil-control -------\n",
      "ROI = V1 | mean = -0.44837  95% CI: [-0.607 -0.29175] p(x<0)=2.0 p(x>0)=0.0\n",
      "ROI = V2 | mean = -0.49955  95% CI: [-0.714 -0.28017] p(x<0)=2.0 p(x>0)=0.0\n",
      "ROI = LOC | mean = -0.16237  95% CI: [-0.255 -0.06671] p(x<0)=1.998 p(x>0)=0.002\n",
      "ROI = fusiform | mean = -0.06191  95% CI: [-0.18 0.0586] p(x<0)=1.676 p(x>0)=0.324\n",
      "ROI = parahippo | mean = 0.01858  95% CI: [-0.03 0.06754] p(x<0)=0.46333 p(x>0)=1.53667\n",
      "ROI = IT | mean = -0.06517  95% CI: [-0.16 0.02472] p(x<0)=1.84 p(x>0)=0.16\n",
      "ROI = ento | mean = -0.05978  95% CI: [-0.126 0.00483] p(x<0)=1.92667 p(x>0)=0.07333\n",
      "ROI = PRC | mean = -0.04184  95% CI: [-0.097 0.01382] p(x<0)=1.862 p(x>0)=0.138\n",
      "ROI = hipp | mean = -0.01242  95% CI: [-0.074 0.04556] p(x<0)=1.32267 p(x>0)=0.67733\n",
      "ROI = mOFC | mean = -0.02063  95% CI: [-0.112 0.05859] p(x<0)=1.36733 p(x>0)=0.63267\n"
     ]
    }
   ],
   "source": [
    "conditions = ['target-foil','target-control','foil-control']\n",
    "for condition in conditions:\n",
    "    print('------- condition: {} -------'.format(condition))\n",
    "    for this_roi in roi_list_recog:\n",
    "        data = d[d['roi']==this_roi][condition].values\n",
    "        U,lb,ub,p1,p2 = h.bootstrapCI(data,3000)\n",
    "        print('ROI = {} | mean = {}  95% CI: [{} {}] p(x<0)={} p(x>0)={}'.format(\n",
    "            this_roi,np.round(U,5),np.round(lb,3),np.round(ub,5),np.round(p1,5),np.round(p2,5)))"
   ]
  },
  {
   "cell_type": "markdown",
   "metadata": {},
   "source": [
    "### How do individual differences in object evidence relate to individual differences in pre-post differentiation across ROIs?"
   ]
  },
  {
   "cell_type": "code",
   "execution_count": 21,
   "metadata": {},
   "outputs": [],
   "source": [
    "version = '4way'\n",
    "tag = 'log'\n",
    "d = pd.read_csv(os.path.join(proj_dir,'csv/difference_{}probs_{}.csv'.format(tag,version)))\n",
    "prepost = pd.read_csv(os.path.join(proj_dir,'csv/neural_changes_by_surfroi_and_subject.csv'))"
   ]
  },
  {
   "cell_type": "code",
   "execution_count": 22,
   "metadata": {},
   "outputs": [
    {
     "name": "stdout",
     "output_type": "stream",
     "text": [
      "ROI: V1 r=0.37474  p=0.03779 *\n",
      "ROI: V2 r=0.46674  p=0.00812 *\n",
      "ROI: LOC r=-0.01184  p=0.94961 \n",
      "ROI: IT r=-0.10254  p=0.58305 \n",
      "ROI: fusiform r=-0.39503  p=0.02785 *\n",
      "ROI: parahippo r=0.12824  p=0.49174 \n",
      "ROI: PRC r=-0.17196  p=0.35495 \n",
      "ROI: ento r=0.08294  p=0.65736 \n",
      "ROI: hipp r=0.06561  p=0.72584 \n",
      "ROI: mOFC r=-0.37661  p=0.03677 *\n"
     ]
    }
   ],
   "source": [
    "## make dataframe to relate drawing contrast to recognition differentiation\n",
    "roi_list = ['V1', 'V2', 'LOC', 'IT', 'fusiform', 'parahippo', 'PRC', 'ento','hipp', 'mOFC']\n",
    "\n",
    "for this_roi in roi_list:\n",
    "    draw = d[d['roi']==this_roi]['target-foil'].values\n",
    "    recog = prepost['UnanchoredTrainedDiff_{}'.format(this_roi)].values-prepost['UnanchoredControlDiff_{}'.format(this_roi)].values\n",
    "\n",
    "    z = pd.DataFrame([draw,recog])\n",
    "    z = z.transpose()\n",
    "    z.columns=['draw','recog']\n",
    "\n",
    "    ## plot \n",
    "    fig = plt.figure(figsize=(6,6))\n",
    "    sns.set_context('poster')\n",
    "    sns.regplot(x=\"draw\",\n",
    "                y =\"recog\",\n",
    "                data=z)\n",
    "    r,p = stats.pearsonr(draw,recog)\n",
    "    plt.title('ROI: {}  r={}  p={}'.format(this_roi,np.round(r,5),np.round(p,5)))\n",
    "    if np.round(p,5)<0.05:\n",
    "        accent = '*'\n",
    "    else:\n",
    "        accent = ''\n",
    "    print('ROI: {} r={}  p={} {}'.format(this_roi,np.round(r,5),np.round(p,5),accent))\n",
    "    plt.xlabel('drawing: target vs. foil contrast') \n",
    "    plt.ylabel('recog: post-pre differentiation')\n",
    "    if not os.path.exists(os.path.join(proj_dir,'plots/{}/drawrecog'.format(nb_name))):\n",
    "        os.makedirs(os.path.join(proj_dir,'plots/{}/drawrecog'.format(nb_name)))\n",
    "    plt.tight_layout()\n",
    "    plt.savefig(os.path.join(proj_dir,'plots/{}/drawrecog/draw_recog_scatter_{}.png'.format(nb_name,this_roi)))\n",
    "    plt.close(fig)"
   ]
  },
  {
   "cell_type": "markdown",
   "metadata": {},
   "source": [
    "### How are individual differences in object evidence related between ROIs? "
   ]
  },
  {
   "cell_type": "code",
   "execution_count": null,
   "metadata": {},
   "outputs": [],
   "source": [
    "### jgunn will add correlation matrices here"
   ]
  }
 ],
 "metadata": {
  "kernelspec": {
   "display_name": "Python 2",
   "language": "python",
   "name": "python2"
  },
  "language_info": {
   "codemirror_mode": {
    "name": "ipython",
    "version": 2
   },
   "file_extension": ".py",
   "mimetype": "text/x-python",
   "name": "python",
   "nbconvert_exporter": "python",
   "pygments_lexer": "ipython2",
   "version": "2.7.12"
  }
 },
 "nbformat": 4,
 "nbformat_minor": 2
}
