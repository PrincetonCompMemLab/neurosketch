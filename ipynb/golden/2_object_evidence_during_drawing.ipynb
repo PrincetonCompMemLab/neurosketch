{
 "cells": [
  {
   "cell_type": "markdown",
   "metadata": {},
   "source": [
    "## Setup"
   ]
  },
  {
   "cell_type": "code",
   "execution_count": 278,
   "metadata": {},
   "outputs": [],
   "source": [
    "import warnings\n",
    "warnings.filterwarnings(\"ignore\")\n",
    "\n",
    "from __future__ import division\n",
    "\n",
    "import numpy as np\n",
    "import os\n",
    "from glob import glob\n",
    "\n",
    "from PIL import Image\n",
    "from copy import deepcopy\n",
    "\n",
    "from sklearn import linear_model, datasets, neighbors\n",
    "from sklearn.model_selection import train_test_split, cross_val_score\n",
    "from sklearn import svm\n",
    "\n",
    "%matplotlib inline\n",
    "from scipy.misc import imread, imresize\n",
    "import matplotlib.pyplot as plt\n",
    "import matplotlib.image as mpimg\n",
    "import seaborn as sns\n",
    "sns.set_context('poster')\n",
    "colors = sns.color_palette(\"cubehelix\", 5)\n",
    "import matplotlib as mpl\n",
    "mpl.rcParams['pdf.fonttype'] = 42\n",
    "\n",
    "import pandas as pd\n",
    "\n",
    "import scipy.stats as stats\n",
    "from scipy.stats import norm\n",
    "import sklearn\n",
    "\n",
    "# from importlib import reload"
   ]
  },
  {
   "cell_type": "markdown",
   "metadata": {},
   "source": [
    "### define paths to data"
   ]
  },
  {
   "cell_type": "code",
   "execution_count": 279,
   "metadata": {},
   "outputs": [
    {
     "data": {
      "text/plain": [
       "'/home/jefan/neurosketch'"
      ]
     },
     "execution_count": 279,
     "metadata": {},
     "output_type": "execute_result"
    }
   ],
   "source": [
    "curr_dir = os.getcwd()\n",
    "os.path.abspath(os.path.join(curr_dir,'..','..'))"
   ]
  },
  {
   "cell_type": "code",
   "execution_count": 280,
   "metadata": {},
   "outputs": [],
   "source": [
    "## root paths\n",
    "curr_dir = os.getcwd()\n",
    "proj_dir = os.path.abspath(os.path.join(curr_dir,'..','..')) ## use relative paths\n",
    "data_dir = os.path.abspath(os.path.join(curr_dir,'..','..','data')) ## use relative paths 'D:\\\\data'\n",
    "results_dir = os.path.join(proj_dir, 'csv')\n",
    "nb_name = '2_object_evidence_during_drawing'\n",
    "\n",
    "## add helpers to python path\n",
    "import sys\n",
    "if os.path.join(proj_dir, 'python') not in sys.path:\n",
    "    sys.path.append(os.path.join(proj_dir, 'python'))\n",
    "\n",
    "## module definitions\n",
    "import analysis_helpers as h\n",
    "reload(h)\n",
    "h.data_dir = data_dir\n",
    "h.path_to_recog = os.path.join(data_dir, 'features/recog')\n",
    "h.path_to_draw = os.path.join(data_dir, 'features/drawing')\n",
    "h.roi_list_draw = np.array(['V1Draw', 'V2Draw', 'LOCDraw', 'InsulaDraw', 'postCentralDraw',\n",
    "                            'preCentralDraw', 'ParietalDraw', 'FrontalDraw', 'smgDraw'])\n",
    "h.roi_list_recog = ['V1','V2','LOC','IT','fusiform','parahippo','PRC','ento','hipp']\n",
    "h.roi_list_recog_formatted = np.array(['V1', 'V2', 'LOC', 'FUS','PHC','IT','ENT','PRC','HC']) \n",
    "roi_list_recog = h.roi_list_recog"
   ]
  },
  {
   "cell_type": "markdown",
   "metadata": {},
   "source": [
    "### get file list"
   ]
  },
  {
   "cell_type": "code",
   "execution_count": 4,
   "metadata": {},
   "outputs": [],
   "source": [
    "## get raw file list for recognition runs\n",
    "path_to_recog = h.path_to_recog\n",
    "\n",
    "RECOG_METAS = sorted([i for i in os.listdir(path_to_recog) if (i.split('.')[-1]=='csv') & (i.split('_')[2][-4:] != 'Draw')])\n",
    "RECOG_FEATS = sorted([i for i in os.listdir(path_to_recog) if (i.split('.')[-1]=='npy') & (i.split('_')[1][-4:] != 'Draw')])\n",
    "RECOG_SUBS = np.array([i.split('_')[0] for i in RECOG_FEATS])\n",
    "\n",
    "recog_sub_list = np.unique(RECOG_SUBS)\n",
    "\n",
    "def preprocess_recog(RECOG_METAS, RECOG_FEATS):\n",
    "    M = [i for i in RECOG_METAS if len(i.split('.')[0].split('_'))==4]\n",
    "    F = [i for i in RECOG_FEATS if len(i.split('.')[0].split('_'))==4]\n",
    "    return M,F\n",
    "\n",
    "RECOG_METAS, RECOG_FEATS = preprocess_recog(RECOG_METAS, RECOG_FEATS)"
   ]
  },
  {
   "cell_type": "code",
   "execution_count": 5,
   "metadata": {},
   "outputs": [],
   "source": [
    "## get raw file list for drawing runs\n",
    "path_to_draw = h.path_to_draw\n",
    "\n",
    "DRAW_METAS = sorted([i for i in os.listdir(path_to_draw) if (i.split('.')[-1]=='csv') & (i.split('_')[2][-4:] == 'Draw')])\n",
    "DRAW_FEATS = sorted([i for i in os.listdir(path_to_draw) if (i.split('.')[-1]=='npy') & (i.split('_')[1][-4:] == 'Draw')])\n",
    "DRAW_SUBS = np.array([i.split('_')[0] for i in DRAW_FEATS])\n",
    "draw_sub_list = np.unique(DRAW_SUBS)"
   ]
  },
  {
   "cell_type": "code",
   "execution_count": 6,
   "metadata": {},
   "outputs": [],
   "source": [
    "## get subject ID's that have complete datasets from all phases of experiment\n",
    "sub_list = np.intersect1d(recog_sub_list,draw_sub_list)\n",
    "#print('Number of subs: {}'.format(len(sub_list)))"
   ]
  },
  {
   "cell_type": "code",
   "execution_count": 7,
   "metadata": {},
   "outputs": [],
   "source": [
    "## filter file list so only contains the sessions that have full datasets\n",
    "def extract_good_sessions(DRAW_METAS,DRAW_FEATS,RECOG_METAS,RECOG_FEATS):\n",
    "    _DRAW_METAS = [i for i in DRAW_METAS if i.split('_')[1] in sub_list]\n",
    "    _DRAW_FEATS = [i for i in DRAW_FEATS if i.split('_')[0] in sub_list]\n",
    "    _RECOG_METAS = [i for i in RECOG_METAS if i.split('_')[1] in sub_list]\n",
    "    _RECOG_FEATS = [i for i in RECOG_FEATS if i.split('_')[0] in sub_list]\n",
    "    return _DRAW_METAS, _DRAW_FEATS, _RECOG_METAS, _RECOG_FEATS\n",
    "\n",
    "DRAW_METAS,DRAW_FEATS,RECOG_METAS,RECOG_FEATS =  \\\n",
    "extract_good_sessions(DRAW_METAS,DRAW_FEATS,RECOG_METAS,RECOG_FEATS)\n",
    "\n",
    "RECOG_SUBS = np.array([i.split('_')[0]+'_neurosketch' for i in RECOG_FEATS])\n",
    "RECOG_ROIS = np.array([i.split('_')[1] for i in RECOG_FEATS])\n",
    "\n",
    "DRAW_SUBS = np.array([i.split('_')[0]+'_neurosketch' for i in DRAW_FEATS])\n",
    "DRAW_ROIS = np.array([i.split('_')[1] for i in DRAW_FEATS])"
   ]
  },
  {
   "cell_type": "code",
   "execution_count": 8,
   "metadata": {},
   "outputs": [
    {
     "name": "stdout",
     "output_type": "stream",
     "text": [
      "We have data from 31 subjects.\n"
     ]
    }
   ],
   "source": [
    "print 'We have data from {} subjects.'.format(len(sub_list))"
   ]
  },
  {
   "cell_type": "markdown",
   "metadata": {},
   "source": [
    "### How well do we do at classifying the target when we train on recognition patterns only?"
   ]
  },
  {
   "cell_type": "markdown",
   "metadata": {},
   "source": [
    "#### generate ALLDM supersubject matrix with classifier probabilities"
   ]
  },
  {
   "cell_type": "code",
   "execution_count": 9,
   "metadata": {},
   "outputs": [],
   "source": [
    "from IPython.display import clear_output\n",
    "reload(h)\n",
    "logged = [True,False]\n",
    "versions = ['2way','3way','4wayIndependent','4way']\n",
    "\n",
    "really_run = 0\n",
    "if really_run:\n",
    "    for l in logged:\n",
    "        clear_output(wait=True)\n",
    "        if l==True:\n",
    "            tag = 'logged'\n",
    "        elif l==False:\n",
    "            tag = 'raw'\n",
    "        for version in versions:\n",
    "            ALLDM, Acc = h.make_drawing_predictions(sub_list,roi_list_recog,version=version,logged=l)\n",
    "            ALLDM.to_csv(os.path.join(results_dir,'logistic_timeseries_drawing_neural_{}_{}.csv'.format(version,tag)),index=False) ## train recog, test drawing run    "
   ]
  },
  {
   "cell_type": "markdown",
   "metadata": {},
   "source": [
    "#### basic summary plot of classifier accuracy between ROIs"
   ]
  },
  {
   "cell_type": "code",
   "execution_count": 308,
   "metadata": {},
   "outputs": [
    {
     "name": "stdout",
     "output_type": "stream",
     "text": [
      "Now analyzing hipp ...\n"
     ]
    }
   ],
   "source": [
    "reload(h)\n",
    "really_run = 1\n",
    "if really_run:\n",
    "    version = '4way'\n",
    "    logged = True\n",
    "    ALLDM, Acc = h.make_drawing_predictions(sub_list,roi_list_recog,\n",
    "                                            version=version,logged=logged)\n",
    "    ## save out Acc\n",
    "    np.save(os.path.join(results_dir,'decoding_object_accuracy_production.npy'),Acc)"
   ]
  },
  {
   "cell_type": "code",
   "execution_count": 181,
   "metadata": {},
   "outputs": [],
   "source": [
    "def plot_draw_decoding():\n",
    "\n",
    "    ## plot test accuracy on drawing runs; trained on recognition runs\n",
    "    from matplotlib import rc\n",
    "    hfont = {'fontname':'Helvetica'}    \n",
    "    Acc = np.load(os.path.join(results_dir,'decoding_object_accuracy_production.npy'))\n",
    "\n",
    "    Acc = np.array(Acc)\n",
    "    x = pd.DataFrame(Acc.transpose())\n",
    "    x.columns = roi_list_recog    \n",
    "    sns.set_context('talk')\n",
    "    fig = plt.figure(figsize=(8,8))\n",
    "    fig = sns.barplot(data=x,palette='husl',ci=95,zorder=1)\n",
    "    x2 = x\n",
    "    plt.ylim(0,0.5)\n",
    "\n",
    "    ## melt into longform dataframe to be able to make stripplot for draw decoding accuracy \n",
    "    ## for each subject\n",
    "    x = x.assign(sub=sub_list)\n",
    "    xl = pd.melt(x, \n",
    "                id_vars=['sub'], \n",
    "                var_name='roi',\n",
    "                value_vars=roi_list_recog, \n",
    "                value_name='draw_acc')        \n",
    "    fig2 = sns.swarmplot(data=xl,x=\"roi\", \n",
    "                         y=\"draw_acc\", \n",
    "                         #color=(0.25,0.25,0.25),\n",
    "                         palette='husl',\n",
    "                         dodge=True,\n",
    "    #                      jitter=0.12,\n",
    "                         alpha=0.6,    \n",
    "                         size=6,\n",
    "                         edgecolor=(0.1,0.1,0.1),\n",
    "                         linewidth=1,\n",
    "                         zorder=2)    \n",
    "\n",
    "    fig3 = sns.barplot(data=x2,palette='husl',ci=95,alpha=0.1,zorder=3)\n",
    "    plt.xlabel('')\n",
    "\n",
    "    chance_dict = {'4way':0.25,'3way':0.33,'2way':0.5}\n",
    "    plt.axhline(chance_dict[version],linestyle=':',color='k')\n",
    "    plt.ylabel('object decoding accuracy',fontsize=20, **hfont)\n",
    "    plt.title('drawing', **hfont)\n",
    "    fig.set_xticklabels(h.roi_list_recog_formatted,fontsize=16, **hfont)\n",
    "    out_path = os.path.join(proj_dir,'plots/{}/draw_decoding_accuracy.pdf'.format(nb_name))\n",
    "    plt.savefig(out_path,format='pdf')        \n",
    "        "
   ]
  },
  {
   "cell_type": "code",
   "execution_count": 182,
   "metadata": {},
   "outputs": [
    {
     "data": {
      "image/png": "[encoded data removed]",
      "text/plain": [
       "<Figure size 576x576 with 1 Axes>"
      ]
     },
     "metadata": {},
     "output_type": "display_data"
    }
   ],
   "source": [
    "plot_draw_decoding()"
   ]
  },
  {
   "cell_type": "code",
   "execution_count": null,
   "metadata": {},
   "outputs": [],
   "source": []
  },
  {
   "cell_type": "code",
   "execution_count": null,
   "metadata": {},
   "outputs": [],
   "source": []
  },
  {
   "cell_type": "markdown",
   "metadata": {},
   "source": [
    "#### How well do we do at classifying the target during the pre/post recognition runs, trained on initial recognition data?"
   ]
  },
  {
   "cell_type": "code",
   "execution_count": 281,
   "metadata": {},
   "outputs": [
    {
     "name": "stdout",
     "output_type": "stream",
     "text": [
      "Done!\n"
     ]
    }
   ],
   "source": [
    "reload(h)\n",
    "logged = True\n",
    "version = '4way'\n",
    "\n",
    "ALLPRE, Accpre = h.make_prepostrecog_predictions(sub_list,roi_list_recog,test_phase='pre',logged=logged)\n",
    "ALLPOST, Accpost = h.make_prepostrecog_predictions(sub_list,roi_list_recog,test_phase='post',logged=logged)\n",
    "\n",
    "## add raw probs to ALLPRE and ALLPOST dataframes\n",
    "append_raw_dict = dict(zip(['t1_prob','t2_prob','c1_prob','c2_prob'],['t1_prob_raw','t2_prob_raw','c1_prob_raw','c2_prob_raw']))\n",
    "for key, value in append_raw_dict.iteritems():\n",
    "    ALLPRE[value] = ALLPRE[key].apply(lambda x: np.exp(x))\n",
    "    ALLPOST[value] = ALLPOST[key].apply(lambda x: np.exp(x))\n",
    "    \n",
    "## save out dataframe\n",
    "ALLPRE.to_csv(os.path.join(results_dir,'logistic_timeseries_{}_neural_{}_{}.csv'.format('pre',version,'logged')),index=False) ## train recog, test drawing run    \n",
    "ALLPOST.to_csv(os.path.join(results_dir,'logistic_timeseries_{}_neural_{}_{}.csv'.format('post',version,'logged')),index=False) ## train recog, test drawing run    \n",
    "## save out Acc\n",
    "np.save(os.path.join(results_dir,'decoding_object_accuracy_recog_pre.npy'),Accpre)\n",
    "np.save(os.path.join(results_dir,'decoding_object_accuracy_recog_post.npy'),Accpost)\n",
    "Accdiff = np.array(Accpost) - np.array(Accpre)\n",
    "np.save(os.path.join(results_dir,'decoding_object_accuracy_recog_diff.npy'),Accdiff)\n",
    "print 'Done!'    "
   ]
  },
  {
   "cell_type": "code",
   "execution_count": null,
   "metadata": {},
   "outputs": [],
   "source": []
  },
  {
   "cell_type": "code",
   "execution_count": 192,
   "metadata": {},
   "outputs": [],
   "source": [
    "## helper function to plot test accuracy on pre recognition runs; trained on initial recognition runs\n",
    "\n",
    "def plot_recog_decoding(test_phase='pre'):\n",
    "    from matplotlib import rc\n",
    "    hfont = {'fontname':'Helvetica'}\n",
    "    Acc = np.load(os.path.join(results_dir,'decoding_object_accuracy_recog_{}.npy'.format(test_phase)))\n",
    "    Acc = np.array(Acc)\n",
    "    x = pd.DataFrame(Acc.transpose())\n",
    "    x.columns = roi_list_recog    \n",
    "    sns.set_context('talk')\n",
    "    fig = plt.figure(figsize=(8,8))\n",
    "    fig = sns.barplot(data=x,palette='husl',ci=95,zorder=1)\n",
    "    x2 = x\n",
    "    if test_phase=='diff':\n",
    "        plt.ylim(-0.25,0.25)\n",
    "    else:\n",
    "        plt.ylim(0,0.5)\n",
    "        \n",
    "    ## melt into longform dataframe to be able to make stripplot for draw decoding accuracy \n",
    "    ## for each subject\n",
    "    x = x.assign(sub=sub_list)\n",
    "    xl = pd.melt(x, \n",
    "                id_vars=['sub'], \n",
    "                var_name='roi',\n",
    "                value_vars=roi_list_recog, \n",
    "                value_name='draw_acc')        \n",
    "    fig2 = sns.swarmplot(data=xl,x=\"roi\", \n",
    "                         y=\"draw_acc\", \n",
    "                         #color=(0.25,0.25,0.25),\n",
    "                         palette='husl',\n",
    "                         dodge=True,\n",
    "    #                      jitter=0.12,\n",
    "                         alpha=0.6,    \n",
    "                         size=6,\n",
    "                         edgecolor=(0.1,0.1,0.1),\n",
    "                         linewidth=1,\n",
    "                         zorder=2)    \n",
    "\n",
    "    fig3 = sns.barplot(data=x2,palette='husl',ci=95,alpha=0.1,zorder=3)\n",
    "    plt.xlabel('')\n",
    "    plt.title(test_phase)\n",
    "\n",
    "    chance_dict = {'4way':0.25,'3way':0.33,'2way':0.5}\n",
    "    plt.axhline(chance_dict[version],linestyle=':',color='k')\n",
    "    plt.ylabel('object decoding accuracy',fontsize=20, **hfont)\n",
    "\n",
    "    fig.set_xticklabels(h.roi_list_recog_formatted,fontsize=16, **hfont)\n",
    "    out_path = os.path.join(proj_dir,'plots/{}/{}_decoding_accuracy.pdf'.format(nb_name,test_phase))\n",
    "    plt.savefig(out_path,format='pdf')\n",
    "    \n",
    "# plot_recog_decoding(test_phase='pre')\n",
    "# plot_recog_decoding(test_phase='post')    "
   ]
  },
  {
   "cell_type": "code",
   "execution_count": null,
   "metadata": {},
   "outputs": [],
   "source": []
  },
  {
   "cell_type": "code",
   "execution_count": 282,
   "metadata": {},
   "outputs": [
    {
     "data": {
      "image/png": "[encoded data removed]",
      "text/plain": [
       "<Figure size 864x432 with 1 Axes>"
      ]
     },
     "metadata": {},
     "output_type": "display_data"
    }
   ],
   "source": [
    "Acc = np.load(os.path.join(results_dir,'decoding_object_accuracy_production.npy'))\n",
    "Accpre = np.load(os.path.join(results_dir,'decoding_object_accuracy_recog_pre.npy'))\n",
    "Accpost = np.load(os.path.join(results_dir,'decoding_object_accuracy_recog_post.npy'))\n",
    "Accdiff = np.load(os.path.join(results_dir,'decoding_object_accuracy_recog_diff.npy'))\n",
    "\n",
    "## helper function to preprocess accuracy array\n",
    "def preprocess_acc_array(Acc,phase='draw', \n",
    "                         roi_list = ['V1', 'V2', 'LOC', 'FUS', 'PHC', 'IT', 'ENT', 'PRC', 'HC'],\n",
    "                         sub_list = ['0110171', '0110172', '0111171', '0112171', '0112172', '0112173',\n",
    "                                   '0113171', '0115174', '0117171', '0118171', '0118172', '0119171',\n",
    "                                   '0119172', '0119173', '0119174', '0120171', '0120172', '0120173',\n",
    "                                   '0123171', '0123173', '0124171', '0125171', '0125172', '1121161',\n",
    "                                   '1130161', '1202161', '1203161', '1206161', '1206162', '1206163',\n",
    "                                   '1207162']):\n",
    "    A = pd.DataFrame(Acc.T)\n",
    "    A.columns = roi_list\n",
    "    A['sub'] = sub_list\n",
    "    A['phase'] = phase\n",
    "    A1 = pd.melt(A, \n",
    "                id_vars=['sub','phase'], \n",
    "                var_name='roi',\n",
    "                value_vars=h.roi_list_recog_formatted, \n",
    "                value_name='acc') \n",
    "    return A1\n",
    "\n",
    "## aggregate pre, draw, post decoding accuracy\n",
    "AD = preprocess_acc_array(Acc,phase='draw')\n",
    "AE = preprocess_acc_array(Accpre,phase='pre')\n",
    "AO = preprocess_acc_array(Accpost,phase='post')\n",
    "A = pd.concat([AE,AO,AD],axis=0)\n",
    "\n",
    "## save out change in decoding accuracy from pre to post to dataframe\n",
    "AF = preprocess_acc_array(Accpost,phase='diff')\n",
    "A2 = pd.concat([AE,AO,AD,AF],axis=0)\n",
    "AF.to_csv(os.path.join(proj_dir,'csv/recog_decoding_changes_by_surfroi_and_subject_longform.csv'))\n",
    "A2.to_csv(os.path.join(proj_dir,'csv/object_decoding_by_surfroi_and_subject_longform.csv'))\n",
    "\n",
    "## generate plot\n",
    "g = sns.catplot(data=A,\n",
    "            x='roi',\n",
    "            y='acc',\n",
    "            hue='phase',\n",
    "            kind='bar',\n",
    "            palette='husl',\n",
    "            legend=False,\n",
    "            aspect=2,\n",
    "            height=6)\n",
    "plt.legend()\n",
    "plt.ylabel('object decoding accuracy')\n",
    "plt.axhline(0.25,linestyle=':',color='k')\n",
    "out_path = os.path.join(proj_dir,'plots/{}/decoding_accuracy_bars_all.pdf'.format(nb_name))\n",
    "plt.savefig(out_path,format='pdf')"
   ]
  },
  {
   "cell_type": "code",
   "execution_count": 284,
   "metadata": {},
   "outputs": [
    {
     "name": "stdout",
     "output_type": "stream",
     "text": [
      "ROI:  V1| 95% CI: [0.0004,0.03306] | p = 0.0437\n",
      "ROI:  V2| 95% CI: [-0.00605,0.03367] | p = 0.1633\n",
      "ROI:  LOC| 95% CI: [0.00363,0.03125] | p = 0.0153\n",
      "ROI:  FUS| 95% CI: [-0.01976,0.01552] | p = 1.0979\n",
      "ROI:  PHC| 95% CI: [-0.01815,0.01573] | p = 1.127\n",
      "ROI:  IT| 95% CI: [-0.00665,0.02863] | p = 0.231\n",
      "ROI:  ENT| 95% CI: [-0.00161,0.03387] | p = 0.0766\n",
      "ROI:  PRC| 95% CI: [-0.01956,0.01472] | p = 1.1888\n",
      "ROI:  HC| 95% CI: [-0.00645,0.02601] | p = 0.2707\n"
     ]
    }
   ],
   "source": [
    "## print 95% CIs for change in decoding accuracy for each ROI\n",
    "reload(h)\n",
    "roi_list_formatted = ['V1', 'V2', 'LOC', 'FUS', 'PHC', 'IT', 'ENT', 'PRC', 'HC']\n",
    "for i,roi in enumerate(roi_list_formatted):\n",
    "    U,lb,ub,p1,p2 = h.bootstrapCI(Accdiff[i,:],nIter=20000)\n",
    "    print 'ROI:  {}| 95% CI: [{},{}] | p = {}'.format(roi, np.round(lb,5), np.round(ub,5), p1)"
   ]
  },
  {
   "cell_type": "code",
   "execution_count": 441,
   "metadata": {},
   "outputs": [],
   "source": []
  },
  {
   "cell_type": "code",
   "execution_count": 462,
   "metadata": {},
   "outputs": [],
   "source": []
  },
  {
   "cell_type": "code",
   "execution_count": 538,
   "metadata": {},
   "outputs": [],
   "source": [
    "def add_target_prob_column(df):\n",
    "    '''\n",
    "    df is dataframe, e.g., ALLPRE or ALLPOST that contains classifier probabilities for recognition runs\n",
    "    in either the pre or post phases, respectively.\n",
    "\n",
    "    '''\n",
    "    \n",
    "    df['target_prob_raw'] = np.nan\n",
    "    df['trained'] = np.bool\n",
    "\n",
    "    for ind,d in df.iterrows():\n",
    "        print 'Analyzing {} of {}'.format(ind,df.shape[0])\n",
    "        clear_output(wait=True)\n",
    "        ordered_entries = ['t1_name','t2_name','c1_name','c2_name']\n",
    "        ordered_labels = d[['t1_name','t2_name','c1_name','c2_name']].values.tolist()\n",
    "        obj2cond = dict(zip(ordered_labels,ordered_entries))\n",
    "        this_obj = d['label']\n",
    "        this_raw_column = '{}_prob_raw'.format(obj2cond[this_obj].split('_')[0])\n",
    "\n",
    "        ## assign target probability (raw space) to dedicated column\n",
    "        df.at[ind,'target_prob_raw'] = d[this_raw_column]\n",
    "\n",
    "        ## assign condition of stimulus\n",
    "        cond = True if obj2cond[this_obj][0]=='t' else False\n",
    "        df.at[ind,'trained'] = cond  \n",
    "    \n",
    "    return df"
   ]
  },
  {
   "cell_type": "code",
   "execution_count": 539,
   "metadata": {},
   "outputs": [
    {
     "name": "stdout",
     "output_type": "stream",
     "text": [
      "Done!\n"
     ]
    }
   ],
   "source": [
    "ALLPRE = add_target_prob_column(ALLPRE)\n",
    "ALLPOST = add_target_prob_column(ALLPOST)\n",
    "print 'Done!'"
   ]
  },
  {
   "cell_type": "code",
   "execution_count": 560,
   "metadata": {},
   "outputs": [],
   "source": [
    "## post processing on the mega dataframes for pretty plotting\n",
    "ALLPRE['phase'] = 'pre'\n",
    "ALLPOST['phase'] = 'post'\n",
    "ALLPREPOST = pd.concat([ALLPRE,ALLPOST],axis=0)\n",
    "\n",
    "## add formatted ROI list\n",
    "roi_list_formatted = ['V1', 'V2', 'LOC', 'FUS', 'PHC', 'IT', 'ENT', 'PRC', 'HC']\n",
    "roi_formatter = dict(zip(roi_list,roi_list_formatted))\n",
    "ALLPREPOST['roi_formatted'] = ALLPREPOST['roi'].apply(lambda x: roi_formatter[x])"
   ]
  },
  {
   "cell_type": "code",
   "execution_count": null,
   "metadata": {},
   "outputs": [],
   "source": []
  },
  {
   "cell_type": "code",
   "execution_count": 582,
   "metadata": {},
   "outputs": [
    {
     "data": {
      "text/plain": [
       "<matplotlib.legend.Legend at 0x7fd3c8fabd90>"
      ]
     },
     "execution_count": 582,
     "metadata": {},
     "output_type": "execute_result"
    },
    {
     "data": {
      "image/png": "[encoded data removed]",
      "text/plain": [
       "<Figure size 1080x360 with 2 Axes>"
      ]
     },
     "metadata": {},
     "output_type": "display_data"
    }
   ],
   "source": [
    "g = sns.catplot(data=ALLPREPOST, \n",
    "            x = 'roi_formatted',\n",
    "            y = 'target_prob_raw',\n",
    "            hue = 'phase',\n",
    "            col = 'trained',\n",
    "            col_order = [True,False],\n",
    "            kind = 'bar',\n",
    "            legend=False,\n",
    "            aspect = 1.5)\n",
    "\n",
    "def refline(*args, **kwargs):\n",
    "    plt.axhline(0.25,linestyle=':',color='k')    \n",
    "\n",
    "g = g.map(refline)    \n",
    "g = (g.set_axis_labels(\"\", 'classifier probability'))\n",
    "plt.legend()\n",
    "    "
   ]
  },
  {
   "cell_type": "code",
   "execution_count": null,
   "metadata": {},
   "outputs": [],
   "source": []
  },
  {
   "cell_type": "code",
   "execution_count": 553,
   "metadata": {},
   "outputs": [],
   "source": []
  },
  {
   "cell_type": "code",
   "execution_count": 388,
   "metadata": {},
   "outputs": [
    {
     "name": "stdout",
     "output_type": "stream",
     "text": [
      "roi\n",
      "IT           1.101936\n",
      "LOC          1.647571\n",
      "PRC          0.998643\n",
      "V1           2.919811\n",
      "V2           3.124938\n",
      "ento         0.997731\n",
      "fusiform     1.402297\n",
      "hipp         1.072088\n",
      "parahippo    1.005799\n",
      "Name: target-foil, dtype: float64\n"
     ]
    }
   ],
   "source": [
    "reload(h)\n",
    "dpre = h.get_log_odds(ALLPRE,\n",
    "               this_iv = 'time_point',\n",
    "               roi_list = roi_list_recog,\n",
    "               version='4way',\n",
    "               logged=True,\n",
    "               proj_dir=proj_dir)"
   ]
  },
  {
   "cell_type": "code",
   "execution_count": 389,
   "metadata": {},
   "outputs": [
    {
     "name": "stdout",
     "output_type": "stream",
     "text": [
      "roi\n",
      "IT           1.183426\n",
      "LOC          2.042102\n",
      "PRC          1.213006\n",
      "V1           3.426627\n",
      "V2           3.524905\n",
      "ento         1.144527\n",
      "fusiform     1.505837\n",
      "hipp         1.076028\n",
      "parahippo    1.367859\n",
      "Name: target-foil, dtype: float64\n"
     ]
    }
   ],
   "source": [
    "reload(h)\n",
    "dpost = h.get_log_odds(ALLPOST,\n",
    "               this_iv = 'time_point',\n",
    "               roi_list = roi_list_recog,\n",
    "               version='4way',\n",
    "               logged=True,\n",
    "               proj_dir=proj_dir)"
   ]
  },
  {
   "cell_type": "code",
   "execution_count": 395,
   "metadata": {},
   "outputs": [],
   "source": [
    "dpre['phase'] = 'pre'\n",
    "dpost['phase'] = 'post'\n",
    "d = pd.concat([dpre,dpost],axis=0)"
   ]
  },
  {
   "cell_type": "code",
   "execution_count": 400,
   "metadata": {},
   "outputs": [],
   "source": [
    "d['odds'] = np.exp(d['target-foil'])"
   ]
  },
  {
   "cell_type": "code",
   "execution_count": 401,
   "metadata": {},
   "outputs": [
    {
     "data": {
      "text/plain": [
       "<matplotlib.axes._subplots.AxesSubplot at 0x7fd3f2262550>"
      ]
     },
     "execution_count": 401,
     "metadata": {},
     "output_type": "execute_result"
    },
    {
     "data": {
      "image/png": "[encoded data removed]",
      "text/plain": [
       "<Figure size 432x288 with 1 Axes>"
      ]
     },
     "metadata": {},
     "output_type": "display_data"
    }
   ],
   "source": [
    "sns.barplot(data=d,x='roi',y='odds',hue='phase')"
   ]
  },
  {
   "cell_type": "code",
   "execution_count": 430,
   "metadata": {},
   "outputs": [],
   "source": [
    "data = d[(d['roi']=='V1') & (d['phase']=='post')]['target-foil'] - d[(d['roi']=='V1') & (d['phase']=='pre')]['target-foil']\n"
   ]
  },
  {
   "cell_type": "code",
   "execution_count": 431,
   "metadata": {},
   "outputs": [
    {
     "name": "stdout",
     "output_type": "stream",
     "text": [
      "-0.09249694762771853 0.30168558405839757 0.316666666667 1.68333333333\n"
     ]
    }
   ],
   "source": [
    "U,lb,ub,p1,p2 = h.bootstrapCI(data.values,3000)\n",
    "print lb,ub,p1,p2"
   ]
  },
  {
   "cell_type": "code",
   "execution_count": 428,
   "metadata": {},
   "outputs": [
    {
     "name": "stdout",
     "output_type": "stream",
     "text": [
      "-0.08384034705781303 0.2808052224982292 0.326 1.674\n"
     ]
    }
   ],
   "source": []
  },
  {
   "cell_type": "code",
   "execution_count": null,
   "metadata": {},
   "outputs": [],
   "source": []
  },
  {
   "cell_type": "code",
   "execution_count": 424,
   "metadata": {},
   "outputs": [
    {
     "name": "stdout",
     "output_type": "stream",
     "text": [
      "-0.2669666769209504 1.226103187782581 0.294666666667 1.70533333333\n"
     ]
    }
   ],
   "source": []
  },
  {
   "cell_type": "code",
   "execution_count": null,
   "metadata": {},
   "outputs": [],
   "source": []
  },
  {
   "cell_type": "code",
   "execution_count": 315,
   "metadata": {},
   "outputs": [],
   "source": [
    "def get_log_prob_timecourse(iv,DM,version='4way'):\n",
    "\n",
    "    t1 = DM['t1_name'].unique()[0]\n",
    "    t2 = DM['t2_name'].unique()[0]\n",
    "    c1 = DM['c1_name'].unique()[0]\n",
    "    c2 = DM['c2_name'].unique()[0]\n",
    "    \n",
    "    target = np.vstack((DM[DM.label==t1].groupby(iv)['t1_prob'].mean().values,\n",
    "                   DM[DM.label==t2].groupby(iv)['t2_prob'].mean().values)).mean(0) ## target timecourse\n",
    "    foil = np.vstack((DM[DM.label==t1].groupby(iv)['t2_prob'].mean().values,\n",
    "                   DM[DM.label==t2].groupby(iv)['t1_prob'].mean().values)).mean(0) ## foil timecourse\n",
    "    control = np.vstack((DM[DM.label==t1].groupby(iv)['c1_prob'].mean().values,\n",
    "                        DM[DM.label==t1].groupby(iv)['c2_prob'].mean().values,\n",
    "                        DM[DM.label==t2].groupby(iv)['c1_prob'].mean().values,\n",
    "                        DM[DM.label==t2].groupby(iv)['c2_prob'].mean().values)).mean(0) ## control timecourse\n",
    "    return target, foil, control"
   ]
  },
  {
   "cell_type": "code",
   "execution_count": 354,
   "metadata": {},
   "outputs": [],
   "source": [
    "DM = ALLPRE[(ALLPRE['roi']=='V2') & (ALLPRE['subj']=='0110171')]\n",
    "\n",
    "t1 = DM['t1_name'].unique()[0]\n",
    "t2 = DM['t2_name'].unique()[0]\n",
    "c1 = DM['c1_name'].unique()[0]\n",
    "c2 = DM['c2_name'].unique()[0]"
   ]
  },
  {
   "cell_type": "code",
   "execution_count": 371,
   "metadata": {},
   "outputs": [],
   "source": [
    "if DM.shape[0]==160: ## then this is a recog run, so log prob timecourse is computed differently\n",
    "    target = np.hstack((DM[DM.label==t1]['t1_prob'].values,DM[DM.label==t2]['t2_prob'].values))\n",
    "    foil = np.hstack((DM[DM.label==t1]['t2_prob'].values,DM[DM.label==t2]['t1_prob'].values))\n",
    "    c1 = np.hstack((DM[DM.label==t1]['c1_prob'].values,DM[DM.label==t2]['c1_prob'].values))\n",
    "    c2 = np.hstack((DM[DM.label==t1]['c2_prob'].values,DM[DM.label==t2]['c2_prob'].values))\n",
    "    control = np.vstack((c1,c2)).mean(0)"
   ]
  },
  {
   "cell_type": "code",
   "execution_count": 374,
   "metadata": {},
   "outputs": [],
   "source": []
  },
  {
   "cell_type": "code",
   "execution_count": 381,
   "metadata": {},
   "outputs": [
    {
     "data": {
      "text/plain": [
       "(160, 17)"
      ]
     },
     "execution_count": 381,
     "metadata": {},
     "output_type": "execute_result"
    }
   ],
   "source": [
    "\n"
   ]
  },
  {
   "cell_type": "code",
   "execution_count": null,
   "metadata": {},
   "outputs": [],
   "source": []
  },
  {
   "cell_type": "code",
   "execution_count": 324,
   "metadata": {},
   "outputs": [
    {
     "data": {
      "text/plain": [
       "147"
      ]
     },
     "execution_count": 324,
     "metadata": {},
     "output_type": "execute_result"
    }
   ],
   "source": [
    "iv = 'TR_num'\n",
    "len(DM[DM.label==t1].groupby(iv)['t1_prob'].mean().values)"
   ]
  },
  {
   "cell_type": "code",
   "execution_count": 323,
   "metadata": {},
   "outputs": [
    {
     "data": {
      "text/plain": [
       "135"
      ]
     },
     "execution_count": 323,
     "metadata": {},
     "output_type": "execute_result"
    }
   ],
   "source": [
    "len(DM[DM.label==t2].groupby(iv)['t2_prob'].mean().values)"
   ]
  },
  {
   "cell_type": "code",
   "execution_count": 343,
   "metadata": {},
   "outputs": [
    {
     "data": {
      "text/plain": [
       "array(['0110171', '0110172', '0111171', '0112171', '0112172', '0112173',\n",
       "       '0113171', '0115174', '0117171', '0118171', '0118172', '0119171',\n",
       "       '0119172', '0119173', '0119174', '0120171', '0120172', '0120173',\n",
       "       '0123171', '0123173', '0124171', '0125171', '0125172', '1121161',\n",
       "       '1130161', '1202161', '1203161', '1206161', '1206162', '1206163',\n",
       "       '1207162'], dtype=object)"
      ]
     },
     "execution_count": 343,
     "metadata": {},
     "output_type": "execute_result"
    }
   ],
   "source": [
    "ALLDM['subj'].unique()"
   ]
  },
  {
   "cell_type": "code",
   "execution_count": 331,
   "metadata": {},
   "outputs": [
    {
     "data": {
      "text/plain": [
       "3      -4.492979\n",
       "5      -2.992028\n",
       "11     -2.725234\n",
       "14     -4.339596\n",
       "16    -10.133366\n",
       "20     -1.815355\n",
       "24     -0.941285\n",
       "28     -0.228335\n",
       "32     -4.292878\n",
       "38     -4.055383\n",
       "43     -3.972063\n",
       "47     -2.738920\n",
       "51     -4.452698\n",
       "53     -0.686480\n",
       "56    -12.195244\n",
       "63     -4.851569\n",
       "65     -6.899582\n",
       "71     -7.834578\n",
       "73     -1.364021\n",
       "76     -6.218960\n",
       "80     -0.838433\n",
       "87     -0.663220\n",
       "88     -0.321744\n",
       "92     -0.405275\n",
       "97     -0.143636\n",
       "100    -0.122189\n",
       "107    -0.457257\n",
       "110    -2.773324\n",
       "112    -0.671383\n",
       "118    -0.342018\n",
       "         ...    \n",
       "803    -1.128613\n",
       "806    -0.984568\n",
       "808    -0.380630\n",
       "812    -0.455822\n",
       "818    -0.397568\n",
       "821    -0.570034\n",
       "826    -3.988712\n",
       "828    -1.956083\n",
       "833    -0.406787\n",
       "838    -2.301288\n",
       "841    -1.359171\n",
       "847    -5.391943\n",
       "850    -0.923218\n",
       "854    -0.549416\n",
       "859    -1.576205\n",
       "861    -1.238381\n",
       "864    -0.735017\n",
       "870    -0.688093\n",
       "874    -5.245093\n",
       "878    -1.243953\n",
       "881    -0.786446\n",
       "884    -3.456666\n",
       "891    -7.502729\n",
       "893    -2.671171\n",
       "899    -1.270758\n",
       "900    -3.027959\n",
       "906    -1.959111\n",
       "910    -1.936821\n",
       "913    -1.649823\n",
       "916    -5.119131\n",
       "Name: t1_prob, Length: 230, dtype: float64"
      ]
     },
     "execution_count": 331,
     "metadata": {},
     "output_type": "execute_result"
    }
   ],
   "source": [
    "DM[DM.label==t1]['t1_prob']"
   ]
  },
  {
   "cell_type": "code",
   "execution_count": null,
   "metadata": {},
   "outputs": [],
   "source": []
  },
  {
   "cell_type": "code",
   "execution_count": null,
   "metadata": {},
   "outputs": [],
   "source": []
  },
  {
   "cell_type": "code",
   "execution_count": null,
   "metadata": {},
   "outputs": [],
   "source": []
  },
  {
   "cell_type": "code",
   "execution_count": null,
   "metadata": {},
   "outputs": [],
   "source": []
  },
  {
   "cell_type": "markdown",
   "metadata": {},
   "source": [
    "### make summary timecourse plots"
   ]
  },
  {
   "cell_type": "code",
   "execution_count": 111,
   "metadata": {},
   "outputs": [
    {
     "name": "stdout",
     "output_type": "stream",
     "text": [
      "Now plotting results for V1 ...\n",
      "Now plotting results for V2 ...\n",
      "Now plotting results for LOC ...\n",
      "Now plotting results for IT ...\n",
      "Now plotting results for fusiform ...\n",
      "Now plotting results for parahippo ...\n",
      "Now plotting results for PRC ...\n",
      "Now plotting results for ento ...\n",
      "Now plotting results for hipp ...\n"
     ]
    }
   ],
   "source": [
    "reload(h)\n",
    "# versions = ['2way','3way','4way', '4wayIndependent']\n",
    "versions = ['4way']\n",
    "tags = ['logged']\n",
    "# tags = ['logged', 'raw']\n",
    "iv_list = ['time_point','trial_num','run_num']\n",
    "csvname = 'logistic_timeseries_drawing_neural_{}_{}.csv'\n",
    "\n",
    "reallyRun = 1\n",
    "if reallyRun:\n",
    "    for version in versions:\n",
    "        for tag in tags:\n",
    "            ALLDM = pd.read_csv(\n",
    "                os.path.join(results_dir, csvname.format(version,tag)))\n",
    "            try:\n",
    "                h.plot_summary_timecourse(ALLDM,\n",
    "                                        this_iv='trial_num',\n",
    "                                        roi_list=roi_list_recog,\n",
    "                                        render_cond=1,\n",
    "                                        version = version,\n",
    "                                        proj_dir=proj_dir)\n",
    "            except KeyError:\n",
    "                pass"
   ]
  },
  {
   "cell_type": "code",
   "execution_count": 13,
   "metadata": {},
   "outputs": [],
   "source": [
    "vgg_mode = 0\n",
    "if vgg_mode:\n",
    "    vgg_tag = 'raw'\n",
    "    baseline_correct = True\n",
    "    bc = 'basecorr' if baseline_correct else ''\n",
    "    VGG = pd.read_csv(str(results_dir)+'VGG_{}_{}.csv'.format(vgg_tag, bc))\n",
    "\n",
    "    h.plot_summary_timecourse(VGG,\n",
    "                            this_iv='trial_num',\n",
    "                            roi_list=['VGG'],\n",
    "                            render_cond=1,\n",
    "                            baseline_correct = True,\n",
    "                            version = version,\n",
    "                            proj_dir=proj_dir)"
   ]
  },
  {
   "cell_type": "markdown",
   "metadata": {},
   "source": [
    "#### get subject-level index of contrast between objects during drawing\n"
   ]
  },
  {
   "cell_type": "code",
   "execution_count": 303,
   "metadata": {},
   "outputs": [
    {
     "name": "stdout",
     "output_type": "stream",
     "text": [
      "====== 2way ======\n"
     ]
    },
    {
     "ename": "KeyError",
     "evalue": "'t1_name'",
     "output_type": "error",
     "traceback": [
      "\u001b[0;31m---------------------------------------------------------------------------\u001b[0m",
      "\u001b[0;31mKeyError\u001b[0m                                  Traceback (most recent call last)",
      "\u001b[0;32m<ipython-input-303-8acf4dd0087f>\u001b[0m in \u001b[0;36m<module>\u001b[0;34m()\u001b[0m\n\u001b[1;32m     13\u001b[0m                    \u001b[0mversion\u001b[0m\u001b[0;34m=\u001b[0m\u001b[0mthis_version\u001b[0m\u001b[0;34m,\u001b[0m\u001b[0;34m\u001b[0m\u001b[0m\n\u001b[1;32m     14\u001b[0m                    \u001b[0mlogged\u001b[0m\u001b[0;34m=\u001b[0m\u001b[0mTrue\u001b[0m\u001b[0;34m,\u001b[0m\u001b[0;34m\u001b[0m\u001b[0m\n\u001b[0;32m---> 15\u001b[0;31m                    proj_dir=proj_dir)\n\u001b[0m",
      "\u001b[0;32m/home/jefan/neurosketch/python/analysis_helpers.py\u001b[0m in \u001b[0;36mget_log_odds\u001b[0;34m(ALLDM, this_iv, roi_list, version, logged, proj_dir)\u001b[0m\n\u001b[1;32m    839\u001b[0m         \u001b[0;32mfor\u001b[0m \u001b[0msub\u001b[0m \u001b[0;32min\u001b[0m \u001b[0msubs\u001b[0m\u001b[0;34m:\u001b[0m\u001b[0;34m\u001b[0m\u001b[0m\n\u001b[1;32m    840\u001b[0m             \u001b[0minds\u001b[0m \u001b[0;34m=\u001b[0m \u001b[0;34m(\u001b[0m\u001b[0mALLDM\u001b[0m\u001b[0;34m[\u001b[0m\u001b[0;34m'roi'\u001b[0m\u001b[0;34m]\u001b[0m\u001b[0;34m==\u001b[0m\u001b[0mthis_roi\u001b[0m\u001b[0;34m)\u001b[0m \u001b[0;34m&\u001b[0m \u001b[0;34m(\u001b[0m\u001b[0mALLDM\u001b[0m\u001b[0;34m[\u001b[0m\u001b[0;34m'subj'\u001b[0m\u001b[0;34m]\u001b[0m\u001b[0;34m==\u001b[0m\u001b[0msub\u001b[0m\u001b[0;34m)\u001b[0m \u001b[0;32mif\u001b[0m \u001b[0mthis_roi\u001b[0m \u001b[0;34m!=\u001b[0m \u001b[0;34m'VGG'\u001b[0m \u001b[0;32melse\u001b[0m \u001b[0;34m(\u001b[0m\u001b[0mALLDM\u001b[0m\u001b[0;34m[\u001b[0m\u001b[0;34m'roi'\u001b[0m\u001b[0;34m]\u001b[0m\u001b[0;34m==\u001b[0m\u001b[0mthis_roi\u001b[0m\u001b[0;34m)\u001b[0m \u001b[0;34m&\u001b[0m \u001b[0;34m(\u001b[0m\u001b[0mALLDM\u001b[0m\u001b[0;34m[\u001b[0m\u001b[0;34m'subj'\u001b[0m\u001b[0;34m]\u001b[0m\u001b[0;34m==\u001b[0m\u001b[0msub\u001b[0m\u001b[0;34m)\u001b[0m \u001b[0;34m&\u001b[0m \u001b[0;34m(\u001b[0m\u001b[0mALLDM\u001b[0m\u001b[0;34m[\u001b[0m\u001b[0;34m'time_point'\u001b[0m\u001b[0;34m]\u001b[0m \u001b[0;34m==\u001b[0m \u001b[0;36m23\u001b[0m\u001b[0;34m)\u001b[0m\u001b[0;34m\u001b[0m\u001b[0m\n\u001b[0;32m--> 841\u001b[0;31m             \u001b[0mt\u001b[0m\u001b[0;34m,\u001b[0m\u001b[0mf\u001b[0m\u001b[0;34m,\u001b[0m\u001b[0mc\u001b[0m \u001b[0;34m=\u001b[0m \u001b[0mget_log_prob_timecourse\u001b[0m\u001b[0;34m(\u001b[0m\u001b[0mthis_iv\u001b[0m\u001b[0;34m,\u001b[0m\u001b[0mALLDM\u001b[0m\u001b[0;34m[\u001b[0m\u001b[0minds\u001b[0m\u001b[0;34m]\u001b[0m\u001b[0;34m,\u001b[0m\u001b[0mversion\u001b[0m\u001b[0;34m=\u001b[0m\u001b[0mversion\u001b[0m\u001b[0;34m)\u001b[0m \u001b[0;32mif\u001b[0m \u001b[0mlogged\u001b[0m \u001b[0;32melse\u001b[0m \u001b[0mget_prob_timecourse\u001b[0m\u001b[0;34m(\u001b[0m\u001b[0mthis_iv\u001b[0m\u001b[0;34m,\u001b[0m\u001b[0mALLDM\u001b[0m\u001b[0;34m[\u001b[0m\u001b[0minds\u001b[0m\u001b[0;34m]\u001b[0m\u001b[0;34m,\u001b[0m\u001b[0mversion\u001b[0m\u001b[0;34m=\u001b[0m\u001b[0mversion\u001b[0m\u001b[0;34m)\u001b[0m\u001b[0;34m\u001b[0m\u001b[0m\n\u001b[0m\u001b[1;32m    842\u001b[0m             \u001b[0;32mif\u001b[0m \u001b[0mlen\u001b[0m\u001b[0;34m(\u001b[0m\u001b[0mT\u001b[0m\u001b[0;34m)\u001b[0m\u001b[0;34m==\u001b[0m\u001b[0;36m0\u001b[0m\u001b[0;34m:\u001b[0m\u001b[0;34m\u001b[0m\u001b[0m\n\u001b[1;32m    843\u001b[0m                 \u001b[0mT\u001b[0m \u001b[0;34m=\u001b[0m \u001b[0mt\u001b[0m\u001b[0;34m\u001b[0m\u001b[0m\n",
      "\u001b[0;32m/home/jefan/neurosketch/python/analysis_helpers.py\u001b[0m in \u001b[0;36mget_log_prob_timecourse\u001b[0;34m(iv, DM, version)\u001b[0m\n\u001b[1;32m    178\u001b[0m \u001b[0;32mdef\u001b[0m \u001b[0mget_log_prob_timecourse\u001b[0m\u001b[0;34m(\u001b[0m\u001b[0miv\u001b[0m\u001b[0;34m,\u001b[0m\u001b[0mDM\u001b[0m\u001b[0;34m,\u001b[0m\u001b[0mversion\u001b[0m\u001b[0;34m=\u001b[0m\u001b[0;34m'4way'\u001b[0m\u001b[0;34m)\u001b[0m\u001b[0;34m:\u001b[0m\u001b[0;34m\u001b[0m\u001b[0m\n\u001b[1;32m    179\u001b[0m \u001b[0;34m\u001b[0m\u001b[0m\n\u001b[0;32m--> 180\u001b[0;31m     \u001b[0mt1\u001b[0m \u001b[0;34m=\u001b[0m \u001b[0mDM\u001b[0m\u001b[0;34m[\u001b[0m\u001b[0;34m't1_name'\u001b[0m\u001b[0;34m]\u001b[0m\u001b[0;34m.\u001b[0m\u001b[0munique\u001b[0m\u001b[0;34m(\u001b[0m\u001b[0;34m)\u001b[0m\u001b[0;34m[\u001b[0m\u001b[0;36m0\u001b[0m\u001b[0;34m]\u001b[0m\u001b[0;34m\u001b[0m\u001b[0m\n\u001b[0m\u001b[1;32m    181\u001b[0m     \u001b[0mt2\u001b[0m \u001b[0;34m=\u001b[0m \u001b[0mDM\u001b[0m\u001b[0;34m[\u001b[0m\u001b[0;34m't2_name'\u001b[0m\u001b[0;34m]\u001b[0m\u001b[0;34m.\u001b[0m\u001b[0munique\u001b[0m\u001b[0;34m(\u001b[0m\u001b[0;34m)\u001b[0m\u001b[0;34m[\u001b[0m\u001b[0;36m0\u001b[0m\u001b[0;34m]\u001b[0m\u001b[0;34m\u001b[0m\u001b[0m\n\u001b[1;32m    182\u001b[0m     \u001b[0mc1\u001b[0m \u001b[0;34m=\u001b[0m \u001b[0mDM\u001b[0m\u001b[0;34m[\u001b[0m\u001b[0;34m'c1_name'\u001b[0m\u001b[0;34m]\u001b[0m\u001b[0;34m.\u001b[0m\u001b[0munique\u001b[0m\u001b[0;34m(\u001b[0m\u001b[0;34m)\u001b[0m\u001b[0;34m[\u001b[0m\u001b[0;36m0\u001b[0m\u001b[0;34m]\u001b[0m\u001b[0;34m\u001b[0m\u001b[0m\n",
      "\u001b[0;32m/home/jefan/.local/lib/python2.7/site-packages/pandas/core/frame.pyc\u001b[0m in \u001b[0;36m__getitem__\u001b[0;34m(self, key)\u001b[0m\n\u001b[1;32m   2686\u001b[0m             \u001b[0;32mreturn\u001b[0m \u001b[0mself\u001b[0m\u001b[0;34m.\u001b[0m\u001b[0m_getitem_multilevel\u001b[0m\u001b[0;34m(\u001b[0m\u001b[0mkey\u001b[0m\u001b[0;34m)\u001b[0m\u001b[0;34m\u001b[0m\u001b[0m\n\u001b[1;32m   2687\u001b[0m         \u001b[0;32melse\u001b[0m\u001b[0;34m:\u001b[0m\u001b[0;34m\u001b[0m\u001b[0m\n\u001b[0;32m-> 2688\u001b[0;31m             \u001b[0;32mreturn\u001b[0m \u001b[0mself\u001b[0m\u001b[0;34m.\u001b[0m\u001b[0m_getitem_column\u001b[0m\u001b[0;34m(\u001b[0m\u001b[0mkey\u001b[0m\u001b[0;34m)\u001b[0m\u001b[0;34m\u001b[0m\u001b[0m\n\u001b[0m\u001b[1;32m   2689\u001b[0m \u001b[0;34m\u001b[0m\u001b[0m\n\u001b[1;32m   2690\u001b[0m     \u001b[0;32mdef\u001b[0m \u001b[0m_getitem_column\u001b[0m\u001b[0;34m(\u001b[0m\u001b[0mself\u001b[0m\u001b[0;34m,\u001b[0m \u001b[0mkey\u001b[0m\u001b[0;34m)\u001b[0m\u001b[0;34m:\u001b[0m\u001b[0;34m\u001b[0m\u001b[0m\n",
      "\u001b[0;32m/home/jefan/.local/lib/python2.7/site-packages/pandas/core/frame.pyc\u001b[0m in \u001b[0;36m_getitem_column\u001b[0;34m(self, key)\u001b[0m\n\u001b[1;32m   2693\u001b[0m         \u001b[0;31m# get column\u001b[0m\u001b[0;34m\u001b[0m\u001b[0;34m\u001b[0m\u001b[0m\n\u001b[1;32m   2694\u001b[0m         \u001b[0;32mif\u001b[0m \u001b[0mself\u001b[0m\u001b[0;34m.\u001b[0m\u001b[0mcolumns\u001b[0m\u001b[0;34m.\u001b[0m\u001b[0mis_unique\u001b[0m\u001b[0;34m:\u001b[0m\u001b[0;34m\u001b[0m\u001b[0m\n\u001b[0;32m-> 2695\u001b[0;31m             \u001b[0;32mreturn\u001b[0m \u001b[0mself\u001b[0m\u001b[0;34m.\u001b[0m\u001b[0m_get_item_cache\u001b[0m\u001b[0;34m(\u001b[0m\u001b[0mkey\u001b[0m\u001b[0;34m)\u001b[0m\u001b[0;34m\u001b[0m\u001b[0m\n\u001b[0m\u001b[1;32m   2696\u001b[0m \u001b[0;34m\u001b[0m\u001b[0m\n\u001b[1;32m   2697\u001b[0m         \u001b[0;31m# duplicate columns & possible reduce dimensionality\u001b[0m\u001b[0;34m\u001b[0m\u001b[0;34m\u001b[0m\u001b[0m\n",
      "\u001b[0;32m/home/jefan/.local/lib/python2.7/site-packages/pandas/core/generic.pyc\u001b[0m in \u001b[0;36m_get_item_cache\u001b[0;34m(self, item)\u001b[0m\n\u001b[1;32m   2487\u001b[0m         \u001b[0mres\u001b[0m \u001b[0;34m=\u001b[0m \u001b[0mcache\u001b[0m\u001b[0;34m.\u001b[0m\u001b[0mget\u001b[0m\u001b[0;34m(\u001b[0m\u001b[0mitem\u001b[0m\u001b[0;34m)\u001b[0m\u001b[0;34m\u001b[0m\u001b[0m\n\u001b[1;32m   2488\u001b[0m         \u001b[0;32mif\u001b[0m \u001b[0mres\u001b[0m \u001b[0;32mis\u001b[0m \u001b[0mNone\u001b[0m\u001b[0;34m:\u001b[0m\u001b[0;34m\u001b[0m\u001b[0m\n\u001b[0;32m-> 2489\u001b[0;31m             \u001b[0mvalues\u001b[0m \u001b[0;34m=\u001b[0m \u001b[0mself\u001b[0m\u001b[0;34m.\u001b[0m\u001b[0m_data\u001b[0m\u001b[0;34m.\u001b[0m\u001b[0mget\u001b[0m\u001b[0;34m(\u001b[0m\u001b[0mitem\u001b[0m\u001b[0;34m)\u001b[0m\u001b[0;34m\u001b[0m\u001b[0m\n\u001b[0m\u001b[1;32m   2490\u001b[0m             \u001b[0mres\u001b[0m \u001b[0;34m=\u001b[0m \u001b[0mself\u001b[0m\u001b[0;34m.\u001b[0m\u001b[0m_box_item_values\u001b[0m\u001b[0;34m(\u001b[0m\u001b[0mitem\u001b[0m\u001b[0;34m,\u001b[0m \u001b[0mvalues\u001b[0m\u001b[0;34m)\u001b[0m\u001b[0;34m\u001b[0m\u001b[0m\n\u001b[1;32m   2491\u001b[0m             \u001b[0mcache\u001b[0m\u001b[0;34m[\u001b[0m\u001b[0mitem\u001b[0m\u001b[0;34m]\u001b[0m \u001b[0;34m=\u001b[0m \u001b[0mres\u001b[0m\u001b[0;34m\u001b[0m\u001b[0m\n",
      "\u001b[0;32m/home/jefan/.local/lib/python2.7/site-packages/pandas/core/internals.pyc\u001b[0m in \u001b[0;36mget\u001b[0;34m(self, item, fastpath)\u001b[0m\n\u001b[1;32m   4113\u001b[0m \u001b[0;34m\u001b[0m\u001b[0m\n\u001b[1;32m   4114\u001b[0m             \u001b[0;32mif\u001b[0m \u001b[0;32mnot\u001b[0m \u001b[0misna\u001b[0m\u001b[0;34m(\u001b[0m\u001b[0mitem\u001b[0m\u001b[0;34m)\u001b[0m\u001b[0;34m:\u001b[0m\u001b[0;34m\u001b[0m\u001b[0m\n\u001b[0;32m-> 4115\u001b[0;31m                 \u001b[0mloc\u001b[0m \u001b[0;34m=\u001b[0m \u001b[0mself\u001b[0m\u001b[0;34m.\u001b[0m\u001b[0mitems\u001b[0m\u001b[0;34m.\u001b[0m\u001b[0mget_loc\u001b[0m\u001b[0;34m(\u001b[0m\u001b[0mitem\u001b[0m\u001b[0;34m)\u001b[0m\u001b[0;34m\u001b[0m\u001b[0m\n\u001b[0m\u001b[1;32m   4116\u001b[0m             \u001b[0;32melse\u001b[0m\u001b[0;34m:\u001b[0m\u001b[0;34m\u001b[0m\u001b[0m\n\u001b[1;32m   4117\u001b[0m                 \u001b[0mindexer\u001b[0m \u001b[0;34m=\u001b[0m \u001b[0mnp\u001b[0m\u001b[0;34m.\u001b[0m\u001b[0marange\u001b[0m\u001b[0;34m(\u001b[0m\u001b[0mlen\u001b[0m\u001b[0;34m(\u001b[0m\u001b[0mself\u001b[0m\u001b[0;34m.\u001b[0m\u001b[0mitems\u001b[0m\u001b[0;34m)\u001b[0m\u001b[0;34m)\u001b[0m\u001b[0;34m[\u001b[0m\u001b[0misna\u001b[0m\u001b[0;34m(\u001b[0m\u001b[0mself\u001b[0m\u001b[0;34m.\u001b[0m\u001b[0mitems\u001b[0m\u001b[0;34m)\u001b[0m\u001b[0;34m]\u001b[0m\u001b[0;34m\u001b[0m\u001b[0m\n",
      "\u001b[0;32m/home/jefan/.local/lib/python2.7/site-packages/pandas/core/indexes/base.pyc\u001b[0m in \u001b[0;36mget_loc\u001b[0;34m(self, key, method, tolerance)\u001b[0m\n\u001b[1;32m   3078\u001b[0m                 \u001b[0;32mreturn\u001b[0m \u001b[0mself\u001b[0m\u001b[0;34m.\u001b[0m\u001b[0m_engine\u001b[0m\u001b[0;34m.\u001b[0m\u001b[0mget_loc\u001b[0m\u001b[0;34m(\u001b[0m\u001b[0mkey\u001b[0m\u001b[0;34m)\u001b[0m\u001b[0;34m\u001b[0m\u001b[0m\n\u001b[1;32m   3079\u001b[0m             \u001b[0;32mexcept\u001b[0m \u001b[0mKeyError\u001b[0m\u001b[0;34m:\u001b[0m\u001b[0;34m\u001b[0m\u001b[0m\n\u001b[0;32m-> 3080\u001b[0;31m                 \u001b[0;32mreturn\u001b[0m \u001b[0mself\u001b[0m\u001b[0;34m.\u001b[0m\u001b[0m_engine\u001b[0m\u001b[0;34m.\u001b[0m\u001b[0mget_loc\u001b[0m\u001b[0;34m(\u001b[0m\u001b[0mself\u001b[0m\u001b[0;34m.\u001b[0m\u001b[0m_maybe_cast_indexer\u001b[0m\u001b[0;34m(\u001b[0m\u001b[0mkey\u001b[0m\u001b[0;34m)\u001b[0m\u001b[0;34m)\u001b[0m\u001b[0;34m\u001b[0m\u001b[0m\n\u001b[0m\u001b[1;32m   3081\u001b[0m \u001b[0;34m\u001b[0m\u001b[0m\n\u001b[1;32m   3082\u001b[0m         \u001b[0mindexer\u001b[0m \u001b[0;34m=\u001b[0m \u001b[0mself\u001b[0m\u001b[0;34m.\u001b[0m\u001b[0mget_indexer\u001b[0m\u001b[0;34m(\u001b[0m\u001b[0;34m[\u001b[0m\u001b[0mkey\u001b[0m\u001b[0;34m]\u001b[0m\u001b[0;34m,\u001b[0m \u001b[0mmethod\u001b[0m\u001b[0;34m=\u001b[0m\u001b[0mmethod\u001b[0m\u001b[0;34m,\u001b[0m \u001b[0mtolerance\u001b[0m\u001b[0;34m=\u001b[0m\u001b[0mtolerance\u001b[0m\u001b[0;34m)\u001b[0m\u001b[0;34m\u001b[0m\u001b[0m\n",
      "\u001b[0;32mpandas/_libs/index.pyx\u001b[0m in \u001b[0;36mpandas._libs.index.IndexEngine.get_loc\u001b[0;34m()\u001b[0m\n",
      "\u001b[0;32mpandas/_libs/index.pyx\u001b[0m in \u001b[0;36mpandas._libs.index.IndexEngine.get_loc\u001b[0;34m()\u001b[0m\n",
      "\u001b[0;32mpandas/_libs/hashtable_class_helper.pxi\u001b[0m in \u001b[0;36mpandas._libs.hashtable.PyObjectHashTable.get_item\u001b[0;34m()\u001b[0m\n",
      "\u001b[0;32mpandas/_libs/hashtable_class_helper.pxi\u001b[0m in \u001b[0;36mpandas._libs.hashtable.PyObjectHashTable.get_item\u001b[0;34m()\u001b[0m\n",
      "\u001b[0;31mKeyError\u001b[0m: 't1_name'"
     ]
    }
   ],
   "source": [
    "lookup = dict(zip(['trial_num','run_num','time_point'],['repetition','run','TR']))\n",
    "version_list = ['2way','3way','4way']\n",
    "tag = 'logged'\n",
    "this_iv = 'trial_num' ## other options 'run_num','trial_num','time_point'\n",
    "reload(h)\n",
    "for this_version in version_list:\n",
    "    print '====== {} ======'.format(this_version)\n",
    "    ALLDM = pd.read_csv('{}/csv/logistic_timeseries_drawing_neural_{}_{}.csv'.format(proj_dir,this_version,tag))\n",
    "    ALLDM = h.cleanup_df(ALLDM)\n",
    "    d = h.get_log_odds(ALLDM,\n",
    "                   this_iv = this_iv,\n",
    "                   roi_list = roi_list_recog,\n",
    "                   version=this_version,\n",
    "                   logged=True,\n",
    "                   proj_dir=proj_dir)\n"
   ]
  },
  {
   "cell_type": "code",
   "execution_count": 15,
   "metadata": {},
   "outputs": [
    {
     "data": {
      "image/png": "[encoded data removed]",
      "text/plain": [
       "<Figure size 432x288 with 1 Axes>"
      ]
     },
     "metadata": {},
     "output_type": "display_data"
    }
   ],
   "source": [
    "run_this = 1\n",
    "if run_this:\n",
    "    ## comparing 4-way and 2-way probability ratios\n",
    "    d4way = pd.read_csv(os.path.join(proj_dir,'csv', 'difference_logprobs_4way.csv'))\n",
    "    d2way = pd.read_csv(os.path.join(proj_dir,'csv', 'difference_logprobs_2way.csv'))\n",
    "    inds = d4way['roi']=='V1'\n",
    "    plt.scatter(d4way[inds]['target-foil'],d2way[inds]['target-foil'])"
   ]
  },
  {
   "cell_type": "code",
   "execution_count": 16,
   "metadata": {},
   "outputs": [
    {
     "name": "stdout",
     "output_type": "stream",
     "text": [
      "------- condition: target-foil -------\n",
      "ROI = V1 | mean = 0.69538  95% CI: [0.472 0.92676] p(x<0)=0.0 p(x>0)=2.0\n",
      "ROI = V2 | mean = 0.79073  95% CI: [0.544 1.05589] p(x<0)=0.0 p(x>0)=2.0\n",
      "ROI = LOC | mean = 0.32103  95% CI: [0.227 0.42033] p(x<0)=0.0 p(x>0)=2.0\n",
      "ROI = IT | mean = -0.01537  95% CI: [-0.088 0.05629] p(x<0)=1.31067 p(x>0)=0.68933\n",
      "ROI = fusiform | mean = 0.15829  95% CI: [0.081 0.23466] p(x<0)=0.0 p(x>0)=2.0\n",
      "ROI = parahippo | mean = -0.02608  95% CI: [-0.081 0.0295] p(x<0)=1.63267 p(x>0)=0.36733\n",
      "ROI = PRC | mean = -0.01341  95% CI: [-0.07 0.04382] p(x<0)=1.37467 p(x>0)=0.62533\n",
      "ROI = ento | mean = 0.00705  95% CI: [-0.052 0.06451] p(x<0)=0.80867 p(x>0)=1.19133\n",
      "ROI = hipp | mean = 0.01326  95% CI: [-0.042 0.07028] p(x<0)=0.64067 p(x>0)=1.35933\n",
      "------- condition: target-control -------\n",
      "ROI = V1 | mean = 0.247  95% CI: [0.113 0.38657] p(x<0)=0.0 p(x>0)=2.0\n",
      "ROI = V2 | mean = 0.2912  95% CI: [0.148 0.43988] p(x<0)=0.0 p(x>0)=2.0\n",
      "ROI = LOC | mean = 0.15865  95% CI: [0.066 0.26207] p(x<0)=0.00067 p(x>0)=1.99933\n",
      "ROI = IT | mean = -0.08056  95% CI: [-0.168 0.00332] p(x<0)=1.934 p(x>0)=0.066\n",
      "ROI = fusiform | mean = 0.09639  95% CI: [-0.034 0.22453] p(x<0)=0.14933 p(x>0)=1.85067\n",
      "ROI = parahippo | mean = -0.0075  95% CI: [-0.069 0.05477] p(x<0)=1.18467 p(x>0)=0.81533\n",
      "ROI = PRC | mean = -0.0212  95% CI: [-0.067 0.02505] p(x<0)=1.62267 p(x>0)=0.37733\n",
      "ROI = ento | mean = -0.05273  95% CI: [-0.119 0.01383] p(x<0)=1.882 p(x>0)=0.118\n",
      "ROI = hipp | mean = 0.00084  95% CI: [-0.055 0.05575] p(x<0)=0.96267 p(x>0)=1.03733\n",
      "------- condition: foil-control -------\n",
      "ROI = V1 | mean = -0.44838  95% CI: [-0.607 -0.29175] p(x<0)=2.0 p(x>0)=0.0\n",
      "ROI = V2 | mean = -0.49953  95% CI: [-0.714 -0.28014] p(x<0)=2.0 p(x>0)=0.0\n",
      "ROI = LOC | mean = -0.16239  95% CI: [-0.255 -0.06672] p(x<0)=1.998 p(x>0)=0.002\n",
      "ROI = IT | mean = -0.0652  95% CI: [-0.16 0.0247] p(x<0)=1.84 p(x>0)=0.16\n",
      "ROI = fusiform | mean = -0.0619  95% CI: [-0.18 0.0586] p(x<0)=1.676 p(x>0)=0.324\n",
      "ROI = parahippo | mean = 0.01858  95% CI: [-0.03 0.06755] p(x<0)=0.46333 p(x>0)=1.53667\n",
      "ROI = PRC | mean = -0.00778  95% CI: [-0.056 0.03859] p(x<0)=1.244 p(x>0)=0.756\n",
      "ROI = ento | mean = -0.05978  95% CI: [-0.126 0.00483] p(x<0)=1.92667 p(x>0)=0.07333\n",
      "ROI = hipp | mean = -0.01242  95% CI: [-0.074 0.04555] p(x<0)=1.32267 p(x>0)=0.67733\n"
     ]
    }
   ],
   "source": [
    "conditions = ['target-foil','target-control','foil-control']\n",
    "for condition in conditions:\n",
    "    print('------- condition: {} -------'.format(condition))\n",
    "    for this_roi in roi_list_recog:\n",
    "        data = d[d['roi']==this_roi][condition].values\n",
    "        U,lb,ub,p1,p2 = h.bootstrapCI(data,3000)\n",
    "        print('ROI = {} | mean = {}  95% CI: [{} {}] p(x<0)={} p(x>0)={}'.format(\n",
    "            this_roi,np.round(U,5),np.round(lb,3),np.round(ub,5),np.round(p1,5),np.round(p2,5)))"
   ]
  },
  {
   "cell_type": "markdown",
   "metadata": {},
   "source": [
    "### How do individual differences in object evidence relate to individual differences in pre-post differentiation across ROIs?"
   ]
  },
  {
   "cell_type": "code",
   "execution_count": 17,
   "metadata": {},
   "outputs": [],
   "source": [
    "version = '4way'\n",
    "tag = 'log'\n",
    "d = pd.read_csv(os.path.join(proj_dir,'csv/difference_{}probs_{}.csv'.format(tag,version)))\n",
    "prepost = pd.read_csv(os.path.join(proj_dir,'csv/neural_changes_by_surfroi_and_subject_longform.csv'))"
   ]
  },
  {
   "cell_type": "code",
   "execution_count": 18,
   "metadata": {},
   "outputs": [
    {
     "name": "stdout",
     "output_type": "stream",
     "text": [
      "ROI: V1 r=0.37475  p=0.03779 *\n",
      "ROI: V2 r=0.46673  p=0.00812 *\n",
      "ROI: LOC r=-0.01186  p=0.94952 \n",
      "ROI: IT r=-0.10254  p=0.58306 \n",
      "ROI: fusiform r=-0.39501  p=0.02786 *\n",
      "ROI: parahippo r=0.12824  p=0.49176 \n",
      "ROI: PRC r=-0.32177  p=0.07753 \n",
      "ROI: ento r=0.08294  p=0.65735 \n",
      "ROI: hipp r=0.0656  p=0.72586 \n"
     ]
    }
   ],
   "source": [
    "## make dataframe to relate drawing contrast to recognition differentiation\n",
    "roi_list = ['V1', 'V2', 'LOC', 'IT', 'fusiform', 'parahippo', 'PRC', 'ento','hipp']\n",
    "roi_dict = dict(zip(roi_list,prepost.roi.unique()))\n",
    "\n",
    "for this_roi in roi_list:\n",
    "    draw = d[d['roi']==this_roi]['target-foil'].values\n",
    "    recog = (prepost[(prepost['condition']=='difference') & (prepost['roi']==roi_dict[this_roi])]['prepost_diff']).values\n",
    "\n",
    "    \n",
    "    z = pd.DataFrame([draw,recog])\n",
    "    z = z.transpose()\n",
    "    z.columns=['draw','recog']\n",
    "\n",
    "    ## plot \n",
    "    fig = plt.figure(figsize=(6,6))\n",
    "    sns.set_context('poster')\n",
    "    sns.regplot(x=\"draw\",\n",
    "                y =\"recog\",\n",
    "                data=z)\n",
    "    r,p = stats.pearsonr(draw,recog)\n",
    "    plt.title('ROI: {}  r={}  p={}'.format(this_roi,np.round(r,5),np.round(p,5)))\n",
    "    if np.round(p,5)<0.05:\n",
    "        accent = '*'\n",
    "    else:\n",
    "        accent = ''\n",
    "    print('ROI: {} r={}  p={} {}'.format(this_roi,np.round(r,5),np.round(p,5),accent))\n",
    "    plt.xlabel('drawing: target vs. foil contrast') \n",
    "    plt.ylabel('recog: post-pre differentiation')\n",
    "    if not os.path.exists(os.path.join(proj_dir,'plots/{}/drawrecog'.format(nb_name))):\n",
    "        os.makedirs(os.path.join(proj_dir,'plots/{}/drawrecog'.format(nb_name)))\n",
    "    plt.tight_layout()\n",
    "    plt.savefig(os.path.join(proj_dir,'plots/{}/drawrecog/draw_recog_scatter_{}.png'.format(nb_name,this_roi)))\n",
    "    plt.close(fig)"
   ]
  },
  {
   "cell_type": "markdown",
   "metadata": {},
   "source": [
    "### How are individual differences in object evidence related between ROIs? "
   ]
  },
  {
   "cell_type": "code",
   "execution_count": 19,
   "metadata": {},
   "outputs": [],
   "source": [
    "### jgunn will add correlation matrices here"
   ]
  },
  {
   "cell_type": "code",
   "execution_count": null,
   "metadata": {},
   "outputs": [],
   "source": []
  }
 ],
 "metadata": {
  "kernelspec": {
   "display_name": "Python 2",
   "language": "python",
   "name": "python2"
  }
 },
 "nbformat": 4,
 "nbformat_minor": 2
}
