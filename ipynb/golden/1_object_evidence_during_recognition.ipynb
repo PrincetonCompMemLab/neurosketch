{
 "cells": [
  {
   "cell_type": "markdown",
   "metadata": {},
   "source": [
    "### setup"
   ]
  },
  {
   "cell_type": "code",
   "execution_count": 222,
   "metadata": {},
   "outputs": [],
   "source": [
    "import warnings\n",
    "warnings.filterwarnings(\"ignore\")\n",
    "\n",
    "from __future__ import division\n",
    "\n",
    "import numpy as np\n",
    "import os\n",
    "from glob import glob\n",
    "\n",
    "from PIL import Image\n",
    "from copy import deepcopy\n",
    "\n",
    "from IPython.display import clear_output\n",
    "\n",
    "from sklearn import linear_model, datasets, neighbors\n",
    "from sklearn.model_selection import train_test_split, cross_val_score\n",
    "from sklearn import svm\n",
    "\n",
    "%matplotlib inline\n",
    "from scipy.misc import imread, imresize\n",
    "import matplotlib.pyplot as plt\n",
    "import matplotlib.image as mpimg\n",
    "import seaborn as sns\n",
    "sns.set_context('poster')\n",
    "colors = sns.color_palette(\"cubehelix\", 5)\n",
    "import matplotlib as mpl\n",
    "mpl.rcParams['pdf.fonttype'] = 42\n",
    "\n",
    "import pandas as pd\n",
    "\n",
    "import scipy.stats as stats\n",
    "from scipy.stats import norm\n",
    "import sklearn"
   ]
  },
  {
   "cell_type": "code",
   "execution_count": 223,
   "metadata": {},
   "outputs": [
    {
     "data": {
      "text/plain": [
       "'/home/jefan/neurosketch'"
      ]
     },
     "execution_count": 223,
     "metadata": {},
     "output_type": "execute_result"
    }
   ],
   "source": [
    "## define paths to data\n",
    "curr_dir = os.getcwd()\n",
    "os.path.abspath(os.path.join(curr_dir,'..','..'))"
   ]
  },
  {
   "cell_type": "code",
   "execution_count": 224,
   "metadata": {},
   "outputs": [],
   "source": [
    "## root paths\n",
    "curr_dir = os.getcwd()\n",
    "proj_dir = os.path.abspath(os.path.join(curr_dir,'..','..')) ## use relative paths\n",
    "data_dir = os.path.abspath(os.path.join(curr_dir,'..','..','data')) ## use relative paths 'D:\\\\data'\n",
    "results_dir = os.path.join(proj_dir, 'csv')\n",
    "nb_name = '1_object_evidence_during_recognition'\n",
    "\n",
    "## add helpers to python path\n",
    "import sys\n",
    "if os.path.join(proj_dir, 'python') not in sys.path:\n",
    "    sys.path.append(os.path.join(proj_dir, 'python'))\n",
    "\n",
    "## module definitions\n",
    "import utils\n",
    "reload(utils)\n",
    "utils.data_dir = data_dir\n",
    "utils.path_to_recog = os.path.join(data_dir, 'features/recog')\n",
    "utils.path_to_draw = os.path.join(data_dir, 'features/drawing')\n",
    "utils.roi_list_draw = np.array(['V1Draw', 'V2Draw', 'LOCDraw', 'InsulaDraw', 'postCentralDraw',\n",
    "                            'preCentralDraw', 'ParietalDraw', 'FrontalDraw', 'smgDraw'])\n",
    "utils.roi_list_recog = ['V1','V2','LOC','IT','fusiform','parahippo','PRC','ento','hipp']\n",
    "utils.roi_list_recog_formatted = np.array(['V1', 'V2', 'LOC', 'FUS','PHC','IT','ENT','PRC','HC']) \n",
    "roi_list_recog = utils.roi_list_recog"
   ]
  },
  {
   "cell_type": "markdown",
   "metadata": {},
   "source": [
    "### get file list"
   ]
  },
  {
   "cell_type": "code",
   "execution_count": 225,
   "metadata": {},
   "outputs": [],
   "source": [
    "## get raw file list for recognition runs\n",
    "path_to_recog = utils.path_to_recog\n",
    "\n",
    "RECOG_METAS = sorted([i for i in os.listdir(path_to_recog) if (i.split('.')[-1]=='csv') & (i.split('_')[2][-4:] != 'Draw')])\n",
    "RECOG_FEATS = sorted([i for i in os.listdir(path_to_recog) if (i.split('.')[-1]=='npy') & (i.split('_')[1][-4:] != 'Draw')])\n",
    "RECOG_SUBS = np.array([i.split('_')[0] for i in RECOG_FEATS])\n",
    "\n",
    "recog_sub_list = np.unique(RECOG_SUBS)\n",
    "\n",
    "def preprocess_recog(RECOG_METAS, RECOG_FEATS):\n",
    "    M = [i for i in RECOG_METAS if len(i.split('.')[0].split('_'))==4]\n",
    "    F = [i for i in RECOG_FEATS if len(i.split('.')[0].split('_'))==4]\n",
    "    return M,F\n",
    "\n",
    "RECOG_METAS, RECOG_FEATS = preprocess_recog(RECOG_METAS, RECOG_FEATS)"
   ]
  },
  {
   "cell_type": "code",
   "execution_count": 226,
   "metadata": {},
   "outputs": [],
   "source": [
    "## get raw file list for drawing runs\n",
    "path_to_draw = utils.path_to_draw\n",
    "\n",
    "DRAW_METAS = sorted([i for i in os.listdir(path_to_draw) if (i.split('.')[-1]=='csv') & (i.split('_')[2][-4:] == 'Draw')])\n",
    "DRAW_FEATS = sorted([i for i in os.listdir(path_to_draw) if (i.split('.')[-1]=='npy') & (i.split('_')[1][-4:] == 'Draw')])\n",
    "DRAW_SUBS = np.array([i.split('_')[0] for i in DRAW_FEATS])\n",
    "draw_sub_list = np.unique(DRAW_SUBS)"
   ]
  },
  {
   "cell_type": "code",
   "execution_count": 227,
   "metadata": {},
   "outputs": [],
   "source": [
    "## get subject ID's that have complete datasets from all phases of experiment\n",
    "sub_list = np.intersect1d(recog_sub_list,draw_sub_list)\n",
    "#print('Number of subs: {}'.format(len(sub_list)))"
   ]
  },
  {
   "cell_type": "code",
   "execution_count": 228,
   "metadata": {},
   "outputs": [],
   "source": [
    "## filter file list so only contains the sessions that have full datasets\n",
    "def extract_good_sessions(DRAW_METAS,DRAW_FEATS,RECOG_METAS,RECOG_FEATS):\n",
    "    _DRAW_METAS = [i for i in DRAW_METAS if i.split('_')[1] in sub_list]\n",
    "    _DRAW_FEATS = [i for i in DRAW_FEATS if i.split('_')[0] in sub_list]\n",
    "    _RECOG_METAS = [i for i in RECOG_METAS if i.split('_')[1] in sub_list]\n",
    "    _RECOG_FEATS = [i for i in RECOG_FEATS if i.split('_')[0] in sub_list]\n",
    "    return _DRAW_METAS, _DRAW_FEATS, _RECOG_METAS, _RECOG_FEATS\n",
    "\n",
    "DRAW_METAS,DRAW_FEATS,RECOG_METAS,RECOG_FEATS =  \\\n",
    "extract_good_sessions(DRAW_METAS,DRAW_FEATS,RECOG_METAS,RECOG_FEATS)\n",
    "\n",
    "RECOG_SUBS = np.array([i.split('_')[0]+'_neurosketch' for i in RECOG_FEATS])\n",
    "RECOG_ROIS = np.array([i.split('_')[1] for i in RECOG_FEATS])\n",
    "\n",
    "DRAW_SUBS = np.array([i.split('_')[0]+'_neurosketch' for i in DRAW_FEATS])\n",
    "DRAW_ROIS = np.array([i.split('_')[1] for i in DRAW_FEATS])"
   ]
  },
  {
   "cell_type": "code",
   "execution_count": 229,
   "metadata": {},
   "outputs": [
    {
     "name": "stdout",
     "output_type": "stream",
     "text": [
      "We have data from 31 subjects.\n"
     ]
    }
   ],
   "source": [
    "print 'We have data from {} subjects.'.format(len(sub_list))"
   ]
  },
  {
   "cell_type": "markdown",
   "metadata": {},
   "source": [
    "### PRODUCTION: How well do we do at classifying the target during production runs when we train on initial recognition patterns only?"
   ]
  },
  {
   "cell_type": "code",
   "execution_count": 247,
   "metadata": {},
   "outputs": [
    {
     "name": "stdout",
     "output_type": "stream",
     "text": [
      "Done!\n"
     ]
    }
   ],
   "source": [
    "reload(utils)\n",
    "version = '4way'\n",
    "logged = True\n",
    "\n",
    "really_run = 0\n",
    "if really_run:\n",
    "\n",
    "    ALLDM, Acc = utils.make_drawing_predictions(sub_list,roi_list_recog,\n",
    "                                            version=version,logged=logged)\n",
    "    ## save out ALLDM & Acc\n",
    "    Acc = np.array(Acc)\n",
    "    np.save(os.path.join(results_dir,'object_classifier_accuracy_production.npy'),Acc)\n",
    "    ALLDM.to_csv(os.path.join(results_dir,'object_classifier_logprobs_production.csv'),index=False)\n",
    "    \n",
    "else:\n",
    "    ## load in existing ALLDM & Acc \n",
    "    Acc = np.load(os.path.join(results_dir,'object_classifier_accuracy_production.npy'))\n",
    "    ALLDM = pd.read_csv(os.path.join(results_dir,'object_classifier_logprobs_production.csv'))\n",
    "    \n",
    "print 'Done!'"
   ]
  },
  {
   "cell_type": "markdown",
   "metadata": {},
   "source": [
    "### RECOGNITION: How well do we do at classifying the target during the pre/post recognition runs, trained on initial recognition data?"
   ]
  },
  {
   "cell_type": "code",
   "execution_count": 248,
   "metadata": {},
   "outputs": [],
   "source": [
    "reload(utils)\n",
    "logged = True\n",
    "version = '4way'\n",
    "\n",
    "really_run = 0\n",
    "if really_run:\n",
    "\n",
    "    ALLPRE, Accpre = utils.make_prepostrecog_predictions_withinphase(sub_list,roi_list_recog,test_phase='pre',logged=logged)\n",
    "    ALLPOST, Accpost = utils.make_prepostrecog_predictions_withinphase(sub_list,roi_list_recog,test_phase='post',logged=logged)\n",
    "\n",
    "    ## add raw probs to ALLPRE and ALLPOST dataframes\n",
    "    append_raw_dict = dict(zip(['t1_prob','t2_prob','c1_prob','c2_prob'],['t1_prob_raw','t2_prob_raw','c1_prob_raw','c2_prob_raw']))\n",
    "    for key, value in append_raw_dict.iteritems():\n",
    "        ALLPRE[value] = ALLPRE[key].apply(lambda x: np.exp(x))\n",
    "        ALLPOST[value] = ALLPOST[key].apply(lambda x: np.exp(x))\n",
    "\n",
    "    ## save out dataframe\n",
    "    ALLPRE.to_csv(os.path.join(results_dir,'object_classifier_probs_pre.csv'),index=False) ## train recog, test drawing run    \n",
    "    ALLPOST.to_csv(os.path.join(results_dir,'object_classifier_probs_post.csv'),index=False) ## train recog, test drawing run    \n",
    "    ## save out Acc\n",
    "    np.save(os.path.join(results_dir,'object_classifier_accuracy_pre.npy'),Accpre)\n",
    "    np.save(os.path.join(results_dir,'object_classifier_accuracy_post.npy'),Accpost)\n",
    "    Accdiff = np.array(Accpost) - np.array(Accpre)\n",
    "    np.save(os.path.join(results_dir,'object_classifier_accuracy_diff.npy'),Accdiff)\n",
    "    print 'Done!' \n",
    "    \n",
    "else:\n",
    "    ## load in existing ALLPRE, ALLPOST and Acc dataframes\n",
    "    ALLPRE = pd.read_csv(os.path.join(results_dir,'object_classifier_probs_pre.csv'))\n",
    "    ALLPOST = pd.read_csv(os.path.join(results_dir,'object_classifier_probs_post.csv'))\n",
    "    \n",
    "    Accpre = np.load(os.path.join(results_dir,'object_classifier_accuracy_pre.npy'))\n",
    "    Accpost = np.load(os.path.join(results_dir,'object_classifier_accuracy_post.npy'))\n",
    "    Accdiff = np.load(os.path.join(results_dir,'object_classifier_accuracy_diff.npy'))    "
   ]
  },
  {
   "cell_type": "markdown",
   "metadata": {},
   "source": [
    "### plot object decoding accuracy across pre, production, and post phases"
   ]
  },
  {
   "cell_type": "code",
   "execution_count": 263,
   "metadata": {},
   "outputs": [
    {
     "data": {
      "image/png": "[encoded data removed]",
      "text/plain": [
       "<Figure size 864x432 with 1 Axes>"
      ]
     },
     "metadata": {},
     "output_type": "display_data"
    }
   ],
   "source": [
    "reload(utils)\n",
    "\n",
    "## aggregate pre, draw, post decoding accuracy\n",
    "AE = utils.preprocess_acc_array(Accpre,phase='pre')\n",
    "AD = utils.preprocess_acc_array(Acc,phase='draw')\n",
    "AO = utils.preprocess_acc_array(Accpost,phase='post')\n",
    "AF = utils.preprocess_acc_array(Accdiff,phase='diff')\n",
    "\n",
    "## save out change in decoding accuracy from pre to post to dataframe\n",
    "A = pd.concat([AE,AD,AO],axis=0)\n",
    "A2 = pd.concat([AE,AD,AO,AF],axis=0)\n",
    "A2.to_csv(os.path.join(proj_dir,'csv/object_classifier_accuracy_allphases.csv'))\n",
    "\n",
    "## generate plot\n",
    "g = sns.catplot(data=A,\n",
    "            x='roi',\n",
    "            y='acc',\n",
    "            hue='phase',\n",
    "            kind='bar',\n",
    "            hue_order=['pre','post','draw'],\n",
    "            palette='deep',\n",
    "            legend=False,\n",
    "            aspect=2,\n",
    "            height=6)\n",
    "plt.legend(bbox_to_anchor=(1.03,1))\n",
    "plt.ylabel('object decoding accuracy')\n",
    "plt.xlabel('')\n",
    "plt.axhline(0.25,linestyle=':',color='k')\n",
    "out_path = os.path.join(proj_dir,'plots/{}/object_classifier_accuracy_bars_allphases.pdf'.format(nb_name))\n",
    "plt.savefig(out_path,format='pdf')"
   ]
  },
  {
   "cell_type": "code",
   "execution_count": 250,
   "metadata": {},
   "outputs": [
    {
     "name": "stdout",
     "output_type": "stream",
     "text": [
      "ROI:  V1| 95% CI: [nan,nan] | p = 0.2697\n",
      "ROI:  V2| 95% CI: [-0.00806,0.04315] | p = 0.1615\n",
      "ROI:  LOC| 95% CI: [-0.0246,0.03348] | p = 0.7488\n",
      "ROI:  FUS| 95% CI: [-0.01694,0.03831] | p = 0.4527\n",
      "ROI:  PHC| 95% CI: [0.00242,0.04476] | p = 0.0268\n",
      "ROI:  IT| 95% CI: [-0.01089,0.02702] | p = 0.3738\n",
      "ROI:  ENT| 95% CI: [-0.02661,0.01895] | p = 1.2484\n",
      "ROI:  PRC| 95% CI: [-0.03629,0.00242] | p = 1.9184\n",
      "ROI:  HC| 95% CI: [-0.04516,0.00524] | p = 1.8801\n"
     ]
    }
   ],
   "source": [
    "## print 95% CIs for change in decoding accuracy for each ROI\n",
    "reload(utils)\n",
    "roi_list_formatted = ['V1', 'V2', 'LOC', 'FUS', 'PHC', 'IT', 'ENT', 'PRC', 'HC']\n",
    "for i,roi in enumerate(roi_list_formatted):\n",
    "    U,lb,ub,p1,p2 = h.bootstrapCI(Accdiff[i,:],nIter=20000)\n",
    "    print 'ROI:  {}| 95% CI: [{},{}] | p = {}'.format(roi, np.round(lb,5), np.round(ub,5), p1)"
   ]
  },
  {
   "cell_type": "markdown",
   "metadata": {},
   "source": [
    "### add handy columns to dataframe (e.g., target probability)"
   ]
  },
  {
   "cell_type": "code",
   "execution_count": 251,
   "metadata": {},
   "outputs": [
    {
     "name": "stdout",
     "output_type": "stream",
     "text": [
      "Done!\n"
     ]
    }
   ],
   "source": [
    "## note, this cell takes a while to run ... \n",
    "reload(utils)\n",
    "ALLPRE = utils.add_target_prob_column(ALLPRE)\n",
    "ALLPOST = utils.add_target_prob_column(ALLPOST)\n",
    "print 'Done!'"
   ]
  },
  {
   "cell_type": "code",
   "execution_count": 252,
   "metadata": {},
   "outputs": [],
   "source": [
    "## post processing on the mega dataframes for pretty plotting\n",
    "ALLPRE['phase'] = 'pre'\n",
    "ALLPOST['phase'] = 'post'\n",
    "ALLPREPOST = pd.concat([ALLPRE,ALLPOST],axis=0)\n",
    "\n",
    "## add formatted ROI list\n",
    "roi_list = ['V1','V2','LOC','IT','fusiform','parahippo','PRC','ento','hipp']\n",
    "roi_list_formatted = ['V1', 'V2', 'LOC', 'FUS', 'PHC', 'IT', 'ENT', 'PRC', 'HC']\n",
    "roi_formatter = dict(zip(roi_list,roi_list_formatted))\n",
    "ALLPREPOST['roi_formatted'] = ALLPREPOST['roi'].apply(lambda x: roi_formatter[x])\n",
    "\n",
    "## add max prob column to dataframe\n",
    "ALLPREPOST['max_prob_raw'] = ALLPREPOST[['t1_prob_raw','t2_prob_raw','c1_prob_raw','c2_prob_raw']].max(axis=1)\n",
    "\n",
    "## add correct column, assuming classifier deterministically takes top probability object\n",
    "ALLPREPOST['correct'] = ALLPREPOST['max_prob_raw']==ALLPREPOST['target_prob_raw']"
   ]
  },
  {
   "cell_type": "code",
   "execution_count": 253,
   "metadata": {},
   "outputs": [],
   "source": [
    "## define accuracy dataframe for each roi, subject, phase, roi\n",
    "ALLPREPOSTACC = ALLPREPOST.groupby(['roi_formatted','subj','phase','trained'])['correct'].mean().reset_index()\n",
    "ALLPREPOSTACC.to_csv(os.path.join(results_dir,'object_classifier_prepost_accuracy.csv'),index=False)\n",
    "\n",
    "## define mean target probability dataframe for each roi, subject, phase, roi\n",
    "ALLPROBS = ALLPREPOST.groupby(['roi_formatted','subj','phase','trained'])['target_prob_raw'].mean().reset_index()\n",
    "ALLPROBS['foil_prob_raw'] = ALLPREPOST.groupby(['roi_formatted','subj','phase','trained'])['foil_prob_raw'].mean().reset_index()['foil_prob_raw']\n",
    "ALLPROBS.to_csv(os.path.join(results_dir,'object_classifier_prepost_rawprobs.csv'),index=False)"
   ]
  },
  {
   "cell_type": "code",
   "execution_count": 254,
   "metadata": {},
   "outputs": [
    {
     "data": {
      "text/plain": [
       "<matplotlib.legend.Legend at 0x7fe7eeec3cd0>"
      ]
     },
     "execution_count": 254,
     "metadata": {},
     "output_type": "execute_result"
    },
    {
     "data": {
      "image/png": "[encoded data removed]",
      "text/plain": [
       "<Figure size 1080x360 with 2 Axes>"
      ]
     },
     "metadata": {},
     "output_type": "display_data"
    }
   ],
   "source": [
    "g = sns.catplot(data=ALLPREPOST, \n",
    "            x = 'roi_formatted',\n",
    "            y = 'target_prob_raw',\n",
    "            hue = 'phase',\n",
    "            col = 'trained',\n",
    "            col_order = [True,False],\n",
    "            kind = 'bar',\n",
    "            legend=False,\n",
    "            aspect = 1.5,\n",
    "            palette = 'husl')\n",
    "\n",
    "def refline(*args, **kwargs):\n",
    "    plt.axhline(0.25,linestyle=':',color='k')    \n",
    "\n",
    "g = g.map(refline)    \n",
    "g = (g.set_axis_labels(\"\", 'classifier probability'))\n",
    "plt.legend()\n",
    "    "
   ]
  },
  {
   "cell_type": "code",
   "execution_count": 255,
   "metadata": {},
   "outputs": [
    {
     "data": {
      "text/plain": [
       "<matplotlib.legend.Legend at 0x7fe7ee786a10>"
      ]
     },
     "execution_count": 255,
     "metadata": {},
     "output_type": "execute_result"
    },
    {
     "data": {
      "image/png": "[encoded data removed]",
      "text/plain": [
       "<Figure size 1080x360 with 2 Axes>"
      ]
     },
     "metadata": {},
     "output_type": "display_data"
    }
   ],
   "source": [
    "g = sns.catplot(data=ALLPREPOSTACC, \n",
    "            x = 'roi_formatted',\n",
    "            y = 'correct',\n",
    "            hue = 'phase',\n",
    "            col = 'trained',\n",
    "            col_order = [True,False],\n",
    "            order = roi_list_formatted,\n",
    "            hue_order = ['pre','post'],\n",
    "            kind = 'bar',\n",
    "            legend=False,\n",
    "            aspect = 1.5,\n",
    "            palette = 'husl')\n",
    "\n",
    "def refline(*args, **kwargs):\n",
    "    plt.axhline(0.25,linestyle=':',color='k')    \n",
    "\n",
    "g = g.map(refline)    \n",
    "g = (g.set_axis_labels(\"\", 'classifier probability'))\n",
    "plt.legend()"
   ]
  },
  {
   "cell_type": "markdown",
   "metadata": {},
   "source": [
    "### generate object classifier prediction dataframes and save to file"
   ]
  },
  {
   "cell_type": "code",
   "execution_count": 54,
   "metadata": {},
   "outputs": [
    {
     "name": "stdout",
     "output_type": "stream",
     "text": [
      "roi\n",
      "IT           1.101942\n",
      "LOC          1.647574\n",
      "PRC          0.998642\n",
      "V1           2.919819\n",
      "V2           3.125036\n",
      "ento         0.997732\n",
      "fusiform     1.402298\n",
      "hipp         1.072089\n",
      "parahippo    1.005799\n",
      "Name: target-foil, dtype: float64\n"
     ]
    }
   ],
   "source": [
    "reload(utils)\n",
    "dpre = utils.get_log_odds(ALLPRE,\n",
    "               this_iv = 'time_point',\n",
    "               roi_list = roi_list_recog,\n",
    "               phase = 'pre',\n",
    "               version='4way',\n",
    "               logged=True,\n",
    "               proj_dir=proj_dir)"
   ]
  },
  {
   "cell_type": "code",
   "execution_count": 55,
   "metadata": {},
   "outputs": [
    {
     "name": "stdout",
     "output_type": "stream",
     "text": [
      "roi\n",
      "IT           1.183426\n",
      "LOC          2.042075\n",
      "PRC          1.213002\n",
      "V1           3.426638\n",
      "V2           3.525316\n",
      "ento         1.144529\n",
      "fusiform     1.505844\n",
      "hipp         1.076033\n",
      "parahippo    1.367859\n",
      "Name: target-foil, dtype: float64\n"
     ]
    }
   ],
   "source": [
    "reload(utils)\n",
    "dpre = utils.get_log_odds(ALLPOST,\n",
    "               this_iv = 'time_point',\n",
    "               roi_list = roi_list_recog,\n",
    "               phase = 'post',\n",
    "               version='4way',\n",
    "               logged=True,\n",
    "               proj_dir=proj_dir)"
   ]
  },
  {
   "cell_type": "code",
   "execution_count": null,
   "metadata": {},
   "outputs": [],
   "source": []
  },
  {
   "cell_type": "code",
   "execution_count": null,
   "metadata": {},
   "outputs": [],
   "source": []
  }
 ],
 "metadata": {
  "kernelspec": {
   "display_name": "Python 2",
   "language": "python",
   "name": "python2"
  },
  "language_info": {
   "codemirror_mode": {
    "name": "ipython",
    "version": 2
   },
   "file_extension": ".py",
   "mimetype": "text/x-python",
   "name": "python",
   "nbconvert_exporter": "python",
   "pygments_lexer": "ipython2",
   "version": "2.7.12"
  }
 },
 "nbformat": 4,
 "nbformat_minor": 2
}
