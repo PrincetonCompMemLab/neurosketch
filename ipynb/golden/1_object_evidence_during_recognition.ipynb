{
 "cells": [
  {
   "cell_type": "markdown",
   "metadata": {},
   "source": [
    "### setup"
   ]
  },
  {
   "cell_type": "code",
   "execution_count": 1,
   "metadata": {},
   "outputs": [],
   "source": [
    "import warnings\n",
    "warnings.filterwarnings(\"ignore\")\n",
    "\n",
    "from __future__ import division\n",
    "\n",
    "import numpy as np\n",
    "import os\n",
    "from glob import glob\n",
    "\n",
    "from PIL import Image\n",
    "from copy import deepcopy\n",
    "\n",
    "from IPython.display import clear_output\n",
    "\n",
    "from sklearn import linear_model, datasets, neighbors\n",
    "from sklearn.model_selection import train_test_split, cross_val_score\n",
    "from sklearn import svm\n",
    "\n",
    "%matplotlib inline\n",
    "from scipy.misc import imread, imresize\n",
    "import matplotlib.pyplot as plt\n",
    "import matplotlib.image as mpimg\n",
    "import seaborn as sns\n",
    "sns.set_context('poster')\n",
    "colors = sns.color_palette(\"cubehelix\", 5)\n",
    "import matplotlib as mpl\n",
    "mpl.rcParams['pdf.fonttype'] = 42\n",
    "\n",
    "import pandas as pd\n",
    "\n",
    "import scipy.stats as stats\n",
    "from scipy.stats import norm\n",
    "import sklearn\n",
    "\n",
    "# from importlib import reload"
   ]
  },
  {
   "cell_type": "code",
   "execution_count": 2,
   "metadata": {},
   "outputs": [
    {
     "data": {
      "text/plain": [
       "'/home/jefan/neurosketch'"
      ]
     },
     "execution_count": 2,
     "metadata": {},
     "output_type": "execute_result"
    }
   ],
   "source": [
    "## define paths to data\n",
    "curr_dir = os.getcwd()\n",
    "os.path.abspath(os.path.join(curr_dir,'..','..'))"
   ]
  },
  {
   "cell_type": "code",
   "execution_count": 3,
   "metadata": {},
   "outputs": [],
   "source": [
    "## root paths\n",
    "curr_dir = os.getcwd()\n",
    "proj_dir = os.path.abspath(os.path.join(curr_dir,'..','..')) ## use relative paths\n",
    "data_dir = os.path.abspath(os.path.join(curr_dir,'..','..','data')) ## use relative paths 'D:\\\\data'\n",
    "results_dir = os.path.join(proj_dir, 'csv')\n",
    "nb_name = '2_object_evidence_during_drawing'\n",
    "\n",
    "## add helpers to python path\n",
    "import sys\n",
    "if os.path.join(proj_dir, 'python') not in sys.path:\n",
    "    sys.path.append(os.path.join(proj_dir, 'python'))\n",
    "\n",
    "## module definitions\n",
    "import analysis_helpers as h\n",
    "reload(h)\n",
    "h.data_dir = data_dir\n",
    "h.path_to_recog = os.path.join(data_dir, 'features/recog')\n",
    "h.path_to_draw = os.path.join(data_dir, 'features/drawing')\n",
    "h.roi_list_draw = np.array(['V1Draw', 'V2Draw', 'LOCDraw', 'InsulaDraw', 'postCentralDraw',\n",
    "                            'preCentralDraw', 'ParietalDraw', 'FrontalDraw', 'smgDraw'])\n",
    "h.roi_list_recog = ['V1','V2','LOC','IT','fusiform','parahippo','PRC','ento','hipp']\n",
    "h.roi_list_recog_formatted = np.array(['V1', 'V2', 'LOC', 'FUS','PHC','IT','ENT','PRC','HC']) \n",
    "roi_list_recog = h.roi_list_recog"
   ]
  },
  {
   "cell_type": "markdown",
   "metadata": {},
   "source": [
    "### get file list"
   ]
  },
  {
   "cell_type": "code",
   "execution_count": 4,
   "metadata": {},
   "outputs": [],
   "source": [
    "## get raw file list for recognition runs\n",
    "path_to_recog = h.path_to_recog\n",
    "\n",
    "RECOG_METAS = sorted([i for i in os.listdir(path_to_recog) if (i.split('.')[-1]=='csv') & (i.split('_')[2][-4:] != 'Draw')])\n",
    "RECOG_FEATS = sorted([i for i in os.listdir(path_to_recog) if (i.split('.')[-1]=='npy') & (i.split('_')[1][-4:] != 'Draw')])\n",
    "RECOG_SUBS = np.array([i.split('_')[0] for i in RECOG_FEATS])\n",
    "\n",
    "recog_sub_list = np.unique(RECOG_SUBS)\n",
    "\n",
    "def preprocess_recog(RECOG_METAS, RECOG_FEATS):\n",
    "    M = [i for i in RECOG_METAS if len(i.split('.')[0].split('_'))==4]\n",
    "    F = [i for i in RECOG_FEATS if len(i.split('.')[0].split('_'))==4]\n",
    "    return M,F\n",
    "\n",
    "RECOG_METAS, RECOG_FEATS = preprocess_recog(RECOG_METAS, RECOG_FEATS)"
   ]
  },
  {
   "cell_type": "code",
   "execution_count": 5,
   "metadata": {},
   "outputs": [],
   "source": [
    "## get raw file list for drawing runs\n",
    "path_to_draw = h.path_to_draw\n",
    "\n",
    "DRAW_METAS = sorted([i for i in os.listdir(path_to_draw) if (i.split('.')[-1]=='csv') & (i.split('_')[2][-4:] == 'Draw')])\n",
    "DRAW_FEATS = sorted([i for i in os.listdir(path_to_draw) if (i.split('.')[-1]=='npy') & (i.split('_')[1][-4:] == 'Draw')])\n",
    "DRAW_SUBS = np.array([i.split('_')[0] for i in DRAW_FEATS])\n",
    "draw_sub_list = np.unique(DRAW_SUBS)"
   ]
  },
  {
   "cell_type": "code",
   "execution_count": 6,
   "metadata": {},
   "outputs": [],
   "source": [
    "## get subject ID's that have complete datasets from all phases of experiment\n",
    "sub_list = np.intersect1d(recog_sub_list,draw_sub_list)\n",
    "#print('Number of subs: {}'.format(len(sub_list)))"
   ]
  },
  {
   "cell_type": "code",
   "execution_count": 7,
   "metadata": {},
   "outputs": [],
   "source": [
    "## filter file list so only contains the sessions that have full datasets\n",
    "def extract_good_sessions(DRAW_METAS,DRAW_FEATS,RECOG_METAS,RECOG_FEATS):\n",
    "    _DRAW_METAS = [i for i in DRAW_METAS if i.split('_')[1] in sub_list]\n",
    "    _DRAW_FEATS = [i for i in DRAW_FEATS if i.split('_')[0] in sub_list]\n",
    "    _RECOG_METAS = [i for i in RECOG_METAS if i.split('_')[1] in sub_list]\n",
    "    _RECOG_FEATS = [i for i in RECOG_FEATS if i.split('_')[0] in sub_list]\n",
    "    return _DRAW_METAS, _DRAW_FEATS, _RECOG_METAS, _RECOG_FEATS\n",
    "\n",
    "DRAW_METAS,DRAW_FEATS,RECOG_METAS,RECOG_FEATS =  \\\n",
    "extract_good_sessions(DRAW_METAS,DRAW_FEATS,RECOG_METAS,RECOG_FEATS)\n",
    "\n",
    "RECOG_SUBS = np.array([i.split('_')[0]+'_neurosketch' for i in RECOG_FEATS])\n",
    "RECOG_ROIS = np.array([i.split('_')[1] for i in RECOG_FEATS])\n",
    "\n",
    "DRAW_SUBS = np.array([i.split('_')[0]+'_neurosketch' for i in DRAW_FEATS])\n",
    "DRAW_ROIS = np.array([i.split('_')[1] for i in DRAW_FEATS])"
   ]
  },
  {
   "cell_type": "code",
   "execution_count": 8,
   "metadata": {},
   "outputs": [
    {
     "name": "stdout",
     "output_type": "stream",
     "text": [
      "We have data from 31 subjects.\n"
     ]
    }
   ],
   "source": [
    "print 'We have data from {} subjects.'.format(len(sub_list))"
   ]
  },
  {
   "cell_type": "markdown",
   "metadata": {},
   "source": [
    "### How well do we do at classifying the target during production runs when we train on initial recognition patterns only?"
   ]
  },
  {
   "cell_type": "code",
   "execution_count": 11,
   "metadata": {},
   "outputs": [
    {
     "name": "stdout",
     "output_type": "stream",
     "text": [
      "Now analyzing hipp ...\n"
     ]
    }
   ],
   "source": [
    "reload(h)\n",
    "version = '4way'\n",
    "logged = True\n",
    "\n",
    "really_run = 1\n",
    "if really_run:\n",
    "\n",
    "    ALLDM, Acc = h.make_drawing_predictions(sub_list,roi_list_recog,\n",
    "                                            version=version,logged=logged)\n",
    "    ## save out Acc\n",
    "    np.save(os.path.join(results_dir,'decoding_object_accuracy_production.npy'),Acc)"
   ]
  },
  {
   "cell_type": "markdown",
   "metadata": {},
   "source": [
    "### How well do we do at classifying the target during the pre/post recognition runs, trained on initial recognition data?"
   ]
  },
  {
   "cell_type": "code",
   "execution_count": 10,
   "metadata": {},
   "outputs": [
    {
     "name": "stdout",
     "output_type": "stream",
     "text": [
      "Done!\n"
     ]
    }
   ],
   "source": [
    "reload(h)\n",
    "logged = True\n",
    "version = '4way'\n",
    "\n",
    "really_run = 1\n",
    "if really_run:\n",
    "\n",
    "    ALLPRE, Accpre = h.make_prepostrecog_predictions(sub_list,roi_list_recog,test_phase='pre',logged=logged)\n",
    "    ALLPOST, Accpost = h.make_prepostrecog_predictions(sub_list,roi_list_recog,test_phase='post',logged=logged)\n",
    "\n",
    "    ## add raw probs to ALLPRE and ALLPOST dataframes\n",
    "    append_raw_dict = dict(zip(['t1_prob','t2_prob','c1_prob','c2_prob'],['t1_prob_raw','t2_prob_raw','c1_prob_raw','c2_prob_raw']))\n",
    "    for key, value in append_raw_dict.iteritems():\n",
    "        ALLPRE[value] = ALLPRE[key].apply(lambda x: np.exp(x))\n",
    "        ALLPOST[value] = ALLPOST[key].apply(lambda x: np.exp(x))\n",
    "\n",
    "    ## save out dataframe\n",
    "    ALLPRE.to_csv(os.path.join(results_dir,'logistic_timeseries_{}_neural_{}_{}.csv'.format('pre',version,'logged')),index=False) ## train recog, test drawing run    \n",
    "    ALLPOST.to_csv(os.path.join(results_dir,'logistic_timeseries_{}_neural_{}_{}.csv'.format('post',version,'logged')),index=False) ## train recog, test drawing run    \n",
    "    ## save out Acc\n",
    "    np.save(os.path.join(results_dir,'decoding_object_accuracy_recog_pre.npy'),Accpre)\n",
    "    np.save(os.path.join(results_dir,'decoding_object_accuracy_recog_post.npy'),Accpost)\n",
    "    Accdiff = np.array(Accpost) - np.array(Accpre)\n",
    "    np.save(os.path.join(results_dir,'decoding_object_accuracy_recog_diff.npy'),Accdiff)\n",
    "    print 'Done!'    "
   ]
  },
  {
   "cell_type": "code",
   "execution_count": null,
   "metadata": {},
   "outputs": [],
   "source": [
    "## helper function to plot test accuracy on pre recognition runs; trained on initial recognition runs\n",
    "\n",
    "def plot_recog_decoding(test_phase='pre'):\n",
    "    from matplotlib import rc\n",
    "    hfont = {'fontname':'Helvetica'}\n",
    "    Acc = np.load(os.path.join(results_dir,'decoding_object_accuracy_recog_{}.npy'.format(test_phase)))\n",
    "    Acc = np.array(Acc)\n",
    "    x = pd.DataFrame(Acc.transpose())\n",
    "    x.columns = roi_list_recog    \n",
    "    sns.set_context('talk')\n",
    "    fig = plt.figure(figsize=(8,8))\n",
    "    fig = sns.barplot(data=x,palette='husl',ci=95,zorder=1)\n",
    "    x2 = x\n",
    "    if test_phase=='diff':\n",
    "        plt.ylim(-0.25,0.25)\n",
    "    else:\n",
    "        plt.ylim(0,0.5)\n",
    "        \n",
    "    ## melt into longform dataframe to be able to make stripplot for draw decoding accuracy \n",
    "    ## for each subject\n",
    "    x = x.assign(sub=sub_list)\n",
    "    xl = pd.melt(x, \n",
    "                id_vars=['sub'], \n",
    "                var_name='roi',\n",
    "                value_vars=roi_list_recog, \n",
    "                value_name='draw_acc')        \n",
    "    fig2 = sns.swarmplot(data=xl,x=\"roi\", \n",
    "                         y=\"draw_acc\", \n",
    "                         #color=(0.25,0.25,0.25),\n",
    "                         palette='husl',\n",
    "                         dodge=True,\n",
    "    #                      jitter=0.12,\n",
    "                         alpha=0.6,    \n",
    "                         size=6,\n",
    "                         edgecolor=(0.1,0.1,0.1),\n",
    "                         linewidth=1,\n",
    "                         zorder=2)    \n",
    "\n",
    "    fig3 = sns.barplot(data=x2,palette='husl',ci=95,alpha=0.1,zorder=3)\n",
    "    plt.xlabel('')\n",
    "    plt.title(test_phase)\n",
    "\n",
    "    chance_dict = {'4way':0.25,'3way':0.33,'2way':0.5}\n",
    "    plt.axhline(chance_dict[version],linestyle=':',color='k')\n",
    "    plt.ylabel('object decoding accuracy',fontsize=20, **hfont)\n",
    "\n",
    "    fig.set_xticklabels(h.roi_list_recog_formatted,fontsize=16, **hfont)\n",
    "    out_path = os.path.join(proj_dir,'plots/{}/{}_decoding_accuracy.pdf'.format(nb_name,test_phase))\n",
    "    plt.savefig(out_path,format='pdf')\n",
    "    \n",
    "# plot_recog_decoding(test_phase='pre')\n",
    "# plot_recog_decoding(test_phase='post')    "
   ]
  }
 ],
 "metadata": {
  "kernelspec": {
   "display_name": "Python 2",
   "language": "python",
   "name": "python2"
  },
  "language_info": {
   "codemirror_mode": {
    "name": "ipython",
    "version": 2
   },
   "file_extension": ".py",
   "mimetype": "text/x-python",
   "name": "python",
   "nbconvert_exporter": "python",
   "pygments_lexer": "ipython2",
   "version": "2.7.12"
  }
 },
 "nbformat": 4,
 "nbformat_minor": 2
}
