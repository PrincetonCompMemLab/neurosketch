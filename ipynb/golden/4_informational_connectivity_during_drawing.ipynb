{
 "cells": [
  {
   "cell_type": "code",
   "execution_count": 1,
   "metadata": {
    "collapsed": true
   },
   "outputs": [],
   "source": [
    "from __future__ import division\n",
    "\n",
    "import numpy as np\n",
    "import os\n",
    "%matplotlib inline\n",
    "import matplotlib.pyplot as plt\n",
    "import seaborn as sns\n",
    "import pandas as pd\n",
    "import scipy.stats as stats\n",
    "import imageio\n",
    "import warnings\n",
    "\n",
    "from sklearn.cluster import AgglomerativeClustering\n",
    "from scipy.stats import norm\n",
    "from IPython.display import clear_output\n",
    "from PIL import Image\n",
    "import sys\n",
    "if sys.version_info[0]>=3:\n",
    "    from importlib import reload"
   ]
  },
  {
   "cell_type": "markdown",
   "metadata": {},
   "source": [
    "#### Do you want to show figures in the notebook?\n",
    "#### Do you want to save them?"
   ]
  },
  {
   "cell_type": "code",
   "execution_count": 2,
   "metadata": {
    "collapsed": true
   },
   "outputs": [],
   "source": [
    "show_fig = False\n",
    "save_fig = True"
   ]
  },
  {
   "cell_type": "code",
   "execution_count": 3,
   "metadata": {
    "collapsed": true
   },
   "outputs": [],
   "source": [
    "## Assign project directory\n",
    "main_dir = os.path.abspath('../../') + '/'\n",
    "\n",
    "## Assign paths where features can be found\n",
    "# data_dir = '/Volumes/ntb/projects/sketchloop02/data'\n",
    "data_dir = os.path.join(main_dir,'data')\n",
    "path_to_recog = str(data_dir) + '/features/recog'\n",
    "path_to_draw = str(data_dir) + '/features/drawing'\n",
    "\n",
    "#Where to put plots\n",
    "put_plots = str(main_dir) + 'plots/4_informational_connectivity_during_drawing/'\n",
    "\n",
    "roi_list = np.array(['V1Draw', 'V2Draw', 'LOCDraw', 'parietalDraw', \n",
    "                     'smgDraw', 'sensoryDraw', 'motorDraw', 'frontalDraw'])"
   ]
  },
  {
   "cell_type": "code",
   "execution_count": 4,
   "metadata": {
    "collapsed": true
   },
   "outputs": [],
   "source": [
    "## add helpers to python path\n",
    "if str(main_dir)+'python' not in sys.path:\n",
    "    sys.path.append(str(main_dir)+'python')\n",
    "    \n",
    "# Suppress warnings to avoid output\n",
    "warnings.filterwarnings('ignore')\n",
    "warnings.simplefilter(action='ignore', category=FutureWarning)"
   ]
  },
  {
   "cell_type": "code",
   "execution_count": 5,
   "metadata": {
    "collapsed": true
   },
   "outputs": [],
   "source": [
    "# Assign variables within imported analysis helpers\n",
    "import analysis_helpers\n",
    "if sys.version_info[0]>=3:\n",
    "    from importlib import reload\n",
    "reload(analysis_helpers)\n",
    "\n",
    "analysis_helpers.path_to_recog = path_to_recog\n",
    "analysis_helpers.path_to_draw = path_to_draw"
   ]
  },
  {
   "cell_type": "code",
   "execution_count": 6,
   "metadata": {
    "collapsed": true
   },
   "outputs": [],
   "source": [
    "#### Helper data loader functions\n",
    "\n",
    "def preprocess_recog(RECOG_METAS, RECOG_FEATS):\n",
    "    M = [i for i in RECOG_METAS if len(i.split('.')[0].split('_'))==4]\n",
    "    F = [i for i in RECOG_FEATS if len(i.split('.')[0].split('_'))==4]\n",
    "    return M,F\n",
    "\n",
    "def extract_good_sessions(DRAW_METAS,DRAW_FEATS):\n",
    "    _DRAW_METAS = [i for i in DRAW_METAS if i.split('_')[1] in sub_list]\n",
    "    _DRAW_FEATS = [i for i in DRAW_FEATS if i.split('_')[0] in sub_list]\n",
    "    return _DRAW_METAS, _DRAW_FEATS\n",
    "\n",
    "def cleanup_df(df):    \n",
    "    surplus = [i for i in df.columns if 'Unnamed' in i]\n",
    "    df = df.drop(surplus,axis=1)\n",
    "    return df\n",
    "\n",
    "def load_draw_meta(this_sub):\n",
    "    this_file = 'metadata_{}_drawing.csv'.format(this_sub)\n",
    "    x = pd.read_csv(os.path.join(path_to_draw,this_file))\n",
    "    x = cleanup_df(x)\n",
    "    x['trial_num'] = np.repeat(np.arange(40),23)        \n",
    "    return x\n",
    "    \n",
    "def load_draw_feats(this_sub,this_roi):\n",
    "    this_file = '{}_{}_featurematrix.npy'.format(this_sub,this_roi)\n",
    "    y = np.load(os.path.join(path_to_draw,this_file))\n",
    "    y = y.transpose()\n",
    "    return y\n",
    "\n",
    "def load_draw_data(this_sub,this_roi):\n",
    "    x = load_draw_meta(this_sub)\n",
    "    y = load_draw_feats(this_sub,this_roi)\n",
    "    assert y.shape[0] == x.shape[0]    \n",
    "    return x,y\n",
    "\n",
    "    \n",
    "def objects(sub_list):\n",
    "    sub_obj = pd.DataFrame(columns=['objects', 'subject'])\n",
    "    for this_sub in sub_list:\n",
    "        DM, DF = load_draw_data(this_sub,'V1Draw')\n",
    "        trained_objs = np.unique(DM.label.values)\n",
    "        sub_obj = sub_obj.append({'objects': str(trained_objs[0])+str(trained_objs[1]), \n",
    "                                  'subject': this_sub}, ignore_index=True)\n",
    "    return sub_obj  "
   ]
  },
  {
   "cell_type": "code",
   "execution_count": 7,
   "metadata": {
    "collapsed": true
   },
   "outputs": [],
   "source": [
    "# LOAD FILE LIST FOR RECOGNITION RUNS\n",
    "RECOG_METAS = sorted([i for i in os.listdir(path_to_recog) if i.split('.')[-1]=='csv'])\n",
    "RECOG_FEATS = sorted([i for i in os.listdir(path_to_recog) if i.split('.')[-1]=='npy'])\n",
    "RECOG_SUBS = np.array([i.split('_')[0] for i in RECOG_FEATS])\n",
    "\n",
    "recog_sub_list = np.unique(RECOG_SUBS)\n",
    "\n",
    "RECOG_METAS, RECOG_FEATS = preprocess_recog(RECOG_METAS, RECOG_FEATS)"
   ]
  },
  {
   "cell_type": "code",
   "execution_count": 8,
   "metadata": {
    "collapsed": true
   },
   "outputs": [],
   "source": [
    "# LOAD FILE LIST FOR DRAWING RUNS\n",
    "DRAW_METAS = sorted([i for i in os.listdir(path_to_draw) if i.split('.')[-1]=='csv'])\n",
    "DRAW_FEATS = sorted([i for i in os.listdir(path_to_draw) if i.split('.')[-1]=='npy'])\n",
    "DRAW_SUBS = np.array([i.split('_')[0] for i in DRAW_FEATS])\n",
    "draw_sub_list = np.unique(DRAW_SUBS)"
   ]
  },
  {
   "cell_type": "code",
   "execution_count": 9,
   "metadata": {
    "collapsed": true
   },
   "outputs": [],
   "source": [
    "## get subject ID's that have complete datasets from all phases of experiment\n",
    "sub_list = draw_sub_list"
   ]
  },
  {
   "cell_type": "code",
   "execution_count": 10,
   "metadata": {
    "collapsed": true
   },
   "outputs": [],
   "source": [
    "## filter file list so only contains the sessions that have full datasets\n",
    "\n",
    "DRAW_METAS,DRAW_FEATS =  \\\n",
    "extract_good_sessions(DRAW_METAS,DRAW_FEATS)\n",
    "\n",
    "DRAW_SUBS = np.array([i.split('_')[0]+'_neurosketch' for i in DRAW_FEATS])\n",
    "DRAW_ROIS = np.array([i.split('_')[1] for i in DRAW_FEATS])"
   ]
  },
  {
   "cell_type": "code",
   "execution_count": 11,
   "metadata": {
    "collapsed": true
   },
   "outputs": [],
   "source": [
    "## general plotting params\n",
    "sns.set_context('poster')\n",
    "colors = sns.color_palette(\"cubehelix\", 5)"
   ]
  },
  {
   "cell_type": "code",
   "execution_count": 12,
   "metadata": {
    "collapsed": true
   },
   "outputs": [],
   "source": [
    "# derive lists of subjects depending on which two items they drew. Currently unused but may prove useful later\n",
    "sub_obj = objects(sub_list)\n",
    "\n",
    "bedbench = np.array(sub_obj[sub_obj['objects']=='bedbench']['subject'])\n",
    "bedchair = np.array(sub_obj[sub_obj['objects']=='bedchair']['subject'])\n",
    "bedtable = np.array(sub_obj[sub_obj['objects']=='bedtable']['subject'])\n",
    "benchchair = np.array(sub_obj[sub_obj['objects']=='benchchair']['subject'])\n",
    "benchtable = np.array(sub_obj[sub_obj['objects']=='benchtable']['subject'])\n",
    "chairtable = np.array(sub_obj[sub_obj['objects']=='chairtable']['subject'])"
   ]
  },
  {
   "cell_type": "markdown",
   "metadata": {},
   "source": [
    "### BUILD MATRIX CONTAINING CLASSIFIER PROBABILITIES FOR ALL SUBJECTS, ROIS, DRAWING RUNS"
   ]
  },
  {
   "cell_type": "code",
   "execution_count": 13,
   "metadata": {
    "collapsed": true
   },
   "outputs": [],
   "source": [
    "# Set some initial parameters\n",
    "logged = [True]\n",
    "versions = ['2wayDraw']\n",
    "\n",
    "really_run = 1"
   ]
  },
  {
   "cell_type": "code",
   "execution_count": 14,
   "metadata": {},
   "outputs": [
    {
     "name": "stdout",
     "output_type": "stream",
     "text": [
      "Now analyzing V1Draw ...\n",
      "Now analyzing V2Draw ...\n",
      "Now analyzing LOCDraw ...\n",
      "Now analyzing parietalDraw ...\n",
      "Now analyzing smgDraw ...\n",
      "Now analyzing sensoryDraw ...\n",
      "Now analyzing motorDraw ...\n",
      "Now analyzing frontalDraw ...\n"
     ]
    }
   ],
   "source": [
    "if really_run:\n",
    "    for l in logged:\n",
    "        tag = 'logged' if l else 'raw'\n",
    "        for version in versions:\n",
    "            roi_list_short = roi_list\n",
    "            sub_list_short = sub_list\n",
    "            ALLDM, Acc = analysis_helpers.make_drawing_predictions(sub_list_short,roi_list_short,version=version,logged=l)\n",
    "            ALLDM.to_csv(str(main_dir)+'csv/logistic_timeseries_drawing_neural_{}_{}.csv'.format(version,tag)) ## train recog, test drawing run    "
   ]
  },
  {
   "cell_type": "code",
   "execution_count": 15,
   "metadata": {
    "collapsed": true
   },
   "outputs": [],
   "source": [
    "# Turn accuracy into array\n",
    "Acc_array = np.array(Acc)\n",
    "x = pd.DataFrame(Acc_array.transpose())\n",
    "\n",
    "# Remove draw suffix\n",
    "acc_plot_names = ['V1', 'V2', 'LOC', 'Par', 'SMG', 'Sens', 'Mot', 'Front']\n",
    "roi_reduce = [roi[:-4] for roi in roi_list_short]\n",
    "x.columns = acc_plot_names"
   ]
  },
  {
   "cell_type": "code",
   "execution_count": 16,
   "metadata": {
    "collapsed": true
   },
   "outputs": [],
   "source": [
    "sns.set_context('talk')\n",
    "plt.figure(figsize=(8,4))\n",
    "sns.set_style({'font.family': [u'sans-serif'], 'font.sans-serif': [u'Arial'], \"axes.facecolor\": \"1\"})\n",
    "colmap = sns.light_palette((0, 99, 80), input=\"husl\", n_colors=8)[::-1]\n",
    "#colmap = sns.cubehelix_palette(12, start=i, rot=j, dark=0.2, light=.95, reverse=True)\n",
    "sns.barplot(data=x, palette=colmap[:], ci=95, linewidth=1.5, edgecolor=colmap[0])\n",
    "chance_dict = {'4way':0.25,'3way':0.33,'2way':0.5,'2wayDraw':0.5}\n",
    "plt.axhline(chance_dict[version],linestyle=':',color='k')\n",
    "plt.ylabel('Accuracy')\n",
    "plt.xlabel('Intersect of Drawing Task Map and ROI')\n",
    "#plt.tight_layout()\n",
    "plt.gcf().subplots_adjust(bottom=0.15)\n",
    "plt.savefig(str(put_plots)+'drawing_accuracy.pdf')\n",
    "plt.close()"
   ]
  },
  {
   "cell_type": "code",
   "execution_count": 17,
   "metadata": {
    "collapsed": true
   },
   "outputs": [],
   "source": [
    "# Plot raw classifier accuracy\n",
    "sns.set_context('talk')\n",
    "plt.figure(figsize=(12,6))\n",
    "sns.barplot(data=x,palette='Set2',ci=95)\n",
    "chance_dict = {'4way':0.25,'3way':0.33,'2way':0.5, '2wayDraw': 0.5}\n",
    "plt.axhline(chance_dict[version],linestyle=':',color='k')\n",
    "plt.ylabel('Accuracy')\n",
    "plt.xlabel('Intersect of Drawing Task Map and ROI')\n",
    "plt.tight_layout()\n",
    "plt.title('Object Classification during Drawing Runs')\n",
    "if save_fig:\n",
    "    plt.savefig(str(put_plots)+'drawing_classification.pdf')\n",
    "plt.show() if show_fig else plt.close()"
   ]
  },
  {
   "cell_type": "markdown",
   "metadata": {},
   "source": [
    "## IMPORT AND PREPROCESS VGG PROBABILITIES"
   ]
  },
  {
   "cell_type": "code",
   "execution_count": 18,
   "metadata": {
    "collapsed": true
   },
   "outputs": [],
   "source": [
    "types = ['bedbench', 'bedchair', 'bedtable', 'benchchair', 'benchtable', 'chairtable']\n",
    "subs = [bedbench, bedchair, bedtable, benchchair, benchtable, chairtable]\n",
    "objects = [['bed','bench'], ['bed','chair'], ['bed','table'], ['bench','chair'], ['bench','table'], ['chair','table']]\n",
    "obdict = dict(zip(types, objects))\n",
    "subdict = dict(zip(types, subs))"
   ]
  },
  {
   "cell_type": "code",
   "execution_count": 19,
   "metadata": {
    "collapsed": true
   },
   "outputs": [],
   "source": [
    "logged = False\n",
    "baseline_correct = True\n",
    "bc = 'basecorr' if baseline_correct else ''\n",
    "tag = 'logged' if logged else 'raw'"
   ]
  },
  {
   "cell_type": "code",
   "execution_count": 20,
   "metadata": {},
   "outputs": [
    {
     "ename": "IOError",
     "evalue": "File /home/jefan/neurosketch/csv/partial_sketch_full.csv does not exist",
     "output_type": "error",
     "traceback": [
      "\u001b[0;31m---------------------------------------------------------------------------\u001b[0m",
      "\u001b[0;31mIOError\u001b[0m                                   Traceback (most recent call last)",
      "\u001b[0;32m<ipython-input-20-9e1597a17a94>\u001b[0m in \u001b[0;36m<module>\u001b[0;34m()\u001b[0m\n\u001b[1;32m      1\u001b[0m \u001b[0mreload\u001b[0m\u001b[0;34m(\u001b[0m\u001b[0manalysis_helpers\u001b[0m\u001b[0;34m)\u001b[0m\u001b[0;34m\u001b[0m\u001b[0m\n\u001b[1;32m      2\u001b[0m \u001b[0;34m\u001b[0m\u001b[0m\n\u001b[0;32m----> 3\u001b[0;31m \u001b[0mVGG_feat\u001b[0m \u001b[0;34m=\u001b[0m \u001b[0mpd\u001b[0m\u001b[0;34m.\u001b[0m\u001b[0mread_csv\u001b[0m\u001b[0;34m(\u001b[0m\u001b[0mstr\u001b[0m\u001b[0;34m(\u001b[0m\u001b[0mmain_dir\u001b[0m\u001b[0;34m)\u001b[0m\u001b[0;34m+\u001b[0m\u001b[0;34m'csv/partial_sketch_full.csv'\u001b[0m\u001b[0;34m)\u001b[0m\u001b[0;34m\u001b[0m\u001b[0m\n\u001b[0m\u001b[1;32m      4\u001b[0m \u001b[0mVGG_feat\u001b[0m\u001b[0;34m[\u001b[0m\u001b[0;34m'time_point'\u001b[0m\u001b[0;34m]\u001b[0m \u001b[0;34m=\u001b[0m \u001b[0mVGG_feat\u001b[0m\u001b[0;34m[\u001b[0m\u001b[0;34m'numSketch'\u001b[0m\u001b[0;34m]\u001b[0m \u001b[0;34m+\u001b[0m \u001b[0;36m1\u001b[0m\u001b[0;34m\u001b[0m\u001b[0m\n\u001b[1;32m      5\u001b[0m \u001b[0mVGG_feat\u001b[0m\u001b[0;34m[\u001b[0m\u001b[0;34m'trial_num'\u001b[0m\u001b[0;34m]\u001b[0m \u001b[0;34m=\u001b[0m \u001b[0mVGG_feat\u001b[0m\u001b[0;34m[\u001b[0m\u001b[0;34m'trial'\u001b[0m\u001b[0;34m]\u001b[0m \u001b[0;34m-\u001b[0m \u001b[0;36m320\u001b[0m\u001b[0;34m\u001b[0m\u001b[0m\n",
      "\u001b[0;32m/home/jefan/.local/lib/python2.7/site-packages/pandas/io/parsers.pyc\u001b[0m in \u001b[0;36mparser_f\u001b[0;34m(filepath_or_buffer, sep, delimiter, header, names, index_col, usecols, squeeze, prefix, mangle_dupe_cols, dtype, engine, converters, true_values, false_values, skipinitialspace, skiprows, nrows, na_values, keep_default_na, na_filter, verbose, skip_blank_lines, parse_dates, infer_datetime_format, keep_date_col, date_parser, dayfirst, iterator, chunksize, compression, thousands, decimal, lineterminator, quotechar, quoting, escapechar, comment, encoding, dialect, tupleize_cols, error_bad_lines, warn_bad_lines, skipfooter, skip_footer, doublequote, delim_whitespace, as_recarray, compact_ints, use_unsigned, low_memory, buffer_lines, memory_map, float_precision)\u001b[0m\n\u001b[1;32m    707\u001b[0m                     skip_blank_lines=skip_blank_lines)\n\u001b[1;32m    708\u001b[0m \u001b[0;34m\u001b[0m\u001b[0m\n\u001b[0;32m--> 709\u001b[0;31m         \u001b[0;32mreturn\u001b[0m \u001b[0m_read\u001b[0m\u001b[0;34m(\u001b[0m\u001b[0mfilepath_or_buffer\u001b[0m\u001b[0;34m,\u001b[0m \u001b[0mkwds\u001b[0m\u001b[0;34m)\u001b[0m\u001b[0;34m\u001b[0m\u001b[0m\n\u001b[0m\u001b[1;32m    710\u001b[0m \u001b[0;34m\u001b[0m\u001b[0m\n\u001b[1;32m    711\u001b[0m     \u001b[0mparser_f\u001b[0m\u001b[0;34m.\u001b[0m\u001b[0m__name__\u001b[0m \u001b[0;34m=\u001b[0m \u001b[0mname\u001b[0m\u001b[0;34m\u001b[0m\u001b[0m\n",
      "\u001b[0;32m/home/jefan/.local/lib/python2.7/site-packages/pandas/io/parsers.pyc\u001b[0m in \u001b[0;36m_read\u001b[0;34m(filepath_or_buffer, kwds)\u001b[0m\n\u001b[1;32m    447\u001b[0m \u001b[0;34m\u001b[0m\u001b[0m\n\u001b[1;32m    448\u001b[0m     \u001b[0;31m# Create the parser.\u001b[0m\u001b[0;34m\u001b[0m\u001b[0;34m\u001b[0m\u001b[0m\n\u001b[0;32m--> 449\u001b[0;31m     \u001b[0mparser\u001b[0m \u001b[0;34m=\u001b[0m \u001b[0mTextFileReader\u001b[0m\u001b[0;34m(\u001b[0m\u001b[0mfilepath_or_buffer\u001b[0m\u001b[0;34m,\u001b[0m \u001b[0;34m**\u001b[0m\u001b[0mkwds\u001b[0m\u001b[0;34m)\u001b[0m\u001b[0;34m\u001b[0m\u001b[0m\n\u001b[0m\u001b[1;32m    450\u001b[0m \u001b[0;34m\u001b[0m\u001b[0m\n\u001b[1;32m    451\u001b[0m     \u001b[0;32mif\u001b[0m \u001b[0mchunksize\u001b[0m \u001b[0;32mor\u001b[0m \u001b[0miterator\u001b[0m\u001b[0;34m:\u001b[0m\u001b[0;34m\u001b[0m\u001b[0m\n",
      "\u001b[0;32m/home/jefan/.local/lib/python2.7/site-packages/pandas/io/parsers.pyc\u001b[0m in \u001b[0;36m__init__\u001b[0;34m(self, f, engine, **kwds)\u001b[0m\n\u001b[1;32m    816\u001b[0m             \u001b[0mself\u001b[0m\u001b[0;34m.\u001b[0m\u001b[0moptions\u001b[0m\u001b[0;34m[\u001b[0m\u001b[0;34m'has_index_names'\u001b[0m\u001b[0;34m]\u001b[0m \u001b[0;34m=\u001b[0m \u001b[0mkwds\u001b[0m\u001b[0;34m[\u001b[0m\u001b[0;34m'has_index_names'\u001b[0m\u001b[0;34m]\u001b[0m\u001b[0;34m\u001b[0m\u001b[0m\n\u001b[1;32m    817\u001b[0m \u001b[0;34m\u001b[0m\u001b[0m\n\u001b[0;32m--> 818\u001b[0;31m         \u001b[0mself\u001b[0m\u001b[0;34m.\u001b[0m\u001b[0m_make_engine\u001b[0m\u001b[0;34m(\u001b[0m\u001b[0mself\u001b[0m\u001b[0;34m.\u001b[0m\u001b[0mengine\u001b[0m\u001b[0;34m)\u001b[0m\u001b[0;34m\u001b[0m\u001b[0m\n\u001b[0m\u001b[1;32m    819\u001b[0m \u001b[0;34m\u001b[0m\u001b[0m\n\u001b[1;32m    820\u001b[0m     \u001b[0;32mdef\u001b[0m \u001b[0mclose\u001b[0m\u001b[0;34m(\u001b[0m\u001b[0mself\u001b[0m\u001b[0;34m)\u001b[0m\u001b[0;34m:\u001b[0m\u001b[0;34m\u001b[0m\u001b[0m\n",
      "\u001b[0;32m/home/jefan/.local/lib/python2.7/site-packages/pandas/io/parsers.pyc\u001b[0m in \u001b[0;36m_make_engine\u001b[0;34m(self, engine)\u001b[0m\n\u001b[1;32m   1047\u001b[0m     \u001b[0;32mdef\u001b[0m \u001b[0m_make_engine\u001b[0m\u001b[0;34m(\u001b[0m\u001b[0mself\u001b[0m\u001b[0;34m,\u001b[0m \u001b[0mengine\u001b[0m\u001b[0;34m=\u001b[0m\u001b[0;34m'c'\u001b[0m\u001b[0;34m)\u001b[0m\u001b[0;34m:\u001b[0m\u001b[0;34m\u001b[0m\u001b[0m\n\u001b[1;32m   1048\u001b[0m         \u001b[0;32mif\u001b[0m \u001b[0mengine\u001b[0m \u001b[0;34m==\u001b[0m \u001b[0;34m'c'\u001b[0m\u001b[0;34m:\u001b[0m\u001b[0;34m\u001b[0m\u001b[0m\n\u001b[0;32m-> 1049\u001b[0;31m             \u001b[0mself\u001b[0m\u001b[0;34m.\u001b[0m\u001b[0m_engine\u001b[0m \u001b[0;34m=\u001b[0m \u001b[0mCParserWrapper\u001b[0m\u001b[0;34m(\u001b[0m\u001b[0mself\u001b[0m\u001b[0;34m.\u001b[0m\u001b[0mf\u001b[0m\u001b[0;34m,\u001b[0m \u001b[0;34m**\u001b[0m\u001b[0mself\u001b[0m\u001b[0;34m.\u001b[0m\u001b[0moptions\u001b[0m\u001b[0;34m)\u001b[0m\u001b[0;34m\u001b[0m\u001b[0m\n\u001b[0m\u001b[1;32m   1050\u001b[0m         \u001b[0;32melse\u001b[0m\u001b[0;34m:\u001b[0m\u001b[0;34m\u001b[0m\u001b[0m\n\u001b[1;32m   1051\u001b[0m             \u001b[0;32mif\u001b[0m \u001b[0mengine\u001b[0m \u001b[0;34m==\u001b[0m \u001b[0;34m'python'\u001b[0m\u001b[0;34m:\u001b[0m\u001b[0;34m\u001b[0m\u001b[0m\n",
      "\u001b[0;32m/home/jefan/.local/lib/python2.7/site-packages/pandas/io/parsers.pyc\u001b[0m in \u001b[0;36m__init__\u001b[0;34m(self, src, **kwds)\u001b[0m\n\u001b[1;32m   1693\u001b[0m         \u001b[0mkwds\u001b[0m\u001b[0;34m[\u001b[0m\u001b[0;34m'allow_leading_cols'\u001b[0m\u001b[0;34m]\u001b[0m \u001b[0;34m=\u001b[0m \u001b[0mself\u001b[0m\u001b[0;34m.\u001b[0m\u001b[0mindex_col\u001b[0m \u001b[0;32mis\u001b[0m \u001b[0;32mnot\u001b[0m \u001b[0mFalse\u001b[0m\u001b[0;34m\u001b[0m\u001b[0m\n\u001b[1;32m   1694\u001b[0m \u001b[0;34m\u001b[0m\u001b[0m\n\u001b[0;32m-> 1695\u001b[0;31m         \u001b[0mself\u001b[0m\u001b[0;34m.\u001b[0m\u001b[0m_reader\u001b[0m \u001b[0;34m=\u001b[0m \u001b[0mparsers\u001b[0m\u001b[0;34m.\u001b[0m\u001b[0mTextReader\u001b[0m\u001b[0;34m(\u001b[0m\u001b[0msrc\u001b[0m\u001b[0;34m,\u001b[0m \u001b[0;34m**\u001b[0m\u001b[0mkwds\u001b[0m\u001b[0;34m)\u001b[0m\u001b[0;34m\u001b[0m\u001b[0m\n\u001b[0m\u001b[1;32m   1696\u001b[0m \u001b[0;34m\u001b[0m\u001b[0m\n\u001b[1;32m   1697\u001b[0m         \u001b[0;31m# XXX\u001b[0m\u001b[0;34m\u001b[0m\u001b[0;34m\u001b[0m\u001b[0m\n",
      "\u001b[0;32mpandas/_libs/parsers.pyx\u001b[0m in \u001b[0;36mpandas._libs.parsers.TextReader.__cinit__\u001b[0;34m()\u001b[0m\n",
      "\u001b[0;32mpandas/_libs/parsers.pyx\u001b[0m in \u001b[0;36mpandas._libs.parsers.TextReader._setup_parser_source\u001b[0;34m()\u001b[0m\n",
      "\u001b[0;31mIOError\u001b[0m: File /home/jefan/neurosketch/csv/partial_sketch_full.csv does not exist"
     ]
    }
   ],
   "source": [
    "reload(analysis_helpers)\n",
    "\n",
    "VGG_feat = pd.read_csv(str(main_dir)+'csv/partial_sketch_full.csv')\n",
    "VGG_feat['time_point'] = VGG_feat['numSketch'] + 1\n",
    "VGG_feat['trial_num'] = VGG_feat['trial'] - 320\n",
    "VGG_feat['subj'] = [x.split('_')[0] for x in VGG_feat['wID']]\n",
    "VGG_feat['roi'] = 'VGG'\n",
    "VGG_feat['label'] = VGG_feat['target']\n",
    "VGG_feat['run_num'] = np.ceil((VGG_feat['trial_num']+1)/10)\n",
    "VGG_processed = []\n",
    "for subject in sub_list:\n",
    "    sub_only = VGG_feat[VGG_feat['subj']==subject]\n",
    "    for typer in types:\n",
    "        if subject in subdict[typer]:\n",
    "            t1, t2 = obdict[typer]\n",
    "            c1, c2 = [i for i in ['bed', 'bench', 'chair', 'table'] if i not in [t1, t2]]\n",
    "    sub_only['t1'] = t1\n",
    "    sub_only['t2'] = t2\n",
    "    sub_only['c1'] = c1\n",
    "    sub_only['c2'] = c2\n",
    "    _t1 = np.log(sub_only[t1]) if logged else np.array(sub_only[t1])\n",
    "    _t2 = np.log(sub_only[t2]) if logged else np.array(sub_only[t2])\n",
    "    _c1 = np.log(sub_only[c1]) if logged else np.array(sub_only[c1])\n",
    "    _c2 = np.log(sub_only[c2]) if logged else np.array(sub_only[c2])\n",
    "    sub_only['t1_prob'] = _t1 - _t1[0] if baseline_correct else _t1\n",
    "    sub_only['t2_prob'] = _t2 - _t2[0] if baseline_correct else _t2\n",
    "    sub_only['c1_prob'] = _c1 - _c1[0] if baseline_correct else _c1\n",
    "    sub_only['c2_prob'] = _c2 - _c2[0] if baseline_correct else _c2\n",
    "    \n",
    "\n",
    "    \n",
    "    if len(VGG_processed) == 0:\n",
    "        VGG_processed = sub_only\n",
    "    else:\n",
    "        VGG_processed = pd.concat((VGG_processed, sub_only))\n",
    "VGG_processed.to_csv(str(main_dir)+'csv/VGG_{}_{}.csv'.format(tag, bc))"
   ]
  },
  {
   "cell_type": "markdown",
   "metadata": {},
   "source": [
    "## Plot correspondence between probabilities across regions - all time points"
   ]
  },
  {
   "cell_type": "markdown",
   "metadata": {},
   "source": [
    "#### Choose whether you want a plot for every subject"
   ]
  },
  {
   "cell_type": "code",
   "execution_count": 33,
   "metadata": {
    "collapsed": true
   },
   "outputs": [],
   "source": [
    "# Do you want to plot this subject-wise?\n",
    "plot_subs = False"
   ]
  },
  {
   "cell_type": "markdown",
   "metadata": {},
   "source": [
    "#### Cycle through subjects, and compute the correlations"
   ]
  },
  {
   "cell_type": "code",
   "execution_count": 35,
   "metadata": {
    "collapsed": true
   },
   "outputs": [],
   "source": [
    "ALLDM = pd.read_csv(str(main_dir)+'csv/logistic_timeseries_drawing_neural_2wayDraw_logged.csv')\n",
    "\n",
    "_sub_list = np.unique(ALLDM['subj'])\n",
    "_roi_list = ['V1Draw','V2Draw', 'LOCDraw', 'parietalDraw', 'smgDraw', \n",
    "             'sensoryDraw', 'motorDraw', 'frontalDraw']\n",
    "roi_name = ['V1', 'V2', 'LOC', 'Par', 'SMG', 'Sens', 'Mot', 'Front']\n",
    "\n",
    "images = []\n",
    "all_subs_all_rois = []\n",
    "all_corrs = []\n",
    "\n",
    "for sub in _sub_list:\n",
    "    \n",
    "    # reduce the dataframes to contain only the relevant subject and roi\n",
    "    sub_out = str(sub) if len(str(sub)) == 7 else str('0')+str(sub)\n",
    "    sub_only = ALLDM[ALLDM['subj']==sub]\n",
    "    drawpreds = []\n",
    "    for roi in _roi_list:\n",
    "        roi_only = sub_only[sub_only['roi']==roi]\n",
    "        t1 = np.array(roi_only['t1_prob'])\n",
    "        t2 = np.array(roi_only['t2_prob'])\n",
    "        assert t1.shape == t2.shape\n",
    "        trained = np.hstack((t1,t2))\n",
    "        drawpreds.append(trained)\n",
    "    drawpreds = np.array(drawpreds)\n",
    "    \n",
    "    #correlation across all regions for one subject\n",
    "    corrs = np.corrcoef(drawpreds)\n",
    "    \n",
    "    #stack subjects\n",
    "    all_corrs = corrs if len(all_corrs) == 0 else np.dstack((all_corrs, corrs))\n",
    "    \n",
    "    if plot_subs:\n",
    "        clear_output(wait=True)\n",
    "        \n",
    "        # omit diagonal\n",
    "        np.place(corrs, corrs>0.9, np.nan)\n",
    "        fig, ax = plt.subplots(figsize=(10,10))\n",
    "        im = ax.matshow(corrs, vmin = -0.15, vmax = 0.65)\n",
    "        ax.set_xticklabels(['']+roi_name)\n",
    "        ax.set_yticklabels(['']+roi_name)\n",
    "        plt.colorbar(im)\n",
    "        plt.title(str(sub), y=1.08)\n",
    "        plt.tight_layout()\n",
    "        if save_fig:\n",
    "            plt.savefig(str(put_plots)+str(sub_out)+'.png')\n",
    "            currIm = Image.open(str(put_plots)+str(sub_out) + '.png')\n",
    "            images.append(currIm)\n",
    "        plt.show() if show_fig else plt.close()\n",
    "all_corrs = np.array(all_corrs)\n",
    "t, p = stats.ttest_1samp(all_corrs, 0, axis=2)\n",
    "    \n",
    "# giffify results\n",
    "if plot_subs and save_fig:\n",
    "    images = [np.array(image) for image in images]\n",
    "    imageio.mimsave(str(put_plots)+'all_mats_subs.gif', images, duration=1)   "
   ]
  },
  {
   "cell_type": "markdown",
   "metadata": {},
   "source": [
    "#### Plot the average across subjects, first as a matrix, then as a barplot with 95 CI error bars"
   ]
  },
  {
   "cell_type": "code",
   "execution_count": 49,
   "metadata": {
    "collapsed": true
   },
   "outputs": [],
   "source": [
    "# Plot matrices showing average across subjects\n",
    "all_mean = np.mean(all_corrs, axis=2)\n",
    "all_std = (np.std(all_corrs, axis=2)/np.sqrt(len(_sub_list)))*1.96\n",
    "\n",
    "fig, ax = plt.subplots(figsize=(10,10))\n",
    "im = ax.matshow(np.absolute(all_mean), vmin=0, vmax = 0.5)\n",
    "ax.set_xticklabels(['']+roi_name)\n",
    "ax.set_yticklabels(['']+roi_name)\n",
    "plt.colorbar(im)\n",
    "colours = im.cmap(im.norm(all_mean))\n",
    "if save_fig:\n",
    "    plt.savefig(str(put_plots)+'all_subjects.png')\n",
    "plt.show() if show_fig else plt.close()\n",
    "\n",
    "\n",
    "# Plot average across subjects as barplot with error bars\n",
    "\n",
    "num_rois = len(all_mean)\n",
    "indices = np.arange(0,num_rois)\n",
    "fig, axes = plt.subplots(num_rois,1,figsize=(10,10), sharey=True, sharex=True)\n",
    "for i in range(all_mean.shape[0]):\n",
    "    ax = axes[i]\n",
    "    means = all_mean[i,:]\n",
    "    sterr = all_std[i,:]\n",
    "    ax.bar(indices, means, 1, color=colours[i], yerr=sterr, zorder=-1, edgecolor='black', lw=2, \n",
    "           ecolor='red', error_kw=dict(lw=2, capsize=2.5, capthick=1))\n",
    "    ax.set_facecolor('white')\n",
    "    ax.set_xticks(indices)\n",
    "    ax.set_xticklabels(roi_name)\n",
    "    ax.text(9.5, 0.25, roi_name[i], fontsize=17, fontname=\"Arial\", verticalalignment='center', \n",
    "            horizontalalignment='center')\n",
    "    ax.set_ylim([-0.05,0.5])\n",
    "    plt.errorbar\n",
    "plt.tight_layout()\n",
    "if save_fig:\n",
    "    plt.savefig(str(put_plots)+'all_subjects_bar.png')\n",
    "plt.show() if show_fig else plt.close()"
   ]
  },
  {
   "cell_type": "markdown",
   "metadata": {},
   "source": [
    "## Plot correspondence between probabilities across regions - by timepoint"
   ]
  },
  {
   "cell_type": "markdown",
   "metadata": {},
   "source": [
    "#### Choose what time unit to plot by, and whether you want a moving window, or to plot every unit"
   ]
  },
  {
   "cell_type": "code",
   "execution_count": 40,
   "metadata": {
    "collapsed": true
   },
   "outputs": [],
   "source": [
    "# Do you want to plot by trial number (trial_num), or by TR (time_point)    \n",
    "by = 'trial_num'\n",
    "\n",
    "# Do you want to plot as a moving window, or (if False) by each unit of time. \n",
    "moving = True\n",
    "\n",
    "# Choose the size of the moving window\n",
    "windowsize = 5\n",
    "\n",
    "# Choose whether you want the windows to be discrete (i.e. non-overlapping/binned)\n",
    "discrete = False"
   ]
  },
  {
   "cell_type": "markdown",
   "metadata": {},
   "source": [
    "#### This cell will create the actual plots, and giffify if you so choose"
   ]
  },
  {
   "cell_type": "code",
   "execution_count": 50,
   "metadata": {},
   "outputs": [
    {
     "data": {
      "image/png": "[encoded data removed]",
      "text/plain": [
       "<matplotlib.figure.Figure at 0x7f5290d4a250>"
      ]
     },
     "metadata": {},
     "output_type": "display_data"
    }
   ],
   "source": [
    "ALLDM = pd.read_csv(str(main_dir)+'csv/logistic_timeseries_drawing_neural_2wayDraw_logged.csv')\n",
    "\n",
    "# if you decided to use moving window, default step size is 1, unless you want them discrete / binned\n",
    "# If you decided to use individual time points, then step and windowsize are both 1.\n",
    "if moving:\n",
    "    step = 1\n",
    "    if discrete:\n",
    "        step = windowsize\n",
    "else:\n",
    "    step = 1\n",
    "    windowsize = 1\n",
    "\n",
    "# depending on your chosen unit, the parameters for the looping change    \n",
    "if by == 'trial_num':\n",
    "    by_out = 'trial'\n",
    "    low = 0\n",
    "    high = 40\n",
    "elif by == 'time_point':\n",
    "    by_out = 'TR'\n",
    "    low = 1\n",
    "    high = 24\n",
    "\n",
    "_sub_list = np.unique(ALLDM['subj'])\n",
    "_roi_list = ['V1Draw','V2Draw', 'LOCDraw', 'parietalDraw', 'smgDraw', \n",
    "             'sensoryDraw', 'motorDraw', 'frontalDraw']\n",
    "roi_name = ['V1', 'V2', 'LOC', 'Par', 'SMG', 'Sens', 'Mot', 'Front']\n",
    "images = []\n",
    "all_all = []\n",
    "\n",
    "# Depending on choices made in prior cell, this will step through your chosen time interval\n",
    "for point in range(low,high-windowsize+1,step):\n",
    "    bottom = point\n",
    "    top = point + windowsize\n",
    "    # reduce to only data in relevant range for this loop\n",
    "    _ALLDM = ALLDM[ALLDM[by]>=bottom]\n",
    "    __ALLDM = _ALLDM[_ALLDM[by]<top]\n",
    "    all_corrs = []\n",
    "    for sub in _sub_list:\n",
    "        \n",
    "        # reduce to only relevant subject\n",
    "        sub_only = __ALLDM[__ALLDM['subj']==sub]\n",
    "        drawpreds = []\n",
    "        for roi in _roi_list:\n",
    "            # reduce to onyl relevant roi\n",
    "            roi_only = sub_only[sub_only['roi']==roi]\n",
    "            t1 = np.array(roi_only['t1_prob'])\n",
    "            t2 = np.array(roi_only['t2_prob'])\n",
    "            assert t1.shape == t2.shape\n",
    "            trained = np.hstack((t1,t2))\n",
    "            drawpreds.append(trained)\n",
    "        drawpreds = np.array(drawpreds)\n",
    "        corrs = np.corrcoef(drawpreds)\n",
    "        # stack correlations from each subject\n",
    "        all_corrs = corrs if len(all_corrs) == 0 else np.dstack((all_corrs, corrs))\n",
    "    all_corrs = np.array(all_corrs)\n",
    "    # do one sample t test for each\n",
    "    t, p = stats.ttest_1samp(all_corrs, 0, axis=2)\n",
    "    clear_output(wait=True)\n",
    "    all_collapse = np.mean(all_corrs, axis=2)\n",
    "    np.place(all_collapse, all_collapse>0.9, np.nan)\n",
    "    # plot the output for each time point\n",
    "    fig, ax = plt.subplots(figsize=(10,10))\n",
    "    im = ax.matshow(all_collapse, vmin = 0, vmax = 0.5)\n",
    "    ax.set_xticklabels(['']+roi_name)\n",
    "    ax.set_yticklabels(['']+roi_name)\n",
    "    plt.colorbar(im)\n",
    "    smoothing = ', win_size = {}'.format(windowsize) if windowsize > 1 else ''\n",
    "    plt.title(str(by) + ': '+ str(point) + str(smoothing), y=1.08)\n",
    "    plt.tight_layout()\n",
    "    if save_fig:\n",
    "        plt.savefig(str(put_plots)+str(by_out)+'_'+str(point)+'.png')\n",
    "        currIm = Image.open(str(put_plots)+str(by_out)+'_'+str(point) + '.png')\n",
    "        images.append(currIm)\n",
    "    plt.show() if show_fig else plt.close()\n",
    "\n",
    "# giffify results\n",
    "if save_fig:\n",
    "    images = [np.array(image) for image in images]\n",
    "    imageio.mimsave(str(put_plots)+'all_mats_' + str(by_out) + '.gif', images, duration=0.5)"
   ]
  },
  {
   "cell_type": "markdown",
   "metadata": {},
   "source": [
    " ## Fuzzy C Means clustering analysis\n",
    " \n",
    " https://pythonhosted.org/scikit-fuzzy/api/skfuzzy.html#cmeans"
   ]
  },
  {
   "cell_type": "code",
   "execution_count": 52,
   "metadata": {
    "collapsed": true
   },
   "outputs": [],
   "source": [
    "import skfuzzy as fuzz"
   ]
  },
  {
   "cell_type": "code",
   "execution_count": 57,
   "metadata": {},
   "outputs": [
    {
     "name": "stdout",
     "output_type": "stream",
     "text": [
      "   num_c   V1   V2  LOC  Par  SMG  Sens  Mot  Front       fpc\n",
      "0    2.0  1.0  1.0  1.0  0.0  0.0   0.0  0.0    0.0  0.549513\n",
      "1    3.0  2.0  2.0  2.0  0.0  0.0   0.0  1.0    1.0  0.416183\n",
      "2    4.0  2.0  2.0  2.0  0.0  3.0   0.0  3.0    1.0  0.566522\n"
     ]
    }
   ],
   "source": [
    "end = None\n",
    "all_mean_clust = all_mean\n",
    "num = 8\n",
    "\n",
    "# replace nans with 1 so it will run\n",
    "all_mean_clust[np.isnan(all_mean_clust)]=1\n",
    "fpcs = []\n",
    "which_clusters = []\n",
    "# explore the number of clusters, likely want to compare 2, 3, and 4. 5 clusters for 8 ROIs is too many\n",
    "for ncenters in range(2,5):\n",
    "    # m is a fuzzification constant, high number is more fuzzification\n",
    "    cntr, u, u0, d, jm, p, fpc = fuzz.cluster.cmeans(all_mean_clust[:,:], \n",
    "                                                     ncenters, \n",
    "                                                     2, \n",
    "                                                     error=0.000000000000001, \n",
    "                                                     maxiter=100000000, \n",
    "                                                     init=None)\n",
    "    if ncenters == 2:\n",
    "        clusts = cntr\n",
    "    which_cluster = np.argmax(u, axis=0)\n",
    "    which_clusters = which_cluster if len(which_clusters) == 0 else np.vstack((which_clusters, which_cluster))\n",
    "    fpcs.append(fpc)  \n",
    "\n",
    "\n",
    "centers = np.expand_dims(np.arange(2,5),1)\n",
    "fpcs = np.expand_dims(np.array(fpcs),1)\n",
    "col_names = np.insert(roi_name[:end],0,'num_clusters')\n",
    "col_names = np.append(col_names,'fpc')\n",
    "results_frame = pd.DataFrame(np.hstack((centers,which_clusters, fpcs)), columns= col_names)\n",
    "\n",
    "print(results_frame)"
   ]
  },
  {
   "cell_type": "markdown",
   "metadata": {},
   "source": [
    "Typically, two clusters will either come out as more or less the same as four, or much better.\n",
    "Also, the solution for 2 and 3 clusters is always the same, while the solution for 4, seems to have a few local minima, where the solution varies in whether ANY rois load maximally on a fourth factor"
   ]
  },
  {
   "cell_type": "code",
   "execution_count": 58,
   "metadata": {
    "collapsed": true
   },
   "outputs": [],
   "source": [
    "us = []\n",
    "for i in range((all_corrs.shape[2])):\n",
    "    all_mean_clust = all_corrs[:end,:end,i]\n",
    "    u, u0, d, jm, p, fpc = fuzz.cluster.cmeans_predict(all_mean_clust, clusts, 2, error=0.005, maxiter=1000)\n",
    "    which_cluster = np.argmax(u, axis=0)\n",
    "    us = np.array(u) if len(us)==0 else np.dstack((us,u))\n"
   ]
  },
  {
   "cell_type": "code",
   "execution_count": 59,
   "metadata": {
    "collapsed": true
   },
   "outputs": [],
   "source": [
    "us_mean = np.mean(us, axis=2)\n",
    "us_std = np.std(us, axis=2)"
   ]
  },
  {
   "cell_type": "code",
   "execution_count": 60,
   "metadata": {},
   "outputs": [
    {
     "data": {
      "text/plain": [
       "<matplotlib.figure.Figure at 0x7f52911ad8d0>"
      ]
     },
     "metadata": {},
     "output_type": "display_data"
    },
    {
     "data": {
      "image/png": "[encoded data removed]",
      "text/plain": [
       "<matplotlib.figure.Figure at 0x7f52911adf10>"
      ]
     },
     "metadata": {},
     "output_type": "display_data"
    }
   ],
   "source": [
    "#Plot barplot of cluster membership\n",
    "\n",
    "plt.clf()\n",
    "indices = np.arange(0,num)\n",
    "_colors = ['b']*5\n",
    "colors = ['y']*3\n",
    "colors.extend(_colors)\n",
    "fig, ax = plt.subplots(figsize = (12,7))\n",
    "series1 = ax.bar(indices, us_mean[0]-0.5, 0.75, color=colors, yerr=us_std[0], zorder=-1, capsize=2.5)\n",
    "ax.set_title('Cluster 1 Membership')\n",
    "ax.set_ylabel('Probability of Cluster')\n",
    "ax.set_xticks(indices)\n",
    "ax.axhline(lw=0.5, c=(0,0,0,0.6))\n",
    "ax.set_xticklabels(roi_name)\n",
    "ax.set_xlabel('ROI')\n",
    "plt.show()"
   ]
  },
  {
   "cell_type": "code",
   "execution_count": 61,
   "metadata": {},
   "outputs": [
    {
     "name": "stdout",
     "output_type": "stream",
     "text": [
      "[[-0.2   -0.217 -0.093  0.041  0.124  0.087  0.127  0.089]\n",
      " [-0.211 -0.227 -0.11   0.026  0.114  0.076  0.115  0.077]\n",
      " [-0.187 -0.205 -0.075  0.056  0.134  0.098  0.136  0.1  ]]\n"
     ]
    }
   ],
   "source": [
    "# produce bootstrap CIs for later plotting\n",
    "\n",
    "iters = 3000\n",
    "boot_means = []\n",
    "for i in np.arange(iters):\n",
    "    inds = np.random.RandomState(i).choice(us.shape[2],us.shape[2])\n",
    "    boot = us[...,inds]\n",
    "    boot_mean = np.mean(boot[0], axis=1) - 0.5\n",
    "    boot_means.append(boot_mean)\n",
    "U = np.mean(boot_means, axis=0)\n",
    "lb = np.percentile(boot_means, 2.5, axis=0)\n",
    "ub = np.percentile(boot_means, 97.5, axis=0)\n",
    "\n",
    "print(np.around(np.vstack((U,lb,ub)),3))\n"
   ]
  },
  {
   "cell_type": "code",
   "execution_count": 62,
   "metadata": {
    "collapsed": true
   },
   "outputs": [],
   "source": [
    "# Create a dataframe with the clustering strength\n",
    "\n",
    "_all_coefs = []\n",
    "for subj in range(us.shape[2]):\n",
    "    subject = _sub_list[subj]\n",
    "    cluster1 = np.around(np.mean((us[0,:3,subj]-0.5)),4)\n",
    "    cluster2 = np.around(np.mean((us[0,4:,subj]-0.5)),4)\n",
    "    clusters = np.around(np.absolute(cluster1) + np.absolute(cluster2) / 2,4)\n",
    "    parietal = np.around(us[0,3,subj]-0.5,4)\n",
    "    coefs = np.array((subject,cluster1, parietal, cluster2, clusters))\n",
    "    _all_coefs = coefs if len(_all_coefs) == 0 else np.vstack((_all_coefs,coefs))\n",
    "    "
   ]
  },
  {
   "cell_type": "code",
   "execution_count": 63,
   "metadata": {
    "collapsed": true
   },
   "outputs": [],
   "source": [
    "all_coefs = pd.DataFrame(_all_coefs, columns = ['subj', 'evc_clust', 'parietal', 'sm_clust', 'all_clust'])\n",
    "all_coefs.to_csv(str(main_dir)+'csv/drawing_clustering_strength.csv')"
   ]
  },
  {
   "cell_type": "code",
   "execution_count": 64,
   "metadata": {},
   "outputs": [
    {
     "data": {
      "image/png": "[encoded data removed]",
      "text/plain": [
       "<matplotlib.figure.Figure at 0x7f5290200e90>"
      ]
     },
     "metadata": {},
     "output_type": "display_data"
    }
   ],
   "source": [
    "# Creater boxplot for strength of cluster 1, cluster 2, and affiliation of parietal\n",
    "\n",
    "fig, ax = plt.subplots()\n",
    "boxer = ax.boxplot([np.array(all_coefs['evc_clust']), \n",
    "                    np.array(all_coefs['sm_clust']), \n",
    "                    np.array(all_coefs['parietal'])], \n",
    "                    positions=[0,1,2],\n",
    "                    patch_artist=True)\n",
    "colors = ['y','b','g']\n",
    "\n",
    "for patch, color in zip(boxer['boxes'], colors):\n",
    "        patch.set_facecolor(color)\n",
    "ax.axhline(lw=0.5, color='black')\n",
    "ax.set_xticklabels(['cluster1', 'cluster2', 'parietal'])\n",
    "plt.show()"
   ]
  },
  {
   "cell_type": "markdown",
   "metadata": {},
   "source": [
    "#### Compare first and second half clustering"
   ]
  },
  {
   "cell_type": "code",
   "execution_count": 65,
   "metadata": {},
   "outputs": [
    {
     "ename": "IOError",
     "evalue": "File /home/jefan/neurosketch/csv/drawing_clustering_strength_half1.csv does not exist",
     "output_type": "error",
     "traceback": [
      "\u001b[0;31m---------------------------------------------------------------------------\u001b[0m",
      "\u001b[0;31mIOError\u001b[0m                                   Traceback (most recent call last)",
      "\u001b[0;32m<ipython-input-65-008d724b2208>\u001b[0m in \u001b[0;36m<module>\u001b[0;34m()\u001b[0m\n\u001b[0;32m----> 1\u001b[0;31m \u001b[0mhalf1\u001b[0m \u001b[0;34m=\u001b[0m \u001b[0mpd\u001b[0m\u001b[0;34m.\u001b[0m\u001b[0mread_csv\u001b[0m\u001b[0;34m(\u001b[0m\u001b[0mstr\u001b[0m\u001b[0;34m(\u001b[0m\u001b[0mmain_dir\u001b[0m\u001b[0;34m)\u001b[0m\u001b[0;34m+\u001b[0m\u001b[0;34m'csv/drawing_clustering_strength_half1.csv'\u001b[0m\u001b[0;34m)\u001b[0m\u001b[0;34m\u001b[0m\u001b[0m\n\u001b[0m\u001b[1;32m      2\u001b[0m \u001b[0mhalf2\u001b[0m \u001b[0;34m=\u001b[0m \u001b[0mpd\u001b[0m\u001b[0;34m.\u001b[0m\u001b[0mread_csv\u001b[0m\u001b[0;34m(\u001b[0m\u001b[0mstr\u001b[0m\u001b[0;34m(\u001b[0m\u001b[0mmain_dir\u001b[0m\u001b[0;34m)\u001b[0m\u001b[0;34m+\u001b[0m\u001b[0;34m'csv/drawing_clustering_strength_half2.csv'\u001b[0m\u001b[0;34m)\u001b[0m\u001b[0;34m\u001b[0m\u001b[0m\n\u001b[1;32m      3\u001b[0m \u001b[0mall_coefs\u001b[0m \u001b[0;34m=\u001b[0m \u001b[0mpd\u001b[0m\u001b[0;34m.\u001b[0m\u001b[0mread_csv\u001b[0m\u001b[0;34m(\u001b[0m\u001b[0mstr\u001b[0m\u001b[0;34m(\u001b[0m\u001b[0mmain_dir\u001b[0m\u001b[0;34m)\u001b[0m\u001b[0;34m+\u001b[0m\u001b[0;34m'csv/drawing_clustering_strength.csv'\u001b[0m\u001b[0;34m)\u001b[0m\u001b[0;34m\u001b[0m\u001b[0m\n",
      "\u001b[0;32m/home/jefan/.local/lib/python2.7/site-packages/pandas/io/parsers.pyc\u001b[0m in \u001b[0;36mparser_f\u001b[0;34m(filepath_or_buffer, sep, delimiter, header, names, index_col, usecols, squeeze, prefix, mangle_dupe_cols, dtype, engine, converters, true_values, false_values, skipinitialspace, skiprows, nrows, na_values, keep_default_na, na_filter, verbose, skip_blank_lines, parse_dates, infer_datetime_format, keep_date_col, date_parser, dayfirst, iterator, chunksize, compression, thousands, decimal, lineterminator, quotechar, quoting, escapechar, comment, encoding, dialect, tupleize_cols, error_bad_lines, warn_bad_lines, skipfooter, skip_footer, doublequote, delim_whitespace, as_recarray, compact_ints, use_unsigned, low_memory, buffer_lines, memory_map, float_precision)\u001b[0m\n\u001b[1;32m    707\u001b[0m                     skip_blank_lines=skip_blank_lines)\n\u001b[1;32m    708\u001b[0m \u001b[0;34m\u001b[0m\u001b[0m\n\u001b[0;32m--> 709\u001b[0;31m         \u001b[0;32mreturn\u001b[0m \u001b[0m_read\u001b[0m\u001b[0;34m(\u001b[0m\u001b[0mfilepath_or_buffer\u001b[0m\u001b[0;34m,\u001b[0m \u001b[0mkwds\u001b[0m\u001b[0;34m)\u001b[0m\u001b[0;34m\u001b[0m\u001b[0m\n\u001b[0m\u001b[1;32m    710\u001b[0m \u001b[0;34m\u001b[0m\u001b[0m\n\u001b[1;32m    711\u001b[0m     \u001b[0mparser_f\u001b[0m\u001b[0;34m.\u001b[0m\u001b[0m__name__\u001b[0m \u001b[0;34m=\u001b[0m \u001b[0mname\u001b[0m\u001b[0;34m\u001b[0m\u001b[0m\n",
      "\u001b[0;32m/home/jefan/.local/lib/python2.7/site-packages/pandas/io/parsers.pyc\u001b[0m in \u001b[0;36m_read\u001b[0;34m(filepath_or_buffer, kwds)\u001b[0m\n\u001b[1;32m    447\u001b[0m \u001b[0;34m\u001b[0m\u001b[0m\n\u001b[1;32m    448\u001b[0m     \u001b[0;31m# Create the parser.\u001b[0m\u001b[0;34m\u001b[0m\u001b[0;34m\u001b[0m\u001b[0m\n\u001b[0;32m--> 449\u001b[0;31m     \u001b[0mparser\u001b[0m \u001b[0;34m=\u001b[0m \u001b[0mTextFileReader\u001b[0m\u001b[0;34m(\u001b[0m\u001b[0mfilepath_or_buffer\u001b[0m\u001b[0;34m,\u001b[0m \u001b[0;34m**\u001b[0m\u001b[0mkwds\u001b[0m\u001b[0;34m)\u001b[0m\u001b[0;34m\u001b[0m\u001b[0m\n\u001b[0m\u001b[1;32m    450\u001b[0m \u001b[0;34m\u001b[0m\u001b[0m\n\u001b[1;32m    451\u001b[0m     \u001b[0;32mif\u001b[0m \u001b[0mchunksize\u001b[0m \u001b[0;32mor\u001b[0m \u001b[0miterator\u001b[0m\u001b[0;34m:\u001b[0m\u001b[0;34m\u001b[0m\u001b[0m\n",
      "\u001b[0;32m/home/jefan/.local/lib/python2.7/site-packages/pandas/io/parsers.pyc\u001b[0m in \u001b[0;36m__init__\u001b[0;34m(self, f, engine, **kwds)\u001b[0m\n\u001b[1;32m    816\u001b[0m             \u001b[0mself\u001b[0m\u001b[0;34m.\u001b[0m\u001b[0moptions\u001b[0m\u001b[0;34m[\u001b[0m\u001b[0;34m'has_index_names'\u001b[0m\u001b[0;34m]\u001b[0m \u001b[0;34m=\u001b[0m \u001b[0mkwds\u001b[0m\u001b[0;34m[\u001b[0m\u001b[0;34m'has_index_names'\u001b[0m\u001b[0;34m]\u001b[0m\u001b[0;34m\u001b[0m\u001b[0m\n\u001b[1;32m    817\u001b[0m \u001b[0;34m\u001b[0m\u001b[0m\n\u001b[0;32m--> 818\u001b[0;31m         \u001b[0mself\u001b[0m\u001b[0;34m.\u001b[0m\u001b[0m_make_engine\u001b[0m\u001b[0;34m(\u001b[0m\u001b[0mself\u001b[0m\u001b[0;34m.\u001b[0m\u001b[0mengine\u001b[0m\u001b[0;34m)\u001b[0m\u001b[0;34m\u001b[0m\u001b[0m\n\u001b[0m\u001b[1;32m    819\u001b[0m \u001b[0;34m\u001b[0m\u001b[0m\n\u001b[1;32m    820\u001b[0m     \u001b[0;32mdef\u001b[0m \u001b[0mclose\u001b[0m\u001b[0;34m(\u001b[0m\u001b[0mself\u001b[0m\u001b[0;34m)\u001b[0m\u001b[0;34m:\u001b[0m\u001b[0;34m\u001b[0m\u001b[0m\n",
      "\u001b[0;32m/home/jefan/.local/lib/python2.7/site-packages/pandas/io/parsers.pyc\u001b[0m in \u001b[0;36m_make_engine\u001b[0;34m(self, engine)\u001b[0m\n\u001b[1;32m   1047\u001b[0m     \u001b[0;32mdef\u001b[0m \u001b[0m_make_engine\u001b[0m\u001b[0;34m(\u001b[0m\u001b[0mself\u001b[0m\u001b[0;34m,\u001b[0m \u001b[0mengine\u001b[0m\u001b[0;34m=\u001b[0m\u001b[0;34m'c'\u001b[0m\u001b[0;34m)\u001b[0m\u001b[0;34m:\u001b[0m\u001b[0;34m\u001b[0m\u001b[0m\n\u001b[1;32m   1048\u001b[0m         \u001b[0;32mif\u001b[0m \u001b[0mengine\u001b[0m \u001b[0;34m==\u001b[0m \u001b[0;34m'c'\u001b[0m\u001b[0;34m:\u001b[0m\u001b[0;34m\u001b[0m\u001b[0m\n\u001b[0;32m-> 1049\u001b[0;31m             \u001b[0mself\u001b[0m\u001b[0;34m.\u001b[0m\u001b[0m_engine\u001b[0m \u001b[0;34m=\u001b[0m \u001b[0mCParserWrapper\u001b[0m\u001b[0;34m(\u001b[0m\u001b[0mself\u001b[0m\u001b[0;34m.\u001b[0m\u001b[0mf\u001b[0m\u001b[0;34m,\u001b[0m \u001b[0;34m**\u001b[0m\u001b[0mself\u001b[0m\u001b[0;34m.\u001b[0m\u001b[0moptions\u001b[0m\u001b[0;34m)\u001b[0m\u001b[0;34m\u001b[0m\u001b[0m\n\u001b[0m\u001b[1;32m   1050\u001b[0m         \u001b[0;32melse\u001b[0m\u001b[0;34m:\u001b[0m\u001b[0;34m\u001b[0m\u001b[0m\n\u001b[1;32m   1051\u001b[0m             \u001b[0;32mif\u001b[0m \u001b[0mengine\u001b[0m \u001b[0;34m==\u001b[0m \u001b[0;34m'python'\u001b[0m\u001b[0;34m:\u001b[0m\u001b[0;34m\u001b[0m\u001b[0m\n",
      "\u001b[0;32m/home/jefan/.local/lib/python2.7/site-packages/pandas/io/parsers.pyc\u001b[0m in \u001b[0;36m__init__\u001b[0;34m(self, src, **kwds)\u001b[0m\n\u001b[1;32m   1693\u001b[0m         \u001b[0mkwds\u001b[0m\u001b[0;34m[\u001b[0m\u001b[0;34m'allow_leading_cols'\u001b[0m\u001b[0;34m]\u001b[0m \u001b[0;34m=\u001b[0m \u001b[0mself\u001b[0m\u001b[0;34m.\u001b[0m\u001b[0mindex_col\u001b[0m \u001b[0;32mis\u001b[0m \u001b[0;32mnot\u001b[0m \u001b[0mFalse\u001b[0m\u001b[0;34m\u001b[0m\u001b[0m\n\u001b[1;32m   1694\u001b[0m \u001b[0;34m\u001b[0m\u001b[0m\n\u001b[0;32m-> 1695\u001b[0;31m         \u001b[0mself\u001b[0m\u001b[0;34m.\u001b[0m\u001b[0m_reader\u001b[0m \u001b[0;34m=\u001b[0m \u001b[0mparsers\u001b[0m\u001b[0;34m.\u001b[0m\u001b[0mTextReader\u001b[0m\u001b[0;34m(\u001b[0m\u001b[0msrc\u001b[0m\u001b[0;34m,\u001b[0m \u001b[0;34m**\u001b[0m\u001b[0mkwds\u001b[0m\u001b[0;34m)\u001b[0m\u001b[0;34m\u001b[0m\u001b[0m\n\u001b[0m\u001b[1;32m   1696\u001b[0m \u001b[0;34m\u001b[0m\u001b[0m\n\u001b[1;32m   1697\u001b[0m         \u001b[0;31m# XXX\u001b[0m\u001b[0;34m\u001b[0m\u001b[0;34m\u001b[0m\u001b[0m\n",
      "\u001b[0;32mpandas/_libs/parsers.pyx\u001b[0m in \u001b[0;36mpandas._libs.parsers.TextReader.__cinit__\u001b[0;34m()\u001b[0m\n",
      "\u001b[0;32mpandas/_libs/parsers.pyx\u001b[0m in \u001b[0;36mpandas._libs.parsers.TextReader._setup_parser_source\u001b[0;34m()\u001b[0m\n",
      "\u001b[0;31mIOError\u001b[0m: File /home/jefan/neurosketch/csv/drawing_clustering_strength_half1.csv does not exist"
     ]
    }
   ],
   "source": [
    "### TODO: generate these files above\n",
    "half1 = pd.read_csv(str(main_dir)+'csv/drawing_clustering_strength_half1.csv')\n",
    "half2 = pd.read_csv(str(main_dir)+'csv/drawing_clustering_strength_half2.csv')\n",
    "all_coefs = pd.read_csv(str(main_dir)+'csv/drawing_clustering_strength.csv')"
   ]
  },
  {
   "cell_type": "code",
   "execution_count": null,
   "metadata": {
    "collapsed": true
   },
   "outputs": [],
   "source": [
    "change_with_time = pd.DataFrame(columns = ['subj', 'evc_clust', 'parietal', 'sm_clust', 'all_clust'])\n",
    "\n",
    "change_with_time['subj'] = half1['subj']\n",
    "for col in ['evc_clust', 'sm_clust', 'all_clust']:\n",
    "    change_with_time[col] = np.absolute(half2[col]) - np.absolute(half1[col]) \n",
    "change_with_time['parietal'] = half2['parietal'] - half1['parietal']\n",
    "\n",
    "change_with_time.to_csv(str(main_dir)+'csv/drawing_clustering_strength_change.csv')"
   ]
  },
  {
   "cell_type": "markdown",
   "metadata": {},
   "source": [
    "#### Does the clustering strength change over time?\n",
    "#### Does the parietal lobe change 'allegiance' over time?"
   ]
  },
  {
   "cell_type": "code",
   "execution_count": null,
   "metadata": {
    "collapsed": true
   },
   "outputs": [],
   "source": [
    "fig, axes = plt.subplots(1,2, figsize=(10,4))\n",
    "boxer = axes[0].boxplot([np.array(change_with_time['evc_clust']), \n",
    "                    np.array(change_with_time['sm_clust']), \n",
    "                    np.array(change_with_time['all_clust'])], \n",
    "                    positions=[0,1,2],\n",
    "                    patch_artist=True)\n",
    "boxer2 = axes[1].boxplot(np.array(change_with_time['parietal']),  \n",
    "                    positions=[0],\n",
    "                    patch_artist=True)\n",
    "colors = ['y','b','g']\n",
    "        \n",
    "\n",
    "for patch, color in zip(boxer['boxes'], colors):\n",
    "        patch.set_facecolor(color)\n",
    "boxer2['boxes'][0].set_color('orange') \n",
    "axes[0].axhline(lw=0.5, color='black')\n",
    "axes[1].axhline(lw=0.5, color='black')\n",
    "axes[0].set_xticklabels(['cluster1', 'cluster2', 'all_clust'])\n",
    "axes[1].set_xticklabels(['parietal'])\n",
    "plt.tight_layout()\n",
    "plt.show()"
   ]
  },
  {
   "cell_type": "markdown",
   "metadata": {},
   "source": [
    "#### Compute correlations with clustering strength change and pre/post differentiation"
   ]
  },
  {
   "cell_type": "code",
   "execution_count": null,
   "metadata": {
    "collapsed": true
   },
   "outputs": [],
   "source": [
    "prepost = pd.read_csv(os.path.join(main_dir,'csv/neural_changes_by_surfroi_and_subject.csv'))\n",
    "roi_list = ['V1', 'V2', 'LOC', 'IT', 'fusiform', 'parahippo', 'PRC', 'ento','hipp', 'mOFC']\n",
    "roi_names = ['V1', 'V2', 'LOC', 'IT', 'Fus', 'PHC', 'PRC', 'EC','HC', 'mOFC']\n",
    "\n",
    "array = change_with_time\n",
    "\n",
    "corrslist = []\n",
    "for this_roi in roi_list:\n",
    "    recog = prepost['UnanchoredTrainedDiff_{}'.format(this_roi)].values-prepost['UnanchoredControlDiff_{}'.format(this_roi)].values\n",
    "    allstack = np.vstack((recog, array['evc_clust'], array['parietal'], array['sm_clust'], array['all_clust']))\n",
    "    int_corr = np.corrcoef(allstack)[1:,0]\n",
    "    corrslist = int_corr if len(corrslist) == 0 else np.vstack((corrslist, int_corr))\n",
    "fig, ax = plt.subplots(figsize=(8,4))\n",
    "im = ax.matshow(np.transpose(corrslist))\n",
    "ax.set_yticks(np.arange(4))\n",
    "ax.set_yticklabels(['EVC', 'Par', 'Prod', 'All'], fontsize=12)\n",
    "ax.set_xticks(np.arange(10))\n",
    "ax.set_xticklabels(roi_names, fontsize=12)\n",
    "ax.set_xlabel('differentiation', fontsize=16)\n",
    "ax.set_ylabel('cluster change', fontsize=16)\n",
    "ax.xaxis.set_label_position('top')\n",
    "ax.xaxis.tick_top()\n",
    "plt.colorbar(im)\n",
    "    "
   ]
  },
  {
   "cell_type": "markdown",
   "metadata": {},
   "source": [
    "#### Working cell for agglomerative hierarchical clustering."
   ]
  },
  {
   "cell_type": "code",
   "execution_count": null,
   "metadata": {
    "collapsed": true
   },
   "outputs": [],
   "source": [
    "for i in range((all_corrs.shape[2])):\n",
    "    all_mean_clust = all_corrs[:,:,i]\n",
    "    all_mean_clust[np.isnan(all_mean_clust)]=1\n",
    "    clusters = AgglomerativeClustering(n_clusters=3, linkage='average')\n",
    "    fitted = clusters.fit(all_mean_clust)\n",
    "    print(fitted.labels_)"
   ]
  }
 ],
 "metadata": {
  "kernelspec": {
   "display_name": "Python 2",
   "language": "python",
   "name": "python2"
  },
  "language_info": {
   "codemirror_mode": {
    "name": "ipython",
    "version": 2
   },
   "file_extension": ".py",
   "mimetype": "text/x-python",
   "name": "python",
   "nbconvert_exporter": "python",
   "pygments_lexer": "ipython2",
   "version": "2.7.12"
  }
 },
 "nbformat": 4,
 "nbformat_minor": 2
}
