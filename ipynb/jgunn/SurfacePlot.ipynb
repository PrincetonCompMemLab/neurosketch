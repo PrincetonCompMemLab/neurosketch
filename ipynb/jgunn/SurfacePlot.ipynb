{
 "cells": [
  {
   "cell_type": "code",
   "execution_count": null,
   "metadata": {},
   "outputs": [],
   "source": [
    "import nilearn\n",
    "from nilearn import datasets\n",
    "from nilearn import plotting\n",
    "import matplotlib.pyplot as plt\n",
    "import matplotlib.colors as colors\n",
    "import numpy as np"
   ]
  },
  {
   "cell_type": "markdown",
   "metadata": {},
   "source": [
    "### Set Colormap"
   ]
  },
  {
   "cell_type": "markdown",
   "metadata": {},
   "source": [
    "This first cell is primarily useful if you want to plot something like an anatomical ROI, in one uniform color\n",
    "\n",
    "This is a function to narrow the range of the colormap. Below is what I used to make it one solid (blue) color on a poster. You can otherwise just skip this and fill in any colormap you choose in the final two plotting cells."
   ]
  },
  {
   "cell_type": "code",
   "execution_count": null,
   "metadata": {
    "collapsed": true
   },
   "outputs": [],
   "source": [
    "# Assuming a colormap ranges from 0 to 1, choose the points you want to start and end at in your subset colormap\n",
    "lo = 0\n",
    "hi = 0.05\n",
    "\n",
    "def truncate_colormap(cmap, minval=0.0, maxval=1.0, n=100):\n",
    "    new_cmap = colors.LinearSegmentedColormap.from_list(\n",
    "        'trunc({n},{a:.2f},{b:.2f})'.format(n=cmap.name, a=minval, b=maxval),\n",
    "        cmap(np.linspace(minval, maxval, n)))\n",
    "    return new_cmap\n",
    "\n",
    "# This will give one tone blue\n",
    "cmap = plt.get_cmap('tab10')\n",
    "cmap = truncate_colormap(cmap, lo, hi)"
   ]
  },
  {
   "cell_type": "markdown",
   "metadata": {},
   "source": [
    "Alternatively, simply set a colormap in its entirety"
   ]
  },
  {
   "cell_type": "code",
   "execution_count": null,
   "metadata": {
    "collapsed": true
   },
   "outputs": [],
   "source": [
    "# This will be more traditional heatmap\n",
    "cmap = plt.get_cmap('inferno')"
   ]
  },
  {
   "cell_type": "markdown",
   "metadata": {},
   "source": [
    "Read in necessary data"
   ]
  },
  {
   "cell_type": "code",
   "execution_count": null,
   "metadata": {
    "collapsed": true
   },
   "outputs": [],
   "source": [
    "# Identify filename of output to be plotted\n",
    "statmap = 'draw_task_mask_bin.nii.gz'  # fill in your own"
   ]
  },
  {
   "cell_type": "code",
   "execution_count": null,
   "metadata": {
    "collapsed": true
   },
   "outputs": [],
   "source": [
    "# Import freesurfer average to use as background for group level plot\n",
    "fsaverage = datasets.fetch_surf_fsaverage5()\n",
    "\n",
    "# Place your statmap on background\n",
    "textureL = nilearn.surface.vol_to_surf(statmap, fsaverage.pial_left)\n",
    "textureR = nilearn.surface.vol_to_surf(statmap, fsaverage.pial_right)"
   ]
  },
  {
   "cell_type": "markdown",
   "metadata": {},
   "source": [
    "Set the viewpoint you want, and the threshold for values to include in plot"
   ]
  },
  {
   "cell_type": "code",
   "execution_count": null,
   "metadata": {
    "collapsed": true
   },
   "outputs": [],
   "source": [
    "view = 'lateral'  # choose ‘lateral’, ‘medial’, ‘dorsal’, ‘ventral’, ‘anterior’, ‘posterior’\n",
    "cutoff = 0.95\n",
    "name = 'searchlight'  # something meaningful to append to filenames"
   ]
  },
  {
   "cell_type": "markdown",
   "metadata": {},
   "source": [
    "Make actual plots"
   ]
  },
  {
   "cell_type": "code",
   "execution_count": null,
   "metadata": {
    "collapsed": true
   },
   "outputs": [],
   "source": [
    "for side in ['left', 'right']:\n",
    "    if side == 'left':\n",
    "        tex = textureL\n",
    "        surface = fsaverage.infl_left\n",
    "        BG = fsaverage.sulc_left\n",
    "    else:\n",
    "        tex = textureR\n",
    "        surface = fsaverage.infl_right\n",
    "        BG = fsaverage.sulc_right\n",
    "    plotting.plot_surf_stat_map(surface, tex, hemi=side, bg_map=BG, threshold=cutoff, cmap=cmap, view=view,\n",
    "                                output_file='{}_{}_{}.pdf'.format(name, side, view))"
   ]
  }
 ],
 "metadata": {
  "kernelspec": {
   "display_name": "Python 3",
   "language": "python",
   "name": "python3"
  },
  "language_info": {
   "codemirror_mode": {
    "name": "ipython",
    "version": 3
   },
   "file_extension": ".py",
   "mimetype": "text/x-python",
   "name": "python",
   "nbconvert_exporter": "python",
   "pygments_lexer": "ipython3",
   "version": "3.6.2"
  }
 },
 "nbformat": 4,
 "nbformat_minor": 2
}
