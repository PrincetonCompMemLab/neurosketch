{
 "cells": [
  {
   "cell_type": "markdown",
   "metadata": {},
   "source": [
    "# setup"
   ]
  },
  {
   "cell_type": "code",
   "execution_count": 1,
   "metadata": {},
   "outputs": [
    {
     "name": "stderr",
     "output_type": "stream",
     "text": [
      "/usr/people/jgunn/.conda/envs/jgunn/lib/python3.6/importlib/_bootstrap.py:219: RuntimeWarning: numpy.dtype size changed, may indicate binary incompatibility. Expected 96, got 88\n",
      "  return f(*args, **kwds)\n",
      "/usr/people/jgunn/.conda/envs/jgunn/lib/python3.6/importlib/_bootstrap.py:219: ImportWarning: can't resolve package from __spec__ or __package__, falling back on __name__ and __path__\n",
      "  return f(*args, **kwds)\n"
     ]
    }
   ],
   "source": [
    "import warnings\n",
    "warnings.filterwarnings('ignore')\n",
    "\n",
    "import os\n",
    "import scipy\n",
    "import numpy as np\n",
    "import pandas as pd\n",
    "import nibabel as nib\n",
    "from nilearn import image\n",
    "from sklearn import linear_model\n",
    "from brainiak.searchlight.searchlight import Searchlight\n",
    "from brainiak.searchlight.searchlight import Cube\n",
    "\n",
    "phases = ['34']"
   ]
  },
  {
   "cell_type": "code",
   "execution_count": 2,
   "metadata": {},
   "outputs": [],
   "source": [
    "nb_name = ''\n",
    "\n",
    "data_dir = '/jukebox/ntb/projects/sketchloop02/data'\n",
    "SAVE_PATH = '/jukebox/ntb/projects/sketchloop02/data/searchlight_output'\n",
    "curr_dir = '/jukebox/ntb/projects/sketchloop02/prototype/link'\n",
    "roi_dir = os.path.join(data_dir, 'copes/roi')\n",
    "cope_dir = os.path.join(data_dir, 'copes/recog/objectGLM')\n",
    "sub_dirs = sorted(os.listdir(roi_dir))\n",
    "sub_dirs = [each[:7] for each in sub_dirs]\n",
    "\n",
    "## root paths\n",
    "os.path.abspath(os.path.join(curr_dir,'..','..'))\n",
    "proj_dir = os.path.abspath(os.path.join(curr_dir,'..','..')) ## use relative paths\n",
    "feat_dir = os.path.abspath(os.path.join(proj_dir,'data/features')) ## use relative paths 'D:\\\\data'\n",
    "\n",
    "# null mask\n",
    "null_mask = np.ones((88, 128, 128))\n",
    "normalize_on = True\n",
    "logged = True\n",
    "iv = 'Unnamed: 0'\n"
   ]
  },
  {
   "cell_type": "code",
   "execution_count": 3,
   "metadata": {},
   "outputs": [],
   "source": [
    "def load_draw_metadata(subject):\n",
    "    metadata = pd.read_csv(\n",
    "        '/jukebox/ntb/projects/sketchloop02/data/feature_matrices_and_metadata/metadata_' +\n",
    "        subject + '_drawing.csv')\n",
    "    return metadata\n",
    "\n",
    "# z-score normalization to de-mean & standardize variances within-voxel\n",
    "def normalize(X):\n",
    "    X = X - X.mean(0)\n",
    "    X = X / np.maximum(X.std(0), 1e-5)\n",
    "    return X"
   ]
  },
  {
   "cell_type": "markdown",
   "metadata": {},
   "source": [
    "# define and run searchlight\n",
    "How searchlight works with brainiak:\n",
    "\n",
    "1. Initiate a searchlight object, articulating certain parameters (e.g., searchlight shape, radius, max edge length, in voxels, of the 3D block(?)).\n",
    "2. Distribute data to be searched to the searchlight object, sorting between MPI ranks (idk what MPI ranks are tbh).\n",
    "3. Broadcast data, i.e., define other variables to be available for each execution of the searchlight function.\n",
    "4. Run the searchlight, this time articulating as a parameter the function to be applied at each searchlight location.\n",
    "\n",
    "We want to perform searchlight again, but this time the objective is to perform a version of helpers.make_drawing_predictions on each searchlight mask."
   ]
  },
  {
   "cell_type": "code",
   "execution_count": 4,
   "metadata": {},
   "outputs": [],
   "source": [
    "def prepostclf(subject_data, mask, sl_rad, bcast_var):\n",
    "    t1, t2 = trained_objs\n",
    "    subject_data = subject_data[0].transpose((3, 0, 1, 2))\n",
    "    \n",
    "    # format the train/test split\n",
    "    x_A = subject_data[:80,:].reshape(80, -1)\n",
    "    x_B = subject_data[80:, :].reshape(80, -1)\n",
    "    y_A = RM.label.values[:80]\n",
    "    y_B = RM.label.values[80:]\n",
    "    \n",
    "    # normalize if we want\n",
    "    if normalize_on:\n",
    "        x_A = normalize(x_A)\n",
    "        x_B = normalize(x_B)\n",
    "        \n",
    "    # dual classifiers\n",
    "    clfA = linear_model.LogisticRegression(\n",
    "        penalty='l2',C=1).fit(x_A, y_A)\n",
    "    clfB = linear_model.LogisticRegression(\n",
    "        penalty='l2',C=1).fit(x_B, y_B)\n",
    "    \n",
    "    ## add prediction probabilities to metadata matrix\n",
    "    ## must sort so that trained are first, and control is last\n",
    "    ## also save out new columns in the same order\n",
    "    _ordering = np.argsort(np.hstack((trained_objs,control_objs))) ## e.g., [chair table bench bed] ==> [3 2 0 1]\n",
    "    ordering = np.argsort(_ordering) ## get indices that sort from alphabetical to (trained_objs, control_objs)\n",
    "    probsA = (np.log(clfA.predict_proba(x_B)) if logged else clfA.predict_proba(x_B))\n",
    "    probsB = (np.log(clfB.predict_proba(x_A)) if logged else clfB.predict_proba(x_A))\n",
    "    probs = np.concatenate((probsA, probsB), axis=0)\n",
    "    \n",
    "    out = probs[:,ordering]\n",
    "    RM['t1_prob'] = out[:,0]\n",
    "    RM['t2_prob'] = out[:,1]\n",
    "    RM['c1_prob'] = out[:,2]\n",
    "    RM['c2_prob'] = out[:,3]\n",
    "    RM['bed_prob'] = probs[:,0]\n",
    "    RM['bench_prob'] = probs[:,1]\n",
    "    RM['chair_prob'] = probs[:,2]\n",
    "    RM['table_prob'] = probs[:,3]\n",
    "    \n",
    "    target = np.vstack((RM[RM.label==t1].groupby(iv)['t1_prob'].mean().values,\n",
    "                       RM[RM.label==t2].groupby(iv)['t2_prob'].mean().values)).mean(0)\n",
    "    foil = np.vstack((RM[RM.label==t1].groupby(iv)['t2_prob'].mean().values,\n",
    "                       RM[RM.label==t2].groupby(iv)['t1_prob'].mean().values)).mean(0)\n",
    "    \n",
    "    return np.mean(target-foil)"
   ]
  },
  {
   "cell_type": "code",
   "execution_count": 5,
   "metadata": {},
   "outputs": [],
   "source": [
    "# function that sets up and organizes searchlight over a set of subjects\n",
    "def searchlight_over_each(subjects, sl_rad, phases):\n",
    "    global RM, DM, trained_objs, control_objs, subject\n",
    "    \n",
    "    for subject in subjects:\n",
    "        print(subject)\n",
    "        \n",
    "        # set up searchlight object\n",
    "        sl = Searchlight(sl_rad=sl_rad, shape=Cube)\n",
    "        \n",
    "        # arrange data to be distributed to searchlight\n",
    "        # list of 4D not 3D arrays\n",
    "        subject_data = []\n",
    "        for phase in phases:\n",
    "            this_file = '{}/recog/{}_{}_featurematrix.npy'.format(\n",
    "                feat_dir, subject, phase)\n",
    "            subject_data.append(np.load(this_file).transpose((2, 3, 1, 0)))\n",
    "        subject_data = np.stack(subject_data, axis=0)\n",
    "        \n",
    "        # load metadata\n",
    "        this_file = \"{}/recog/metadata_{}_{}.csv\".format(feat_dir, subject, phase)\n",
    "        RM, DM = pd.read_csv(this_file), load_draw_metadata(subject)\n",
    "        trained_objs = np.unique(DM.label.values)\n",
    "        control_objs = [i for i in ['bed','bench','chair','table'] if i not in trained_objs]\n",
    "        \n",
    "        # distribute and broadcast needed data to searchlight\n",
    "        sl.distribute(subject_data, null_mask)\n",
    "        sl.broadcast(None)\n",
    "        \n",
    "        # run searchlight\n",
    "        subject_outputs = np.array(sl.run_searchlight(prepostclf))\n",
    "        print(np.shape(subject_outputs.astype(np.float32)))\n",
    "        img = nib.Nifti1Image(subject_outputs.astype(np.float32), affine)\n",
    "        \n",
    "        # store output for this subject\n",
    "        if not os.path.exists(SAVE_PATH):\n",
    "            os.makedirs(SAVE_PATH)\n",
    "        \n",
    "        localizer_tmap_filename = os.path.join(SAVE_PATH, subject + 'prepostclf_{}_searchlight.nii.gz'.format(phase))\n",
    "        nib.save(img, localizer_tmap_filename)"
   ]
  },
  {
   "cell_type": "code",
   "execution_count": null,
   "metadata": {},
   "outputs": [
    {
     "name": "stdout",
     "output_type": "stream",
     "text": [
      "['34']\n",
      "0110171\n"
     ]
    }
   ],
   "source": [
    "# run searchlight over all subjects and print time to compute results\n",
    "for phases in [['34'], ['56'], ['34', '56']]:\n",
    "    print(phases)\n",
    "    searchlight_over_each(sub_dirs, 3, phases)"
   ]
  },
  {
   "cell_type": "code",
   "execution_count": null,
   "metadata": {},
   "outputs": [],
   "source": []
  }
 ],
 "metadata": {
  "kernelspec": {
   "display_name": "Python 3",
   "language": "python",
   "name": "python3"
  },
  "language_info": {
   "codemirror_mode": {
    "name": "ipython",
    "version": 3
   },
   "file_extension": ".py",
   "mimetype": "text/x-python",
   "name": "python",
   "nbconvert_exporter": "python",
   "pygments_lexer": "ipython3",
   "version": "3.6.5"
  }
 },
 "nbformat": 4,
 "nbformat_minor": 2
}
