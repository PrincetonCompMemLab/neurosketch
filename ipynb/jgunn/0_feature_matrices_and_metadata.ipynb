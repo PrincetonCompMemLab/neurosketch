{
 "cells": [
  {
   "cell_type": "markdown",
   "metadata": {},
   "source": [
    "# setup"
   ]
  },
  {
   "cell_type": "code",
   "execution_count": null,
   "metadata": {},
   "outputs": [],
   "source": [
    "import warnings\n",
    "warnings.filterwarnings(\"ignore\")\n",
    "\n",
    "import os\n",
    "import numpy as np\n",
    "import pandas as pd\n",
    "from nilearn import image"
   ]
  },
  {
   "cell_type": "code",
   "execution_count": null,
   "metadata": {},
   "outputs": [],
   "source": [
    "nb_name = '0_feature_matrices_and_metadata'\n",
    "\n",
    "series_path = os.path.join(\n",
    "    '/jukebox/ntb/users/jwammes/sketchloop/', \n",
    "    'subjects/{}_neurosketch/analysis/firstlevel/', \n",
    "    'parameter/{}_neurosketch_3mm_drawing_run_{}_filtfuncHIRES.nii.gz')\n",
    "\n",
    "timepoint_path = '/jukebox/ntb/projects/sketchloop02/subjects/{}_neurosketch/regressor/run_{}/{}.txt'\n",
    "feature_path = '/jukebox/ntb/projects/sketchloop02/data/feature_matrices_and_metadata/{}_featurematrix.npy'\n",
    "metadata_path = '/jukebox/ntb/projects/sketchloop02/data/feature_matrices_and_metadata/metadata_{}_drawing.csv'\n",
    "\n",
    "subjects = ['0110171', '0110172', '0111171', '0112171', '0112172', '0112173',\n",
    "            '0113171', '0115174', '0117171', '0118171', '0118172', '0119171',\n",
    "            '0119172', '0119173', '0119174', '0120171', '0120172', '0120173',\n",
    "            '0123171', '0123173', '0124171', '0125171', '0125172', '1121161',\n",
    "            '1130161', '1202161', '1203161', '1206161', '1206162', '1206163',\n",
    "            '1207162']"
   ]
  },
  {
   "cell_type": "markdown",
   "metadata": {},
   "source": [
    "# feature and metadata extraction"
   ]
  },
  {
   "cell_type": "code",
   "execution_count": null,
   "metadata": {},
   "outputs": [],
   "source": [
    "for subject in subjects:\n",
    "    for phase in ['12', '34', '56']:\n",
    "        \n",
    "        # initialize data columns\n",
    "        subj = [subject] * 160\n",
    "        label = []\n",
    "        run_num = [phase[0]]*80 + [phase[1]]*80\n",
    "        TR_num = []\n",
    "        features = []\n",
    "        \n",
    "        for r in phase:\n",
    "            run = int(r)\n",
    "            \n",
    "            # load subject's time series for this run\n",
    "            timeseries = image.load_img(series_path.format(subject, subject, run))\n",
    "            timeseries = timeseries.get_data().transpose((3, 0, 1, 2))\n",
    "            \n",
    "            # use information in regressor/run_x folder to make hasImage vector\n",
    "            # associated TR is just the hasImage index, converted to a float\n",
    "            hasImage = [0]*240\n",
    "            for cope in ['bed', 'bench', 'chair', 'table']:\n",
    "                with open(timepoint_path.format(subject, r, cope)) as f:\n",
    "                    times = [line.split(' ')[0] for line in f.read().split('\\n')[:-1]]\n",
    "                    for t in times:\n",
    "                        tr = float(t)/1.5\n",
    "                        if cope == 'bed':\n",
    "                            hasImage[int(tr)] = 1\n",
    "                        elif cope == 'bench':\n",
    "                            hasImage[int(tr)] = 2\n",
    "                        elif cope == 'chair':\n",
    "                            hasImage[int(tr)] = 3\n",
    "                        elif cope == 'table':\n",
    "                            hasImage[int(tr)] = 4\n",
    "\n",
    "            # wherever hasImage, we want the features\n",
    "            count = 0\n",
    "            for i, has in enumerate(hasImage): # 80 times\n",
    "                if has != 0:\n",
    "                    count += 1\n",
    "                    features.append(timeseries[i+3])\n",
    "\n",
    "            # gotta track label and TR_num\n",
    "            for index, value in enumerate(hasImage):\n",
    "                if value != 0:\n",
    "                    TR_num.append(float(index))\n",
    "                    if value == 1:\n",
    "                        label.append('bed')\n",
    "                    elif value == 2:\n",
    "                        label.append('bench')\n",
    "                    elif value == 3:\n",
    "                        label.append('chair')\n",
    "                    elif value == 4:\n",
    "                        label.append('table')\n",
    "            \n",
    "        # let's save results\n",
    "        ## feature matrix\n",
    "        features = np.stack(features,axis=1) # must transpose later bc this mistake\n",
    "        np.save(file=feature_path.format(subject), arr=features)\n",
    "        \n",
    "        ## metadata\n",
    "        x = pd.DataFrame([subj, label, run_num, TR_num]) # where each of those variables are lists of the same length\n",
    "        x = x.transpose()\n",
    "        x.columns = ['subj','label','run_num', 'TR_num']\n",
    "        x.to_csv(metadata_path.format(subject))"
   ]
  }
 ],
 "metadata": {
  "kernelspec": {
   "display_name": "Python 3",
   "language": "python",
   "name": "python3"
  },
  "language_info": {
   "codemirror_mode": {
    "name": "ipython",
    "version": 3
   },
   "file_extension": ".py",
   "mimetype": "text/x-python",
   "name": "python",
   "nbconvert_exporter": "python",
   "pygments_lexer": "ipython3",
   "version": "3.6.5"
  }
 },
 "nbformat": 4,
 "nbformat_minor": 2
}
